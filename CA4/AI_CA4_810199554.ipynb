{
 "cells": [
  {
   "cell_type": "markdown",
   "id": "fe2a38c4",
   "metadata": {},
   "source": [
    "# Part 1) Data Review"
   ]
  },
  {
   "cell_type": "code",
   "execution_count": 322,
   "id": "91b61306",
   "metadata": {},
   "outputs": [],
   "source": [
    "import numpy as np\n",
    "import pandas as pd\n",
    "import matplotlib.pyplot as plt\n",
    "import seaborn as sns"
   ]
  },
  {
   "cell_type": "code",
   "execution_count": 323,
   "id": "ff80318a",
   "metadata": {},
   "outputs": [
    {
     "data": {
      "text/html": [
       "<div>\n",
       "<style scoped>\n",
       "    .dataframe tbody tr th:only-of-type {\n",
       "        vertical-align: middle;\n",
       "    }\n",
       "\n",
       "    .dataframe tbody tr th {\n",
       "        vertical-align: top;\n",
       "    }\n",
       "\n",
       "    .dataframe thead th {\n",
       "        text-align: right;\n",
       "    }\n",
       "</style>\n",
       "<table border=\"1\" class=\"dataframe\">\n",
       "  <thead>\n",
       "    <tr style=\"text-align: right;\">\n",
       "      <th></th>\n",
       "      <th>Pregnancies</th>\n",
       "      <th>Glucose</th>\n",
       "      <th>BloodPressure</th>\n",
       "      <th>SkinThickness</th>\n",
       "      <th>Insulin</th>\n",
       "      <th>BMI</th>\n",
       "      <th>DiabetesPedigreeFunction</th>\n",
       "      <th>Age</th>\n",
       "      <th>Outcome</th>\n",
       "    </tr>\n",
       "  </thead>\n",
       "  <tbody>\n",
       "    <tr>\n",
       "      <th>0</th>\n",
       "      <td>6.0</td>\n",
       "      <td>148.0</td>\n",
       "      <td>72.0</td>\n",
       "      <td>35.0</td>\n",
       "      <td>0.0</td>\n",
       "      <td>33.6</td>\n",
       "      <td>0.627</td>\n",
       "      <td>50.0</td>\n",
       "      <td>1</td>\n",
       "    </tr>\n",
       "    <tr>\n",
       "      <th>1</th>\n",
       "      <td>1.0</td>\n",
       "      <td>85.0</td>\n",
       "      <td>66.0</td>\n",
       "      <td>29.0</td>\n",
       "      <td>0.0</td>\n",
       "      <td>26.6</td>\n",
       "      <td>0.351</td>\n",
       "      <td>31.0</td>\n",
       "      <td>0</td>\n",
       "    </tr>\n",
       "    <tr>\n",
       "      <th>2</th>\n",
       "      <td>NaN</td>\n",
       "      <td>183.0</td>\n",
       "      <td>64.0</td>\n",
       "      <td>0.0</td>\n",
       "      <td>0.0</td>\n",
       "      <td>23.3</td>\n",
       "      <td>0.672</td>\n",
       "      <td>32.0</td>\n",
       "      <td>1</td>\n",
       "    </tr>\n",
       "    <tr>\n",
       "      <th>3</th>\n",
       "      <td>1.0</td>\n",
       "      <td>89.0</td>\n",
       "      <td>66.0</td>\n",
       "      <td>23.0</td>\n",
       "      <td>94.0</td>\n",
       "      <td>28.1</td>\n",
       "      <td>0.167</td>\n",
       "      <td>21.0</td>\n",
       "      <td>0</td>\n",
       "    </tr>\n",
       "    <tr>\n",
       "      <th>4</th>\n",
       "      <td>NaN</td>\n",
       "      <td>137.0</td>\n",
       "      <td>40.0</td>\n",
       "      <td>35.0</td>\n",
       "      <td>168.0</td>\n",
       "      <td>NaN</td>\n",
       "      <td>NaN</td>\n",
       "      <td>33.0</td>\n",
       "      <td>1</td>\n",
       "    </tr>\n",
       "    <tr>\n",
       "      <th>...</th>\n",
       "      <td>...</td>\n",
       "      <td>...</td>\n",
       "      <td>...</td>\n",
       "      <td>...</td>\n",
       "      <td>...</td>\n",
       "      <td>...</td>\n",
       "      <td>...</td>\n",
       "      <td>...</td>\n",
       "      <td>...</td>\n",
       "    </tr>\n",
       "    <tr>\n",
       "      <th>763</th>\n",
       "      <td>10.0</td>\n",
       "      <td>101.0</td>\n",
       "      <td>76.0</td>\n",
       "      <td>48.0</td>\n",
       "      <td>180.0</td>\n",
       "      <td>32.9</td>\n",
       "      <td>NaN</td>\n",
       "      <td>63.0</td>\n",
       "      <td>0</td>\n",
       "    </tr>\n",
       "    <tr>\n",
       "      <th>764</th>\n",
       "      <td>2.0</td>\n",
       "      <td>122.0</td>\n",
       "      <td>70.0</td>\n",
       "      <td>NaN</td>\n",
       "      <td>0.0</td>\n",
       "      <td>36.8</td>\n",
       "      <td>0.340</td>\n",
       "      <td>NaN</td>\n",
       "      <td>0</td>\n",
       "    </tr>\n",
       "    <tr>\n",
       "      <th>765</th>\n",
       "      <td>5.0</td>\n",
       "      <td>NaN</td>\n",
       "      <td>72.0</td>\n",
       "      <td>23.0</td>\n",
       "      <td>112.0</td>\n",
       "      <td>26.2</td>\n",
       "      <td>0.245</td>\n",
       "      <td>30.0</td>\n",
       "      <td>0</td>\n",
       "    </tr>\n",
       "    <tr>\n",
       "      <th>766</th>\n",
       "      <td>1.0</td>\n",
       "      <td>126.0</td>\n",
       "      <td>60.0</td>\n",
       "      <td>NaN</td>\n",
       "      <td>0.0</td>\n",
       "      <td>30.1</td>\n",
       "      <td>0.349</td>\n",
       "      <td>NaN</td>\n",
       "      <td>1</td>\n",
       "    </tr>\n",
       "    <tr>\n",
       "      <th>767</th>\n",
       "      <td>NaN</td>\n",
       "      <td>93.0</td>\n",
       "      <td>NaN</td>\n",
       "      <td>31.0</td>\n",
       "      <td>NaN</td>\n",
       "      <td>30.4</td>\n",
       "      <td>0.315</td>\n",
       "      <td>23.0</td>\n",
       "      <td>0</td>\n",
       "    </tr>\n",
       "  </tbody>\n",
       "</table>\n",
       "<p>768 rows × 9 columns</p>\n",
       "</div>"
      ],
      "text/plain": [
       "     Pregnancies  Glucose  BloodPressure  SkinThickness  Insulin   BMI  \\\n",
       "0            6.0    148.0           72.0           35.0      0.0  33.6   \n",
       "1            1.0     85.0           66.0           29.0      0.0  26.6   \n",
       "2            NaN    183.0           64.0            0.0      0.0  23.3   \n",
       "3            1.0     89.0           66.0           23.0     94.0  28.1   \n",
       "4            NaN    137.0           40.0           35.0    168.0   NaN   \n",
       "..           ...      ...            ...            ...      ...   ...   \n",
       "763         10.0    101.0           76.0           48.0    180.0  32.9   \n",
       "764          2.0    122.0           70.0            NaN      0.0  36.8   \n",
       "765          5.0      NaN           72.0           23.0    112.0  26.2   \n",
       "766          1.0    126.0           60.0            NaN      0.0  30.1   \n",
       "767          NaN     93.0            NaN           31.0      NaN  30.4   \n",
       "\n",
       "     DiabetesPedigreeFunction   Age  Outcome  \n",
       "0                       0.627  50.0        1  \n",
       "1                       0.351  31.0        0  \n",
       "2                       0.672  32.0        1  \n",
       "3                       0.167  21.0        0  \n",
       "4                         NaN  33.0        1  \n",
       "..                        ...   ...      ...  \n",
       "763                       NaN  63.0        0  \n",
       "764                     0.340   NaN        0  \n",
       "765                     0.245  30.0        0  \n",
       "766                     0.349   NaN        1  \n",
       "767                     0.315  23.0        0  \n",
       "\n",
       "[768 rows x 9 columns]"
      ]
     },
     "execution_count": 323,
     "metadata": {},
     "output_type": "execute_result"
    }
   ],
   "source": [
    "df = pd.read_csv(\"diabetes.csv\")\n",
    "df"
   ]
  },
  {
   "cell_type": "markdown",
   "id": "8a937d83",
   "metadata": {},
   "source": [
    "### Question 1)"
   ]
  },
  {
   "cell_type": "markdown",
   "id": "d498fdf1",
   "metadata": {},
   "source": [
    "The Info method shows:\n",
    "-     Range of index in dataframe\n",
    "-     Number of columns in dataframe\n",
    "-     Every column Name, Data Type and number of non-null elements in a column"
   ]
  },
  {
   "cell_type": "code",
   "execution_count": 324,
   "id": "7888b46f",
   "metadata": {
    "scrolled": true
   },
   "outputs": [
    {
     "name": "stdout",
     "output_type": "stream",
     "text": [
      "<class 'pandas.core.frame.DataFrame'>\n",
      "RangeIndex: 768 entries, 0 to 767\n",
      "Data columns (total 9 columns):\n",
      " #   Column                    Non-Null Count  Dtype  \n",
      "---  ------                    --------------  -----  \n",
      " 0   Pregnancies               635 non-null    float64\n",
      " 1   Glucose                   654 non-null    float64\n",
      " 2   BloodPressure             680 non-null    float64\n",
      " 3   SkinThickness             624 non-null    float64\n",
      " 4   Insulin                   680 non-null    float64\n",
      " 5   BMI                       684 non-null    float64\n",
      " 6   DiabetesPedigreeFunction  590 non-null    float64\n",
      " 7   Age                       655 non-null    float64\n",
      " 8   Outcome                   768 non-null    int64  \n",
      "dtypes: float64(8), int64(1)\n",
      "memory usage: 54.1 KB\n"
     ]
    }
   ],
   "source": [
    "df.info()"
   ]
  },
  {
   "cell_type": "markdown",
   "id": "cbadecdb",
   "metadata": {},
   "source": [
    "The describe method shows:\n",
    "-     Number of non-null elements in the column\n",
    "-     Mean of the column\n",
    "-     Std of the column\n",
    "-     Min of the column\n",
    "-     Max of the column"
   ]
  },
  {
   "cell_type": "code",
   "execution_count": 325,
   "id": "d70536f0",
   "metadata": {},
   "outputs": [
    {
     "data": {
      "text/html": [
       "<div>\n",
       "<style scoped>\n",
       "    .dataframe tbody tr th:only-of-type {\n",
       "        vertical-align: middle;\n",
       "    }\n",
       "\n",
       "    .dataframe tbody tr th {\n",
       "        vertical-align: top;\n",
       "    }\n",
       "\n",
       "    .dataframe thead th {\n",
       "        text-align: right;\n",
       "    }\n",
       "</style>\n",
       "<table border=\"1\" class=\"dataframe\">\n",
       "  <thead>\n",
       "    <tr style=\"text-align: right;\">\n",
       "      <th></th>\n",
       "      <th>Pregnancies</th>\n",
       "      <th>Glucose</th>\n",
       "      <th>BloodPressure</th>\n",
       "      <th>SkinThickness</th>\n",
       "      <th>Insulin</th>\n",
       "      <th>BMI</th>\n",
       "      <th>DiabetesPedigreeFunction</th>\n",
       "      <th>Age</th>\n",
       "      <th>Outcome</th>\n",
       "    </tr>\n",
       "  </thead>\n",
       "  <tbody>\n",
       "    <tr>\n",
       "      <th>count</th>\n",
       "      <td>635.000000</td>\n",
       "      <td>654.000000</td>\n",
       "      <td>680.000000</td>\n",
       "      <td>624.000000</td>\n",
       "      <td>680.000000</td>\n",
       "      <td>684.000000</td>\n",
       "      <td>590.000000</td>\n",
       "      <td>655.000000</td>\n",
       "      <td>768.000000</td>\n",
       "    </tr>\n",
       "    <tr>\n",
       "      <th>mean</th>\n",
       "      <td>3.700787</td>\n",
       "      <td>113.422018</td>\n",
       "      <td>68.786765</td>\n",
       "      <td>20.386218</td>\n",
       "      <td>80.123529</td>\n",
       "      <td>32.083626</td>\n",
       "      <td>0.466676</td>\n",
       "      <td>33.157252</td>\n",
       "      <td>0.348958</td>\n",
       "    </tr>\n",
       "    <tr>\n",
       "      <th>std</th>\n",
       "      <td>3.518126</td>\n",
       "      <td>202.816831</td>\n",
       "      <td>19.724841</td>\n",
       "      <td>15.987049</td>\n",
       "      <td>115.681140</td>\n",
       "      <td>7.800741</td>\n",
       "      <td>0.322408</td>\n",
       "      <td>13.829831</td>\n",
       "      <td>0.476951</td>\n",
       "    </tr>\n",
       "    <tr>\n",
       "      <th>min</th>\n",
       "      <td>-22.000000</td>\n",
       "      <td>-5000.000000</td>\n",
       "      <td>-2.000000</td>\n",
       "      <td>0.000000</td>\n",
       "      <td>0.000000</td>\n",
       "      <td>0.000000</td>\n",
       "      <td>0.078000</td>\n",
       "      <td>-150.000000</td>\n",
       "      <td>0.000000</td>\n",
       "    </tr>\n",
       "    <tr>\n",
       "      <th>25%</th>\n",
       "      <td>1.000000</td>\n",
       "      <td>99.000000</td>\n",
       "      <td>62.000000</td>\n",
       "      <td>0.000000</td>\n",
       "      <td>0.000000</td>\n",
       "      <td>27.375000</td>\n",
       "      <td>0.243250</td>\n",
       "      <td>24.000000</td>\n",
       "      <td>0.000000</td>\n",
       "    </tr>\n",
       "    <tr>\n",
       "      <th>50%</th>\n",
       "      <td>3.000000</td>\n",
       "      <td>117.000000</td>\n",
       "      <td>72.000000</td>\n",
       "      <td>23.000000</td>\n",
       "      <td>34.000000</td>\n",
       "      <td>32.300000</td>\n",
       "      <td>0.368000</td>\n",
       "      <td>29.000000</td>\n",
       "      <td>0.000000</td>\n",
       "    </tr>\n",
       "    <tr>\n",
       "      <th>75%</th>\n",
       "      <td>6.000000</td>\n",
       "      <td>140.750000</td>\n",
       "      <td>80.000000</td>\n",
       "      <td>32.000000</td>\n",
       "      <td>129.250000</td>\n",
       "      <td>36.600000</td>\n",
       "      <td>0.611500</td>\n",
       "      <td>41.000000</td>\n",
       "      <td>1.000000</td>\n",
       "    </tr>\n",
       "    <tr>\n",
       "      <th>max</th>\n",
       "      <td>17.000000</td>\n",
       "      <td>199.000000</td>\n",
       "      <td>122.000000</td>\n",
       "      <td>99.000000</td>\n",
       "      <td>846.000000</td>\n",
       "      <td>67.100000</td>\n",
       "      <td>2.329000</td>\n",
       "      <td>81.000000</td>\n",
       "      <td>1.000000</td>\n",
       "    </tr>\n",
       "  </tbody>\n",
       "</table>\n",
       "</div>"
      ],
      "text/plain": [
       "       Pregnancies      Glucose  BloodPressure  SkinThickness     Insulin  \\\n",
       "count   635.000000   654.000000     680.000000     624.000000  680.000000   \n",
       "mean      3.700787   113.422018      68.786765      20.386218   80.123529   \n",
       "std       3.518126   202.816831      19.724841      15.987049  115.681140   \n",
       "min     -22.000000 -5000.000000      -2.000000       0.000000    0.000000   \n",
       "25%       1.000000    99.000000      62.000000       0.000000    0.000000   \n",
       "50%       3.000000   117.000000      72.000000      23.000000   34.000000   \n",
       "75%       6.000000   140.750000      80.000000      32.000000  129.250000   \n",
       "max      17.000000   199.000000     122.000000      99.000000  846.000000   \n",
       "\n",
       "              BMI  DiabetesPedigreeFunction         Age     Outcome  \n",
       "count  684.000000                590.000000  655.000000  768.000000  \n",
       "mean    32.083626                  0.466676   33.157252    0.348958  \n",
       "std      7.800741                  0.322408   13.829831    0.476951  \n",
       "min      0.000000                  0.078000 -150.000000    0.000000  \n",
       "25%     27.375000                  0.243250   24.000000    0.000000  \n",
       "50%     32.300000                  0.368000   29.000000    0.000000  \n",
       "75%     36.600000                  0.611500   41.000000    1.000000  \n",
       "max     67.100000                  2.329000   81.000000    1.000000  "
      ]
     },
     "execution_count": 325,
     "metadata": {},
     "output_type": "execute_result"
    }
   ],
   "source": [
    "df.describe()"
   ]
  },
  {
   "cell_type": "markdown",
   "id": "a364ed7a",
   "metadata": {},
   "source": [
    "### Question 2)"
   ]
  },
  {
   "cell_type": "code",
   "execution_count": 326,
   "id": "fc9fd559",
   "metadata": {},
   "outputs": [
    {
     "data": {
      "text/plain": [
       "Pregnancies                 133\n",
       "Glucose                     114\n",
       "BloodPressure                88\n",
       "SkinThickness               144\n",
       "Insulin                      88\n",
       "BMI                          84\n",
       "DiabetesPedigreeFunction    178\n",
       "Age                         113\n",
       "Outcome                       0\n",
       "dtype: int64"
      ]
     },
     "execution_count": 326,
     "metadata": {},
     "output_type": "execute_result"
    }
   ],
   "source": [
    "missing = df[df.columns].isnull().sum()\n",
    "missing"
   ]
  },
  {
   "cell_type": "code",
   "execution_count": 327,
   "id": "695a6254",
   "metadata": {},
   "outputs": [
    {
     "data": {
      "text/plain": [
       "Pregnancies                 17.317708\n",
       "Glucose                     14.843750\n",
       "BloodPressure               11.458333\n",
       "SkinThickness               18.750000\n",
       "Insulin                     11.458333\n",
       "BMI                         10.937500\n",
       "DiabetesPedigreeFunction    23.177083\n",
       "Age                         14.713542\n",
       "dtype: float64"
      ]
     },
     "execution_count": 327,
     "metadata": {},
     "output_type": "execute_result"
    }
   ],
   "source": [
    "missing[missing.gt(0)] / df.shape[0] * 100"
   ]
  },
  {
   "cell_type": "markdown",
   "id": "c97f74d7",
   "metadata": {},
   "source": [
    "### Question 3)\n",
    "\n",
    "Pandas **corr** is used to find the pairwise correlation of all columns in the dataframe. Any NaN values are automatically excluded. \n",
    "\n",
    "A 2-D **Heatmap** from Matplotlib is a data visualization tool that helps to represent the magnitude of the phenomenon in form of colors."
   ]
  },
  {
   "cell_type": "code",
   "execution_count": 328,
   "id": "c1e89f4a",
   "metadata": {},
   "outputs": [
    {
     "data": {
      "image/png": "[encoded data removed]",
      "text/plain": [
       "<Figure size 1080x1080 with 2 Axes>"
      ]
     },
     "metadata": {
      "needs_background": "light"
     },
     "output_type": "display_data"
    }
   ],
   "source": [
    "corr = df.corr()\n",
    "plt.figure(figsize=(15, 15))\n",
    "sns.heatmap(corr, annot=True, fmt=\".2f\", annot_kws={\"fontsize\":6})\n",
    "plt.show()"
   ]
  },
  {
   "cell_type": "markdown",
   "id": "5b37b5a5",
   "metadata": {},
   "source": [
    "As we can see in correlation plot,the attributes that are close to outcome are:\n",
    "\n",
    "1) BMI<br>\n",
    "2) DiabetesPedigreeFunction<br>\n",
    "3) Pregnancies<br>\t"
   ]
  },
  {
   "cell_type": "markdown",
   "id": "468a1ea4",
   "metadata": {},
   "source": [
    "### Question 4)\n",
    "\n",
    "We used the **hist** method to visualize the number of observations for the chosen attributes."
   ]
  },
  {
   "cell_type": "code",
   "execution_count": 329,
   "id": "eec6d080",
   "metadata": {},
   "outputs": [
    {
     "data": {
      "image/png": "[encoded data removed]",
      "text/plain": [
       "<Figure size 432x288 with 1 Axes>"
      ]
     },
     "metadata": {
      "needs_background": "light"
     },
     "output_type": "display_data"
    }
   ],
   "source": [
    "BMI_hist = df['BMI'].hist()"
   ]
  },
  {
   "cell_type": "code",
   "execution_count": 330,
   "id": "55576f01",
   "metadata": {},
   "outputs": [
    {
     "data": {
      "image/png": "[encoded data removed]",
      "text/plain": [
       "<Figure size 432x288 with 1 Axes>"
      ]
     },
     "metadata": {
      "needs_background": "light"
     },
     "output_type": "display_data"
    }
   ],
   "source": [
    "DiabetesPedigreeFunction_hist = df['DiabetesPedigreeFunction'].hist()"
   ]
  },
  {
   "cell_type": "code",
   "execution_count": 331,
   "id": "9789ccca",
   "metadata": {},
   "outputs": [
    {
     "data": {
      "image/png": "[encoded data removed]",
      "text/plain": [
       "<Figure size 432x288 with 1 Axes>"
      ]
     },
     "metadata": {
      "needs_background": "light"
     },
     "output_type": "display_data"
    }
   ],
   "source": [
    "Pregnancies_hist = df['Pregnancies'].hist()"
   ]
  },
  {
   "cell_type": "markdown",
   "id": "e47ef042",
   "metadata": {},
   "source": [
    "### Question 5)\n",
    "\n",
    "First we use Scatter plot to study the chosen attributes from last part:<br>\n",
    "Matplotlib scatter method is used to show the relationship between two variables as dots in two dimensions, one axis for each attribute."
   ]
  },
  {
   "cell_type": "code",
   "execution_count": 332,
   "id": "e0ff27db",
   "metadata": {},
   "outputs": [],
   "source": [
    "def draw_scatter_plot(attribute, target):\n",
    "    fig = plt.figure()\n",
    "    plt.scatter(df[attribute], df[target], c = '#1691a7')\n",
    "    plt.xlabel(attribute, fontsize = 12)\n",
    "    plt.ylabel(target, fontsize = 12)\n",
    "    plt.show()"
   ]
  },
  {
   "cell_type": "code",
   "execution_count": 333,
   "id": "9ed5753e",
   "metadata": {},
   "outputs": [
    {
     "data": {
      "image/png": "[encoded data removed]",
      "text/plain": [
       "<Figure size 432x288 with 1 Axes>"
      ]
     },
     "metadata": {
      "needs_background": "light"
     },
     "output_type": "display_data"
    }
   ],
   "source": [
    "draw_scatter_plot('BMI','Outcome')"
   ]
  },
  {
   "cell_type": "code",
   "execution_count": 334,
   "id": "ae41924d",
   "metadata": {},
   "outputs": [
    {
     "data": {
      "image/png": "[encoded data removed]",
      "text/plain": [
       "<Figure size 432x288 with 1 Axes>"
      ]
     },
     "metadata": {
      "needs_background": "light"
     },
     "output_type": "display_data"
    }
   ],
   "source": [
    "draw_scatter_plot('DiabetesPedigreeFunction','Outcome')"
   ]
  },
  {
   "cell_type": "code",
   "execution_count": 335,
   "id": "07494655",
   "metadata": {},
   "outputs": [
    {
     "data": {
      "image/png": "[encoded data removed]",
      "text/plain": [
       "<Figure size 432x288 with 1 Axes>"
      ]
     },
     "metadata": {
      "needs_background": "light"
     },
     "output_type": "display_data"
    }
   ],
   "source": [
    "draw_scatter_plot('Pregnancies','Outcome')"
   ]
  },
  {
   "cell_type": "markdown",
   "id": "344854a5",
   "metadata": {},
   "source": [
    "Second, we used hexbin plots to visualize the relation between chosen attributes and the target"
   ]
  },
  {
   "cell_type": "code",
   "execution_count": 336,
   "id": "e569d310",
   "metadata": {},
   "outputs": [],
   "source": [
    "def hexbin_plot(attribute, target):\n",
    "    plt.xlabel(attribute)\n",
    "    plt.ylabel(target)\n",
    "    plt.hexbin(df[attribute], df[target] , gridsize=(15,15),cmap=plt.cm.Greens )\n",
    "    plt.show()"
   ]
  },
  {
   "cell_type": "code",
   "execution_count": 337,
   "id": "c5f1681c",
   "metadata": {},
   "outputs": [
    {
     "data": {
      "image/png": "[encoded data removed]",
      "text/plain": [
       "<Figure size 432x288 with 1 Axes>"
      ]
     },
     "metadata": {
      "needs_background": "light"
     },
     "output_type": "display_data"
    }
   ],
   "source": [
    "hexbin_plot('BMI','Outcome')"
   ]
  },
  {
   "cell_type": "code",
   "execution_count": 338,
   "id": "246d3e42",
   "metadata": {},
   "outputs": [
    {
     "data": {
      "image/png": "[encoded data removed]",
      "text/plain": [
       "<Figure size 432x288 with 1 Axes>"
      ]
     },
     "metadata": {
      "needs_background": "light"
     },
     "output_type": "display_data"
    }
   ],
   "source": [
    "hexbin_plot('DiabetesPedigreeFunction','Outcome')"
   ]
  },
  {
   "cell_type": "code",
   "execution_count": 339,
   "id": "2f9764d0",
   "metadata": {},
   "outputs": [
    {
     "data": {
      "image/png": "[encoded data removed]",
      "text/plain": [
       "<Figure size 432x288 with 1 Axes>"
      ]
     },
     "metadata": {
      "needs_background": "light"
     },
     "output_type": "display_data"
    }
   ],
   "source": [
    "hexbin_plot('Pregnancies','Outcome')"
   ]
  },
  {
   "cell_type": "markdown",
   "id": "3a46e81a",
   "metadata": {},
   "source": [
    "### Question 6)"
   ]
  },
  {
   "cell_type": "markdown",
   "id": "26ccb4a6",
   "metadata": {},
   "source": [
    "For extra study of our dataframe, we used Seaborn displot to visualizing the attributes contribution. <br>\n",
    "Also we used stats.norm.fit() method to get mean and std of the column.<br>\n",
    "But we can't use stats.norm.fit() on columns that have NaN value in them."
   ]
  },
  {
   "cell_type": "code",
   "execution_count": 340,
   "id": "fd1c35e8",
   "metadata": {},
   "outputs": [
    {
     "name": "stdout",
     "output_type": "stream",
     "text": [
      "0.3489583333333333 0.47664076087820645\n"
     ]
    },
    {
     "data": {
      "image/png": "[encoded data removed]",
      "text/plain": [
       "<Figure size 360x360 with 1 Axes>"
      ]
     },
     "metadata": {
      "needs_background": "light"
     },
     "output_type": "display_data"
    }
   ],
   "source": [
    "from scipy import stats\n",
    "ax = sns.displot(df[\"Outcome\"], kde = True)\n",
    "mu, std = stats.norm.fit(df[\"Outcome\"])\n",
    "print(mu, std)"
   ]
  },
  {
   "cell_type": "code",
   "execution_count": 341,
   "id": "0785f7e9",
   "metadata": {},
   "outputs": [
    {
     "data": {
      "image/png": "[encoded data removed]",
      "text/plain": [
       "<Figure size 360x360 with 1 Axes>"
      ]
     },
     "metadata": {
      "needs_background": "light"
     },
     "output_type": "display_data"
    }
   ],
   "source": [
    "ax = sns.displot(df[\"BMI\"], kde = True)"
   ]
  },
  {
   "cell_type": "code",
   "execution_count": 342,
   "id": "8ea166e2",
   "metadata": {},
   "outputs": [
    {
     "data": {
      "image/png": "[encoded data removed]",
      "text/plain": [
       "<Figure size 360x360 with 1 Axes>"
      ]
     },
     "metadata": {
      "needs_background": "light"
     },
     "output_type": "display_data"
    }
   ],
   "source": [
    "ax = sns.displot(df[\"DiabetesPedigreeFunction\"], kde = True)"
   ]
  },
  {
   "cell_type": "code",
   "execution_count": 343,
   "id": "61f3827b",
   "metadata": {},
   "outputs": [
    {
     "data": {
      "image/png": "[encoded data removed]",
      "text/plain": [
       "<Figure size 360x360 with 1 Axes>"
      ]
     },
     "metadata": {
      "needs_background": "light"
     },
     "output_type": "display_data"
    }
   ],
   "source": [
    "ax = sns.displot(df[\"Pregnancies\"], kde = True)"
   ]
  },
  {
   "cell_type": "markdown",
   "id": "c9d9b162",
   "metadata": {},
   "source": [
    "# Part 2) Pre-Processing"
   ]
  },
  {
   "cell_type": "markdown",
   "id": "203781db",
   "metadata": {},
   "source": [
    "### Question 1)"
   ]
  },
  {
   "cell_type": "markdown",
   "id": "80d70e3a",
   "metadata": {},
   "source": [
    "1) **Dropping columns**: In this approach, we drop the column with NaN values. We use this approach when number of NaN values are too many. If we drop a column that have many non-null elements, we just lost many useful data and informations.<br>\n",
    "2) **Dropping rows**: In this approach, we drop the rows that have the NaN values. In this approach we may lose many useful data with dropping the rows.<br>\n",
    "3) **Imputation NaN values with Mean/Median**: In this approach we impute mean of the colomn in the NaN values. This approach has a problem. If the type of column is object or we have categorical data, we can't use this approach to remove NaN values. Also in this approach, the mean of the colomn will be static but the contribution of element will change.<br>\n",
    "4) **Imputation Nan values with random numbers**: In this approach we impute a random number in the Nan values. This approach is not suggested, because it will change the mean and the contribution of the colomn and beacause of that, our predection will be not accurate.<br>\n",
    "5) **Using a model to fill missing values**: In this approach, we will use other available features to predict missing values.<br>\n",
    "6) **Hybrid approach**: Using multiple approaches based on the column properties.<br>"
   ]
  },
  {
   "cell_type": "markdown",
   "id": "4a2b1325",
   "metadata": {},
   "source": [
    "### Question 2)\n",
    "\n",
    "According to below result about number of NaN values in every column:<br>\n",
    "**DiabetesPedigreeFunction** has the biggest number of NaN values. After that we have **SkinThickness**, **Pregnancies** and .... "
   ]
  },
  {
   "cell_type": "code",
   "execution_count": 344,
   "id": "02987323",
   "metadata": {},
   "outputs": [
    {
     "data": {
      "text/plain": [
       "Pregnancies                 133\n",
       "Glucose                     114\n",
       "BloodPressure                88\n",
       "SkinThickness               144\n",
       "Insulin                      88\n",
       "BMI                          84\n",
       "DiabetesPedigreeFunction    178\n",
       "Age                         113\n",
       "Outcome                       0\n",
       "dtype: int64"
      ]
     },
     "execution_count": 344,
     "metadata": {},
     "output_type": "execute_result"
    }
   ],
   "source": [
    "missing"
   ]
  },
  {
   "cell_type": "markdown",
   "id": "24dc9987",
   "metadata": {},
   "source": [
    "Here we showed the percentage of missing values in every column:"
   ]
  },
  {
   "cell_type": "code",
   "execution_count": 345,
   "id": "e3dc1ed5",
   "metadata": {},
   "outputs": [
    {
     "data": {
      "text/plain": [
       "Pregnancies                 17.317708\n",
       "Glucose                     14.843750\n",
       "BloodPressure               11.458333\n",
       "SkinThickness               18.750000\n",
       "Insulin                     11.458333\n",
       "BMI                         10.937500\n",
       "DiabetesPedigreeFunction    23.177083\n",
       "Age                         14.713542\n",
       "dtype: float64"
      ]
     },
     "execution_count": 345,
     "metadata": {},
     "output_type": "execute_result"
    }
   ],
   "source": [
    "missing[missing.gt(0)] / df.shape[0] * 100"
   ]
  },
  {
   "cell_type": "markdown",
   "id": "98cd7d7b",
   "metadata": {},
   "source": [
    "As we can see, the number of NaN values in every column are low and some of the column has useful information and data. If we use **Dropping columns or rows** method on useful columns, we lose many information from useful columns. Also there some columns that have low connection (according ot corroletion result) with outcome, so we can delete those columns in later approaches.<br>\n",
    "Also the type of all columns are **float** or **int**. So using **imputation NaN with mean** is a good approach for this dataframe."
   ]
  },
  {
   "cell_type": "code",
   "execution_count": 346,
   "id": "a1deaf8f",
   "metadata": {},
   "outputs": [],
   "source": [
    "attributes = ['Pregnancies','Glucose','BloodPressure','SkinThickness','Insulin','BMI','DiabetesPedigreeFunction','Age']\n",
    "for attribute in attributes:\n",
    "    df[attribute] = df[attribute].fillna(df[attribute].mean())"
   ]
  },
  {
   "cell_type": "markdown",
   "id": "7b2fc8fe",
   "metadata": {},
   "source": [
    "Some columns have invalid values, for example in **Age** column we have a negetive value. But we know that age can't be negetive. So we delete invalid values in this section."
   ]
  },
  {
   "cell_type": "code",
   "execution_count": 347,
   "id": "8dd10a10",
   "metadata": {},
   "outputs": [],
   "source": [
    "df = df[df['Pregnancies'] >= 0]\n",
    "df = df[df['Glucose']>= 0]\n",
    "df = df[df['Age'] >= 0 ]"
   ]
  },
  {
   "cell_type": "markdown",
   "id": "897e26b0",
   "metadata": {},
   "source": [
    "### Question 3)\n",
    "\n",
    "### Normalizing Data\n",
    "\n",
    "**Standardization** is the process of rescaling the features so that they’ll have the properties of a Gaussian distribution that **mean** is 0 and **std** is 1.  \n",
    "\n",
    "**Normalization** refers to rescaling real valued numeric attributes into the range 0 and 1.\n",
    "\n",
    "The good point of these approaches is that they get all data to the same scale, This may improve learning and may have better effect on some optimization methods.For our dataframe that all its columns are **float** and **int** type, it is useful to use normalization."
   ]
  },
  {
   "cell_type": "code",
   "execution_count": 348,
   "id": "509f51d6",
   "metadata": {},
   "outputs": [
    {
     "data": {
      "text/html": [
       "<div>\n",
       "<style scoped>\n",
       "    .dataframe tbody tr th:only-of-type {\n",
       "        vertical-align: middle;\n",
       "    }\n",
       "\n",
       "    .dataframe tbody tr th {\n",
       "        vertical-align: top;\n",
       "    }\n",
       "\n",
       "    .dataframe thead th {\n",
       "        text-align: right;\n",
       "    }\n",
       "</style>\n",
       "<table border=\"1\" class=\"dataframe\">\n",
       "  <thead>\n",
       "    <tr style=\"text-align: right;\">\n",
       "      <th></th>\n",
       "      <th>Pregnancies</th>\n",
       "      <th>Glucose</th>\n",
       "      <th>BloodPressure</th>\n",
       "      <th>SkinThickness</th>\n",
       "      <th>Insulin</th>\n",
       "      <th>BMI</th>\n",
       "      <th>DiabetesPedigreeFunction</th>\n",
       "      <th>Age</th>\n",
       "      <th>Outcome</th>\n",
       "    </tr>\n",
       "  </thead>\n",
       "  <tbody>\n",
       "    <tr>\n",
       "      <th>0</th>\n",
       "      <td>0.743359</td>\n",
       "      <td>0.936930</td>\n",
       "      <td>0.167723</td>\n",
       "      <td>1.011958</td>\n",
       "      <td>-0.734066</td>\n",
       "      <td>0.205775</td>\n",
       "      <td>0.576473</td>\n",
       "      <td>1.516735</td>\n",
       "      <td>1</td>\n",
       "    </tr>\n",
       "    <tr>\n",
       "      <th>1</th>\n",
       "      <td>-0.899190</td>\n",
       "      <td>-1.175221</td>\n",
       "      <td>-0.157814</td>\n",
       "      <td>0.596001</td>\n",
       "      <td>-0.734066</td>\n",
       "      <td>-0.759838</td>\n",
       "      <td>-0.408934</td>\n",
       "      <td>-0.218446</td>\n",
       "      <td>0</td>\n",
       "    </tr>\n",
       "    <tr>\n",
       "      <th>2</th>\n",
       "      <td>-0.011955</td>\n",
       "      <td>2.110347</td>\n",
       "      <td>-0.266327</td>\n",
       "      <td>-1.414457</td>\n",
       "      <td>-0.734066</td>\n",
       "      <td>-1.215056</td>\n",
       "      <td>0.737137</td>\n",
       "      <td>-0.127121</td>\n",
       "      <td>1</td>\n",
       "    </tr>\n",
       "    <tr>\n",
       "      <th>3</th>\n",
       "      <td>-0.899190</td>\n",
       "      <td>-1.041117</td>\n",
       "      <td>-0.157814</td>\n",
       "      <td>0.180044</td>\n",
       "      <td>0.129595</td>\n",
       "      <td>-0.552921</td>\n",
       "      <td>-1.065871</td>\n",
       "      <td>-1.131699</td>\n",
       "      <td>0</td>\n",
       "    </tr>\n",
       "    <tr>\n",
       "      <th>4</th>\n",
       "      <td>-0.011955</td>\n",
       "      <td>0.568142</td>\n",
       "      <td>-1.568475</td>\n",
       "      <td>1.011958</td>\n",
       "      <td>0.809499</td>\n",
       "      <td>-0.003401</td>\n",
       "      <td>0.004067</td>\n",
       "      <td>-0.035796</td>\n",
       "      <td>1</td>\n",
       "    </tr>\n",
       "    <tr>\n",
       "      <th>...</th>\n",
       "      <td>...</td>\n",
       "      <td>...</td>\n",
       "      <td>...</td>\n",
       "      <td>...</td>\n",
       "      <td>...</td>\n",
       "      <td>...</td>\n",
       "      <td>...</td>\n",
       "      <td>...</td>\n",
       "      <td>...</td>\n",
       "    </tr>\n",
       "    <tr>\n",
       "      <th>763</th>\n",
       "      <td>2.057399</td>\n",
       "      <td>-0.638802</td>\n",
       "      <td>0.384748</td>\n",
       "      <td>1.913198</td>\n",
       "      <td>0.919753</td>\n",
       "      <td>0.109214</td>\n",
       "      <td>0.004067</td>\n",
       "      <td>2.703964</td>\n",
       "      <td>0</td>\n",
       "    </tr>\n",
       "    <tr>\n",
       "      <th>764</th>\n",
       "      <td>-0.570680</td>\n",
       "      <td>0.065248</td>\n",
       "      <td>0.059211</td>\n",
       "      <td>-0.001159</td>\n",
       "      <td>-0.734066</td>\n",
       "      <td>0.647198</td>\n",
       "      <td>-0.448207</td>\n",
       "      <td>-0.021434</td>\n",
       "      <td>0</td>\n",
       "    </tr>\n",
       "    <tr>\n",
       "      <th>765</th>\n",
       "      <td>0.414849</td>\n",
       "      <td>-0.222339</td>\n",
       "      <td>0.167723</td>\n",
       "      <td>0.180044</td>\n",
       "      <td>0.294977</td>\n",
       "      <td>-0.815016</td>\n",
       "      <td>-0.787387</td>\n",
       "      <td>-0.309772</td>\n",
       "      <td>0</td>\n",
       "    </tr>\n",
       "    <tr>\n",
       "      <th>766</th>\n",
       "      <td>-0.899190</td>\n",
       "      <td>0.199353</td>\n",
       "      <td>-0.483351</td>\n",
       "      <td>-0.001159</td>\n",
       "      <td>-0.734066</td>\n",
       "      <td>-0.277031</td>\n",
       "      <td>-0.416074</td>\n",
       "      <td>-0.021434</td>\n",
       "      <td>1</td>\n",
       "    </tr>\n",
       "    <tr>\n",
       "      <th>767</th>\n",
       "      <td>-0.011955</td>\n",
       "      <td>-0.907012</td>\n",
       "      <td>-0.006615</td>\n",
       "      <td>0.734654</td>\n",
       "      <td>0.002100</td>\n",
       "      <td>-0.235648</td>\n",
       "      <td>-0.537465</td>\n",
       "      <td>-0.949049</td>\n",
       "      <td>0</td>\n",
       "    </tr>\n",
       "  </tbody>\n",
       "</table>\n",
       "<p>764 rows × 9 columns</p>\n",
       "</div>"
      ],
      "text/plain": [
       "     Pregnancies   Glucose  BloodPressure  SkinThickness   Insulin       BMI  \\\n",
       "0       0.743359  0.936930       0.167723       1.011958 -0.734066  0.205775   \n",
       "1      -0.899190 -1.175221      -0.157814       0.596001 -0.734066 -0.759838   \n",
       "2      -0.011955  2.110347      -0.266327      -1.414457 -0.734066 -1.215056   \n",
       "3      -0.899190 -1.041117      -0.157814       0.180044  0.129595 -0.552921   \n",
       "4      -0.011955  0.568142      -1.568475       1.011958  0.809499 -0.003401   \n",
       "..           ...       ...            ...            ...       ...       ...   \n",
       "763     2.057399 -0.638802       0.384748       1.913198  0.919753  0.109214   \n",
       "764    -0.570680  0.065248       0.059211      -0.001159 -0.734066  0.647198   \n",
       "765     0.414849 -0.222339       0.167723       0.180044  0.294977 -0.815016   \n",
       "766    -0.899190  0.199353      -0.483351      -0.001159 -0.734066 -0.277031   \n",
       "767    -0.011955 -0.907012      -0.006615       0.734654  0.002100 -0.235648   \n",
       "\n",
       "     DiabetesPedigreeFunction       Age  Outcome  \n",
       "0                    0.576473  1.516735        1  \n",
       "1                   -0.408934 -0.218446        0  \n",
       "2                    0.737137 -0.127121        1  \n",
       "3                   -1.065871 -1.131699        0  \n",
       "4                    0.004067 -0.035796        1  \n",
       "..                        ...       ...      ...  \n",
       "763                  0.004067  2.703964        0  \n",
       "764                 -0.448207 -0.021434        0  \n",
       "765                 -0.787387 -0.309772        0  \n",
       "766                 -0.416074 -0.021434        1  \n",
       "767                 -0.537465 -0.949049        0  \n",
       "\n",
       "[764 rows x 9 columns]"
      ]
     },
     "execution_count": 348,
     "metadata": {},
     "output_type": "execute_result"
    }
   ],
   "source": [
    "df1 = df.copy()\n",
    "df = (df - df.mean()) / df.std() \n",
    "df['Outcome'] = df['Outcome'].apply(lambda x: 0 if x <= 0 else 1)\n",
    "df"
   ]
  },
  {
   "cell_type": "markdown",
   "id": "9d217927",
   "metadata": {},
   "source": [
    "### Question 4)\n",
    "\n",
    "### Categorical Features Handeling\n",
    "1) **One-Hot encoding**: It creates another new feature column for each group.This approach addes more dimension to our feature data, for example if the initial column has lots of categories it will cause extreme dimensionality.<br>\n",
    "2) **Number encoding**: this is almost the easiest way, we map each category to a number.<br>\n",
    "3) **Target encoding**: in this approach we substitute each categorical feature with the grouped by average in the target variable, for example Outcome here.<br>\n",
    "4) **Frequency encoding**: this approach replaces each category with its frequency.<br>\n",
    "\n",
    "The Data Type of all columns of our dataframe is float or int, so we don't need above approaches for our dataframe."
   ]
  },
  {
   "cell_type": "markdown",
   "id": "d4139ded",
   "metadata": {},
   "source": [
    "### Question 5)\n",
    "\n",
    "According to our knowledge of the dataframe, in each columns, the number of NaN values are low. If we drop some columns of dataframe, we will lose information for accurate prediction. Also some information have so low connection with outcome column, so we can delete some unnecessery columns that have low connection to outcome column from the dateframe."
   ]
  },
  {
   "cell_type": "markdown",
   "id": "218cdae9",
   "metadata": {},
   "source": [
    "### Question 6)\n",
    "### Spliting Percentage\n",
    "\n",
    "Data splitting is an important phase, If we use whole data for both train and test our mesurments may not be precise,\n",
    "because there may be overfitting on train data.\n",
    "\n",
    "In fact, there is not optimal split percentage in general.<br>\n",
    "we must choose a split percentage that meets our project’s objectives with considerations that include:\n",
    "\n",
    "- Computational cost in training the model.\n",
    "- Computational cost in evaluating the model.\n",
    "- Training set representativeness.\n",
    "- Test set representativeness.\n",
    "\n",
    "Nevertheless, common split percentages include:\n",
    "\n",
    "- Train: 80%, Test: 20%\n",
    "- Train: 67%, Test: 33%\n",
    "- Train: 50%, Test: 50%\n",
    "\n",
    "we use first split percentage in our project.<br>\n",
    "\n",
    "### Spliting Method\n",
    "\n",
    "We use **random** method to form the **train** and the **test** data sets.Because it's not common that real world data is sorted in some manner. In general, splits are random. In fact, if we form the **train** and **test** data set from a sorted dataframe, the train set and test set will be biased and the train prediction will be so optimistic and overfitting will occur or our prediction will be so high and ideal. "
   ]
  },
  {
   "cell_type": "code",
   "execution_count": 349,
   "id": "67309795",
   "metadata": {},
   "outputs": [],
   "source": [
    "from sklearn.model_selection import train_test_split\n",
    "x = df[df.columns.difference([\"Outcome\"])]\n",
    "y = df[\"Outcome\"]\n",
    "x_train, x_test, y_train, y_test = train_test_split(x, y, test_size=0.2, random_state=1)"
   ]
  },
  {
   "cell_type": "markdown",
   "id": "eb988e90",
   "metadata": {},
   "source": [
    "### Question 7)\n",
    "\n",
    "The **validation set** is a set of data, separate from the training set, that is used to validate our model performance during training.\n",
    "\n",
    "This validation process gives information that helps us tune the model’s hyperparameters and configurations accordingly. It is like a critic telling us whether the training is moving in the right direction or not.\n",
    "\n",
    "The model is trained on the training set, and, simultaneously, the model evaluation is performed on the validation set after every epoch.\n",
    "\n",
    "The main idea of splitting the dataset into a validation set is to prevent our model from overfitting"
   ]
  },
  {
   "cell_type": "markdown",
   "id": "d01745c2",
   "metadata": {},
   "source": [
    "# Part 3) Training, Tuning and Evaluation "
   ]
  },
  {
   "cell_type": "markdown",
   "id": "9a885688",
   "metadata": {},
   "source": [
    "### Question 1 & 2)"
   ]
  },
  {
   "cell_type": "code",
   "execution_count": 350,
   "id": "58ee8791",
   "metadata": {},
   "outputs": [],
   "source": [
    "from sklearn.linear_model import LogisticRegression\n",
    "from sklearn.metrics import confusion_matrix\n",
    "from sklearn.neighbors import KNeighborsClassifier \n",
    "from sklearn.tree import DecisionTreeClassifier\n",
    "from sklearn.model_selection import GridSearchCV"
   ]
  },
  {
   "cell_type": "code",
   "execution_count": 351,
   "id": "055d84c2",
   "metadata": {},
   "outputs": [],
   "source": [
    "def confusion_matrix_table(y_test , y_pred):\n",
    "    my_matrix = confusion_matrix(y_test, y_pred)\n",
    "    print(my_matrix,'\\n')\n",
    "    print(\"True positive :\",my_matrix[0][0])\n",
    "    print(\"True negetive :\",my_matrix[0][1])\n",
    "    print(\"False positive :\",my_matrix[1][0])\n",
    "    print(\"False negetive :\",my_matrix[1][1])\n",
    "    print()"
   ]
  },
  {
   "cell_type": "markdown",
   "id": "39149473",
   "metadata": {},
   "source": [
    "### Linear Regression"
   ]
  },
  {
   "cell_type": "code",
   "execution_count": 352,
   "id": "bfd5c14a",
   "metadata": {},
   "outputs": [],
   "source": [
    "def run_logistic(x_train,y_train,x_test,y_test,parameters):\n",
    "    logisticRegr = LogisticRegression(C = parameters['C'],penalty = parameters['penalty'])\n",
    "    logisticRegr.fit(x_train, y_train)\n",
    "    predictions = logisticRegr.predict(x_test)\n",
    "    score = logisticRegr.score(x_test, y_test)\n",
    "    print(\"test accuracy: \",\"{:.2f}\".format(score * 100) ,\"\\n\")\n",
    "    confusion_matrix_table(y_test, predictions)"
   ]
  },
  {
   "cell_type": "code",
   "execution_count": 353,
   "id": "272d0217",
   "metadata": {},
   "outputs": [],
   "source": [
    "def run_logistic_gridCV(x_train,y_train,x_test,y_test):\n",
    "    grid={\"C\":np.logspace(-3,3,7), \"penalty\":[\"l1\",\"l2\"]}\n",
    "    logreg=LogisticRegression()\n",
    "    logreg_cv=GridSearchCV(logreg,grid,cv=10)\n",
    "    logreg_cv.fit(x_train,y_train)\n",
    "    print(\"best parameters :\",logreg_cv.best_params_)\n",
    "    print(\"train accuracy :\",\"{:.2f}\".format(logreg_cv.best_score_ * 100))\n",
    "    run_logistic(x_train,y_train,x_test,y_test,logreg_cv.best_params_)"
   ]
  },
  {
   "cell_type": "code",
   "execution_count": 354,
   "id": "a6e3ec75",
   "metadata": {},
   "outputs": [
    {
     "name": "stdout",
     "output_type": "stream",
     "text": [
      "best parameters : {'C': 0.1, 'penalty': 'l2'}\n",
      "train accuracy : 74.95\n",
      "test accuracy:  79.08 \n",
      "\n",
      "[[97  3]\n",
      " [29 24]] \n",
      "\n",
      "True positive : 97\n",
      "True negetive : 3\n",
      "False positive : 29\n",
      "False negetive : 24\n",
      "\n"
     ]
    }
   ],
   "source": [
    "run_logistic_gridCV(x_train,y_train,x_test,y_test)"
   ]
  },
  {
   "cell_type": "markdown",
   "id": "05c96886",
   "metadata": {},
   "source": [
    "### K-Nearst-Neighbors"
   ]
  },
  {
   "cell_type": "code",
   "execution_count": 355,
   "id": "bf9c6bf4",
   "metadata": {},
   "outputs": [],
   "source": [
    "def run_knn(x_train,y_train,x_test,y_test,n):\n",
    "    knn = KNeighborsClassifier(n_neighbors=n)\n",
    "    knn.fit(x_train, y_train)\n",
    "    predictions = knn.predict(x_test)\n",
    "    score = knn.score(x_test, y_test)\n",
    "    print(\"test accuracy: \",\"{:.2f}\".format(score * 100),\"\\n\")\n",
    "    confusion_matrix_table(y_test, predictions)"
   ]
  },
  {
   "cell_type": "code",
   "execution_count": 356,
   "id": "85b73adb",
   "metadata": {},
   "outputs": [],
   "source": [
    "def run_knn_gridCV(x_train,y_train,x_test,y_test):\n",
    "    knn = KNeighborsClassifier()\n",
    "    k_range = list(range(1, 31))\n",
    "    param_grid = dict(n_neighbors=k_range)\n",
    "    grid = GridSearchCV(knn, param_grid, cv=10, scoring='accuracy', return_train_score=False,verbose=1)\n",
    "    grid_search=grid.fit(x_train, y_train)\n",
    "    print(\"best parameters: \",grid_search.best_params_)\n",
    "    print(\"train accuracy :\",\"{:.2f}\".format(grid_search.best_score_ *100))\n",
    "    run_knn(x_train,y_train,x_test,y_test,grid_search.best_params_['n_neighbors'])"
   ]
  },
  {
   "cell_type": "code",
   "execution_count": 357,
   "id": "40166968",
   "metadata": {},
   "outputs": [
    {
     "name": "stdout",
     "output_type": "stream",
     "text": [
      "Fitting 10 folds for each of 30 candidates, totalling 300 fits\n",
      "best parameters:  {'n_neighbors': 30}\n",
      "train accuracy : 73.49\n",
      "test accuracy:  74.51 \n",
      "\n",
      "[[98  2]\n",
      " [37 16]] \n",
      "\n",
      "True positive : 98\n",
      "True negetive : 2\n",
      "False positive : 37\n",
      "False negetive : 16\n",
      "\n"
     ]
    }
   ],
   "source": [
    "run_knn_gridCV(x_train,y_train,x_test,y_test)"
   ]
  },
  {
   "cell_type": "markdown",
   "id": "9e38d07d",
   "metadata": {},
   "source": [
    "### Decision Tree"
   ]
  },
  {
   "cell_type": "code",
   "execution_count": 358,
   "id": "2aa60b24",
   "metadata": {},
   "outputs": [],
   "source": [
    "def run_decision_tree(x_train,y_train,x_test,y_test,parameters):\n",
    "    decision_tree= DecisionTreeClassifier(ccp_alpha = parameters['ccp_alpha'], criterion=parameters['criterion'],\n",
    "                                           max_depth=parameters['max_depth'], min_samples_leaf =parameters['min_samples_leaf'],\n",
    "                                           min_samples_split = parameters['min_samples_split'] )\n",
    "    decision_tree.fit(x_train, y_train)\n",
    "    predictions = decision_tree.predict(x_test)\n",
    "    score = decision_tree.score(x_test, y_test)\n",
    "    print(\"test accuracy: \",\"{:.2f}\".format(score * 100) ,\"\\n\")\n",
    "    confusion_matrix_table(y_test, predictions)"
   ]
  },
  {
   "cell_type": "code",
   "execution_count": 359,
   "id": "34f4721b",
   "metadata": {},
   "outputs": [],
   "source": [
    "def run_decision_tree_girdCV(x_train,y_train,x_test,y_test):\n",
    "    param_grid = {'ccp_alpha': [0.1, .01, .001],\n",
    "                  'max_depth' : [1,2,3,4,5,6,7,8,9,10],'criterion' :['gini', 'entropy'],\n",
    "                  'min_samples_leaf': [5,6,7,8,9,10,11,12,13,14,15], 'min_samples_split':[1,2,3,4,5,6]\n",
    "                 }\n",
    "    tree_clas = DecisionTreeClassifier(random_state=0)\n",
    "    grid_search = GridSearchCV(estimator=tree_clas, param_grid=param_grid, cv=5, verbose=True)\n",
    "    grid_search.fit(x_train, y_train)\n",
    "    print(\"best parameters : \",grid_search.best_params_)\n",
    "    print(\"train accuracy :\",\"{:.2f}\".format(grid_search.best_score_ * 100))\n",
    "    run_decision_tree(x_train,y_train,x_test,y_test,grid_search.best_params_)"
   ]
  },
  {
   "cell_type": "code",
   "execution_count": 360,
   "id": "e3b80a11",
   "metadata": {
    "scrolled": true
   },
   "outputs": [
    {
     "name": "stdout",
     "output_type": "stream",
     "text": [
      "Fitting 5 folds for each of 3960 candidates, totalling 19800 fits\n",
      "best parameters :  {'ccp_alpha': 0.001, 'criterion': 'entropy', 'max_depth': 9, 'min_samples_leaf': 12, 'min_samples_split': 2}\n",
      "train accuracy : 75.29\n",
      "test accuracy:  76.47 \n",
      "\n",
      "[[86 14]\n",
      " [22 31]] \n",
      "\n",
      "True positive : 86\n",
      "True negetive : 14\n",
      "False positive : 22\n",
      "False negetive : 31\n",
      "\n"
     ]
    }
   ],
   "source": [
    "run_decision_tree_girdCV(x_train,y_train,x_test,y_test)"
   ]
  },
  {
   "cell_type": "markdown",
   "id": "39623bd3",
   "metadata": {},
   "source": [
    "### Question 3)"
   ]
  },
  {
   "cell_type": "markdown",
   "id": "3d4fd03a",
   "metadata": {},
   "source": [
    "### Overfitting\n",
    "Overfitting occurs when our machine learning model tries to cover all the data points or more than the required data points present in the given dataset. Because of this, the model starts caching noise and inaccurate values present in the dataset, and all these factors reduce the efficiency and accuracy of the model. The overfitted model has low bias and high variance.\n",
    "The chances of occurrence of overfitting increase as much we provide training to our model. It means the more we train our model, the more chances of occurring the overfitted model.\n",
    "\n",
    "### Underfitting\n",
    "Underfitting occurs when our machine learning model is not able to capture the underlying trend of the data. To avoid the overfitting in the model, the fed of training data can be stopped at an early stage, due to which the model may not learn enough from the training data. As a result, it may fail to find the best fit of the dominant trend in the data.\n",
    "In the case of underfitting, the model is not able to learn enough from the training data, and hence it reduces the accuracy and produces unreliable predictions.\n",
    "An underfitted model has high bias and low variance.\n",
    "\n",
    "### Overfitting and Underfitting check\n",
    "As we can see, the train accuracy is less than the test accuracy, so overfitting didn't accure. Also the train accuracy and test accuracy is high enough, so underfitting didn't accure either."
   ]
  },
  {
   "cell_type": "markdown",
   "id": "780fb0d9",
   "metadata": {},
   "source": [
    "### Question 4)"
   ]
  },
  {
   "cell_type": "markdown",
   "id": "091baf96",
   "metadata": {},
   "source": [
    "In this part, we have changed some **pre-processing options**.<br>\n",
    "According to **correlation heatmap**, the **SkinThickness** and **BloodPressure** attributes have much less effect on **outcome** result, so we removed these two columns from the dataframe."
   ]
  },
  {
   "cell_type": "code",
   "execution_count": 361,
   "id": "31a69e48",
   "metadata": {},
   "outputs": [
    {
     "data": {
      "text/html": [
       "<div>\n",
       "<style scoped>\n",
       "    .dataframe tbody tr th:only-of-type {\n",
       "        vertical-align: middle;\n",
       "    }\n",
       "\n",
       "    .dataframe tbody tr th {\n",
       "        vertical-align: top;\n",
       "    }\n",
       "\n",
       "    .dataframe thead th {\n",
       "        text-align: right;\n",
       "    }\n",
       "</style>\n",
       "<table border=\"1\" class=\"dataframe\">\n",
       "  <thead>\n",
       "    <tr style=\"text-align: right;\">\n",
       "      <th></th>\n",
       "      <th>Pregnancies</th>\n",
       "      <th>Glucose</th>\n",
       "      <th>Insulin</th>\n",
       "      <th>BMI</th>\n",
       "      <th>DiabetesPedigreeFunction</th>\n",
       "      <th>Age</th>\n",
       "      <th>Outcome</th>\n",
       "    </tr>\n",
       "  </thead>\n",
       "  <tbody>\n",
       "    <tr>\n",
       "      <th>0</th>\n",
       "      <td>6.000000</td>\n",
       "      <td>148.000000</td>\n",
       "      <td>0.000000</td>\n",
       "      <td>33.600000</td>\n",
       "      <td>0.627000</td>\n",
       "      <td>50.000000</td>\n",
       "      <td>1</td>\n",
       "    </tr>\n",
       "    <tr>\n",
       "      <th>1</th>\n",
       "      <td>1.000000</td>\n",
       "      <td>85.000000</td>\n",
       "      <td>0.000000</td>\n",
       "      <td>26.600000</td>\n",
       "      <td>0.351000</td>\n",
       "      <td>31.000000</td>\n",
       "      <td>0</td>\n",
       "    </tr>\n",
       "    <tr>\n",
       "      <th>2</th>\n",
       "      <td>3.700787</td>\n",
       "      <td>183.000000</td>\n",
       "      <td>0.000000</td>\n",
       "      <td>23.300000</td>\n",
       "      <td>0.672000</td>\n",
       "      <td>32.000000</td>\n",
       "      <td>1</td>\n",
       "    </tr>\n",
       "    <tr>\n",
       "      <th>3</th>\n",
       "      <td>1.000000</td>\n",
       "      <td>89.000000</td>\n",
       "      <td>94.000000</td>\n",
       "      <td>28.100000</td>\n",
       "      <td>0.167000</td>\n",
       "      <td>21.000000</td>\n",
       "      <td>0</td>\n",
       "    </tr>\n",
       "    <tr>\n",
       "      <th>4</th>\n",
       "      <td>3.700787</td>\n",
       "      <td>137.000000</td>\n",
       "      <td>168.000000</td>\n",
       "      <td>32.083626</td>\n",
       "      <td>0.466676</td>\n",
       "      <td>33.000000</td>\n",
       "      <td>1</td>\n",
       "    </tr>\n",
       "    <tr>\n",
       "      <th>...</th>\n",
       "      <td>...</td>\n",
       "      <td>...</td>\n",
       "      <td>...</td>\n",
       "      <td>...</td>\n",
       "      <td>...</td>\n",
       "      <td>...</td>\n",
       "      <td>...</td>\n",
       "    </tr>\n",
       "    <tr>\n",
       "      <th>763</th>\n",
       "      <td>10.000000</td>\n",
       "      <td>101.000000</td>\n",
       "      <td>180.000000</td>\n",
       "      <td>32.900000</td>\n",
       "      <td>0.466676</td>\n",
       "      <td>63.000000</td>\n",
       "      <td>0</td>\n",
       "    </tr>\n",
       "    <tr>\n",
       "      <th>764</th>\n",
       "      <td>2.000000</td>\n",
       "      <td>122.000000</td>\n",
       "      <td>0.000000</td>\n",
       "      <td>36.800000</td>\n",
       "      <td>0.340000</td>\n",
       "      <td>33.157252</td>\n",
       "      <td>0</td>\n",
       "    </tr>\n",
       "    <tr>\n",
       "      <th>765</th>\n",
       "      <td>5.000000</td>\n",
       "      <td>113.422018</td>\n",
       "      <td>112.000000</td>\n",
       "      <td>26.200000</td>\n",
       "      <td>0.245000</td>\n",
       "      <td>30.000000</td>\n",
       "      <td>0</td>\n",
       "    </tr>\n",
       "    <tr>\n",
       "      <th>766</th>\n",
       "      <td>1.000000</td>\n",
       "      <td>126.000000</td>\n",
       "      <td>0.000000</td>\n",
       "      <td>30.100000</td>\n",
       "      <td>0.349000</td>\n",
       "      <td>33.157252</td>\n",
       "      <td>1</td>\n",
       "    </tr>\n",
       "    <tr>\n",
       "      <th>767</th>\n",
       "      <td>3.700787</td>\n",
       "      <td>93.000000</td>\n",
       "      <td>80.123529</td>\n",
       "      <td>30.400000</td>\n",
       "      <td>0.315000</td>\n",
       "      <td>23.000000</td>\n",
       "      <td>0</td>\n",
       "    </tr>\n",
       "  </tbody>\n",
       "</table>\n",
       "<p>764 rows × 7 columns</p>\n",
       "</div>"
      ],
      "text/plain": [
       "     Pregnancies     Glucose     Insulin        BMI  DiabetesPedigreeFunction  \\\n",
       "0       6.000000  148.000000    0.000000  33.600000                  0.627000   \n",
       "1       1.000000   85.000000    0.000000  26.600000                  0.351000   \n",
       "2       3.700787  183.000000    0.000000  23.300000                  0.672000   \n",
       "3       1.000000   89.000000   94.000000  28.100000                  0.167000   \n",
       "4       3.700787  137.000000  168.000000  32.083626                  0.466676   \n",
       "..           ...         ...         ...        ...                       ...   \n",
       "763    10.000000  101.000000  180.000000  32.900000                  0.466676   \n",
       "764     2.000000  122.000000    0.000000  36.800000                  0.340000   \n",
       "765     5.000000  113.422018  112.000000  26.200000                  0.245000   \n",
       "766     1.000000  126.000000    0.000000  30.100000                  0.349000   \n",
       "767     3.700787   93.000000   80.123529  30.400000                  0.315000   \n",
       "\n",
       "           Age  Outcome  \n",
       "0    50.000000        1  \n",
       "1    31.000000        0  \n",
       "2    32.000000        1  \n",
       "3    21.000000        0  \n",
       "4    33.000000        1  \n",
       "..         ...      ...  \n",
       "763  63.000000        0  \n",
       "764  33.157252        0  \n",
       "765  30.000000        0  \n",
       "766  33.157252        1  \n",
       "767  23.000000        0  \n",
       "\n",
       "[764 rows x 7 columns]"
      ]
     },
     "execution_count": 361,
     "metadata": {},
     "output_type": "execute_result"
    }
   ],
   "source": [
    "del df1['SkinThickness']\n",
    "del df1['BloodPressure']\n",
    "df1"
   ]
  },
  {
   "cell_type": "markdown",
   "id": "0ec3c9fd",
   "metadata": {},
   "source": [
    "After removing the **SkinThickness** and **BloodPressure** columns, we normalize the dataframe."
   ]
  },
  {
   "cell_type": "code",
   "execution_count": 362,
   "id": "9556f50f",
   "metadata": {},
   "outputs": [
    {
     "data": {
      "text/html": [
       "<div>\n",
       "<style scoped>\n",
       "    .dataframe tbody tr th:only-of-type {\n",
       "        vertical-align: middle;\n",
       "    }\n",
       "\n",
       "    .dataframe tbody tr th {\n",
       "        vertical-align: top;\n",
       "    }\n",
       "\n",
       "    .dataframe thead th {\n",
       "        text-align: right;\n",
       "    }\n",
       "</style>\n",
       "<table border=\"1\" class=\"dataframe\">\n",
       "  <thead>\n",
       "    <tr style=\"text-align: right;\">\n",
       "      <th></th>\n",
       "      <th>Pregnancies</th>\n",
       "      <th>Glucose</th>\n",
       "      <th>Insulin</th>\n",
       "      <th>BMI</th>\n",
       "      <th>DiabetesPedigreeFunction</th>\n",
       "      <th>Age</th>\n",
       "      <th>Outcome</th>\n",
       "    </tr>\n",
       "  </thead>\n",
       "  <tbody>\n",
       "    <tr>\n",
       "      <th>0</th>\n",
       "      <td>0.743359</td>\n",
       "      <td>0.936930</td>\n",
       "      <td>-0.734066</td>\n",
       "      <td>0.205775</td>\n",
       "      <td>0.576473</td>\n",
       "      <td>1.516735</td>\n",
       "      <td>1</td>\n",
       "    </tr>\n",
       "    <tr>\n",
       "      <th>1</th>\n",
       "      <td>-0.899190</td>\n",
       "      <td>-1.175221</td>\n",
       "      <td>-0.734066</td>\n",
       "      <td>-0.759838</td>\n",
       "      <td>-0.408934</td>\n",
       "      <td>-0.218446</td>\n",
       "      <td>0</td>\n",
       "    </tr>\n",
       "    <tr>\n",
       "      <th>2</th>\n",
       "      <td>-0.011955</td>\n",
       "      <td>2.110347</td>\n",
       "      <td>-0.734066</td>\n",
       "      <td>-1.215056</td>\n",
       "      <td>0.737137</td>\n",
       "      <td>-0.127121</td>\n",
       "      <td>1</td>\n",
       "    </tr>\n",
       "    <tr>\n",
       "      <th>3</th>\n",
       "      <td>-0.899190</td>\n",
       "      <td>-1.041117</td>\n",
       "      <td>0.129595</td>\n",
       "      <td>-0.552921</td>\n",
       "      <td>-1.065871</td>\n",
       "      <td>-1.131699</td>\n",
       "      <td>0</td>\n",
       "    </tr>\n",
       "    <tr>\n",
       "      <th>4</th>\n",
       "      <td>-0.011955</td>\n",
       "      <td>0.568142</td>\n",
       "      <td>0.809499</td>\n",
       "      <td>-0.003401</td>\n",
       "      <td>0.004067</td>\n",
       "      <td>-0.035796</td>\n",
       "      <td>1</td>\n",
       "    </tr>\n",
       "    <tr>\n",
       "      <th>...</th>\n",
       "      <td>...</td>\n",
       "      <td>...</td>\n",
       "      <td>...</td>\n",
       "      <td>...</td>\n",
       "      <td>...</td>\n",
       "      <td>...</td>\n",
       "      <td>...</td>\n",
       "    </tr>\n",
       "    <tr>\n",
       "      <th>763</th>\n",
       "      <td>2.057399</td>\n",
       "      <td>-0.638802</td>\n",
       "      <td>0.919753</td>\n",
       "      <td>0.109214</td>\n",
       "      <td>0.004067</td>\n",
       "      <td>2.703964</td>\n",
       "      <td>0</td>\n",
       "    </tr>\n",
       "    <tr>\n",
       "      <th>764</th>\n",
       "      <td>-0.570680</td>\n",
       "      <td>0.065248</td>\n",
       "      <td>-0.734066</td>\n",
       "      <td>0.647198</td>\n",
       "      <td>-0.448207</td>\n",
       "      <td>-0.021434</td>\n",
       "      <td>0</td>\n",
       "    </tr>\n",
       "    <tr>\n",
       "      <th>765</th>\n",
       "      <td>0.414849</td>\n",
       "      <td>-0.222339</td>\n",
       "      <td>0.294977</td>\n",
       "      <td>-0.815016</td>\n",
       "      <td>-0.787387</td>\n",
       "      <td>-0.309772</td>\n",
       "      <td>0</td>\n",
       "    </tr>\n",
       "    <tr>\n",
       "      <th>766</th>\n",
       "      <td>-0.899190</td>\n",
       "      <td>0.199353</td>\n",
       "      <td>-0.734066</td>\n",
       "      <td>-0.277031</td>\n",
       "      <td>-0.416074</td>\n",
       "      <td>-0.021434</td>\n",
       "      <td>1</td>\n",
       "    </tr>\n",
       "    <tr>\n",
       "      <th>767</th>\n",
       "      <td>-0.011955</td>\n",
       "      <td>-0.907012</td>\n",
       "      <td>0.002100</td>\n",
       "      <td>-0.235648</td>\n",
       "      <td>-0.537465</td>\n",
       "      <td>-0.949049</td>\n",
       "      <td>0</td>\n",
       "    </tr>\n",
       "  </tbody>\n",
       "</table>\n",
       "<p>764 rows × 7 columns</p>\n",
       "</div>"
      ],
      "text/plain": [
       "     Pregnancies   Glucose   Insulin       BMI  DiabetesPedigreeFunction  \\\n",
       "0       0.743359  0.936930 -0.734066  0.205775                  0.576473   \n",
       "1      -0.899190 -1.175221 -0.734066 -0.759838                 -0.408934   \n",
       "2      -0.011955  2.110347 -0.734066 -1.215056                  0.737137   \n",
       "3      -0.899190 -1.041117  0.129595 -0.552921                 -1.065871   \n",
       "4      -0.011955  0.568142  0.809499 -0.003401                  0.004067   \n",
       "..           ...       ...       ...       ...                       ...   \n",
       "763     2.057399 -0.638802  0.919753  0.109214                  0.004067   \n",
       "764    -0.570680  0.065248 -0.734066  0.647198                 -0.448207   \n",
       "765     0.414849 -0.222339  0.294977 -0.815016                 -0.787387   \n",
       "766    -0.899190  0.199353 -0.734066 -0.277031                 -0.416074   \n",
       "767    -0.011955 -0.907012  0.002100 -0.235648                 -0.537465   \n",
       "\n",
       "          Age  Outcome  \n",
       "0    1.516735        1  \n",
       "1   -0.218446        0  \n",
       "2   -0.127121        1  \n",
       "3   -1.131699        0  \n",
       "4   -0.035796        1  \n",
       "..        ...      ...  \n",
       "763  2.703964        0  \n",
       "764 -0.021434        0  \n",
       "765 -0.309772        0  \n",
       "766 -0.021434        1  \n",
       "767 -0.949049        0  \n",
       "\n",
       "[764 rows x 7 columns]"
      ]
     },
     "execution_count": 362,
     "metadata": {},
     "output_type": "execute_result"
    }
   ],
   "source": [
    "df1 = (df1 - df1.mean()) / df1.std() \n",
    "df1['Outcome'] = df['Outcome'].apply(lambda x: 0 if x <= 0 else 1)\n",
    "df1"
   ]
  },
  {
   "cell_type": "markdown",
   "id": "ff26e08b",
   "metadata": {},
   "source": [
    "Also, I have changed **test_size** to 0.1 instead of 0.2 hoping for better result."
   ]
  },
  {
   "cell_type": "code",
   "execution_count": 363,
   "id": "54bc9d8c",
   "metadata": {},
   "outputs": [],
   "source": [
    "x = df1[df1.columns.difference([\"Outcome\"])]\n",
    "y = df1[\"Outcome\"]\n",
    "x_train, x_test, y_train, y_test = train_test_split(x, y, test_size=0.1, random_state=1)"
   ]
  },
  {
   "cell_type": "markdown",
   "id": "f54294cf",
   "metadata": {},
   "source": [
    "### Linear Regression (Rerun with New Df)"
   ]
  },
  {
   "cell_type": "code",
   "execution_count": 364,
   "id": "1829f42e",
   "metadata": {},
   "outputs": [
    {
     "name": "stdout",
     "output_type": "stream",
     "text": [
      "best parameters : {'C': 10.0, 'penalty': 'l2'}\n",
      "train accuracy : 75.84\n",
      "test accuracy:  81.82 \n",
      "\n",
      "[[52  1]\n",
      " [13 11]] \n",
      "\n",
      "True positive : 52\n",
      "True negetive : 1\n",
      "False positive : 13\n",
      "False negetive : 11\n",
      "\n"
     ]
    }
   ],
   "source": [
    "run_logistic_gridCV(x_train,y_train,x_test,y_test)"
   ]
  },
  {
   "cell_type": "markdown",
   "id": "28a0fd07",
   "metadata": {},
   "source": [
    "### K-Nearst-Neighbors (Rerun with New Df) "
   ]
  },
  {
   "cell_type": "code",
   "execution_count": 365,
   "id": "520d0eb5",
   "metadata": {},
   "outputs": [
    {
     "name": "stdout",
     "output_type": "stream",
     "text": [
      "Fitting 10 folds for each of 30 candidates, totalling 300 fits\n",
      "best parameters:  {'n_neighbors': 17}\n",
      "train accuracy : 74.82\n",
      "test accuracy:  79.22 \n",
      "\n",
      "[[51  2]\n",
      " [14 10]] \n",
      "\n",
      "True positive : 51\n",
      "True negetive : 2\n",
      "False positive : 14\n",
      "False negetive : 10\n",
      "\n"
     ]
    }
   ],
   "source": [
    "run_knn_gridCV(x_train,y_train,x_test,y_test)"
   ]
  },
  {
   "cell_type": "markdown",
   "id": "d1b3fd6a",
   "metadata": {},
   "source": [
    "### Decision Tree (Rerun with New Df) "
   ]
  },
  {
   "cell_type": "code",
   "execution_count": 366,
   "id": "3da115df",
   "metadata": {},
   "outputs": [
    {
     "name": "stdout",
     "output_type": "stream",
     "text": [
      "Fitting 5 folds for each of 3960 candidates, totalling 19800 fits\n",
      "best parameters :  {'ccp_alpha': 0.001, 'criterion': 'entropy', 'max_depth': 10, 'min_samples_leaf': 11, 'min_samples_split': 2}\n",
      "train accuracy : 74.53\n",
      "test accuracy:  79.22 \n",
      "\n",
      "[[47  6]\n",
      " [10 14]] \n",
      "\n",
      "True positive : 47\n",
      "True negetive : 6\n",
      "False positive : 10\n",
      "False negetive : 14\n",
      "\n"
     ]
    }
   ],
   "source": [
    "run_decision_tree_girdCV(x_train,y_train,x_test,y_test)"
   ]
  },
  {
   "cell_type": "markdown",
   "id": "a70ba266",
   "metadata": {},
   "source": [
    "As we can see, the **accuracy** of results got better after changing some of **pre-processing options**."
   ]
  },
  {
   "cell_type": "markdown",
   "id": "f3a2e188",
   "metadata": {},
   "source": [
    "# Part 4) Collective learning methods"
   ]
  },
  {
   "cell_type": "code",
   "execution_count": 367,
   "id": "e5385093",
   "metadata": {},
   "outputs": [],
   "source": [
    "from sklearn.ensemble import RandomForestClassifier"
   ]
  },
  {
   "cell_type": "markdown",
   "id": "6817e45b",
   "metadata": {},
   "source": [
    "### Question 1)"
   ]
  },
  {
   "cell_type": "code",
   "execution_count": 368,
   "id": "3bb2490d",
   "metadata": {},
   "outputs": [],
   "source": [
    "def run_random_forest(x_train,y_train,x_test,y_test,parameters,print_confusion):\n",
    "    random_forest = RandomForestClassifier(max_depth=parameters['max_depth'], random_state=10,\n",
    "                                           criterion = parameters['criterion'],\n",
    "                                          n_estimators = parameters['n_estimators'])\n",
    "    random_forest.fit(x_train, y_train)\n",
    "    predictions = random_forest.predict(x_test)\n",
    "    score = random_forest.score(x_test, y_test)\n",
    "    score = \"{:.2f}\".format(score * 100)\n",
    "    if print_confusion:\n",
    "        print(\"test accuracy: \",score,\"\\n\")\n",
    "        confusion_matrix_table(y_test, predictions)\n",
    "    return score"
   ]
  },
  {
   "cell_type": "code",
   "execution_count": 369,
   "id": "fbbcadac",
   "metadata": {},
   "outputs": [],
   "source": [
    "def run_random_forest_gridCV(x_train,y_train,x_test,y_test,max_depth,n_estimator,print_confusion):\n",
    "    rfc=RandomForestClassifier(random_state=0)\n",
    "    param_grid = { \n",
    "    'n_estimators': n_estimator,\n",
    "    'max_depth' : max_depth,\n",
    "    'criterion' : ['gini']\n",
    "    }\n",
    "    CV_rfc = GridSearchCV(estimator=rfc, param_grid=param_grid, cv= 5)\n",
    "    CV_rfc.fit(x_train, y_train)\n",
    "    parameters = CV_rfc.best_params_\n",
    "    if print_confusion:\n",
    "        print(\"best parameters :\",CV_rfc.best_params_)\n",
    "        print(\"train accuracy :\",\"{:.2f}\".format(CV_rfc.best_score_ * 100))\n",
    "    return run_random_forest(x_train,y_train,x_test,y_test,parameters,print_confusion)"
   ]
  },
  {
   "cell_type": "code",
   "execution_count": 370,
   "id": "aceb378b",
   "metadata": {},
   "outputs": [
    {
     "name": "stdout",
     "output_type": "stream",
     "text": [
      "best parameters : {'criterion': 'gini', 'max_depth': 6, 'n_estimators': 55}\n",
      "train accuracy : 75.11\n",
      "test accuracy:  84.42 \n",
      "\n",
      "[[51  2]\n",
      " [10 14]] \n",
      "\n",
      "True positive : 51\n",
      "True negetive : 2\n",
      "False positive : 10\n",
      "False negetive : 14\n",
      "\n"
     ]
    },
    {
     "data": {
      "text/plain": [
       "'84.42'"
      ]
     },
     "execution_count": 370,
     "metadata": {},
     "output_type": "execute_result"
    }
   ],
   "source": [
    "run_random_forest_gridCV(x_train,y_train,x_test,y_test,[1,2,3,4,5,6,7,8,9,10],[55],True)"
   ]
  },
  {
   "cell_type": "markdown",
   "id": "104a4a42",
   "metadata": {},
   "source": [
    "### Hyperparameters Analyze and Plotting"
   ]
  },
  {
   "cell_type": "markdown",
   "id": "86cec72f",
   "metadata": {},
   "source": [
    "**max_depth**: max_depth represents the depth of each tree in the forest. The deeper the tree, the more splits it has and it captures more information about the data. We fit each decision tree with depths ranging from 1 to 10 and plot the accuracy.\n",
    "\n",
    "**n_estimators**: n_estimators represents the number of trees in the forest. Usually the higher the number of trees the better to learn the data. However, adding a lot of trees can slow down the training process. We fit random forest with n_estimator ranging from 1 to 70 and plot the accuracy."
   ]
  },
  {
   "cell_type": "code",
   "execution_count": 371,
   "id": "c2d72be2",
   "metadata": {},
   "outputs": [],
   "source": [
    "def plot_maker(x_list,y_list,x_label,title): \n",
    "    fig = plt.figure()\n",
    "    ax = fig.add_axes([0,0,1,1])\n",
    "    ax.set_ylim([75, 85])\n",
    "    ax.plot(x_list,y_list,label = 'accuracy')\n",
    "    ax.grid(True , which = \"both\")\n",
    "    ax.axhline(y = 0 , color = 'k')\n",
    "    ax.axvline(x = 0 , color = 'k')\n",
    "    ax.set_xlabel(x_label,fontsize = 16)\n",
    "    ax.set_ylabel(\"accuracy\",fontsize =16)\n",
    "    ax.set_title(title,fontsize = 20)"
   ]
  },
  {
   "cell_type": "code",
   "execution_count": 372,
   "id": "ebc62f41",
   "metadata": {},
   "outputs": [
    {
     "data": {
      "text/plain": [
       "[76.62, 79.22, 77.92, 81.82, 81.82, 83.12, 83.12, 83.12, 83.12, 83.12]"
      ]
     },
     "execution_count": 372,
     "metadata": {},
     "output_type": "execute_result"
    }
   ],
   "source": [
    "max_depth = []\n",
    "depth_changing_score = []\n",
    "for i in range(10):\n",
    "    max_depth.append(i+1)\n",
    "    depth_changing_score.append(run_random_forest_gridCV(x_train,y_train,x_test,y_test,max_depth,[100],False))\n",
    "depth_changing_score = list(map(float,depth_changing_score))\n",
    "depth_changing_score"
   ]
  },
  {
   "cell_type": "code",
   "execution_count": 373,
   "id": "280e2018",
   "metadata": {},
   "outputs": [
    {
     "data": {
      "image/png": "[encoded data removed]",
      "text/plain": [
       "<Figure size 432x288 with 1 Axes>"
      ]
     },
     "metadata": {
      "needs_background": "light"
     },
     "output_type": "display_data"
    }
   ],
   "source": [
    "plot_maker(max_depth,depth_changing_score,'max depth','Max Depth Effect on Accuracy')"
   ]
  },
  {
   "cell_type": "markdown",
   "id": "5c961d59",
   "metadata": {},
   "source": [
    "As we can see in plot above, After increasing **max depth** for decission tree, the accuracy increased and in depth = 6, the accuracy remains constant."
   ]
  },
  {
   "cell_type": "code",
   "execution_count": 374,
   "id": "632c1ff7",
   "metadata": {
    "scrolled": true
   },
   "outputs": [
    {
     "data": {
      "text/plain": [
       "[76.62,\n",
       " 75.32,\n",
       " 80.52,\n",
       " 80.52,\n",
       " 80.52,\n",
       " 80.52,\n",
       " 84.42,\n",
       " 83.12,\n",
       " 84.42,\n",
       " 84.42,\n",
       " 84.42,\n",
       " 81.82,\n",
       " 84.42,\n",
       " 84.42]"
      ]
     },
     "execution_count": 374,
     "metadata": {},
     "output_type": "execute_result"
    }
   ],
   "source": [
    "n_estimator = []\n",
    "estimator_changing_score = []\n",
    "for i in range(0,70,5):\n",
    "    n_estimator.append(i+1)\n",
    "    estimator_changing_score.append(run_random_forest_gridCV(x_train,y_train,x_test,y_test,max_depth,[i+1],False))\n",
    "estimator_changing_score= list(map(float, estimator_changing_score))\n",
    "estimator_changing_score"
   ]
  },
  {
   "cell_type": "code",
   "execution_count": 375,
   "id": "8bcaae0f",
   "metadata": {},
   "outputs": [
    {
     "data": {
      "image/png": "[encoded data removed]",
      "text/plain": [
       "<Figure size 432x288 with 1 Axes>"
      ]
     },
     "metadata": {
      "needs_background": "light"
     },
     "output_type": "display_data"
    }
   ],
   "source": [
    "plot_maker(n_estimator,estimator_changing_score,'n estimator','N Estimator Effect on Accuracy')"
   ]
  },
  {
   "cell_type": "markdown",
   "id": "fd78b5f6",
   "metadata": {},
   "source": [
    "As we can see in plot above, after increasing **n_estimator** for random forest, the accuracy increased."
   ]
  },
  {
   "cell_type": "markdown",
   "id": "f802276d",
   "metadata": {},
   "source": [
    "### ًQuestion 2)"
   ]
  },
  {
   "cell_type": "code",
   "execution_count": 376,
   "id": "52042155",
   "metadata": {},
   "outputs": [
    {
     "name": "stdout",
     "output_type": "stream",
     "text": [
      "Fitting 5 folds for each of 3960 candidates, totalling 19800 fits\n",
      "best parameters :  {'ccp_alpha': 0.001, 'criterion': 'entropy', 'max_depth': 10, 'min_samples_leaf': 11, 'min_samples_split': 2}\n",
      "train accuracy : 74.53\n",
      "test accuracy:  79.22 \n",
      "\n",
      "[[47  6]\n",
      " [10 14]] \n",
      "\n",
      "True positive : 47\n",
      "True negetive : 6\n",
      "False positive : 10\n",
      "False negetive : 14\n",
      "\n"
     ]
    }
   ],
   "source": [
    "run_decision_tree_girdCV(x_train,y_train,x_test,y_test)"
   ]
  },
  {
   "cell_type": "code",
   "execution_count": 378,
   "id": "322d15e4",
   "metadata": {},
   "outputs": [
    {
     "name": "stdout",
     "output_type": "stream",
     "text": [
      "best parameters : {'criterion': 'gini', 'max_depth': 6, 'n_estimators': 55}\n",
      "train accuracy : 75.11\n",
      "test accuracy:  84.42 \n",
      "\n",
      "[[51  2]\n",
      " [10 14]] \n",
      "\n",
      "True positive : 51\n",
      "True negetive : 2\n",
      "False positive : 10\n",
      "False negetive : 14\n",
      "\n"
     ]
    },
    {
     "data": {
      "text/plain": [
       "'84.42'"
      ]
     },
     "execution_count": 378,
     "metadata": {},
     "output_type": "execute_result"
    }
   ],
   "source": [
    "run_random_forest_gridCV(x_train,y_train,x_test,y_test,[1,2,3,4,5,6,7,8,9,10],[55],True)"
   ]
  },
  {
   "cell_type": "markdown",
   "id": "aa09e51a",
   "metadata": {},
   "source": [
    "#### Bias\n",
    "Bias is the difference between the average prediction of our model and the correct value which we are trying to predict. Model with high bias pays very little attention to the training data and oversimplifies the model. It always leads to high error on training and test data.\n",
    "#### Variance\n",
    "Variance is the variability of model prediction for a given data point or a value which tells us spread of our data. Model with high variance pays a lot of attention to training data and does not generalize on the data which it hasn’t seen before. As a result, such models perform very well on training data but has high error rates on test data.\n",
    "#### Bias vs Variance\n",
    "Bias and variance are inversely connected. It is impossible to have an ML model with a low bias and a low variance. When a data engineer modifies the ML algorithm to better fit a given data set, it will lead to low bias—but it will increase variance.\n",
    "#### Random Forest and Decision tree comparison\n",
    "Random Forest is a collection of multiple decision trees coupled parallelly.\n",
    "Decision tree itself has low bias and high variance i.e it will completely fit the training data(low bias) but if a new test points come the error goes high(high variance). But when multiple decision trees are coupled with row and column sampling the combined variance offered by this collection is low. Hence Random forest is low bias and low variance model.\n",
    "#### Result\n",
    "As we can see in Random Forest and Decision Tree results, the accuracy of Random Forest is higher than Decision tree accruacy. It means that Random Forest has lower variance than Dicision Tree, so the result is supporting our claims."
   ]
  }
 ],
 "metadata": {
  "kernelspec": {
   "display_name": "Python 3 (ipykernel)",
   "language": "python",
   "name": "python3"
  },
  "language_info": {
   "codemirror_mode": {
    "name": "ipython",
    "version": 3
   },
   "file_extension": ".py",
   "mimetype": "text/x-python",
   "name": "python",
   "nbconvert_exporter": "python",
   "pygments_lexer": "ipython3",
   "version": "3.9.12"
  }
 },
 "nbformat": 4,
 "nbformat_minor": 5
}
