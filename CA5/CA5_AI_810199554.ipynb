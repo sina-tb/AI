{
 "cells": [
  {
   "cell_type": "markdown",
   "metadata": {
    "id": "3OK-sELcg2iQ"
   },
   "source": [
    "## PART 1: Study and Preprocessing \n"
   ]
  },
  {
   "cell_type": "code",
   "execution_count": 1,
   "metadata": {
    "id": "lHYJ-8clFys2"
   },
   "outputs": [],
   "source": [
    "import cv2\n",
    "import IPython\n",
    "import numpy as np\n",
    "import pandas as pd\n",
    "import matplotlib.pyplot as plt\n",
    "from sklearn.preprocessing import  OneHotEncoder\n",
    "from collections import Counter\n",
    "from sklearn.metrics import classification_report"
   ]
  },
  {
   "cell_type": "markdown",
   "metadata": {
    "id": "V6_RlxkUhban"
   },
   "source": [
    "We're using the Google Colab for the project, so we need to upload the CSV files in Google Drive and read the train and test files form there:"
   ]
  },
  {
   "cell_type": "code",
   "execution_count": 2,
   "metadata": {
    "colab": {
     "base_uri": "https://localhost:8080/"
    },
    "id": "YcMXxa81RSEI",
    "outputId": "e0d22b46-b97b-4da8-d710-d8a04728ee4b"
   },
   "outputs": [
    {
     "name": "stdout",
     "output_type": "stream",
     "text": [
      "Mounted at /content/drive\n"
     ]
    }
   ],
   "source": [
    "from google.colab import drive\n",
    "drive.mount('/content/drive')"
   ]
  },
  {
   "cell_type": "markdown",
   "metadata": {
    "id": "yl9cCTNqiHkO"
   },
   "source": [
    "Now we have the train and test data and labels, so we can go to next section."
   ]
  },
  {
   "cell_type": "code",
   "execution_count": 3,
   "metadata": {
    "id": "QLjyXxyoNV1T"
   },
   "outputs": [],
   "source": [
    "data1 = open('drive/My Drive/TestImgs.csv', 'rb')\n",
    "labels1 = open('drive/My Drive/TestLabels.csv', 'rb')\n",
    "data2 = open('drive/My Drive/TrainImgs.csv', 'rb')\n",
    "labels2 = open('drive/My Drive/TrainLabels.csv', 'rb')\n",
    "\n",
    "test_data = pd.read_csv(data1 , header=None)\n",
    "test_lbs = pd.read_csv(labels1 , header=None)\n",
    "train_data = pd.read_csv(data2, header=None)\n",
    "train_lbs = pd.read_csv(labels2, header=None)"
   ]
  },
  {
   "cell_type": "markdown",
   "metadata": {
    "id": "TA_1Qe81ik5W"
   },
   "source": [
    "In this part, we show the images of each class in **train labels** set and also we show the **range of pixels** in the pictures:"
   ]
  },
  {
   "cell_type": "code",
   "execution_count": 4,
   "metadata": {
    "colab": {
     "base_uri": "https://localhost:8080/",
     "height": 1000
    },
    "id": "7epTGDZUNYka",
    "outputId": "e4154fcf-9851-41c5-8db1-05645fafaf44"
   },
   "outputs": [
    {
     "data": {
      "image/png": "[encoded data removed]",
      "text/plain": [
       "<IPython.core.display.Image object>"
      ]
     },
     "metadata": {},
     "output_type": "display_data"
    },
    {
     "name": "stdout",
     "output_type": "stream",
     "text": [
      "pixel range: [ 0 : 255 ]\n",
      "Class:  1\n"
     ]
    },
    {
     "data": {
      "image/png": "[encoded data removed]",
      "text/plain": [
       "<IPython.core.display.Image object>"
      ]
     },
     "metadata": {},
     "output_type": "display_data"
    },
    {
     "name": "stdout",
     "output_type": "stream",
     "text": [
      "pixel range: [ 0 : 255 ]\n",
      "Class:  2\n"
     ]
    },
    {
     "data": {
      "image/png": "[encoded data removed]",
      "text/plain": [
       "<IPython.core.display.Image object>"
      ]
     },
     "metadata": {},
     "output_type": "display_data"
    },
    {
     "name": "stdout",
     "output_type": "stream",
     "text": [
      "pixel range: [ 0 : 255 ]\n",
      "Class:  3\n"
     ]
    },
    {
     "data": {
      "image/png": "[encoded data removed]",
      "text/plain": [
       "<IPython.core.display.Image object>"
      ]
     },
     "metadata": {},
     "output_type": "display_data"
    },
    {
     "name": "stdout",
     "output_type": "stream",
     "text": [
      "pixel range: [ 0 : 255 ]\n",
      "Class:  4\n"
     ]
    },
    {
     "data": {
      "image/png": "[encoded data removed]",
      "text/plain": [
       "<IPython.core.display.Image object>"
      ]
     },
     "metadata": {},
     "output_type": "display_data"
    },
    {
     "name": "stdout",
     "output_type": "stream",
     "text": [
      "pixel range: [ 0 : 255 ]\n",
      "Class:  5\n"
     ]
    },
    {
     "data": {
      "image/png": "[encoded data removed]",
      "text/plain": [
       "<IPython.core.display.Image object>"
      ]
     },
     "metadata": {},
     "output_type": "display_data"
    },
    {
     "name": "stdout",
     "output_type": "stream",
     "text": [
      "pixel range: [ 0 : 255 ]\n",
      "Class:  6\n"
     ]
    },
    {
     "data": {
      "image/png": "[encoded data removed]",
      "text/plain": [
       "<IPython.core.display.Image object>"
      ]
     },
     "metadata": {},
     "output_type": "display_data"
    },
    {
     "name": "stdout",
     "output_type": "stream",
     "text": [
      "pixel range: [ 0 : 255 ]\n",
      "Class:  7\n"
     ]
    },
    {
     "data": {
      "image/png": "[encoded data removed]",
      "text/plain": [
       "<IPython.core.display.Image object>"
      ]
     },
     "metadata": {},
     "output_type": "display_data"
    },
    {
     "name": "stdout",
     "output_type": "stream",
     "text": [
      "pixel range: [ 0 : 255 ]\n",
      "Class:  8\n"
     ]
    },
    {
     "data": {
      "image/png": "[encoded data removed]",
      "text/plain": [
       "<IPython.core.display.Image object>"
      ]
     },
     "metadata": {},
     "output_type": "display_data"
    },
    {
     "name": "stdout",
     "output_type": "stream",
     "text": [
      "pixel range: [ 0 : 255 ]\n",
      "Class:  9\n"
     ]
    },
    {
     "data": {
      "image/png": "[encoded data removed]",
      "text/plain": [
       "<IPython.core.display.Image object>"
      ]
     },
     "metadata": {},
     "output_type": "display_data"
    },
    {
     "name": "stdout",
     "output_type": "stream",
     "text": [
      "pixel range: [ 0 : 255 ]\n",
      "Class:  10\n"
     ]
    },
    {
     "data": {
      "image/png": "[encoded data removed]",
      "text/plain": [
       "<IPython.core.display.Image object>"
      ]
     },
     "metadata": {},
     "output_type": "display_data"
    },
    {
     "name": "stdout",
     "output_type": "stream",
     "text": [
      "pixel range: [ 0 : 255 ]\n",
      "Class:  11\n"
     ]
    },
    {
     "data": {
      "image/png": "[encoded data removed]",
      "text/plain": [
       "<IPython.core.display.Image object>"
      ]
     },
     "metadata": {},
     "output_type": "display_data"
    },
    {
     "name": "stdout",
     "output_type": "stream",
     "text": [
      "pixel range: [ 0 : 255 ]\n",
      "Class:  12\n"
     ]
    },
    {
     "data": {
      "image/png": "[encoded data removed]",
      "text/plain": [
       "<IPython.core.display.Image object>"
      ]
     },
     "metadata": {},
     "output_type": "display_data"
    },
    {
     "name": "stdout",
     "output_type": "stream",
     "text": [
      "pixel range: [ 0 : 255 ]\n",
      "Class:  13\n"
     ]
    },
    {
     "data": {
      "image/png": "[encoded data removed]",
      "text/plain": [
       "<IPython.core.display.Image object>"
      ]
     },
     "metadata": {},
     "output_type": "display_data"
    },
    {
     "name": "stdout",
     "output_type": "stream",
     "text": [
      "pixel range: [ 0 : 255 ]\n",
      "Class:  14\n"
     ]
    },
    {
     "data": {
      "image/png": "[encoded data removed]",
      "text/plain": [
       "<IPython.core.display.Image object>"
      ]
     },
     "metadata": {},
     "output_type": "display_data"
    },
    {
     "name": "stdout",
     "output_type": "stream",
     "text": [
      "pixel range: [ 0 : 255 ]\n",
      "Class:  15\n"
     ]
    },
    {
     "data": {
      "image/png": "[encoded data removed]",
      "text/plain": [
       "<IPython.core.display.Image object>"
      ]
     },
     "metadata": {},
     "output_type": "display_data"
    },
    {
     "name": "stdout",
     "output_type": "stream",
     "text": [
      "pixel range: [ 0 : 255 ]\n",
      "Class:  16\n"
     ]
    },
    {
     "data": {
      "image/png": "[encoded data removed]",
      "text/plain": [
       "<IPython.core.display.Image object>"
      ]
     },
     "metadata": {},
     "output_type": "display_data"
    },
    {
     "name": "stdout",
     "output_type": "stream",
     "text": [
      "pixel range: [ 0 : 255 ]\n",
      "Class:  17\n"
     ]
    },
    {
     "data": {
      "image/png": "[encoded data removed]",
      "text/plain": [
       "<IPython.core.display.Image object>"
      ]
     },
     "metadata": {},
     "output_type": "display_data"
    },
    {
     "name": "stdout",
     "output_type": "stream",
     "text": [
      "pixel range: [ 0 : 255 ]\n",
      "Class:  18\n"
     ]
    },
    {
     "data": {
      "image/png": "[encoded data removed]",
      "text/plain": [
       "<IPython.core.display.Image object>"
      ]
     },
     "metadata": {},
     "output_type": "display_data"
    },
    {
     "name": "stdout",
     "output_type": "stream",
     "text": [
      "pixel range: [ 0 : 255 ]\n",
      "Class:  19\n"
     ]
    },
    {
     "data": {
      "image/png": "[encoded data removed]",
      "text/plain": [
       "<IPython.core.display.Image object>"
      ]
     },
     "metadata": {},
     "output_type": "display_data"
    },
    {
     "name": "stdout",
     "output_type": "stream",
     "text": [
      "pixel range: [ 0 : 255 ]\n",
      "Class:  20\n"
     ]
    },
    {
     "data": {
      "image/png": "[encoded data removed]",
      "text/plain": [
       "<IPython.core.display.Image object>"
      ]
     },
     "metadata": {},
     "output_type": "display_data"
    },
    {
     "name": "stdout",
     "output_type": "stream",
     "text": [
      "pixel range: [ 0 : 255 ]\n",
      "Class:  21\n"
     ]
    },
    {
     "data": {
      "image/png": "[encoded data removed]",
      "text/plain": [
       "<IPython.core.display.Image object>"
      ]
     },
     "metadata": {},
     "output_type": "display_data"
    },
    {
     "name": "stdout",
     "output_type": "stream",
     "text": [
      "pixel range: [ 0 : 255 ]\n",
      "Class:  22\n"
     ]
    },
    {
     "data": {
      "image/png": "[encoded data removed]",
      "text/plain": [
       "<IPython.core.display.Image object>"
      ]
     },
     "metadata": {},
     "output_type": "display_data"
    },
    {
     "name": "stdout",
     "output_type": "stream",
     "text": [
      "pixel range: [ 0 : 255 ]\n",
      "Class:  23\n"
     ]
    },
    {
     "data": {
      "image/png": "[encoded data removed]",
      "text/plain": [
       "<IPython.core.display.Image object>"
      ]
     },
     "metadata": {},
     "output_type": "display_data"
    },
    {
     "name": "stdout",
     "output_type": "stream",
     "text": [
      "pixel range: [ 0 : 255 ]\n",
      "Class:  24\n"
     ]
    },
    {
     "data": {
      "image/png": "[encoded data removed]",
      "text/plain": [
       "<IPython.core.display.Image object>"
      ]
     },
     "metadata": {},
     "output_type": "display_data"
    },
    {
     "name": "stdout",
     "output_type": "stream",
     "text": [
      "pixel range: [ 0 : 255 ]\n",
      "Class:  25\n"
     ]
    },
    {
     "data": {
      "image/png": "[encoded data removed]",
      "text/plain": [
       "<IPython.core.display.Image object>"
      ]
     },
     "metadata": {},
     "output_type": "display_data"
    },
    {
     "name": "stdout",
     "output_type": "stream",
     "text": [
      "pixel range: [ 0 : 255 ]\n",
      "Class:  26\n"
     ]
    },
    {
     "data": {
      "image/png": "[encoded data removed]",
      "text/plain": [
       "<IPython.core.display.Image object>"
      ]
     },
     "metadata": {},
     "output_type": "display_data"
    },
    {
     "name": "stdout",
     "output_type": "stream",
     "text": [
      "pixel range: [ 0 : 255 ]\n",
      "Class:  27\n"
     ]
    },
    {
     "data": {
      "image/png": "[encoded data removed]",
      "text/plain": [
       "<IPython.core.display.Image object>"
      ]
     },
     "metadata": {},
     "output_type": "display_data"
    },
    {
     "name": "stdout",
     "output_type": "stream",
     "text": [
      "pixel range: [ 0 : 255 ]\n",
      "Class:  28\n"
     ]
    }
   ],
   "source": [
    "for index, row in train_lbs.drop_duplicates(0).sort_values(by=0).iterrows():\n",
    "    p = train_data.iloc[index, :].to_numpy().reshape(32,32)\n",
    "    _, ret = cv2.imencode('.jpg', p) \n",
    "    i = IPython.display.Image(data=ret)\n",
    "    IPython.display.display(i)\n",
    "    print(\"pixel range: [\",ret.min(),':',ret.max(),']')\n",
    "    print(\"Class: \",  row[0])"
   ]
  },
  {
   "cell_type": "markdown",
   "metadata": {
    "id": "fHT97mYpji4t"
   },
   "source": [
    "We need to check how much data we have in our train and test data sets:"
   ]
  },
  {
   "cell_type": "code",
   "execution_count": 5,
   "metadata": {
    "colab": {
     "base_uri": "https://localhost:8080/"
    },
    "id": "r3RYf2YerJMx",
    "outputId": "83a792b3-9e6b-4210-a55c-0a732b5d912e"
   },
   "outputs": [
    {
     "data": {
      "text/plain": [
       "(28, 13440)"
      ]
     },
     "execution_count": 5,
     "metadata": {},
     "output_type": "execute_result"
    }
   ],
   "source": [
    "len(train_lbs[0].unique()) , train_lbs[0].size"
   ]
  },
  {
   "cell_type": "code",
   "execution_count": 6,
   "metadata": {
    "colab": {
     "base_uri": "https://localhost:8080/"
    },
    "id": "ZvUIF98BstIC",
    "outputId": "f407c962-da4d-413d-b3f1-dca1a6b8fb59"
   },
   "outputs": [
    {
     "data": {
      "text/plain": [
       "(28, 3360)"
      ]
     },
     "execution_count": 6,
     "metadata": {},
     "output_type": "execute_result"
    }
   ],
   "source": [
    "len(test_lbs[0].unique()) , test_lbs[0].size"
   ]
  },
  {
   "cell_type": "markdown",
   "metadata": {
    "id": "KIrJN72HkI_r"
   },
   "source": [
    "In this part, we just want to use the data that its class is lower than 17, so we should remove (17,28) classes from our train and test data sets:"
   ]
  },
  {
   "cell_type": "code",
   "execution_count": 7,
   "metadata": {
    "colab": {
     "base_uri": "https://localhost:8080/",
     "height": 423
    },
    "id": "8qo43sSHycmV",
    "outputId": "66614f4e-613e-4cc6-d381-03b155a53731"
   },
   "outputs": [
    {
     "data": {
      "text/html": [
       "\n",
       "  <div id=\"df-bf0828d4-594a-424e-8504-08a593f49778\">\n",
       "    <div class=\"colab-df-container\">\n",
       "      <div>\n",
       "<style scoped>\n",
       "    .dataframe tbody tr th:only-of-type {\n",
       "        vertical-align: middle;\n",
       "    }\n",
       "\n",
       "    .dataframe tbody tr th {\n",
       "        vertical-align: top;\n",
       "    }\n",
       "\n",
       "    .dataframe thead th {\n",
       "        text-align: right;\n",
       "    }\n",
       "</style>\n",
       "<table border=\"1\" class=\"dataframe\">\n",
       "  <thead>\n",
       "    <tr style=\"text-align: right;\">\n",
       "      <th></th>\n",
       "      <th>0</th>\n",
       "    </tr>\n",
       "  </thead>\n",
       "  <tbody>\n",
       "    <tr>\n",
       "      <th>0</th>\n",
       "      <td>1</td>\n",
       "    </tr>\n",
       "    <tr>\n",
       "      <th>1</th>\n",
       "      <td>1</td>\n",
       "    </tr>\n",
       "    <tr>\n",
       "      <th>2</th>\n",
       "      <td>1</td>\n",
       "    </tr>\n",
       "    <tr>\n",
       "      <th>3</th>\n",
       "      <td>1</td>\n",
       "    </tr>\n",
       "    <tr>\n",
       "      <th>4</th>\n",
       "      <td>1</td>\n",
       "    </tr>\n",
       "    <tr>\n",
       "      <th>...</th>\n",
       "      <td>...</td>\n",
       "    </tr>\n",
       "    <tr>\n",
       "      <th>13339</th>\n",
       "      <td>16</td>\n",
       "    </tr>\n",
       "    <tr>\n",
       "      <th>13340</th>\n",
       "      <td>16</td>\n",
       "    </tr>\n",
       "    <tr>\n",
       "      <th>13341</th>\n",
       "      <td>16</td>\n",
       "    </tr>\n",
       "    <tr>\n",
       "      <th>13342</th>\n",
       "      <td>16</td>\n",
       "    </tr>\n",
       "    <tr>\n",
       "      <th>13343</th>\n",
       "      <td>16</td>\n",
       "    </tr>\n",
       "  </tbody>\n",
       "</table>\n",
       "<p>7680 rows × 1 columns</p>\n",
       "</div>\n",
       "      <button class=\"colab-df-convert\" onclick=\"convertToInteractive('df-bf0828d4-594a-424e-8504-08a593f49778')\"\n",
       "              title=\"Convert this dataframe to an interactive table.\"\n",
       "              style=\"display:none;\">\n",
       "        \n",
       "  <svg xmlns=\"http://www.w3.org/2000/svg\" height=\"24px\"viewBox=\"0 0 24 24\"\n",
       "       width=\"24px\">\n",
       "    <path d=\"M0 0h24v24H0V0z\" fill=\"none\"/>\n",
       "    <path d=\"M18.56 5.44l.94 2.06.94-2.06 2.06-.94-2.06-.94-.94-2.06-.94 2.06-2.06.94zm-11 1L8.5 8.5l.94-2.06 2.06-.94-2.06-.94L8.5 2.5l-.94 2.06-2.06.94zm10 10l.94 2.06.94-2.06 2.06-.94-2.06-.94-.94-2.06-.94 2.06-2.06.94z\"/><path d=\"M17.41 7.96l-1.37-1.37c-.4-.4-.92-.59-1.43-.59-.52 0-1.04.2-1.43.59L10.3 9.45l-7.72 7.72c-.78.78-.78 2.05 0 2.83L4 21.41c.39.39.9.59 1.41.59.51 0 1.02-.2 1.41-.59l7.78-7.78 2.81-2.81c.8-.78.8-2.07 0-2.86zM5.41 20L4 18.59l7.72-7.72 1.47 1.35L5.41 20z\"/>\n",
       "  </svg>\n",
       "      </button>\n",
       "      \n",
       "  <style>\n",
       "    .colab-df-container {\n",
       "      display:flex;\n",
       "      flex-wrap:wrap;\n",
       "      gap: 12px;\n",
       "    }\n",
       "\n",
       "    .colab-df-convert {\n",
       "      background-color: #E8F0FE;\n",
       "      border: none;\n",
       "      border-radius: 50%;\n",
       "      cursor: pointer;\n",
       "      display: none;\n",
       "      fill: #1967D2;\n",
       "      height: 32px;\n",
       "      padding: 0 0 0 0;\n",
       "      width: 32px;\n",
       "    }\n",
       "\n",
       "    .colab-df-convert:hover {\n",
       "      background-color: #E2EBFA;\n",
       "      box-shadow: 0px 1px 2px rgba(60, 64, 67, 0.3), 0px 1px 3px 1px rgba(60, 64, 67, 0.15);\n",
       "      fill: #174EA6;\n",
       "    }\n",
       "\n",
       "    [theme=dark] .colab-df-convert {\n",
       "      background-color: #3B4455;\n",
       "      fill: #D2E3FC;\n",
       "    }\n",
       "\n",
       "    [theme=dark] .colab-df-convert:hover {\n",
       "      background-color: #434B5C;\n",
       "      box-shadow: 0px 1px 3px 1px rgba(0, 0, 0, 0.15);\n",
       "      filter: drop-shadow(0px 1px 2px rgba(0, 0, 0, 0.3));\n",
       "      fill: #FFFFFF;\n",
       "    }\n",
       "  </style>\n",
       "\n",
       "      <script>\n",
       "        const buttonEl =\n",
       "          document.querySelector('#df-bf0828d4-594a-424e-8504-08a593f49778 button.colab-df-convert');\n",
       "        buttonEl.style.display =\n",
       "          google.colab.kernel.accessAllowed ? 'block' : 'none';\n",
       "\n",
       "        async function convertToInteractive(key) {\n",
       "          const element = document.querySelector('#df-bf0828d4-594a-424e-8504-08a593f49778');\n",
       "          const dataTable =\n",
       "            await google.colab.kernel.invokeFunction('convertToInteractive',\n",
       "                                                     [key], {});\n",
       "          if (!dataTable) return;\n",
       "\n",
       "          const docLinkHtml = 'Like what you see? Visit the ' +\n",
       "            '<a target=\"_blank\" href=https://colab.research.google.com/notebooks/data_table.ipynb>data table notebook</a>'\n",
       "            + ' to learn more about interactive tables.';\n",
       "          element.innerHTML = '';\n",
       "          dataTable['output_type'] = 'display_data';\n",
       "          await google.colab.output.renderOutput(dataTable, element);\n",
       "          const docLink = document.createElement('div');\n",
       "          docLink.innerHTML = docLinkHtml;\n",
       "          element.appendChild(docLink);\n",
       "        }\n",
       "      </script>\n",
       "    </div>\n",
       "  </div>\n",
       "  "
      ],
      "text/plain": [
       "        0\n",
       "0       1\n",
       "1       1\n",
       "2       1\n",
       "3       1\n",
       "4       1\n",
       "...    ..\n",
       "13339  16\n",
       "13340  16\n",
       "13341  16\n",
       "13342  16\n",
       "13343  16\n",
       "\n",
       "[7680 rows x 1 columns]"
      ]
     },
     "execution_count": 7,
     "metadata": {},
     "output_type": "execute_result"
    }
   ],
   "source": [
    "train_data = train_data[train_lbs[0] <= 16]\n",
    "train_lbs = train_lbs[train_lbs[0]<= 16]\n",
    "test_data = test_data[test_lbs[0] <= 16]\n",
    "test_lbs = test_lbs[test_lbs[0] <= 16]\n",
    "train_lbs"
   ]
  },
  {
   "cell_type": "markdown",
   "metadata": {
    "id": "eHSA-7_tlX4N"
   },
   "source": [
    "In this part, we plot the amount of data in each class for the train and test data sets:"
   ]
  },
  {
   "cell_type": "code",
   "execution_count": 8,
   "metadata": {
    "colab": {
     "base_uri": "https://localhost:8080/",
     "height": 268
    },
    "id": "LWNKX5aLb4y2",
    "outputId": "48fa645d-340d-4667-da3d-c46a1e8dca8a"
   },
   "outputs": [
    {
     "data": {
      "image/png": "[encoded data removed]",
      "text/plain": [
       "<Figure size 432x288 with 1 Axes>"
      ]
     },
     "metadata": {
      "needs_background": "light"
     },
     "output_type": "display_data"
    }
   ],
   "source": [
    "plt.bar(*zip(*Counter(train_lbs[0]).items()), label='Train')\n",
    "plt.bar(*zip(*Counter(test_lbs[0]).items()), label='Test')\n",
    "plt.legend()\n",
    "plt.show()"
   ]
  },
  {
   "cell_type": "markdown",
   "metadata": {
    "id": "5IXXKjegl6WY"
   },
   "source": [
    "As we can see in plot above, the number of rows in each class is nearly equal for train and test data sets."
   ]
  },
  {
   "cell_type": "markdown",
   "metadata": {
    "id": "33S14L0KmYtZ"
   },
   "source": [
    "Now that we have the range of pixels for pictures, we can normailize our data sets. we should scale the pixels range between 0 to 1 in order to make the neural network faster. Because large integer values will slow the learning process. All we have to do, is to divide the train and test data to **max pixel range (255)**: "
   ]
  },
  {
   "cell_type": "code",
   "execution_count": 9,
   "metadata": {
    "id": "LDe5JqSFldcd"
   },
   "outputs": [],
   "source": [
    "train_data = train_data / 255\n",
    "test_data = test_data / 255"
   ]
  },
  {
   "cell_type": "markdown",
   "metadata": {
    "id": "HZ9lR4zToTK-"
   },
   "source": [
    "## PART 2: Completing the Given Code"
   ]
  },
  {
   "cell_type": "markdown",
   "metadata": {
    "id": "kMvOu3v4xAL5"
   },
   "source": [
    "### Data Loader"
   ]
  },
  {
   "cell_type": "code",
   "execution_count": 10,
   "metadata": {
    "id": "fQ2pehIzNtgD"
   },
   "outputs": [],
   "source": [
    "class Dataloader:\n",
    "    def __init__(self, data, labels, n_classes, batch_size=None, shuffle=False):\n",
    "        assert len(data)==len(labels)\n",
    "        self.__n_classes = n_classes\n",
    "        self.__batch_size = batch_size\n",
    "        self.__shuffle = shuffle\n",
    "        self.__data = data\n",
    "        self.__onehot_labels = self.__onehot(labels, self.__n_classes)\n",
    "    \n",
    "    def __onehot(self, labels, n_classes):\n",
    "        onehot_vectors = pd.DataFrame(OneHotEncoder().fit_transform(labels).toarray())\n",
    "        return onehot_vectors\n",
    "    \n",
    "    def __shuffle_dataset(self):\n",
    "        randomize = np.random.permutation((self.__data.shape[0]))\n",
    "        self.__data = self.__data[randomize]\n",
    "        self.__onehot_labels = self.__onehot_labels[randomize]\n",
    "    \n",
    "    def __iter__(self):\n",
    "        if self.__shuffle:\n",
    "            self.__shuffle_dataset()\n",
    "            \n",
    "        if self.__batch_size==None:\n",
    "            yield (np.matrix(self.__data), np.matrix(self.__onehot_labels))\n",
    "            return\n",
    "            \n",
    "        for idx in range(0, len(self.__data), self.__batch_size):\n",
    "            yield (np.matrix(self.__data[idx:idx+self.__batch_size]), \n",
    "                   np.matrix(self.__onehot_labels[idx:idx+self.__batch_size]))"
   ]
  },
  {
   "cell_type": "markdown",
   "metadata": {
    "id": "Qlwt5uXKxJ8J"
   },
   "source": [
    "### Activition Function"
   ]
  },
  {
   "cell_type": "code",
   "execution_count": 29,
   "metadata": {
    "id": "PkmXLcDkVncK"
   },
   "outputs": [],
   "source": [
    "class Identical:\n",
    "\n",
    "    def __init__(self):\n",
    "        pass\n",
    "\n",
    "    def __val(self, matrix):\n",
    "        identical_value = np.matrix(matrix, dtype=float)\n",
    "        return identical_value\n",
    "\n",
    "    def derivative(self, matrix):\n",
    "        temp = np.matrix(matrix, dtype=float)\n",
    "        identical_derivative = np.matrix(np.full(np.shape(temp), 1.))\n",
    "        return identical_derivative\n",
    "    \n",
    "    def __call__(self, matrix):\n",
    "        return self.__val(matrix)\n",
    "    \n",
    "class Relu:\n",
    "\n",
    "    def __init__(self): \n",
    "        pass\n",
    "        \n",
    "    def __val(self, matrix):\n",
    "        relu_value = np.maximum(0, matrix)\n",
    "        return relu_value\n",
    "\n",
    "    def derivative(self, matrix):\n",
    "        relu_derivative = np.matrix(np.full(np.shape(matrix), np.where(matrix >= 0, 1, 0)))\n",
    "        return relu_derivative\n",
    "    \n",
    "    def __call__(self, matrix):\n",
    "        return self.__val(matrix)\n",
    "\n",
    "    \n",
    "class LeakyRelu:\n",
    "  \n",
    "    def __init__(self, negative_slope=0.01):\n",
    "        self.negative_slope = negative_slope\n",
    "    \n",
    "    def __val(self, matrix):\n",
    "        leaky_relu_value = np.where(matrix < 0, matrix * self.negative_slope, matrix)\n",
    "        return leaky_relu_value\n",
    "\n",
    "    def derivative(self, matrix):\n",
    "        leaky_relu_derivative = np.matrix(np.full(np.shape(matrix), np.where(matrix >= 0, 1, self.negative_slope)))\n",
    "        return leaky_relu_derivative\n",
    "    \n",
    "    def __call__(self, matrix):\n",
    "        return self.__val(matrix)\n",
    "\n",
    "    \n",
    "class Sigmoid:\n",
    "\n",
    "    def __init__(self): \n",
    "        pass\n",
    "\n",
    "    def __val(self, matrix):\n",
    "        sigmoid_value = 1/(1 + np.exp(-matrix))\n",
    "        return sigmoid_value\n",
    "\n",
    "    def derivative(self, matrix):\n",
    "        matrix = self.__val(matrix)\n",
    "        sigmoid_derivative = np.multiply(matrix, (1 - matrix))\n",
    "        return sigmoid_derivative\n",
    "    \n",
    "    def __call__(self, matrix):\n",
    "        return self.__val(matrix)\n",
    "\n",
    "\n",
    "class Softmax:\n",
    "\n",
    "    def __init__(self): \n",
    "        pass\n",
    "        \n",
    "\n",
    "    def __val(self, matrix):\n",
    "        softmax_value = np.apply_along_axis(lambda row: np.exp(row - np.max(row))/np.sum(np.exp(row - np.max(row))), 1, matrix)\n",
    "        return softmax_value\n",
    "    \n",
    "    def __call__(self, matrix):\n",
    "        return self.__val(matrix)\n",
    "    \n",
    "class Tanh:\n",
    "\n",
    "    def __init__(self): \n",
    "        pass\n",
    "\n",
    "    def __val(self, matrix):\n",
    "        tanh_value = np.tanh(matrix)\n",
    "        tanh_value = np.matrix(tanh_value)\n",
    "        return tanh_value\n",
    "\n",
    "    def derivative(self, matrix):\n",
    "        tanh_derivative = 1 - np.power(self.__val(matrix), 2)\n",
    "        return tanh_derivative\n",
    "    \n",
    "    def __call__(self, matrix):\n",
    "        return self.__val(matrix)"
   ]
  },
  {
   "cell_type": "markdown",
   "metadata": {
    "id": "u1hNdiQ-xVoI"
   },
   "source": [
    "### Loss Function"
   ]
  },
  {
   "cell_type": "code",
   "execution_count": 34,
   "metadata": {
    "id": "7oGRifydacJM"
   },
   "outputs": [],
   "source": [
    "class CrossEntropy:\n",
    "\n",
    "    def __init__(self): \n",
    "        pass\n",
    "\n",
    "    def __val(self, true_val, expected_val):\n",
    "        assert np.shape(true_val)==np.shape(expected_val)\n",
    "\n",
    "        output = np.log(Softmax()(true_val))\n",
    "        cross_entropy_value =  -1 * np.sum(np.multiply(expected_val, output), axis=1)\n",
    "        \n",
    "        return cross_entropy_value\n",
    "    \n",
    "        \n",
    "    def derivative(self, true_val, expected_val):\n",
    "        assert np.shape(true_val)==np.shape(expected_val)\n",
    "                                           \n",
    "        output = Softmax()(true_val)\n",
    "        cross_entropy_derivative = output - expected_val\n",
    "                                           \n",
    "        return cross_entropy_derivative\n",
    "    \n",
    "    def __call__(self, true_val, expected_val):\n",
    "        return self.__val(true_val, expected_val)"
   ]
  },
  {
   "cell_type": "markdown",
   "metadata": {
    "id": "MXZFGjOVxoff"
   },
   "source": [
    "### Layer"
   ]
  },
  {
   "cell_type": "code",
   "execution_count": 45,
   "metadata": {
    "id": "sTAjJm-9bfRD"
   },
   "outputs": [],
   "source": [
    "class Layer:\n",
    "\n",
    "    DEFAULT_LOW, DEFAULT_HIGH, DEFAULT_MEAN, DEFAULT_VAR = 0, 0.05, 0., 1.\n",
    "\n",
    "    def __init__(self, input_size, output_size, activation=Identical(), initial_weight='uniform', \n",
    "                 **initializing_parameters):\n",
    "      \n",
    "        assert type(initial_weight)==str, 'Undefined activation function!'\n",
    "        \n",
    "        self.__weight_initializer_dict = {'uniform':self.__uniform_weight, \n",
    "                                          'normal':self.__normal_weight, \n",
    "                                          'zero':self.__zero_weight}\n",
    "        \n",
    "        assert initial_weight in self.__weight_initializer_dict, 'Undefined weight initialization function!'\n",
    "\n",
    "\n",
    "        self.__n_neurons = output_size\n",
    "        weight_initializer = self.__weight_initializer_dict[initial_weight]\n",
    "        self.__weight = weight_initializer(input_size, self.__n_neurons, **initializing_parameters)\n",
    "        self.__bias = weight_initializer(1, self.__n_neurons, **initializing_parameters)\n",
    "        self.__activation = activation\n",
    "        \n",
    "        self.__last_input = None\n",
    "        self.__last_activation_input = None\n",
    "        self.__last_activation_output = None\n",
    "        self.__last_activation_derivative = None\n",
    "        \n",
    "    def forward(self, layer_input):\n",
    "        assert np.ndim(layer_input)==2\n",
    "        assert np.size(self.__weight,0) == np.size(layer_input,1)\n",
    "        \n",
    "        self.__last_input = layer_input\n",
    "        self.__last_activation_input = np.add(np.dot(self.__last_input, self.__weight), self.__bias)\n",
    "        self.__last_activation_output = self.__activation(self.__last_activation_input)\n",
    "        self.__last_activation_derivative = self.__activation.derivative(self.__last_activation_input)\n",
    "                \n",
    "        return self.__last_activation_output\n",
    "    \n",
    "    def update_weights(self, backprop_tensor, lr):\n",
    "        assert np.ndim(backprop_tensor)==2\n",
    "        assert np.size(backprop_tensor,0) == np.size(self.__last_activation_derivative,0)\n",
    "        assert np.size(backprop_tensor,1) == self.__n_neurons\n",
    "        \n",
    "        ones = np.matrix(np.ones((np.size(backprop_tensor,axis=0), 1)))\n",
    "        dy = np.multiply(backprop_tensor, self.__last_activation_derivative)\n",
    "        db = np.matmul(ones.T, dy)\n",
    "        dw = np.matmul(self.__last_input.T, dy)\n",
    "        backprop_tensor = np.matmul(dy, np.transpose(self.__weight))\n",
    "        self.__weight -= lr * dw\n",
    "        self.__bias -= lr * db\n",
    "        \n",
    "        return backprop_tensor\n",
    "\n",
    "    def __uniform_weight(self, dim1, dim2, **initializing_parameters):\n",
    "        low, high = self.DEFAULT_LOW, self.DEFAULT_HIGH\n",
    "        if 'low' in initializing_parameters.keys(): low = initializing_parameters['low']\n",
    "        if 'high' in initializing_parameters.keys(): high = initializing_parameters['high']\n",
    "        \n",
    "        weights = np.matrix(np.random.uniform(low, high, size=(dim1, dim2)))\n",
    "        return weights\n",
    "\n",
    "    def __normal_weight(self, dim1, dim2, **initializing_parameters):\n",
    "        mean, var = self.DEFAULT_MEAN, self.DEFAULT_VAR\n",
    "        if 'mean' in initializing_parameters.keys(): mean = initializing_parameters['mean']\n",
    "        if 'var' in initializing_parameters.keys(): var = initializing_parameters['var']\n",
    "        weights = np.matrix(np.random.normal(mean, np.sqrt(var), size=(dim1, dim2)))\n",
    "        return weights\n",
    "    \n",
    "    def __zero_weight(self, dim1, dim2, **initializing_parameters):\n",
    "        weights = np.matrix(np.zeros(shape=(dim1,dim2)))\n",
    "        return weights\n",
    "    \n",
    "    @property\n",
    "    def n_neurons(self): return self.__n_neurons\n",
    "    \n",
    "    @property\n",
    "    def weight(self): return self.__weight\n",
    "    \n",
    "    @property\n",
    "    def bias(self): return self.__bias\n",
    "    \n",
    "    @property\n",
    "    def activation(self): return self.__activation"
   ]
  },
  {
   "cell_type": "markdown",
   "metadata": {
    "id": "JyQae5-rx4JX"
   },
   "source": [
    "### Feed Forward Neural Network"
   ]
  },
  {
   "cell_type": "code",
   "execution_count": 46,
   "metadata": {
    "id": "U0qOQCOeeLkg"
   },
   "outputs": [],
   "source": [
    "class FeedForwardNN:\n",
    "    def __init__(self, input_shape):\n",
    "\n",
    "        self.__input_shape = input_shape\n",
    "        self.__output_shape = None\n",
    "        \n",
    "        self.__layers_list = []\n",
    "        \n",
    "        self.__lr = None\n",
    "        self.__loss = None\n",
    "\n",
    "        \n",
    "    def add_layer(self, n_neurons, activation=Relu(), initial_weight='uniform', **initializing_parameters):\n",
    "\n",
    "        assert type(n_neurons)==int, \"Invalid number of neurons for the layer!\"\n",
    "        assert n_neurons>0, \"Invalid number of neurons for the layer!\"\n",
    "        \n",
    "        n_prev_neurons = self.__input_shape if len(self.__layers_list)==0 else self.__layers_list[-1].n_neurons\n",
    "        new_layer = Layer(n_prev_neurons, n_neurons, activation, initial_weight, **initializing_parameters)\n",
    "        self.__layers_list.append(new_layer)\n",
    "        self.__output_shape = self.__layers_list[-1].n_neurons \n",
    "      \n",
    "    \n",
    "    def set_training_param(self, loss=CrossEntropy(), lr=1e-3):\n",
    "\n",
    "        assert self.__layers_list, \"Uncomplete model!\"\n",
    "        self.__loss = loss\n",
    "        self.__lr = lr\n",
    "    \n",
    "    \n",
    "    def forward(self, network_input):\n",
    "\n",
    "        assert type(self.__output_shape) != None, \"Model is not compiled!\"\n",
    "\n",
    "        network_output = network_input\n",
    "        for layer in self.__layers_list:\n",
    "            network_output = layer.forward(network_output)\n",
    "        \n",
    "        return network_output\n",
    "    \n",
    "    \n",
    "    def fit(self, epochs, trainloader, testloader=None, print_results=True):\n",
    "\n",
    "        assert type(self.__output_shape) != None, \"Model is not compiled!\"\n",
    "        assert type(self.__lr) != None and type(self.__loss) != None, \"Training paramenters are not set!\"\n",
    "\n",
    "        log = {\"train_accuracy\":[], \"train_loss\":[], \"test_accuracy\":[], \"test_loss\":[]}\n",
    "        \n",
    "        for epoch in range(1, epochs+1):\n",
    "            \n",
    "            if print_results: \n",
    "                print('Epoch {}:'.format(epoch)) \n",
    "                \n",
    "            average_accuracy, average_loss = self.__train(trainloader)\n",
    "            log['train_accuracy'].append(average_accuracy)\n",
    "            log['train_loss'].append(average_loss)\n",
    "            if print_results:\n",
    "                print('\\tTrain: Average Accuracy: {}\\tAverage Loss: {}'.format(average_accuracy, average_loss))\n",
    "            \n",
    "            if type(testloader) != type(None):\n",
    "                average_accuracy, average_loss = self.__test(testloader)\n",
    "                log['test_accuracy'].append(average_accuracy)\n",
    "                log['test_loss'].append(average_loss)\n",
    "                if print_results:\n",
    "                    print('\\tTest: Average Accuracy: {}\\tAverage Loss: {}'.format(average_accuracy, average_loss))\n",
    "                    \n",
    "        return log\n",
    "    \n",
    "    def __train(self, trainloader):\n",
    "\n",
    "        batch_accuracies, batch_losses = [], []\n",
    "        for x_train, y_train in trainloader:\n",
    "            batch_accuracy, batch_loss = self.__train_on_batch(x_train, y_train)\n",
    "            batch_accuracies.append(batch_accuracy)\n",
    "            batch_losses.append(batch_loss)\n",
    "        return np.mean(batch_accuracies), np.mean(batch_losses)\n",
    "    \n",
    "    \n",
    "    def __test(self, testloader):\n",
    "\n",
    "        batch_accuracies, batch_losses = [], []\n",
    "        for x_test, y_test in testloader:\n",
    "            batch_accuracy, batch_loss = self.__test_on_batch(x_test, y_test)\n",
    "            batch_accuracies.append(batch_accuracy)\n",
    "            batch_losses.append(batch_loss)\n",
    "\n",
    "        return np.mean(batch_accuracies), np.mean(batch_losses)\n",
    "\n",
    "    \n",
    "    def __train_on_batch(self, x_batch, y_batch):\n",
    "\n",
    "        network_output = self.forward(x_batch)\n",
    "        batch_accuracy = self.__compute_accuracy(network_output, y_batch)\n",
    "        batch_average_loss = np.mean(self.__loss(network_output, y_batch))\n",
    "\n",
    "        self.__update_weights(network_output, y_batch)\n",
    "\n",
    "        return (batch_accuracy, batch_average_loss)\n",
    "        \n",
    "        \n",
    "    def __test_on_batch(self, x_batch, y_batch):\n",
    "\n",
    "        network_output = self.forward(x_batch)\n",
    "        batch_accuracy = self.__compute_accuracy(network_output, y_batch)\n",
    "        batch_average_loss = np.mean(self.__loss(network_output, y_batch))\n",
    "        \n",
    "        return (batch_accuracy, batch_average_loss)\n",
    "            \n",
    "        \n",
    "    def __get_labels(self, outputs):\n",
    "\n",
    "        labels = outputs.argmax(1)\n",
    "        return labels\n",
    "    \n",
    "    \n",
    "    def __compute_accuracy(self, output, expected_output):\n",
    "\n",
    "        labels = self.__get_labels(output)\n",
    "        expected_labels = self.__get_labels(expected_output)\n",
    "        accuracy = np.count_nonzero(labels == expected_labels) / np.size(output, axis=0) * 100\n",
    "        return accuracy\n",
    "    \n",
    "    \n",
    "    def __update_weights(self, output, y_train):\n",
    "        backpropagation_tensor = self.__loss.derivative(output, y_train)\n",
    "        for layer in reversed(self.__layers_list):\n",
    "            backpropagation_tensor = layer.update_weights(backpropagation_tensor, self.__lr)\n",
    "        return"
   ]
  },
  {
   "cell_type": "code",
   "execution_count": 40,
   "metadata": {
    "id": "2LI2-jVqgSEG"
   },
   "outputs": [],
   "source": [
    "train_data = pd.DataFrame(data=train_data)\n",
    "test_data = pd.DataFrame(data = test_data)\n",
    "train_lbs = pd.DataFrame(data=train_lbs)\n",
    "test_lbs = pd.DataFrame(data= test_lbs)"
   ]
  },
  {
   "cell_type": "markdown",
   "metadata": {
    "id": "FgQZ969VyiGp"
   },
   "source": [
    "## PART 3: Data classification"
   ]
  },
  {
   "cell_type": "markdown",
   "metadata": {
    "id": "g4L8-Xz00gSy"
   },
   "source": [
    "These are the default parameters for the Neural Network:"
   ]
  },
  {
   "cell_type": "code",
   "execution_count": 41,
   "metadata": {
    "id": "eQg0GNxJgu30"
   },
   "outputs": [],
   "source": [
    "INPUT_SHAPE = 32*32\n",
    "LEARNING_RATE = 0.005\n",
    "EPOCHS = 100\n",
    "BATCH_SIZE = 32"
   ]
  },
  {
   "cell_type": "markdown",
   "metadata": {
    "id": "FmDWfH9P0oVO"
   },
   "source": [
    "Now we must make a training model of the Neural Network with given parameters. in order to do that, we designed below function:"
   ]
  },
  {
   "cell_type": "code",
   "execution_count": 47,
   "metadata": {
    "id": "sI8ayYOGhGbn"
   },
   "outputs": [],
   "source": [
    "def train_model(activation=Relu(), initial='uniform', print_results=True, lr=LEARNING_RATE, epochs=EPOCHS, batch_size=BATCH_SIZE):\n",
    "  \n",
    "  TRAINLOADER = [batch for batch in Dataloader(train_data, train_lbs, n_classes=16, batch_size=batch_size, shuffle=False)]\n",
    "  TESTLOADER = [batch for batch in Dataloader(test_data,test_lbs, n_classes=16, batch_size=batch_size, shuffle=False)]\n",
    "\n",
    "  network = FeedForwardNN(INPUT_SHAPE)\n",
    "  network.add_layer(100, activation=activation, initial_weight=initial)\n",
    "  network.add_layer(16, activation=Identical(), initial_weight=initial)\n",
    "  network.set_training_param(loss=CrossEntropy(), lr=lr)\n",
    "\n",
    "  log = network.fit(epochs, TRAINLOADER, TESTLOADER, print_results=print_results)\n",
    "  return log"
   ]
  },
  {
   "cell_type": "markdown",
   "metadata": {
    "id": "kzH_2R3F2rsL"
   },
   "source": [
    "### Neural Network with Default Parameters: "
   ]
  },
  {
   "cell_type": "code",
   "execution_count": 48,
   "metadata": {
    "colab": {
     "base_uri": "https://localhost:8080/"
    },
    "id": "lVXaqHI8hTzl",
    "outputId": "32d12753-53da-4ad8-e20b-4589a6b4c062"
   },
   "outputs": [
    {
     "name": "stdout",
     "output_type": "stream",
     "text": [
      "Epoch 1:\n",
      "\tTrain: Average Accuracy: 8.90625\tAverage Loss: 3.131722452248539\n",
      "\tTest: Average Accuracy: 24.84375\tAverage Loss: 2.243751897924972\n",
      "Epoch 2:\n",
      "\tTrain: Average Accuracy: 27.682291666666668\tAverage Loss: 2.0122582554009636\n",
      "\tTest: Average Accuracy: 36.666666666666664\tAverage Loss: 1.7671239993691215\n",
      "Epoch 3:\n",
      "\tTrain: Average Accuracy: 39.21875\tAverage Loss: 1.6611874758461307\n",
      "\tTest: Average Accuracy: 41.979166666666664\tAverage Loss: 1.570822672795867\n",
      "Epoch 4:\n",
      "\tTrain: Average Accuracy: 46.002604166666664\tAverage Loss: 1.4564970170879272\n",
      "\tTest: Average Accuracy: 47.291666666666664\tAverage Loss: 1.435901755980608\n",
      "Epoch 5:\n",
      "\tTrain: Average Accuracy: 50.169270833333336\tAverage Loss: 1.3178923450487106\n",
      "\tTest: Average Accuracy: 51.510416666666664\tAverage Loss: 1.3394743738287596\n",
      "Epoch 6:\n",
      "\tTrain: Average Accuracy: 54.244791666666664\tAverage Loss: 1.215451508793387\n",
      "\tTest: Average Accuracy: 53.125\tAverage Loss: 1.2792377586804087\n",
      "Epoch 7:\n",
      "\tTrain: Average Accuracy: 57.239583333333336\tAverage Loss: 1.1320858903189612\n",
      "\tTest: Average Accuracy: 55.052083333333336\tAverage Loss: 1.2312382890681197\n",
      "Epoch 8:\n",
      "\tTrain: Average Accuracy: 60.026041666666664\tAverage Loss: 1.0542108207070913\n",
      "\tTest: Average Accuracy: 56.770833333333336\tAverage Loss: 1.201180282119841\n",
      "Epoch 9:\n",
      "\tTrain: Average Accuracy: 62.65625\tAverage Loss: 0.9847154651022165\n",
      "\tTest: Average Accuracy: 57.8125\tAverage Loss: 1.1796815512069208\n",
      "Epoch 10:\n",
      "\tTrain: Average Accuracy: 65.09114583333333\tAverage Loss: 0.9241924037339743\n",
      "\tTest: Average Accuracy: 58.489583333333336\tAverage Loss: 1.158458234897212\n",
      "Epoch 11:\n",
      "\tTrain: Average Accuracy: 67.51302083333333\tAverage Loss: 0.8657415424135894\n",
      "\tTest: Average Accuracy: 60.520833333333336\tAverage Loss: 1.138724988329256\n",
      "Epoch 12:\n",
      "\tTrain: Average Accuracy: 69.6875\tAverage Loss: 0.8098443017029064\n",
      "\tTest: Average Accuracy: 60.364583333333336\tAverage Loss: 1.1340570922838051\n",
      "Epoch 13:\n",
      "\tTrain: Average Accuracy: 71.78385416666667\tAverage Loss: 0.7629226597290224\n",
      "\tTest: Average Accuracy: 62.083333333333336\tAverage Loss: 1.100320280404106\n",
      "Epoch 14:\n",
      "\tTrain: Average Accuracy: 73.203125\tAverage Loss: 0.7240555962173407\n",
      "\tTest: Average Accuracy: 62.864583333333336\tAverage Loss: 1.0562368067470362\n",
      "Epoch 15:\n",
      "\tTrain: Average Accuracy: 74.79166666666667\tAverage Loss: 0.6875856405243034\n",
      "\tTest: Average Accuracy: 65.52083333333333\tAverage Loss: 1.0112778149329544\n",
      "Epoch 16:\n",
      "\tTrain: Average Accuracy: 76.39322916666667\tAverage Loss: 0.6486800562736098\n",
      "\tTest: Average Accuracy: 65.67708333333333\tAverage Loss: 1.0068887453171134\n",
      "Epoch 17:\n",
      "\tTrain: Average Accuracy: 77.8515625\tAverage Loss: 0.611513279963314\n",
      "\tTest: Average Accuracy: 67.23958333333333\tAverage Loss: 0.9902705415180134\n",
      "Epoch 18:\n",
      "\tTrain: Average Accuracy: 79.08854166666667\tAverage Loss: 0.5773099535310918\n",
      "\tTest: Average Accuracy: 67.96875\tAverage Loss: 0.9847609753262295\n",
      "Epoch 19:\n",
      "\tTrain: Average Accuracy: 80.4296875\tAverage Loss: 0.5447354155605487\n",
      "\tTest: Average Accuracy: 68.07291666666667\tAverage Loss: 0.9900119891750165\n",
      "Epoch 20:\n",
      "\tTrain: Average Accuracy: 82.03125\tAverage Loss: 0.5124205316303814\n",
      "\tTest: Average Accuracy: 67.55208333333333\tAverage Loss: 1.0184903387777924\n",
      "Epoch 21:\n",
      "\tTrain: Average Accuracy: 83.19010416666667\tAverage Loss: 0.4818787133940944\n",
      "\tTest: Average Accuracy: 67.70833333333333\tAverage Loss: 1.0127010201188056\n",
      "Epoch 22:\n",
      "\tTrain: Average Accuracy: 84.375\tAverage Loss: 0.45452984273852226\n",
      "\tTest: Average Accuracy: 67.91666666666667\tAverage Loss: 1.0241371653424076\n",
      "Epoch 23:\n",
      "\tTrain: Average Accuracy: 85.37760416666667\tAverage Loss: 0.42923792736243854\n",
      "\tTest: Average Accuracy: 68.59375\tAverage Loss: 1.023811818798465\n",
      "Epoch 24:\n",
      "\tTrain: Average Accuracy: 86.53645833333333\tAverage Loss: 0.40320593892924633\n",
      "\tTest: Average Accuracy: 68.69791666666667\tAverage Loss: 1.027685937558868\n",
      "Epoch 25:\n",
      "\tTrain: Average Accuracy: 87.31770833333333\tAverage Loss: 0.38006607772170187\n",
      "\tTest: Average Accuracy: 69.27083333333333\tAverage Loss: 1.0345504005239305\n",
      "Epoch 26:\n",
      "\tTrain: Average Accuracy: 88.30729166666667\tAverage Loss: 0.36054837342650836\n",
      "\tTest: Average Accuracy: 69.11458333333333\tAverage Loss: 1.053215155399902\n",
      "Epoch 27:\n",
      "\tTrain: Average Accuracy: 89.2578125\tAverage Loss: 0.338597095943816\n",
      "\tTest: Average Accuracy: 69.79166666666667\tAverage Loss: 1.050169036975143\n",
      "Epoch 28:\n",
      "\tTrain: Average Accuracy: 90.24739583333333\tAverage Loss: 0.31932168722099424\n",
      "\tTest: Average Accuracy: 69.42708333333333\tAverage Loss: 1.0619793767603591\n",
      "Epoch 29:\n",
      "\tTrain: Average Accuracy: 91.10677083333333\tAverage Loss: 0.30008941739128203\n",
      "\tTest: Average Accuracy: 69.89583333333333\tAverage Loss: 1.0580273576075074\n",
      "Epoch 30:\n",
      "\tTrain: Average Accuracy: 91.69270833333333\tAverage Loss: 0.282036779866739\n",
      "\tTest: Average Accuracy: 70.0\tAverage Loss: 1.0629932638657544\n",
      "Epoch 31:\n",
      "\tTrain: Average Accuracy: 92.23958333333333\tAverage Loss: 0.2670881002957382\n",
      "\tTest: Average Accuracy: 69.53125\tAverage Loss: 1.0780668981286097\n",
      "Epoch 32:\n",
      "\tTrain: Average Accuracy: 93.125\tAverage Loss: 0.25030246166304476\n",
      "\tTest: Average Accuracy: 70.10416666666667\tAverage Loss: 1.0774828225779804\n",
      "Epoch 33:\n",
      "\tTrain: Average Accuracy: 93.52864583333333\tAverage Loss: 0.23583419025049507\n",
      "\tTest: Average Accuracy: 70.05208333333333\tAverage Loss: 1.1011442527020772\n",
      "Epoch 34:\n",
      "\tTrain: Average Accuracy: 94.01041666666667\tAverage Loss: 0.22105433311123454\n",
      "\tTest: Average Accuracy: 70.36458333333333\tAverage Loss: 1.101418141000696\n",
      "Epoch 35:\n",
      "\tTrain: Average Accuracy: 94.7265625\tAverage Loss: 0.2074512783340661\n",
      "\tTest: Average Accuracy: 70.41666666666667\tAverage Loss: 1.1088695732805873\n",
      "Epoch 36:\n",
      "\tTrain: Average Accuracy: 95.3125\tAverage Loss: 0.1947117985071167\n",
      "\tTest: Average Accuracy: 70.41666666666667\tAverage Loss: 1.1251646728306166\n",
      "Epoch 37:\n",
      "\tTrain: Average Accuracy: 95.859375\tAverage Loss: 0.18206353466690214\n",
      "\tTest: Average Accuracy: 70.72916666666667\tAverage Loss: 1.1266003570281957\n",
      "Epoch 38:\n",
      "\tTrain: Average Accuracy: 96.171875\tAverage Loss: 0.1715908047188296\n",
      "\tTest: Average Accuracy: 70.41666666666667\tAverage Loss: 1.1342010143177723\n",
      "Epoch 39:\n",
      "\tTrain: Average Accuracy: 96.4453125\tAverage Loss: 0.16137282162290706\n",
      "\tTest: Average Accuracy: 70.72916666666667\tAverage Loss: 1.137982583168035\n",
      "Epoch 40:\n",
      "\tTrain: Average Accuracy: 96.77083333333333\tAverage Loss: 0.15217420614140356\n",
      "\tTest: Average Accuracy: 69.89583333333333\tAverage Loss: 1.1470746211760823\n",
      "Epoch 41:\n",
      "\tTrain: Average Accuracy: 97.05729166666667\tAverage Loss: 0.14382755053393825\n",
      "\tTest: Average Accuracy: 70.26041666666667\tAverage Loss: 1.1627018025205598\n",
      "Epoch 42:\n",
      "\tTrain: Average Accuracy: 97.31770833333333\tAverage Loss: 0.135748485501166\n",
      "\tTest: Average Accuracy: 70.3125\tAverage Loss: 1.1679583357806693\n",
      "Epoch 43:\n",
      "\tTrain: Average Accuracy: 97.56510416666667\tAverage Loss: 0.12848871834084316\n",
      "\tTest: Average Accuracy: 70.52083333333333\tAverage Loss: 1.1787994087194889\n",
      "Epoch 44:\n",
      "\tTrain: Average Accuracy: 97.70833333333333\tAverage Loss: 0.12200243522892543\n",
      "\tTest: Average Accuracy: 70.20833333333333\tAverage Loss: 1.1812907950996163\n",
      "Epoch 45:\n",
      "\tTrain: Average Accuracy: 97.94270833333333\tAverage Loss: 0.1153835476384634\n",
      "\tTest: Average Accuracy: 70.78125\tAverage Loss: 1.1906409823774196\n",
      "Epoch 46:\n",
      "\tTrain: Average Accuracy: 98.05989583333333\tAverage Loss: 0.10892953899008309\n",
      "\tTest: Average Accuracy: 70.36458333333333\tAverage Loss: 1.198538581785268\n",
      "Epoch 47:\n",
      "\tTrain: Average Accuracy: 98.25520833333333\tAverage Loss: 0.10360429143780107\n",
      "\tTest: Average Accuracy: 70.46875\tAverage Loss: 1.209280316180371\n",
      "Epoch 48:\n",
      "\tTrain: Average Accuracy: 98.34635416666667\tAverage Loss: 0.09840963737655274\n",
      "\tTest: Average Accuracy: 70.15625\tAverage Loss: 1.2153639626939474\n",
      "Epoch 49:\n",
      "\tTrain: Average Accuracy: 98.4375\tAverage Loss: 0.09387762765204245\n",
      "\tTest: Average Accuracy: 70.10416666666667\tAverage Loss: 1.2246643802982409\n",
      "Epoch 50:\n",
      "\tTrain: Average Accuracy: 98.59375\tAverage Loss: 0.08898101104680559\n",
      "\tTest: Average Accuracy: 70.15625\tAverage Loss: 1.231768511189203\n",
      "Epoch 51:\n",
      "\tTrain: Average Accuracy: 98.64583333333333\tAverage Loss: 0.0848358463534594\n",
      "\tTest: Average Accuracy: 70.0\tAverage Loss: 1.2413637896744818\n",
      "Epoch 52:\n",
      "\tTrain: Average Accuracy: 98.85416666666667\tAverage Loss: 0.080845824030311\n",
      "\tTest: Average Accuracy: 70.46875\tAverage Loss: 1.2439059349666153\n",
      "Epoch 53:\n",
      "\tTrain: Average Accuracy: 98.90625\tAverage Loss: 0.07757568224414453\n",
      "\tTest: Average Accuracy: 70.57291666666667\tAverage Loss: 1.2530455659041584\n",
      "Epoch 54:\n",
      "\tTrain: Average Accuracy: 98.95833333333333\tAverage Loss: 0.07377965185839959\n",
      "\tTest: Average Accuracy: 70.57291666666667\tAverage Loss: 1.2580871291645395\n",
      "Epoch 55:\n",
      "\tTrain: Average Accuracy: 98.97135416666667\tAverage Loss: 0.07090098942668167\n",
      "\tTest: Average Accuracy: 70.36458333333333\tAverage Loss: 1.2665501833223825\n",
      "Epoch 56:\n",
      "\tTrain: Average Accuracy: 99.12760416666667\tAverage Loss: 0.06739696713679487\n",
      "\tTest: Average Accuracy: 70.41666666666667\tAverage Loss: 1.2781781966807422\n",
      "Epoch 57:\n",
      "\tTrain: Average Accuracy: 99.21875\tAverage Loss: 0.06477545125312528\n",
      "\tTest: Average Accuracy: 70.3125\tAverage Loss: 1.2829018176763747\n",
      "Epoch 58:\n",
      "\tTrain: Average Accuracy: 99.23177083333333\tAverage Loss: 0.06188985636028809\n",
      "\tTest: Average Accuracy: 70.26041666666667\tAverage Loss: 1.2928205577431284\n",
      "Epoch 59:\n",
      "\tTrain: Average Accuracy: 99.28385416666667\tAverage Loss: 0.0592601653367026\n",
      "\tTest: Average Accuracy: 70.41666666666667\tAverage Loss: 1.2958648317526673\n",
      "Epoch 60:\n",
      "\tTrain: Average Accuracy: 99.375\tAverage Loss: 0.056889951732695614\n",
      "\tTest: Average Accuracy: 70.36458333333333\tAverage Loss: 1.301509262326054\n",
      "Epoch 61:\n",
      "\tTrain: Average Accuracy: 99.42708333333333\tAverage Loss: 0.05448469808925789\n",
      "\tTest: Average Accuracy: 70.26041666666667\tAverage Loss: 1.3109509857094652\n",
      "Epoch 62:\n",
      "\tTrain: Average Accuracy: 99.51822916666667\tAverage Loss: 0.052184720436537387\n",
      "\tTest: Average Accuracy: 70.20833333333333\tAverage Loss: 1.3133180106772586\n",
      "Epoch 63:\n",
      "\tTrain: Average Accuracy: 99.55729166666667\tAverage Loss: 0.05015489751048011\n",
      "\tTest: Average Accuracy: 70.3125\tAverage Loss: 1.3185796789807827\n",
      "Epoch 64:\n",
      "\tTrain: Average Accuracy: 99.59635416666667\tAverage Loss: 0.04809527695852436\n",
      "\tTest: Average Accuracy: 70.20833333333333\tAverage Loss: 1.3249221475715276\n",
      "Epoch 65:\n",
      "\tTrain: Average Accuracy: 99.66145833333333\tAverage Loss: 0.0462468666453265\n",
      "\tTest: Average Accuracy: 70.15625\tAverage Loss: 1.3305099875159858\n",
      "Epoch 66:\n",
      "\tTrain: Average Accuracy: 99.67447916666667\tAverage Loss: 0.04449319914658925\n",
      "\tTest: Average Accuracy: 70.15625\tAverage Loss: 1.3385127450498897\n",
      "Epoch 67:\n",
      "\tTrain: Average Accuracy: 99.71354166666667\tAverage Loss: 0.042761007213504544\n",
      "\tTest: Average Accuracy: 70.15625\tAverage Loss: 1.3422329093862826\n",
      "Epoch 68:\n",
      "\tTrain: Average Accuracy: 99.7265625\tAverage Loss: 0.04126290173817675\n",
      "\tTest: Average Accuracy: 70.20833333333333\tAverage Loss: 1.351788157389664\n",
      "Epoch 69:\n",
      "\tTrain: Average Accuracy: 99.79166666666667\tAverage Loss: 0.039724070599971496\n",
      "\tTest: Average Accuracy: 70.3125\tAverage Loss: 1.358891753561091\n",
      "Epoch 70:\n",
      "\tTrain: Average Accuracy: 99.81770833333333\tAverage Loss: 0.03822629746710477\n",
      "\tTest: Average Accuracy: 70.26041666666667\tAverage Loss: 1.3597800433441647\n",
      "Epoch 71:\n",
      "\tTrain: Average Accuracy: 99.85677083333333\tAverage Loss: 0.03686264949508501\n",
      "\tTest: Average Accuracy: 70.20833333333333\tAverage Loss: 1.36451073979784\n",
      "Epoch 72:\n",
      "\tTrain: Average Accuracy: 99.8828125\tAverage Loss: 0.03552537852315908\n",
      "\tTest: Average Accuracy: 70.36458333333333\tAverage Loss: 1.3692328859649068\n",
      "Epoch 73:\n",
      "\tTrain: Average Accuracy: 99.8828125\tAverage Loss: 0.03422547190202748\n",
      "\tTest: Average Accuracy: 70.41666666666667\tAverage Loss: 1.3741462040429628\n",
      "Epoch 74:\n",
      "\tTrain: Average Accuracy: 99.89583333333333\tAverage Loss: 0.03311067975151855\n",
      "\tTest: Average Accuracy: 70.26041666666667\tAverage Loss: 1.3798184635850095\n",
      "Epoch 75:\n",
      "\tTrain: Average Accuracy: 99.89583333333333\tAverage Loss: 0.03197216787416308\n",
      "\tTest: Average Accuracy: 70.41666666666667\tAverage Loss: 1.3831241606215317\n",
      "Epoch 76:\n",
      "\tTrain: Average Accuracy: 99.89583333333333\tAverage Loss: 0.030897590920778515\n",
      "\tTest: Average Accuracy: 70.36458333333333\tAverage Loss: 1.3873460585121573\n",
      "Epoch 77:\n",
      "\tTrain: Average Accuracy: 99.90885416666667\tAverage Loss: 0.029862244664335194\n",
      "\tTest: Average Accuracy: 70.3125\tAverage Loss: 1.3927715019823252\n",
      "Epoch 78:\n",
      "\tTrain: Average Accuracy: 99.90885416666667\tAverage Loss: 0.028994378924092533\n",
      "\tTest: Average Accuracy: 70.26041666666667\tAverage Loss: 1.3971976653559193\n",
      "Epoch 79:\n",
      "\tTrain: Average Accuracy: 99.921875\tAverage Loss: 0.028052638400389976\n",
      "\tTest: Average Accuracy: 70.20833333333333\tAverage Loss: 1.3993689197843686\n",
      "Epoch 80:\n",
      "\tTrain: Average Accuracy: 99.93489583333333\tAverage Loss: 0.027209028898635603\n",
      "\tTest: Average Accuracy: 70.41666666666667\tAverage Loss: 1.403052330003392\n",
      "Epoch 81:\n",
      "\tTrain: Average Accuracy: 99.93489583333333\tAverage Loss: 0.026340108419047176\n",
      "\tTest: Average Accuracy: 70.36458333333333\tAverage Loss: 1.4070231198773508\n",
      "Epoch 82:\n",
      "\tTrain: Average Accuracy: 99.94791666666667\tAverage Loss: 0.02561236931775229\n",
      "\tTest: Average Accuracy: 70.41666666666667\tAverage Loss: 1.4114281990018631\n",
      "Epoch 83:\n",
      "\tTrain: Average Accuracy: 99.94791666666667\tAverage Loss: 0.02482176668488944\n",
      "\tTest: Average Accuracy: 70.46875\tAverage Loss: 1.4154525086008827\n",
      "Epoch 84:\n",
      "\tTrain: Average Accuracy: 99.94791666666667\tAverage Loss: 0.024133713925094263\n",
      "\tTest: Average Accuracy: 70.46875\tAverage Loss: 1.4188143205370347\n",
      "Epoch 85:\n",
      "\tTrain: Average Accuracy: 99.94791666666667\tAverage Loss: 0.023489894309278614\n",
      "\tTest: Average Accuracy: 70.52083333333333\tAverage Loss: 1.4228983254861804\n",
      "Epoch 86:\n",
      "\tTrain: Average Accuracy: 99.94791666666667\tAverage Loss: 0.02285598582118229\n",
      "\tTest: Average Accuracy: 70.36458333333333\tAverage Loss: 1.425327213596772\n",
      "Epoch 87:\n",
      "\tTrain: Average Accuracy: 99.9609375\tAverage Loss: 0.022172572462503433\n",
      "\tTest: Average Accuracy: 70.26041666666667\tAverage Loss: 1.4304942227074453\n",
      "Epoch 88:\n",
      "\tTrain: Average Accuracy: 99.9609375\tAverage Loss: 0.021653416342247902\n",
      "\tTest: Average Accuracy: 70.41666666666667\tAverage Loss: 1.4332494271038103\n",
      "Epoch 89:\n",
      "\tTrain: Average Accuracy: 99.97395833333333\tAverage Loss: 0.02108151524781643\n",
      "\tTest: Average Accuracy: 70.36458333333333\tAverage Loss: 1.436592755078338\n",
      "Epoch 90:\n",
      "\tTrain: Average Accuracy: 99.97395833333333\tAverage Loss: 0.02054874901535287\n",
      "\tTest: Average Accuracy: 70.46875\tAverage Loss: 1.441080248146258\n",
      "Epoch 91:\n",
      "\tTrain: Average Accuracy: 99.97395833333333\tAverage Loss: 0.020019521268001016\n",
      "\tTest: Average Accuracy: 70.52083333333333\tAverage Loss: 1.4436844230778167\n",
      "Epoch 92:\n",
      "\tTrain: Average Accuracy: 99.98697916666667\tAverage Loss: 0.019525758972445885\n",
      "\tTest: Average Accuracy: 70.52083333333333\tAverage Loss: 1.4469954378665824\n",
      "Epoch 93:\n",
      "\tTrain: Average Accuracy: 99.98697916666667\tAverage Loss: 0.019069878552319418\n",
      "\tTest: Average Accuracy: 70.67708333333333\tAverage Loss: 1.4506519688495276\n",
      "Epoch 94:\n",
      "\tTrain: Average Accuracy: 99.98697916666667\tAverage Loss: 0.018602871959804965\n",
      "\tTest: Average Accuracy: 70.57291666666667\tAverage Loss: 1.4539813240879818\n",
      "Epoch 95:\n",
      "\tTrain: Average Accuracy: 99.98697916666667\tAverage Loss: 0.01814379328190262\n",
      "\tTest: Average Accuracy: 70.72916666666667\tAverage Loss: 1.457302042771137\n",
      "Epoch 96:\n",
      "\tTrain: Average Accuracy: 99.98697916666667\tAverage Loss: 0.017710579193474747\n",
      "\tTest: Average Accuracy: 70.52083333333333\tAverage Loss: 1.4600389993764933\n",
      "Epoch 97:\n",
      "\tTrain: Average Accuracy: 99.98697916666667\tAverage Loss: 0.017328044466121975\n",
      "\tTest: Average Accuracy: 70.57291666666667\tAverage Loss: 1.4627841797873076\n",
      "Epoch 98:\n",
      "\tTrain: Average Accuracy: 99.98697916666667\tAverage Loss: 0.0168916223808111\n",
      "\tTest: Average Accuracy: 70.57291666666667\tAverage Loss: 1.4666038869418156\n",
      "Epoch 99:\n",
      "\tTrain: Average Accuracy: 99.98697916666667\tAverage Loss: 0.01653256306925172\n",
      "\tTest: Average Accuracy: 70.67708333333333\tAverage Loss: 1.4694067296652098\n",
      "Epoch 100:\n",
      "\tTrain: Average Accuracy: 99.98697916666667\tAverage Loss: 0.01614972309027241\n",
      "\tTest: Average Accuracy: 70.88541666666667\tAverage Loss: 1.472640942142274\n"
     ]
    }
   ],
   "source": [
    "log = train_model()"
   ]
  },
  {
   "cell_type": "markdown",
   "metadata": {
    "id": "7uqnXGI_26k6"
   },
   "source": [
    "### Neural Network with Initial weighted = Zero :"
   ]
  },
  {
   "cell_type": "code",
   "execution_count": 49,
   "metadata": {
    "colab": {
     "base_uri": "https://localhost:8080/"
    },
    "id": "OJ5akeaIlOlo",
    "outputId": "6a8d300b-2cf0-405f-fb69-474ee0765090"
   },
   "outputs": [
    {
     "name": "stdout",
     "output_type": "stream",
     "text": [
      "Epoch 1:\n",
      "\tTrain: Average Accuracy: 0.10416666666666667\tAverage Loss: 2.7876409495383507\n",
      "\tTest: Average Accuracy: 6.25\tAverage Loss: 2.772641038603346\n",
      "Epoch 2:\n",
      "\tTrain: Average Accuracy: 0.0\tAverage Loss: 2.787671756348796\n",
      "\tTest: Average Accuracy: 6.25\tAverage Loss: 2.772650839289024\n",
      "Epoch 3:\n",
      "\tTrain: Average Accuracy: 0.0\tAverage Loss: 2.787675579363552\n",
      "\tTest: Average Accuracy: 6.25\tAverage Loss: 2.7726517588872666\n",
      "Epoch 4:\n",
      "\tTrain: Average Accuracy: 0.0\tAverage Loss: 2.7876759305838474\n",
      "\tTest: Average Accuracy: 6.25\tAverage Loss: 2.7726518416486803\n",
      "Epoch 5:\n",
      "\tTrain: Average Accuracy: 0.0\tAverage Loss: 2.7876759621352267\n",
      "\tTest: Average Accuracy: 6.25\tAverage Loss: 2.772651849069935\n",
      "Epoch 6:\n",
      "\tTrain: Average Accuracy: 0.0\tAverage Loss: 2.7876759649639933\n",
      "\tTest: Average Accuracy: 6.25\tAverage Loss: 2.772651849735185\n",
      "Epoch 7:\n",
      "\tTrain: Average Accuracy: 0.0\tAverage Loss: 2.787675965217564\n",
      "\tTest: Average Accuracy: 6.25\tAverage Loss: 2.772651849794817\n",
      "Epoch 8:\n",
      "\tTrain: Average Accuracy: 0.0\tAverage Loss: 2.7876759652402927\n",
      "\tTest: Average Accuracy: 6.25\tAverage Loss: 2.772651849800162\n",
      "Epoch 9:\n",
      "\tTrain: Average Accuracy: 0.0\tAverage Loss: 2.7876759652423306\n",
      "\tTest: Average Accuracy: 6.25\tAverage Loss: 2.7726518498006416\n",
      "Epoch 10:\n",
      "\tTrain: Average Accuracy: 0.0\tAverage Loss: 2.7876759652425136\n",
      "\tTest: Average Accuracy: 6.25\tAverage Loss: 2.7726518498006856\n",
      "Epoch 11:\n",
      "\tTrain: Average Accuracy: 0.0\tAverage Loss: 2.7876759652425296\n",
      "\tTest: Average Accuracy: 6.25\tAverage Loss: 2.772651849800689\n",
      "Epoch 12:\n",
      "\tTrain: Average Accuracy: 0.0\tAverage Loss: 2.787675965242531\n",
      "\tTest: Average Accuracy: 6.25\tAverage Loss: 2.772651849800689\n",
      "Epoch 13:\n",
      "\tTrain: Average Accuracy: 0.0\tAverage Loss: 2.7876759652425305\n",
      "\tTest: Average Accuracy: 6.25\tAverage Loss: 2.772651849800689\n",
      "Epoch 14:\n",
      "\tTrain: Average Accuracy: 0.0\tAverage Loss: 2.7876759652425305\n",
      "\tTest: Average Accuracy: 6.25\tAverage Loss: 2.772651849800689\n",
      "Epoch 15:\n",
      "\tTrain: Average Accuracy: 0.0\tAverage Loss: 2.7876759652425305\n",
      "\tTest: Average Accuracy: 6.25\tAverage Loss: 2.772651849800689\n",
      "Epoch 16:\n",
      "\tTrain: Average Accuracy: 0.0\tAverage Loss: 2.7876759652425305\n",
      "\tTest: Average Accuracy: 6.25\tAverage Loss: 2.772651849800689\n",
      "Epoch 17:\n",
      "\tTrain: Average Accuracy: 0.0\tAverage Loss: 2.7876759652425305\n",
      "\tTest: Average Accuracy: 6.25\tAverage Loss: 2.772651849800689\n",
      "Epoch 18:\n",
      "\tTrain: Average Accuracy: 0.0\tAverage Loss: 2.7876759652425305\n",
      "\tTest: Average Accuracy: 6.25\tAverage Loss: 2.772651849800689\n",
      "Epoch 19:\n",
      "\tTrain: Average Accuracy: 0.0\tAverage Loss: 2.7876759652425305\n",
      "\tTest: Average Accuracy: 6.25\tAverage Loss: 2.772651849800689\n",
      "Epoch 20:\n",
      "\tTrain: Average Accuracy: 0.0\tAverage Loss: 2.7876759652425305\n",
      "\tTest: Average Accuracy: 6.25\tAverage Loss: 2.772651849800689\n",
      "Epoch 21:\n",
      "\tTrain: Average Accuracy: 0.0\tAverage Loss: 2.7876759652425305\n",
      "\tTest: Average Accuracy: 6.25\tAverage Loss: 2.772651849800689\n",
      "Epoch 22:\n",
      "\tTrain: Average Accuracy: 0.0\tAverage Loss: 2.7876759652425305\n",
      "\tTest: Average Accuracy: 6.25\tAverage Loss: 2.772651849800689\n",
      "Epoch 23:\n",
      "\tTrain: Average Accuracy: 0.0\tAverage Loss: 2.7876759652425305\n",
      "\tTest: Average Accuracy: 6.25\tAverage Loss: 2.772651849800689\n",
      "Epoch 24:\n",
      "\tTrain: Average Accuracy: 0.0\tAverage Loss: 2.7876759652425305\n",
      "\tTest: Average Accuracy: 6.25\tAverage Loss: 2.772651849800689\n",
      "Epoch 25:\n",
      "\tTrain: Average Accuracy: 0.0\tAverage Loss: 2.7876759652425305\n",
      "\tTest: Average Accuracy: 6.25\tAverage Loss: 2.772651849800689\n",
      "Epoch 26:\n",
      "\tTrain: Average Accuracy: 0.0\tAverage Loss: 2.7876759652425305\n",
      "\tTest: Average Accuracy: 6.25\tAverage Loss: 2.772651849800689\n",
      "Epoch 27:\n",
      "\tTrain: Average Accuracy: 0.0\tAverage Loss: 2.7876759652425305\n",
      "\tTest: Average Accuracy: 6.25\tAverage Loss: 2.772651849800689\n",
      "Epoch 28:\n",
      "\tTrain: Average Accuracy: 0.0\tAverage Loss: 2.7876759652425305\n",
      "\tTest: Average Accuracy: 6.25\tAverage Loss: 2.772651849800689\n",
      "Epoch 29:\n",
      "\tTrain: Average Accuracy: 0.0\tAverage Loss: 2.7876759652425305\n",
      "\tTest: Average Accuracy: 6.25\tAverage Loss: 2.772651849800689\n",
      "Epoch 30:\n",
      "\tTrain: Average Accuracy: 0.0\tAverage Loss: 2.7876759652425305\n",
      "\tTest: Average Accuracy: 6.25\tAverage Loss: 2.772651849800689\n",
      "Epoch 31:\n",
      "\tTrain: Average Accuracy: 0.0\tAverage Loss: 2.7876759652425305\n",
      "\tTest: Average Accuracy: 6.25\tAverage Loss: 2.772651849800689\n",
      "Epoch 32:\n",
      "\tTrain: Average Accuracy: 0.0\tAverage Loss: 2.7876759652425305\n",
      "\tTest: Average Accuracy: 6.25\tAverage Loss: 2.772651849800689\n",
      "Epoch 33:\n",
      "\tTrain: Average Accuracy: 0.0\tAverage Loss: 2.7876759652425305\n",
      "\tTest: Average Accuracy: 6.25\tAverage Loss: 2.772651849800689\n",
      "Epoch 34:\n",
      "\tTrain: Average Accuracy: 0.0\tAverage Loss: 2.7876759652425305\n",
      "\tTest: Average Accuracy: 6.25\tAverage Loss: 2.772651849800689\n",
      "Epoch 35:\n",
      "\tTrain: Average Accuracy: 0.0\tAverage Loss: 2.7876759652425305\n",
      "\tTest: Average Accuracy: 6.25\tAverage Loss: 2.772651849800689\n",
      "Epoch 36:\n",
      "\tTrain: Average Accuracy: 0.0\tAverage Loss: 2.7876759652425305\n",
      "\tTest: Average Accuracy: 6.25\tAverage Loss: 2.772651849800689\n",
      "Epoch 37:\n",
      "\tTrain: Average Accuracy: 0.0\tAverage Loss: 2.7876759652425305\n",
      "\tTest: Average Accuracy: 6.25\tAverage Loss: 2.772651849800689\n",
      "Epoch 38:\n",
      "\tTrain: Average Accuracy: 0.0\tAverage Loss: 2.7876759652425305\n",
      "\tTest: Average Accuracy: 6.25\tAverage Loss: 2.772651849800689\n",
      "Epoch 39:\n",
      "\tTrain: Average Accuracy: 0.0\tAverage Loss: 2.7876759652425305\n",
      "\tTest: Average Accuracy: 6.25\tAverage Loss: 2.772651849800689\n",
      "Epoch 40:\n",
      "\tTrain: Average Accuracy: 0.0\tAverage Loss: 2.7876759652425305\n",
      "\tTest: Average Accuracy: 6.25\tAverage Loss: 2.772651849800689\n",
      "Epoch 41:\n",
      "\tTrain: Average Accuracy: 0.0\tAverage Loss: 2.7876759652425305\n",
      "\tTest: Average Accuracy: 6.25\tAverage Loss: 2.772651849800689\n",
      "Epoch 42:\n",
      "\tTrain: Average Accuracy: 0.0\tAverage Loss: 2.7876759652425305\n",
      "\tTest: Average Accuracy: 6.25\tAverage Loss: 2.772651849800689\n",
      "Epoch 43:\n",
      "\tTrain: Average Accuracy: 0.0\tAverage Loss: 2.7876759652425305\n",
      "\tTest: Average Accuracy: 6.25\tAverage Loss: 2.772651849800689\n",
      "Epoch 44:\n",
      "\tTrain: Average Accuracy: 0.0\tAverage Loss: 2.7876759652425305\n",
      "\tTest: Average Accuracy: 6.25\tAverage Loss: 2.772651849800689\n",
      "Epoch 45:\n",
      "\tTrain: Average Accuracy: 0.0\tAverage Loss: 2.7876759652425305\n",
      "\tTest: Average Accuracy: 6.25\tAverage Loss: 2.772651849800689\n",
      "Epoch 46:\n",
      "\tTrain: Average Accuracy: 0.0\tAverage Loss: 2.7876759652425305\n",
      "\tTest: Average Accuracy: 6.25\tAverage Loss: 2.772651849800689\n",
      "Epoch 47:\n",
      "\tTrain: Average Accuracy: 0.0\tAverage Loss: 2.7876759652425305\n",
      "\tTest: Average Accuracy: 6.25\tAverage Loss: 2.772651849800689\n",
      "Epoch 48:\n",
      "\tTrain: Average Accuracy: 0.0\tAverage Loss: 2.7876759652425305\n",
      "\tTest: Average Accuracy: 6.25\tAverage Loss: 2.772651849800689\n",
      "Epoch 49:\n",
      "\tTrain: Average Accuracy: 0.0\tAverage Loss: 2.7876759652425305\n",
      "\tTest: Average Accuracy: 6.25\tAverage Loss: 2.772651849800689\n",
      "Epoch 50:\n",
      "\tTrain: Average Accuracy: 0.0\tAverage Loss: 2.7876759652425305\n",
      "\tTest: Average Accuracy: 6.25\tAverage Loss: 2.772651849800689\n",
      "Epoch 51:\n",
      "\tTrain: Average Accuracy: 0.0\tAverage Loss: 2.7876759652425305\n",
      "\tTest: Average Accuracy: 6.25\tAverage Loss: 2.772651849800689\n",
      "Epoch 52:\n",
      "\tTrain: Average Accuracy: 0.0\tAverage Loss: 2.7876759652425305\n",
      "\tTest: Average Accuracy: 6.25\tAverage Loss: 2.772651849800689\n",
      "Epoch 53:\n",
      "\tTrain: Average Accuracy: 0.0\tAverage Loss: 2.7876759652425305\n",
      "\tTest: Average Accuracy: 6.25\tAverage Loss: 2.772651849800689\n",
      "Epoch 54:\n",
      "\tTrain: Average Accuracy: 0.0\tAverage Loss: 2.7876759652425305\n",
      "\tTest: Average Accuracy: 6.25\tAverage Loss: 2.772651849800689\n",
      "Epoch 55:\n",
      "\tTrain: Average Accuracy: 0.0\tAverage Loss: 2.7876759652425305\n",
      "\tTest: Average Accuracy: 6.25\tAverage Loss: 2.772651849800689\n",
      "Epoch 56:\n",
      "\tTrain: Average Accuracy: 0.0\tAverage Loss: 2.7876759652425305\n",
      "\tTest: Average Accuracy: 6.25\tAverage Loss: 2.772651849800689\n",
      "Epoch 57:\n",
      "\tTrain: Average Accuracy: 0.0\tAverage Loss: 2.7876759652425305\n",
      "\tTest: Average Accuracy: 6.25\tAverage Loss: 2.772651849800689\n",
      "Epoch 58:\n",
      "\tTrain: Average Accuracy: 0.0\tAverage Loss: 2.7876759652425305\n",
      "\tTest: Average Accuracy: 6.25\tAverage Loss: 2.772651849800689\n",
      "Epoch 59:\n",
      "\tTrain: Average Accuracy: 0.0\tAverage Loss: 2.7876759652425305\n",
      "\tTest: Average Accuracy: 6.25\tAverage Loss: 2.772651849800689\n",
      "Epoch 60:\n",
      "\tTrain: Average Accuracy: 0.0\tAverage Loss: 2.7876759652425305\n",
      "\tTest: Average Accuracy: 6.25\tAverage Loss: 2.772651849800689\n",
      "Epoch 61:\n",
      "\tTrain: Average Accuracy: 0.0\tAverage Loss: 2.7876759652425305\n",
      "\tTest: Average Accuracy: 6.25\tAverage Loss: 2.772651849800689\n",
      "Epoch 62:\n",
      "\tTrain: Average Accuracy: 0.0\tAverage Loss: 2.7876759652425305\n",
      "\tTest: Average Accuracy: 6.25\tAverage Loss: 2.772651849800689\n",
      "Epoch 63:\n",
      "\tTrain: Average Accuracy: 0.0\tAverage Loss: 2.7876759652425305\n",
      "\tTest: Average Accuracy: 6.25\tAverage Loss: 2.772651849800689\n",
      "Epoch 64:\n",
      "\tTrain: Average Accuracy: 0.0\tAverage Loss: 2.7876759652425305\n",
      "\tTest: Average Accuracy: 6.25\tAverage Loss: 2.772651849800689\n",
      "Epoch 65:\n",
      "\tTrain: Average Accuracy: 0.0\tAverage Loss: 2.7876759652425305\n",
      "\tTest: Average Accuracy: 6.25\tAverage Loss: 2.772651849800689\n",
      "Epoch 66:\n",
      "\tTrain: Average Accuracy: 0.0\tAverage Loss: 2.7876759652425305\n",
      "\tTest: Average Accuracy: 6.25\tAverage Loss: 2.772651849800689\n",
      "Epoch 67:\n",
      "\tTrain: Average Accuracy: 0.0\tAverage Loss: 2.7876759652425305\n",
      "\tTest: Average Accuracy: 6.25\tAverage Loss: 2.772651849800689\n",
      "Epoch 68:\n",
      "\tTrain: Average Accuracy: 0.0\tAverage Loss: 2.7876759652425305\n",
      "\tTest: Average Accuracy: 6.25\tAverage Loss: 2.772651849800689\n",
      "Epoch 69:\n",
      "\tTrain: Average Accuracy: 0.0\tAverage Loss: 2.7876759652425305\n",
      "\tTest: Average Accuracy: 6.25\tAverage Loss: 2.772651849800689\n",
      "Epoch 70:\n",
      "\tTrain: Average Accuracy: 0.0\tAverage Loss: 2.7876759652425305\n",
      "\tTest: Average Accuracy: 6.25\tAverage Loss: 2.772651849800689\n",
      "Epoch 71:\n",
      "\tTrain: Average Accuracy: 0.0\tAverage Loss: 2.7876759652425305\n",
      "\tTest: Average Accuracy: 6.25\tAverage Loss: 2.772651849800689\n",
      "Epoch 72:\n",
      "\tTrain: Average Accuracy: 0.0\tAverage Loss: 2.7876759652425305\n",
      "\tTest: Average Accuracy: 6.25\tAverage Loss: 2.772651849800689\n",
      "Epoch 73:\n",
      "\tTrain: Average Accuracy: 0.0\tAverage Loss: 2.7876759652425305\n",
      "\tTest: Average Accuracy: 6.25\tAverage Loss: 2.772651849800689\n",
      "Epoch 74:\n",
      "\tTrain: Average Accuracy: 0.0\tAverage Loss: 2.7876759652425305\n",
      "\tTest: Average Accuracy: 6.25\tAverage Loss: 2.772651849800689\n",
      "Epoch 75:\n",
      "\tTrain: Average Accuracy: 0.0\tAverage Loss: 2.7876759652425305\n",
      "\tTest: Average Accuracy: 6.25\tAverage Loss: 2.772651849800689\n",
      "Epoch 76:\n",
      "\tTrain: Average Accuracy: 0.0\tAverage Loss: 2.7876759652425305\n",
      "\tTest: Average Accuracy: 6.25\tAverage Loss: 2.772651849800689\n",
      "Epoch 77:\n",
      "\tTrain: Average Accuracy: 0.0\tAverage Loss: 2.7876759652425305\n",
      "\tTest: Average Accuracy: 6.25\tAverage Loss: 2.772651849800689\n",
      "Epoch 78:\n",
      "\tTrain: Average Accuracy: 0.0\tAverage Loss: 2.7876759652425305\n",
      "\tTest: Average Accuracy: 6.25\tAverage Loss: 2.772651849800689\n",
      "Epoch 79:\n",
      "\tTrain: Average Accuracy: 0.0\tAverage Loss: 2.7876759652425305\n",
      "\tTest: Average Accuracy: 6.25\tAverage Loss: 2.772651849800689\n",
      "Epoch 80:\n",
      "\tTrain: Average Accuracy: 0.0\tAverage Loss: 2.7876759652425305\n",
      "\tTest: Average Accuracy: 6.25\tAverage Loss: 2.772651849800689\n",
      "Epoch 81:\n",
      "\tTrain: Average Accuracy: 0.0\tAverage Loss: 2.7876759652425305\n",
      "\tTest: Average Accuracy: 6.25\tAverage Loss: 2.772651849800689\n",
      "Epoch 82:\n",
      "\tTrain: Average Accuracy: 0.0\tAverage Loss: 2.7876759652425305\n",
      "\tTest: Average Accuracy: 6.25\tAverage Loss: 2.772651849800689\n",
      "Epoch 83:\n",
      "\tTrain: Average Accuracy: 0.0\tAverage Loss: 2.7876759652425305\n",
      "\tTest: Average Accuracy: 6.25\tAverage Loss: 2.772651849800689\n",
      "Epoch 84:\n",
      "\tTrain: Average Accuracy: 0.0\tAverage Loss: 2.7876759652425305\n",
      "\tTest: Average Accuracy: 6.25\tAverage Loss: 2.772651849800689\n",
      "Epoch 85:\n",
      "\tTrain: Average Accuracy: 0.0\tAverage Loss: 2.7876759652425305\n",
      "\tTest: Average Accuracy: 6.25\tAverage Loss: 2.772651849800689\n",
      "Epoch 86:\n",
      "\tTrain: Average Accuracy: 0.0\tAverage Loss: 2.7876759652425305\n",
      "\tTest: Average Accuracy: 6.25\tAverage Loss: 2.772651849800689\n",
      "Epoch 87:\n",
      "\tTrain: Average Accuracy: 0.0\tAverage Loss: 2.7876759652425305\n",
      "\tTest: Average Accuracy: 6.25\tAverage Loss: 2.772651849800689\n",
      "Epoch 88:\n",
      "\tTrain: Average Accuracy: 0.0\tAverage Loss: 2.7876759652425305\n",
      "\tTest: Average Accuracy: 6.25\tAverage Loss: 2.772651849800689\n",
      "Epoch 89:\n",
      "\tTrain: Average Accuracy: 0.0\tAverage Loss: 2.7876759652425305\n",
      "\tTest: Average Accuracy: 6.25\tAverage Loss: 2.772651849800689\n",
      "Epoch 90:\n",
      "\tTrain: Average Accuracy: 0.0\tAverage Loss: 2.7876759652425305\n",
      "\tTest: Average Accuracy: 6.25\tAverage Loss: 2.772651849800689\n",
      "Epoch 91:\n",
      "\tTrain: Average Accuracy: 0.0\tAverage Loss: 2.7876759652425305\n",
      "\tTest: Average Accuracy: 6.25\tAverage Loss: 2.772651849800689\n",
      "Epoch 92:\n",
      "\tTrain: Average Accuracy: 0.0\tAverage Loss: 2.7876759652425305\n",
      "\tTest: Average Accuracy: 6.25\tAverage Loss: 2.772651849800689\n",
      "Epoch 93:\n",
      "\tTrain: Average Accuracy: 0.0\tAverage Loss: 2.7876759652425305\n",
      "\tTest: Average Accuracy: 6.25\tAverage Loss: 2.772651849800689\n",
      "Epoch 94:\n",
      "\tTrain: Average Accuracy: 0.0\tAverage Loss: 2.7876759652425305\n",
      "\tTest: Average Accuracy: 6.25\tAverage Loss: 2.772651849800689\n",
      "Epoch 95:\n",
      "\tTrain: Average Accuracy: 0.0\tAverage Loss: 2.7876759652425305\n",
      "\tTest: Average Accuracy: 6.25\tAverage Loss: 2.772651849800689\n",
      "Epoch 96:\n",
      "\tTrain: Average Accuracy: 0.0\tAverage Loss: 2.7876759652425305\n",
      "\tTest: Average Accuracy: 6.25\tAverage Loss: 2.772651849800689\n",
      "Epoch 97:\n",
      "\tTrain: Average Accuracy: 0.0\tAverage Loss: 2.7876759652425305\n",
      "\tTest: Average Accuracy: 6.25\tAverage Loss: 2.772651849800689\n",
      "Epoch 98:\n",
      "\tTrain: Average Accuracy: 0.0\tAverage Loss: 2.7876759652425305\n",
      "\tTest: Average Accuracy: 6.25\tAverage Loss: 2.772651849800689\n",
      "Epoch 99:\n",
      "\tTrain: Average Accuracy: 0.0\tAverage Loss: 2.7876759652425305\n",
      "\tTest: Average Accuracy: 6.25\tAverage Loss: 2.772651849800689\n",
      "Epoch 100:\n",
      "\tTrain: Average Accuracy: 0.0\tAverage Loss: 2.7876759652425305\n",
      "\tTest: Average Accuracy: 6.25\tAverage Loss: 2.772651849800689\n"
     ]
    }
   ],
   "source": [
    "log = train_model(activation=Relu(), initial='zero')"
   ]
  },
  {
   "cell_type": "markdown",
   "metadata": {
    "id": "6ALQct6k3U1b"
   },
   "source": [
    "As you can see, if we set all weights to zero, the the derivatives won't change. Because of that, the accuracy will stay the same in each epoch.\n",
    "Bacause in calculating gradient decent in every layer, we use the weight and gradient obtained by backpropagation from the next layer. So if the weights are zero, in multiplying, the result become zero. As a Result, the weights won't change, so every epoch won't improve the accuracy."
   ]
  },
  {
   "cell_type": "markdown",
   "metadata": {
    "id": "kffPr3ls6lEQ"
   },
   "source": [
    "### Neural Network with Learning Rate = 0.0005"
   ]
  },
  {
   "cell_type": "code",
   "execution_count": null,
   "metadata": {
    "colab": {
     "base_uri": "https://localhost:8080/"
    },
    "id": "stRD7Gp8oUXM",
    "outputId": "77ec2761-f7ed-4a54-9f81-2da323b83f5c"
   },
   "outputs": [
    {
     "name": "stdout",
     "output_type": "stream",
     "text": [
      "Epoch 1:\n",
      "\tTrain: Average Accuracy: 0.0\tAverage Loss: 3.93323663281484\n",
      "\tTest: Average Accuracy: 6.25\tAverage Loss: 2.7794906687922794\n",
      "Epoch 2:\n",
      "\tTrain: Average Accuracy: 0.0\tAverage Loss: 2.931023445724689\n",
      "\tTest: Average Accuracy: 6.25\tAverage Loss: 2.779490668792043\n",
      "Epoch 3:\n",
      "\tTrain: Average Accuracy: 0.0\tAverage Loss: 2.931023445724677\n",
      "\tTest: Average Accuracy: 6.25\tAverage Loss: 2.779490668792043\n",
      "Epoch 4:\n",
      "\tTrain: Average Accuracy: 0.0\tAverage Loss: 2.931023445724677\n",
      "\tTest: Average Accuracy: 6.25\tAverage Loss: 2.779490668792043\n",
      "Epoch 5:\n",
      "\tTrain: Average Accuracy: 0.0\tAverage Loss: 2.931023445724677\n",
      "\tTest: Average Accuracy: 6.25\tAverage Loss: 2.779490668792043\n",
      "Epoch 6:\n",
      "\tTrain: Average Accuracy: 0.0\tAverage Loss: 2.931023445724677\n",
      "\tTest: Average Accuracy: 6.25\tAverage Loss: 2.779490668792043\n",
      "Epoch 7:\n",
      "\tTrain: Average Accuracy: 0.0\tAverage Loss: 2.931023445724677\n",
      "\tTest: Average Accuracy: 6.25\tAverage Loss: 2.779490668792043\n",
      "Epoch 8:\n",
      "\tTrain: Average Accuracy: 0.0\tAverage Loss: 2.931023445724677\n",
      "\tTest: Average Accuracy: 6.25\tAverage Loss: 2.779490668792043\n",
      "Epoch 9:\n",
      "\tTrain: Average Accuracy: 0.0\tAverage Loss: 2.931023445724677\n",
      "\tTest: Average Accuracy: 6.25\tAverage Loss: 2.779490668792043\n",
      "Epoch 10:\n",
      "\tTrain: Average Accuracy: 0.0\tAverage Loss: 2.931023445724677\n",
      "\tTest: Average Accuracy: 6.25\tAverage Loss: 2.779490668792043\n",
      "Epoch 11:\n",
      "\tTrain: Average Accuracy: 0.0\tAverage Loss: 2.931023445724677\n",
      "\tTest: Average Accuracy: 6.25\tAverage Loss: 2.779490668792043\n",
      "Epoch 12:\n",
      "\tTrain: Average Accuracy: 0.0\tAverage Loss: 2.931023445724677\n",
      "\tTest: Average Accuracy: 6.25\tAverage Loss: 2.779490668792043\n",
      "Epoch 13:\n",
      "\tTrain: Average Accuracy: 0.0\tAverage Loss: 2.931023445724677\n",
      "\tTest: Average Accuracy: 6.25\tAverage Loss: 2.779490668792043\n",
      "Epoch 14:\n",
      "\tTrain: Average Accuracy: 0.0\tAverage Loss: 2.931023445724677\n",
      "\tTest: Average Accuracy: 6.25\tAverage Loss: 2.779490668792043\n",
      "Epoch 15:\n",
      "\tTrain: Average Accuracy: 0.0\tAverage Loss: 2.931023445724677\n",
      "\tTest: Average Accuracy: 6.25\tAverage Loss: 2.779490668792043\n",
      "Epoch 16:\n",
      "\tTrain: Average Accuracy: 0.0\tAverage Loss: 2.931023445724677\n",
      "\tTest: Average Accuracy: 6.25\tAverage Loss: 2.779490668792043\n",
      "Epoch 17:\n",
      "\tTrain: Average Accuracy: 0.0\tAverage Loss: 2.931023445724677\n",
      "\tTest: Average Accuracy: 6.25\tAverage Loss: 2.779490668792043\n",
      "Epoch 18:\n",
      "\tTrain: Average Accuracy: 0.0\tAverage Loss: 2.931023445724677\n",
      "\tTest: Average Accuracy: 6.25\tAverage Loss: 2.779490668792043\n",
      "Epoch 19:\n",
      "\tTrain: Average Accuracy: 0.0\tAverage Loss: 2.931023445724677\n",
      "\tTest: Average Accuracy: 6.25\tAverage Loss: 2.779490668792043\n",
      "Epoch 20:\n",
      "\tTrain: Average Accuracy: 0.0\tAverage Loss: 2.931023445724677\n",
      "\tTest: Average Accuracy: 6.25\tAverage Loss: 2.779490668792043\n",
      "Epoch 21:\n",
      "\tTrain: Average Accuracy: 0.0\tAverage Loss: 2.931023445724677\n",
      "\tTest: Average Accuracy: 6.25\tAverage Loss: 2.779490668792043\n",
      "Epoch 22:\n",
      "\tTrain: Average Accuracy: 0.0\tAverage Loss: 2.931023445724677\n",
      "\tTest: Average Accuracy: 6.25\tAverage Loss: 2.779490668792043\n",
      "Epoch 23:\n",
      "\tTrain: Average Accuracy: 0.0\tAverage Loss: 2.931023445724677\n",
      "\tTest: Average Accuracy: 6.25\tAverage Loss: 2.779490668792043\n",
      "Epoch 24:\n",
      "\tTrain: Average Accuracy: 0.0\tAverage Loss: 2.931023445724677\n",
      "\tTest: Average Accuracy: 6.25\tAverage Loss: 2.779490668792043\n",
      "Epoch 25:\n",
      "\tTrain: Average Accuracy: 0.0\tAverage Loss: 2.931023445724677\n",
      "\tTest: Average Accuracy: 6.25\tAverage Loss: 2.779490668792043\n",
      "Epoch 26:\n",
      "\tTrain: Average Accuracy: 0.0\tAverage Loss: 2.931023445724677\n",
      "\tTest: Average Accuracy: 6.25\tAverage Loss: 2.779490668792043\n",
      "Epoch 27:\n",
      "\tTrain: Average Accuracy: 0.0\tAverage Loss: 2.931023445724677\n",
      "\tTest: Average Accuracy: 6.25\tAverage Loss: 2.779490668792043\n",
      "Epoch 28:\n",
      "\tTrain: Average Accuracy: 0.0\tAverage Loss: 2.931023445724677\n",
      "\tTest: Average Accuracy: 6.25\tAverage Loss: 2.779490668792043\n",
      "Epoch 29:\n",
      "\tTrain: Average Accuracy: 0.0\tAverage Loss: 2.931023445724677\n",
      "\tTest: Average Accuracy: 6.25\tAverage Loss: 2.779490668792043\n",
      "Epoch 30:\n",
      "\tTrain: Average Accuracy: 0.0\tAverage Loss: 2.931023445724677\n",
      "\tTest: Average Accuracy: 6.25\tAverage Loss: 2.779490668792043\n",
      "Epoch 31:\n",
      "\tTrain: Average Accuracy: 0.0\tAverage Loss: 2.931023445724677\n",
      "\tTest: Average Accuracy: 6.25\tAverage Loss: 2.779490668792043\n",
      "Epoch 32:\n",
      "\tTrain: Average Accuracy: 0.0\tAverage Loss: 2.931023445724677\n",
      "\tTest: Average Accuracy: 6.25\tAverage Loss: 2.779490668792043\n",
      "Epoch 33:\n",
      "\tTrain: Average Accuracy: 0.0\tAverage Loss: 2.931023445724677\n",
      "\tTest: Average Accuracy: 6.25\tAverage Loss: 2.779490668792043\n",
      "Epoch 34:\n",
      "\tTrain: Average Accuracy: 0.0\tAverage Loss: 2.931023445724677\n",
      "\tTest: Average Accuracy: 6.25\tAverage Loss: 2.779490668792043\n",
      "Epoch 35:\n",
      "\tTrain: Average Accuracy: 0.0\tAverage Loss: 2.931023445724677\n",
      "\tTest: Average Accuracy: 6.25\tAverage Loss: 2.779490668792043\n",
      "Epoch 36:\n",
      "\tTrain: Average Accuracy: 0.0\tAverage Loss: 2.931023445724677\n",
      "\tTest: Average Accuracy: 6.25\tAverage Loss: 2.779490668792043\n",
      "Epoch 37:\n",
      "\tTrain: Average Accuracy: 0.0\tAverage Loss: 2.931023445724677\n",
      "\tTest: Average Accuracy: 6.25\tAverage Loss: 2.779490668792043\n",
      "Epoch 38:\n",
      "\tTrain: Average Accuracy: 0.0\tAverage Loss: 2.931023445724677\n",
      "\tTest: Average Accuracy: 6.25\tAverage Loss: 2.779490668792043\n",
      "Epoch 39:\n",
      "\tTrain: Average Accuracy: 0.0\tAverage Loss: 2.931023445724677\n",
      "\tTest: Average Accuracy: 6.25\tAverage Loss: 2.779490668792043\n",
      "Epoch 40:\n",
      "\tTrain: Average Accuracy: 0.0\tAverage Loss: 2.931023445724677\n",
      "\tTest: Average Accuracy: 6.25\tAverage Loss: 2.779490668792043\n",
      "Epoch 41:\n",
      "\tTrain: Average Accuracy: 0.0\tAverage Loss: 2.931023445724677\n",
      "\tTest: Average Accuracy: 6.25\tAverage Loss: 2.779490668792043\n",
      "Epoch 42:\n",
      "\tTrain: Average Accuracy: 0.0\tAverage Loss: 2.931023445724677\n",
      "\tTest: Average Accuracy: 6.25\tAverage Loss: 2.779490668792043\n",
      "Epoch 43:\n",
      "\tTrain: Average Accuracy: 0.0\tAverage Loss: 2.931023445724677\n",
      "\tTest: Average Accuracy: 6.25\tAverage Loss: 2.779490668792043\n",
      "Epoch 44:\n",
      "\tTrain: Average Accuracy: 0.0\tAverage Loss: 2.931023445724677\n",
      "\tTest: Average Accuracy: 6.25\tAverage Loss: 2.779490668792043\n",
      "Epoch 45:\n",
      "\tTrain: Average Accuracy: 0.0\tAverage Loss: 2.931023445724677\n",
      "\tTest: Average Accuracy: 6.25\tAverage Loss: 2.779490668792043\n",
      "Epoch 46:\n",
      "\tTrain: Average Accuracy: 0.0\tAverage Loss: 2.931023445724677\n",
      "\tTest: Average Accuracy: 6.25\tAverage Loss: 2.779490668792043\n",
      "Epoch 47:\n",
      "\tTrain: Average Accuracy: 0.0\tAverage Loss: 2.931023445724677\n",
      "\tTest: Average Accuracy: 6.25\tAverage Loss: 2.779490668792043\n",
      "Epoch 48:\n",
      "\tTrain: Average Accuracy: 0.0\tAverage Loss: 2.931023445724677\n",
      "\tTest: Average Accuracy: 6.25\tAverage Loss: 2.779490668792043\n",
      "Epoch 49:\n",
      "\tTrain: Average Accuracy: 0.0\tAverage Loss: 2.931023445724677\n",
      "\tTest: Average Accuracy: 6.25\tAverage Loss: 2.779490668792043\n",
      "Epoch 50:\n",
      "\tTrain: Average Accuracy: 0.0\tAverage Loss: 2.931023445724677\n",
      "\tTest: Average Accuracy: 6.25\tAverage Loss: 2.779490668792043\n",
      "Epoch 51:\n",
      "\tTrain: Average Accuracy: 0.0\tAverage Loss: 2.931023445724677\n",
      "\tTest: Average Accuracy: 6.25\tAverage Loss: 2.779490668792043\n",
      "Epoch 52:\n",
      "\tTrain: Average Accuracy: 0.0\tAverage Loss: 2.931023445724677\n",
      "\tTest: Average Accuracy: 6.25\tAverage Loss: 2.779490668792043\n",
      "Epoch 53:\n",
      "\tTrain: Average Accuracy: 0.0\tAverage Loss: 2.931023445724677\n",
      "\tTest: Average Accuracy: 6.25\tAverage Loss: 2.779490668792043\n",
      "Epoch 54:\n",
      "\tTrain: Average Accuracy: 0.0\tAverage Loss: 2.931023445724677\n",
      "\tTest: Average Accuracy: 6.25\tAverage Loss: 2.779490668792043\n",
      "Epoch 55:\n",
      "\tTrain: Average Accuracy: 0.0\tAverage Loss: 2.931023445724677\n",
      "\tTest: Average Accuracy: 6.25\tAverage Loss: 2.779490668792043\n",
      "Epoch 56:\n",
      "\tTrain: Average Accuracy: 0.0\tAverage Loss: 2.931023445724677\n",
      "\tTest: Average Accuracy: 6.25\tAverage Loss: 2.779490668792043\n",
      "Epoch 57:\n",
      "\tTrain: Average Accuracy: 0.0\tAverage Loss: 2.931023445724677\n",
      "\tTest: Average Accuracy: 6.25\tAverage Loss: 2.779490668792043\n",
      "Epoch 58:\n",
      "\tTrain: Average Accuracy: 0.0\tAverage Loss: 2.931023445724677\n",
      "\tTest: Average Accuracy: 6.25\tAverage Loss: 2.779490668792043\n",
      "Epoch 59:\n",
      "\tTrain: Average Accuracy: 0.0\tAverage Loss: 2.931023445724677\n",
      "\tTest: Average Accuracy: 6.25\tAverage Loss: 2.779490668792043\n",
      "Epoch 60:\n",
      "\tTrain: Average Accuracy: 0.0\tAverage Loss: 2.931023445724677\n",
      "\tTest: Average Accuracy: 6.25\tAverage Loss: 2.779490668792043\n",
      "Epoch 61:\n",
      "\tTrain: Average Accuracy: 0.0\tAverage Loss: 2.931023445724677\n",
      "\tTest: Average Accuracy: 6.25\tAverage Loss: 2.779490668792043\n",
      "Epoch 62:\n",
      "\tTrain: Average Accuracy: 0.0\tAverage Loss: 2.931023445724677\n",
      "\tTest: Average Accuracy: 6.25\tAverage Loss: 2.779490668792043\n",
      "Epoch 63:\n",
      "\tTrain: Average Accuracy: 0.0\tAverage Loss: 2.931023445724677\n",
      "\tTest: Average Accuracy: 6.25\tAverage Loss: 2.779490668792043\n",
      "Epoch 64:\n",
      "\tTrain: Average Accuracy: 0.0\tAverage Loss: 2.931023445724677\n",
      "\tTest: Average Accuracy: 6.25\tAverage Loss: 2.779490668792043\n",
      "Epoch 65:\n",
      "\tTrain: Average Accuracy: 0.0\tAverage Loss: 2.931023445724677\n",
      "\tTest: Average Accuracy: 6.25\tAverage Loss: 2.779490668792043\n",
      "Epoch 66:\n",
      "\tTrain: Average Accuracy: 0.0\tAverage Loss: 2.931023445724677\n",
      "\tTest: Average Accuracy: 6.25\tAverage Loss: 2.779490668792043\n",
      "Epoch 67:\n",
      "\tTrain: Average Accuracy: 0.0\tAverage Loss: 2.931023445724677\n",
      "\tTest: Average Accuracy: 6.25\tAverage Loss: 2.779490668792043\n",
      "Epoch 68:\n",
      "\tTrain: Average Accuracy: 0.0\tAverage Loss: 2.931023445724677\n",
      "\tTest: Average Accuracy: 6.25\tAverage Loss: 2.779490668792043\n",
      "Epoch 69:\n",
      "\tTrain: Average Accuracy: 0.0\tAverage Loss: 2.931023445724677\n",
      "\tTest: Average Accuracy: 6.25\tAverage Loss: 2.779490668792043\n",
      "Epoch 70:\n",
      "\tTrain: Average Accuracy: 0.0\tAverage Loss: 2.931023445724677\n",
      "\tTest: Average Accuracy: 6.25\tAverage Loss: 2.779490668792043\n",
      "Epoch 71:\n",
      "\tTrain: Average Accuracy: 0.0\tAverage Loss: 2.931023445724677\n",
      "\tTest: Average Accuracy: 6.25\tAverage Loss: 2.779490668792043\n",
      "Epoch 72:\n",
      "\tTrain: Average Accuracy: 0.0\tAverage Loss: 2.931023445724677\n",
      "\tTest: Average Accuracy: 6.25\tAverage Loss: 2.779490668792043\n",
      "Epoch 73:\n",
      "\tTrain: Average Accuracy: 0.0\tAverage Loss: 2.931023445724677\n",
      "\tTest: Average Accuracy: 6.25\tAverage Loss: 2.779490668792043\n",
      "Epoch 74:\n",
      "\tTrain: Average Accuracy: 0.0\tAverage Loss: 2.931023445724677\n",
      "\tTest: Average Accuracy: 6.25\tAverage Loss: 2.779490668792043\n",
      "Epoch 75:\n",
      "\tTrain: Average Accuracy: 0.0\tAverage Loss: 2.931023445724677\n",
      "\tTest: Average Accuracy: 6.25\tAverage Loss: 2.779490668792043\n",
      "Epoch 76:\n",
      "\tTrain: Average Accuracy: 0.0\tAverage Loss: 2.931023445724677\n",
      "\tTest: Average Accuracy: 6.25\tAverage Loss: 2.779490668792043\n",
      "Epoch 77:\n",
      "\tTrain: Average Accuracy: 0.0\tAverage Loss: 2.931023445724677\n",
      "\tTest: Average Accuracy: 6.25\tAverage Loss: 2.779490668792043\n",
      "Epoch 78:\n",
      "\tTrain: Average Accuracy: 0.0\tAverage Loss: 2.931023445724677\n",
      "\tTest: Average Accuracy: 6.25\tAverage Loss: 2.779490668792043\n",
      "Epoch 79:\n",
      "\tTrain: Average Accuracy: 0.0\tAverage Loss: 2.931023445724677\n",
      "\tTest: Average Accuracy: 6.25\tAverage Loss: 2.779490668792043\n",
      "Epoch 80:\n",
      "\tTrain: Average Accuracy: 0.0\tAverage Loss: 2.931023445724677\n",
      "\tTest: Average Accuracy: 6.25\tAverage Loss: 2.779490668792043\n",
      "Epoch 81:\n",
      "\tTrain: Average Accuracy: 0.0\tAverage Loss: 2.931023445724677\n",
      "\tTest: Average Accuracy: 6.25\tAverage Loss: 2.779490668792043\n",
      "Epoch 82:\n",
      "\tTrain: Average Accuracy: 0.0\tAverage Loss: 2.931023445724677\n",
      "\tTest: Average Accuracy: 6.25\tAverage Loss: 2.779490668792043\n",
      "Epoch 83:\n",
      "\tTrain: Average Accuracy: 0.0\tAverage Loss: 2.931023445724677\n",
      "\tTest: Average Accuracy: 6.25\tAverage Loss: 2.779490668792043\n",
      "Epoch 84:\n",
      "\tTrain: Average Accuracy: 0.0\tAverage Loss: 2.931023445724677\n",
      "\tTest: Average Accuracy: 6.25\tAverage Loss: 2.779490668792043\n",
      "Epoch 85:\n",
      "\tTrain: Average Accuracy: 0.0\tAverage Loss: 2.931023445724677\n",
      "\tTest: Average Accuracy: 6.25\tAverage Loss: 2.779490668792043\n",
      "Epoch 86:\n",
      "\tTrain: Average Accuracy: 0.0\tAverage Loss: 2.931023445724677\n",
      "\tTest: Average Accuracy: 6.25\tAverage Loss: 2.779490668792043\n",
      "Epoch 87:\n",
      "\tTrain: Average Accuracy: 0.0\tAverage Loss: 2.931023445724677\n",
      "\tTest: Average Accuracy: 6.25\tAverage Loss: 2.779490668792043\n",
      "Epoch 88:\n",
      "\tTrain: Average Accuracy: 0.0\tAverage Loss: 2.931023445724677\n",
      "\tTest: Average Accuracy: 6.25\tAverage Loss: 2.779490668792043\n",
      "Epoch 89:\n",
      "\tTrain: Average Accuracy: 0.0\tAverage Loss: 2.931023445724677\n",
      "\tTest: Average Accuracy: 6.25\tAverage Loss: 2.779490668792043\n",
      "Epoch 90:\n",
      "\tTrain: Average Accuracy: 0.0\tAverage Loss: 2.931023445724677\n",
      "\tTest: Average Accuracy: 6.25\tAverage Loss: 2.779490668792043\n",
      "Epoch 91:\n",
      "\tTrain: Average Accuracy: 0.0\tAverage Loss: 2.931023445724677\n",
      "\tTest: Average Accuracy: 6.25\tAverage Loss: 2.779490668792043\n",
      "Epoch 92:\n",
      "\tTrain: Average Accuracy: 0.0\tAverage Loss: 2.931023445724677\n",
      "\tTest: Average Accuracy: 6.25\tAverage Loss: 2.779490668792043\n",
      "Epoch 93:\n",
      "\tTrain: Average Accuracy: 0.0\tAverage Loss: 2.931023445724677\n",
      "\tTest: Average Accuracy: 6.25\tAverage Loss: 2.779490668792043\n",
      "Epoch 94:\n",
      "\tTrain: Average Accuracy: 0.0\tAverage Loss: 2.931023445724677\n",
      "\tTest: Average Accuracy: 6.25\tAverage Loss: 2.779490668792043\n",
      "Epoch 95:\n",
      "\tTrain: Average Accuracy: 0.0\tAverage Loss: 2.931023445724677\n",
      "\tTest: Average Accuracy: 6.25\tAverage Loss: 2.779490668792043\n",
      "Epoch 96:\n",
      "\tTrain: Average Accuracy: 0.0\tAverage Loss: 2.931023445724677\n",
      "\tTest: Average Accuracy: 6.25\tAverage Loss: 2.779490668792043\n",
      "Epoch 97:\n",
      "\tTrain: Average Accuracy: 0.0\tAverage Loss: 2.931023445724677\n",
      "\tTest: Average Accuracy: 6.25\tAverage Loss: 2.779490668792043\n",
      "Epoch 98:\n",
      "\tTrain: Average Accuracy: 0.0\tAverage Loss: 2.931023445724677\n",
      "\tTest: Average Accuracy: 6.25\tAverage Loss: 2.779490668792043\n",
      "Epoch 99:\n",
      "\tTrain: Average Accuracy: 0.0\tAverage Loss: 2.931023445724677\n",
      "\tTest: Average Accuracy: 6.25\tAverage Loss: 2.779490668792043\n",
      "Epoch 100:\n",
      "\tTrain: Average Accuracy: 0.0\tAverage Loss: 2.931023445724677\n",
      "\tTest: Average Accuracy: 6.25\tAverage Loss: 2.779490668792043\n"
     ]
    }
   ],
   "source": [
    "log = train_model(activation=Relu(), initial='uniform', print_results=True, lr=0.05)"
   ]
  },
  {
   "cell_type": "markdown",
   "metadata": {
    "id": "zD6twNHS6-aO"
   },
   "source": [
    "As you can see, the learning rate is too large and as a result, the learning accuracy will decrease in both train and test sets. Because in large learning rates, our model may diverge and never find the optimal weight and biases."
   ]
  },
  {
   "cell_type": "code",
   "execution_count": null,
   "metadata": {
    "colab": {
     "base_uri": "https://localhost:8080/"
    },
    "id": "CHXYGUOdrBxT",
    "outputId": "625942bd-5485-47b4-b8a0-c13cdedbde1c"
   },
   "outputs": [
    {
     "name": "stdout",
     "output_type": "stream",
     "text": [
      "Epoch 1:\n",
      "\tTrain: Average Accuracy: 1.015625\tAverage Loss: 3.0065570802311483\n",
      "\tTest: Average Accuracy: 6.25\tAverage Loss: 2.7363670989509887\n",
      "Epoch 2:\n",
      "\tTrain: Average Accuracy: 3.8802083333333335\tAverage Loss: 2.8640765005170534\n",
      "\tTest: Average Accuracy: 9.166666666666666\tAverage Loss: 2.569346479979608\n",
      "Epoch 3:\n",
      "\tTrain: Average Accuracy: 10.481770833333334\tAverage Loss: 2.620262348276176\n",
      "\tTest: Average Accuracy: 19.010416666666668\tAverage Loss: 2.3619942332036232\n",
      "Epoch 4:\n",
      "\tTrain: Average Accuracy: 17.252604166666668\tAverage Loss: 2.4070929372283016\n",
      "\tTest: Average Accuracy: 27.395833333333332\tAverage Loss: 2.2008447628771446\n",
      "Epoch 5:\n",
      "\tTrain: Average Accuracy: 25.1953125\tAverage Loss: 2.2357616977533166\n",
      "\tTest: Average Accuracy: 31.458333333333332\tAverage Loss: 2.0640905320378105\n",
      "Epoch 6:\n",
      "\tTrain: Average Accuracy: 30.8203125\tAverage Loss: 2.0968057663732904\n",
      "\tTest: Average Accuracy: 35.104166666666664\tAverage Loss: 1.960245660557431\n",
      "Epoch 7:\n",
      "\tTrain: Average Accuracy: 35.299479166666664\tAverage Loss: 1.9922276838345914\n",
      "\tTest: Average Accuracy: 37.604166666666664\tAverage Loss: 1.8819155964873926\n",
      "Epoch 8:\n",
      "\tTrain: Average Accuracy: 38.28125\tAverage Loss: 1.9117683000942232\n",
      "\tTest: Average Accuracy: 39.583333333333336\tAverage Loss: 1.8209395165808349\n",
      "Epoch 9:\n",
      "\tTrain: Average Accuracy: 39.895833333333336\tAverage Loss: 1.8472233076141364\n",
      "\tTest: Average Accuracy: 41.09375\tAverage Loss: 1.7719980234920316\n",
      "Epoch 10:\n",
      "\tTrain: Average Accuracy: 41.653645833333336\tAverage Loss: 1.7936205605350446\n",
      "\tTest: Average Accuracy: 42.34375\tAverage Loss: 1.73147839977189\n",
      "Epoch 11:\n",
      "\tTrain: Average Accuracy: 43.138020833333336\tAverage Loss: 1.7476451701880338\n",
      "\tTest: Average Accuracy: 43.645833333333336\tAverage Loss: 1.6965854136909693\n",
      "Epoch 12:\n",
      "\tTrain: Average Accuracy: 44.622395833333336\tAverage Loss: 1.7069963355663689\n",
      "\tTest: Average Accuracy: 44.427083333333336\tAverage Loss: 1.6655819588816878\n",
      "Epoch 13:\n",
      "\tTrain: Average Accuracy: 45.872395833333336\tAverage Loss: 1.6701248474109245\n",
      "\tTest: Average Accuracy: 45.364583333333336\tAverage Loss: 1.6373188758627635\n",
      "Epoch 14:\n",
      "\tTrain: Average Accuracy: 47.018229166666664\tAverage Loss: 1.6360183190140123\n",
      "\tTest: Average Accuracy: 46.197916666666664\tAverage Loss: 1.611010841343158\n",
      "Epoch 15:\n",
      "\tTrain: Average Accuracy: 48.125\tAverage Loss: 1.604004952405267\n",
      "\tTest: Average Accuracy: 46.614583333333336\tAverage Loss: 1.5863168156390488\n",
      "Epoch 16:\n",
      "\tTrain: Average Accuracy: 49.192708333333336\tAverage Loss: 1.5737762641752335\n",
      "\tTest: Average Accuracy: 47.34375\tAverage Loss: 1.5629321903405418\n",
      "Epoch 17:\n",
      "\tTrain: Average Accuracy: 50.0390625\tAverage Loss: 1.5450544623456584\n",
      "\tTest: Average Accuracy: 47.864583333333336\tAverage Loss: 1.5407840436483187\n",
      "Epoch 18:\n",
      "\tTrain: Average Accuracy: 51.145833333333336\tAverage Loss: 1.5177122643794598\n",
      "\tTest: Average Accuracy: 48.75\tAverage Loss: 1.5198028368302081\n",
      "Epoch 19:\n",
      "\tTrain: Average Accuracy: 52.200520833333336\tAverage Loss: 1.4916263001138825\n",
      "\tTest: Average Accuracy: 49.84375\tAverage Loss: 1.4999613915414465\n",
      "Epoch 20:\n",
      "\tTrain: Average Accuracy: 52.864583333333336\tAverage Loss: 1.4667215189390628\n",
      "\tTest: Average Accuracy: 50.364583333333336\tAverage Loss: 1.481125724932018\n",
      "Epoch 21:\n",
      "\tTrain: Average Accuracy: 53.684895833333336\tAverage Loss: 1.4428447688823607\n",
      "\tTest: Average Accuracy: 50.78125\tAverage Loss: 1.463326453542591\n",
      "Epoch 22:\n",
      "\tTrain: Average Accuracy: 54.609375\tAverage Loss: 1.4199818848608847\n",
      "\tTest: Average Accuracy: 51.354166666666664\tAverage Loss: 1.4463632735812229\n",
      "Epoch 23:\n",
      "\tTrain: Average Accuracy: 55.221354166666664\tAverage Loss: 1.3979418702644648\n",
      "\tTest: Average Accuracy: 51.927083333333336\tAverage Loss: 1.4303218206193578\n",
      "Epoch 24:\n",
      "\tTrain: Average Accuracy: 55.625\tAverage Loss: 1.3767800453046262\n",
      "\tTest: Average Accuracy: 52.552083333333336\tAverage Loss: 1.4150649997635947\n",
      "Epoch 25:\n",
      "\tTrain: Average Accuracy: 56.106770833333336\tAverage Loss: 1.3564295593271047\n",
      "\tTest: Average Accuracy: 53.333333333333336\tAverage Loss: 1.400520159371418\n",
      "Epoch 26:\n",
      "\tTrain: Average Accuracy: 56.731770833333336\tAverage Loss: 1.3367206540398804\n",
      "\tTest: Average Accuracy: 53.4375\tAverage Loss: 1.3866838700686546\n",
      "Epoch 27:\n",
      "\tTrain: Average Accuracy: 57.3828125\tAverage Loss: 1.3176981399733554\n",
      "\tTest: Average Accuracy: 53.59375\tAverage Loss: 1.3732081776264422\n",
      "Epoch 28:\n",
      "\tTrain: Average Accuracy: 57.890625\tAverage Loss: 1.29929549751261\n",
      "\tTest: Average Accuracy: 54.21875\tAverage Loss: 1.360227271404895\n",
      "Epoch 29:\n",
      "\tTrain: Average Accuracy: 58.203125\tAverage Loss: 1.2814202283121245\n",
      "\tTest: Average Accuracy: 54.635416666666664\tAverage Loss: 1.347887274363118\n",
      "Epoch 30:\n",
      "\tTrain: Average Accuracy: 58.815104166666664\tAverage Loss: 1.264069012317403\n",
      "\tTest: Average Accuracy: 54.84375\tAverage Loss: 1.3358548995887916\n",
      "Epoch 31:\n",
      "\tTrain: Average Accuracy: 59.296875\tAverage Loss: 1.2471290795045888\n",
      "\tTest: Average Accuracy: 55.3125\tAverage Loss: 1.3242920765490878\n",
      "Epoch 32:\n",
      "\tTrain: Average Accuracy: 59.778645833333336\tAverage Loss: 1.230611611606275\n",
      "\tTest: Average Accuracy: 55.364583333333336\tAverage Loss: 1.312831504288055\n",
      "Epoch 33:\n",
      "\tTrain: Average Accuracy: 60.1953125\tAverage Loss: 1.2144088153701653\n",
      "\tTest: Average Accuracy: 55.677083333333336\tAverage Loss: 1.3019334244650396\n",
      "Epoch 34:\n",
      "\tTrain: Average Accuracy: 60.8203125\tAverage Loss: 1.198621982435147\n",
      "\tTest: Average Accuracy: 55.885416666666664\tAverage Loss: 1.2912485575333028\n",
      "Epoch 35:\n",
      "\tTrain: Average Accuracy: 61.145833333333336\tAverage Loss: 1.1830652286699348\n",
      "\tTest: Average Accuracy: 56.041666666666664\tAverage Loss: 1.2809421494521098\n",
      "Epoch 36:\n",
      "\tTrain: Average Accuracy: 61.6015625\tAverage Loss: 1.1678761622616634\n",
      "\tTest: Average Accuracy: 56.145833333333336\tAverage Loss: 1.270699138205757\n",
      "Epoch 37:\n",
      "\tTrain: Average Accuracy: 62.109375\tAverage Loss: 1.1530275355077413\n",
      "\tTest: Average Accuracy: 56.510416666666664\tAverage Loss: 1.2607108558201168\n",
      "Epoch 38:\n",
      "\tTrain: Average Accuracy: 62.708333333333336\tAverage Loss: 1.1383937055695224\n",
      "\tTest: Average Accuracy: 56.927083333333336\tAverage Loss: 1.2507710339913098\n",
      "Epoch 39:\n",
      "\tTrain: Average Accuracy: 63.3203125\tAverage Loss: 1.1239028232799726\n",
      "\tTest: Average Accuracy: 56.822916666666664\tAverage Loss: 1.2408202911120483\n",
      "Epoch 40:\n",
      "\tTrain: Average Accuracy: 63.684895833333336\tAverage Loss: 1.1095841705727465\n",
      "\tTest: Average Accuracy: 57.291666666666664\tAverage Loss: 1.230932687022073\n",
      "Epoch 41:\n",
      "\tTrain: Average Accuracy: 64.11458333333333\tAverage Loss: 1.095469194684762\n",
      "\tTest: Average Accuracy: 57.760416666666664\tAverage Loss: 1.221193120366999\n",
      "Epoch 42:\n",
      "\tTrain: Average Accuracy: 64.67447916666667\tAverage Loss: 1.0816009998128318\n",
      "\tTest: Average Accuracy: 58.177083333333336\tAverage Loss: 1.2117321403920451\n",
      "Epoch 43:\n",
      "\tTrain: Average Accuracy: 65.01302083333333\tAverage Loss: 1.0679316840640856\n",
      "\tTest: Average Accuracy: 58.489583333333336\tAverage Loss: 1.2023795126046177\n",
      "Epoch 44:\n",
      "\tTrain: Average Accuracy: 65.3125\tAverage Loss: 1.0544498187516294\n",
      "\tTest: Average Accuracy: 58.541666666666664\tAverage Loss: 1.193253800181719\n",
      "Epoch 45:\n",
      "\tTrain: Average Accuracy: 65.84635416666667\tAverage Loss: 1.0411071847260562\n",
      "\tTest: Average Accuracy: 59.0625\tAverage Loss: 1.184256312213498\n",
      "Epoch 46:\n",
      "\tTrain: Average Accuracy: 66.2109375\tAverage Loss: 1.0279671474972458\n",
      "\tTest: Average Accuracy: 59.479166666666664\tAverage Loss: 1.1754252934210185\n",
      "Epoch 47:\n",
      "\tTrain: Average Accuracy: 66.62760416666667\tAverage Loss: 1.0149812722456693\n",
      "\tTest: Average Accuracy: 59.635416666666664\tAverage Loss: 1.1666137323850738\n",
      "Epoch 48:\n",
      "\tTrain: Average Accuracy: 67.05729166666667\tAverage Loss: 1.0021589484053322\n",
      "\tTest: Average Accuracy: 59.895833333333336\tAverage Loss: 1.1579788900650523\n",
      "Epoch 49:\n",
      "\tTrain: Average Accuracy: 67.5390625\tAverage Loss: 0.989440950711797\n",
      "\tTest: Average Accuracy: 60.052083333333336\tAverage Loss: 1.1494811802914893\n",
      "Epoch 50:\n",
      "\tTrain: Average Accuracy: 68.03385416666667\tAverage Loss: 0.9769888024794107\n",
      "\tTest: Average Accuracy: 60.416666666666664\tAverage Loss: 1.1412553828728003\n",
      "Epoch 51:\n",
      "\tTrain: Average Accuracy: 68.25520833333333\tAverage Loss: 0.964769306043205\n",
      "\tTest: Average Accuracy: 60.520833333333336\tAverage Loss: 1.1333328977206512\n",
      "Epoch 52:\n",
      "\tTrain: Average Accuracy: 68.671875\tAverage Loss: 0.9528428235616685\n",
      "\tTest: Average Accuracy: 60.572916666666664\tAverage Loss: 1.1255823826744495\n",
      "Epoch 53:\n",
      "\tTrain: Average Accuracy: 69.08854166666667\tAverage Loss: 0.9410334870213617\n",
      "\tTest: Average Accuracy: 60.989583333333336\tAverage Loss: 1.1179368042316937\n",
      "Epoch 54:\n",
      "\tTrain: Average Accuracy: 69.4921875\tAverage Loss: 0.9294912937525661\n",
      "\tTest: Average Accuracy: 61.041666666666664\tAverage Loss: 1.1104845382073902\n",
      "Epoch 55:\n",
      "\tTrain: Average Accuracy: 69.921875\tAverage Loss: 0.9181867499340953\n",
      "\tTest: Average Accuracy: 61.510416666666664\tAverage Loss: 1.1031861192015566\n",
      "Epoch 56:\n",
      "\tTrain: Average Accuracy: 70.234375\tAverage Loss: 0.9070567139276833\n",
      "\tTest: Average Accuracy: 61.614583333333336\tAverage Loss: 1.0960525729553343\n",
      "Epoch 57:\n",
      "\tTrain: Average Accuracy: 70.625\tAverage Loss: 0.8961449428665553\n",
      "\tTest: Average Accuracy: 61.770833333333336\tAverage Loss: 1.0891569780103876\n",
      "Epoch 58:\n",
      "\tTrain: Average Accuracy: 70.83333333333333\tAverage Loss: 0.8854075228535822\n",
      "\tTest: Average Accuracy: 62.03125\tAverage Loss: 1.0825849773143272\n",
      "Epoch 59:\n",
      "\tTrain: Average Accuracy: 71.23697916666667\tAverage Loss: 0.8748214923236398\n",
      "\tTest: Average Accuracy: 62.239583333333336\tAverage Loss: 1.076109283454047\n",
      "Epoch 60:\n",
      "\tTrain: Average Accuracy: 71.66666666666667\tAverage Loss: 0.8644590846549941\n",
      "\tTest: Average Accuracy: 62.395833333333336\tAverage Loss: 1.0697722762694835\n",
      "Epoch 61:\n",
      "\tTrain: Average Accuracy: 71.94010416666667\tAverage Loss: 0.854223470256419\n",
      "\tTest: Average Accuracy: 62.552083333333336\tAverage Loss: 1.0636266517683104\n",
      "Epoch 62:\n",
      "\tTrain: Average Accuracy: 72.35677083333333\tAverage Loss: 0.8441952156623942\n",
      "\tTest: Average Accuracy: 62.708333333333336\tAverage Loss: 1.057564082310509\n",
      "Epoch 63:\n",
      "\tTrain: Average Accuracy: 72.578125\tAverage Loss: 0.8343045486713138\n",
      "\tTest: Average Accuracy: 62.65625\tAverage Loss: 1.051860621012501\n",
      "Epoch 64:\n",
      "\tTrain: Average Accuracy: 72.86458333333333\tAverage Loss: 0.8246262230008188\n",
      "\tTest: Average Accuracy: 62.65625\tAverage Loss: 1.0462811521692021\n",
      "Epoch 65:\n",
      "\tTrain: Average Accuracy: 73.125\tAverage Loss: 0.8150895375352533\n",
      "\tTest: Average Accuracy: 62.916666666666664\tAverage Loss: 1.0410169220389731\n",
      "Epoch 66:\n",
      "\tTrain: Average Accuracy: 73.48958333333333\tAverage Loss: 0.8057200888905136\n",
      "\tTest: Average Accuracy: 62.864583333333336\tAverage Loss: 1.035652194259108\n",
      "Epoch 67:\n",
      "\tTrain: Average Accuracy: 73.88020833333333\tAverage Loss: 0.7965564799329472\n",
      "\tTest: Average Accuracy: 63.072916666666664\tAverage Loss: 1.0305679208507916\n",
      "Epoch 68:\n",
      "\tTrain: Average Accuracy: 74.11458333333333\tAverage Loss: 0.7874610690323626\n",
      "\tTest: Average Accuracy: 63.177083333333336\tAverage Loss: 1.0254758792447447\n",
      "Epoch 69:\n",
      "\tTrain: Average Accuracy: 74.4140625\tAverage Loss: 0.7785691165170533\n",
      "\tTest: Average Accuracy: 63.4375\tAverage Loss: 1.0207086620794061\n",
      "Epoch 70:\n",
      "\tTrain: Average Accuracy: 74.75260416666667\tAverage Loss: 0.7698147066799383\n",
      "\tTest: Average Accuracy: 63.541666666666664\tAverage Loss: 1.0160685778565133\n",
      "Epoch 71:\n",
      "\tTrain: Average Accuracy: 75.09114583333333\tAverage Loss: 0.7611777119231043\n",
      "\tTest: Average Accuracy: 63.697916666666664\tAverage Loss: 1.0115185291114177\n",
      "Epoch 72:\n",
      "\tTrain: Average Accuracy: 75.3125\tAverage Loss: 0.7527122109824497\n",
      "\tTest: Average Accuracy: 63.958333333333336\tAverage Loss: 1.0070616462260846\n",
      "Epoch 73:\n",
      "\tTrain: Average Accuracy: 75.55989583333333\tAverage Loss: 0.7442903766980167\n",
      "\tTest: Average Accuracy: 64.32291666666667\tAverage Loss: 1.002781564108805\n",
      "Epoch 74:\n",
      "\tTrain: Average Accuracy: 75.84635416666667\tAverage Loss: 0.7360772055684112\n",
      "\tTest: Average Accuracy: 64.32291666666667\tAverage Loss: 0.9985595572254885\n",
      "Epoch 75:\n",
      "\tTrain: Average Accuracy: 76.06770833333333\tAverage Loss: 0.7279470670365813\n",
      "\tTest: Average Accuracy: 64.58333333333333\tAverage Loss: 0.9945003467257938\n",
      "Epoch 76:\n",
      "\tTrain: Average Accuracy: 76.27604166666667\tAverage Loss: 0.7199200845517605\n",
      "\tTest: Average Accuracy: 64.84375\tAverage Loss: 0.9906581098089099\n",
      "Epoch 77:\n",
      "\tTrain: Average Accuracy: 76.65364583333333\tAverage Loss: 0.7120378123369995\n",
      "\tTest: Average Accuracy: 65.15625\tAverage Loss: 0.9868924433802968\n",
      "Epoch 78:\n",
      "\tTrain: Average Accuracy: 76.9140625\tAverage Loss: 0.7042494950022757\n",
      "\tTest: Average Accuracy: 65.3125\tAverage Loss: 0.9832438187089695\n",
      "Epoch 79:\n",
      "\tTrain: Average Accuracy: 77.16145833333333\tAverage Loss: 0.696601335131492\n",
      "\tTest: Average Accuracy: 65.3125\tAverage Loss: 0.9796918362357627\n",
      "Epoch 80:\n",
      "\tTrain: Average Accuracy: 77.5390625\tAverage Loss: 0.6890097140487074\n",
      "\tTest: Average Accuracy: 65.41666666666667\tAverage Loss: 0.9764344047497737\n",
      "Epoch 81:\n",
      "\tTrain: Average Accuracy: 77.82552083333333\tAverage Loss: 0.6815348918347841\n",
      "\tTest: Average Accuracy: 65.46875\tAverage Loss: 0.9731014240039537\n",
      "Epoch 82:\n",
      "\tTrain: Average Accuracy: 78.03385416666667\tAverage Loss: 0.6741443985620255\n",
      "\tTest: Average Accuracy: 65.67708333333333\tAverage Loss: 0.9699657772410661\n",
      "Epoch 83:\n",
      "\tTrain: Average Accuracy: 78.4375\tAverage Loss: 0.6668728949820777\n",
      "\tTest: Average Accuracy: 65.9375\tAverage Loss: 0.9669215821124377\n",
      "Epoch 84:\n",
      "\tTrain: Average Accuracy: 78.64583333333333\tAverage Loss: 0.6596683854352503\n",
      "\tTest: Average Accuracy: 66.04166666666667\tAverage Loss: 0.9637932178615406\n",
      "Epoch 85:\n",
      "\tTrain: Average Accuracy: 78.95833333333333\tAverage Loss: 0.6525671372571551\n",
      "\tTest: Average Accuracy: 66.35416666666667\tAverage Loss: 0.9609066027589024\n",
      "Epoch 86:\n",
      "\tTrain: Average Accuracy: 79.1796875\tAverage Loss: 0.6455318416182265\n",
      "\tTest: Average Accuracy: 66.51041666666667\tAverage Loss: 0.958133501042384\n",
      "Epoch 87:\n",
      "\tTrain: Average Accuracy: 79.375\tAverage Loss: 0.6386403353287018\n",
      "\tTest: Average Accuracy: 66.45833333333333\tAverage Loss: 0.9554818220641326\n",
      "Epoch 88:\n",
      "\tTrain: Average Accuracy: 79.55729166666667\tAverage Loss: 0.6317939251886172\n",
      "\tTest: Average Accuracy: 66.61458333333333\tAverage Loss: 0.9529699655901618\n",
      "Epoch 89:\n",
      "\tTrain: Average Accuracy: 79.77864583333333\tAverage Loss: 0.6250441072817996\n",
      "\tTest: Average Accuracy: 66.875\tAverage Loss: 0.9503511555305988\n",
      "Epoch 90:\n",
      "\tTrain: Average Accuracy: 80.18229166666667\tAverage Loss: 0.6184053543937078\n",
      "\tTest: Average Accuracy: 67.13541666666667\tAverage Loss: 0.9479551369562093\n",
      "Epoch 91:\n",
      "\tTrain: Average Accuracy: 80.48177083333333\tAverage Loss: 0.6118152187879283\n",
      "\tTest: Average Accuracy: 67.39583333333333\tAverage Loss: 0.9454476825355573\n",
      "Epoch 92:\n",
      "\tTrain: Average Accuracy: 80.7421875\tAverage Loss: 0.605277755569308\n",
      "\tTest: Average Accuracy: 67.55208333333333\tAverage Loss: 0.9432022929687017\n",
      "Epoch 93:\n",
      "\tTrain: Average Accuracy: 80.9375\tAverage Loss: 0.5988588755656215\n",
      "\tTest: Average Accuracy: 67.55208333333333\tAverage Loss: 0.9408718819178075\n",
      "Epoch 94:\n",
      "\tTrain: Average Accuracy: 81.25\tAverage Loss: 0.59251570568404\n",
      "\tTest: Average Accuracy: 67.60416666666667\tAverage Loss: 0.9386100110478242\n",
      "Epoch 95:\n",
      "\tTrain: Average Accuracy: 81.45833333333333\tAverage Loss: 0.5862226513164903\n",
      "\tTest: Average Accuracy: 67.76041666666667\tAverage Loss: 0.9365556051836198\n",
      "Epoch 96:\n",
      "\tTrain: Average Accuracy: 81.61458333333333\tAverage Loss: 0.5800145305572015\n",
      "\tTest: Average Accuracy: 67.96875\tAverage Loss: 0.9344111664183592\n",
      "Epoch 97:\n",
      "\tTrain: Average Accuracy: 81.88802083333333\tAverage Loss: 0.5738885546821751\n",
      "\tTest: Average Accuracy: 68.07291666666667\tAverage Loss: 0.932546326016175\n",
      "Epoch 98:\n",
      "\tTrain: Average Accuracy: 82.12239583333333\tAverage Loss: 0.5677376864962834\n",
      "\tTest: Average Accuracy: 68.17708333333333\tAverage Loss: 0.9305656757110743\n",
      "Epoch 99:\n",
      "\tTrain: Average Accuracy: 82.44791666666667\tAverage Loss: 0.561717405312886\n",
      "\tTest: Average Accuracy: 68.28125\tAverage Loss: 0.9286233992756047\n",
      "Epoch 100:\n",
      "\tTrain: Average Accuracy: 82.68229166666667\tAverage Loss: 0.55572621721492\n",
      "\tTest: Average Accuracy: 68.28125\tAverage Loss: 0.9267748112097476\n"
     ]
    }
   ],
   "source": [
    "log = train_model(activation=Relu(), initial='uniform', print_results=True, lr=LEARNING_RATE * 0.1)"
   ]
  },
  {
   "cell_type": "markdown",
   "metadata": {
    "id": "70moTpWD8NIP"
   },
   "source": [
    "As you can see, the learning is too small and as a result, the learning improvment is so slow and the learning needs more epoches to get better accuracy.\n"
   ]
  },
  {
   "cell_type": "markdown",
   "metadata": {
    "id": "IuLc2BL0-ZOF"
   },
   "source": [
    "### Finding Best Learning Rate:"
   ]
  },
  {
   "cell_type": "code",
   "execution_count": null,
   "metadata": {
    "colab": {
     "base_uri": "https://localhost:8080/"
    },
    "id": "MskDwdAcEtqo",
    "outputId": "5aec53e0-9dd6-4b99-a403-41ceb794c887"
   },
   "outputs": [
    {
     "name": "stdout",
     "output_type": "stream",
     "text": [
      "For Learning Rate 0.005  :\n",
      "Train Accuracy: 100.0\n",
      "Test Accuracy 72.76041666666667 \n",
      "\n",
      "For Learning Rate 0.01  :\n",
      "Train Accuracy: 99.97395833333333\n",
      "Test Accuracy 68.33333333333333 \n",
      "\n",
      "For Learning Rate 0.015  :\n",
      "Train Accuracy: 99.89583333333333\n",
      "Test Accuracy 66.30208333333333 \n",
      "\n",
      "For Learning Rate 0.02  :\n",
      "Train Accuracy: 83.1640625\n",
      "Test Accuracy 59.322916666666664 \n",
      "\n",
      "For Learning Rate 0.025  :\n",
      "Train Accuracy: 38.9453125\n",
      "Test Accuracy 40.520833333333336 \n",
      "\n"
     ]
    }
   ],
   "source": [
    "for lr in range(5):\n",
    "  log = train_model(activation=Relu(), initial='uniform', print_results=False, lr= 0.005 + (lr * 0.005))\n",
    "  print('For Learning Rate', 0.005 + (lr * 0.005) ,':')\n",
    "  print(\"Train Accuracy:\",log['train_accuracy'][-1])\n",
    "  print(\"Test Accuracy\",log['test_accuracy'][-1],'\\n')"
   ]
  },
  {
   "cell_type": "markdown",
   "metadata": {
    "id": "ObLRvjhlC6Tu"
   },
   "source": [
    "As you can see, The default learning rate is the best learning rate."
   ]
  },
  {
   "cell_type": "markdown",
   "metadata": {
    "id": "INKAjfLIAMkK"
   },
   "source": [
    "### Finding Best Activation Function"
   ]
  },
  {
   "cell_type": "code",
   "execution_count": null,
   "metadata": {
    "colab": {
     "base_uri": "https://localhost:8080/"
    },
    "id": "lO-yHY4eHloa",
    "outputId": "8f464c2f-3282-4cad-c343-cea6609ddeac"
   },
   "outputs": [
    {
     "name": "stdout",
     "output_type": "stream",
     "text": [
      "For Activation Function <__main__.Sigmoid object at 0x7fcacd3a4df0> :\n",
      "Train Accuracy: 97.86458333333333\n",
      "Test Accuracy 77.8125 \n",
      "\n",
      "For Activation Function <__main__.Tanh object at 0x7fcacd3a4d60> :\n",
      "Train Accuracy: 100.0\n",
      "Test Accuracy 76.71875 \n",
      "\n",
      "For Activation Function <__main__.LeakyRelu object at 0x7fcacd310940> :\n",
      "Train Accuracy: 99.97395833333333\n",
      "Test Accuracy 72.1875 \n",
      "\n"
     ]
    }
   ],
   "source": [
    "activation_list = [Sigmoid(),Tanh(),LeakyRelu()]\n",
    "\n",
    "for activation in range(3):\n",
    "  log = train_model(activation= activation_list[activation], initial='uniform', print_results=False, lr=LEARNING_RATE)\n",
    "  print('For Activation Function', activation_list[activation],':')\n",
    "  print(\"Train Accuracy:\",log['train_accuracy'][-1])\n",
    "  print(\"Test Accuracy\",log['test_accuracy'][-1],'\\n')"
   ]
  },
  {
   "cell_type": "markdown",
   "metadata": {
    "id": "naAo_VP4DK8G"
   },
   "source": [
    "**sigmoid**: The sigmoid function normalizes the values(all of them are between 0 and 1).<br>\n",
    "\n",
    "**Hyperbolic Tangent**: Hyperbolic Tangent function normalizes the values in between -1 and 1 thus it's a zero centered function.<br>\n",
    "\n",
    "**Leaky Relu**:This function returns x if it receives any positive input, but for any negative value of x, it returns a really small value which is 0.01 times x. Thus it gives an output for negative values as well.<br>"
   ]
  },
  {
   "cell_type": "markdown",
   "metadata": {
    "id": "pfrvUL9LF287"
   },
   "source": [
    "####  Comparing Activation Functions:\n",
    "**sigmoid**: when x(exp power) is a large positive or negative value, it'll decrease to 0. Also, it's more computationally expensive than other functions.\n",
    "\n",
    "**Hyperbolic Tangent**: Unfortunately, zero-centered activation functions saturate at their asymptotes, leading to a weak training signal. ReLU avoids this problem but it is not zero-centered.\n",
    "\n",
    "The problem with Sigmoid and Tanhs' performance is that they saturate. A neuron is said to be saturated when extremely large weights cause the neuron to produce values (gradients) that are very close to the range boundary.\n",
    "\n",
    "if the gradient is constantly 1, it most likely means that the neuron is over-fitting on training data and will likely perform poorly on test data.\n",
    "\n",
    "**Leaky Relu**: Leaky Relu is faster both in convergence and its computation. This function doesn't saturate and the gradients don't get killed. But the problem is that it's not consistent. Leaky Relu has a slope for negative values while Relu deletes these values."
   ]
  },
  {
   "cell_type": "markdown",
   "metadata": {
    "id": "u4qgG2MbBwgF"
   },
   "source": [
    "### Result of Neural Network with Different Batch Sizes(15 , 256):"
   ]
  },
  {
   "cell_type": "code",
   "execution_count": null,
   "metadata": {
    "colab": {
     "base_uri": "https://localhost:8080/"
    },
    "id": "1ogE9EHOL02_",
    "outputId": "85ff5fc5-52ff-4776-fed9-1c8f9a5a23b0"
   },
   "outputs": [
    {
     "name": "stdout",
     "output_type": "stream",
     "text": [
      "For Batch Size 16 :\n",
      "Train Accuracy: 100.0\n",
      "Test Accuracy 77.55208333333333 \n",
      "\n",
      "For Batch Size 256 :\n",
      "Train Accuracy: 90.98958333333333\n",
      "Test Accuracy 61.1328125 \n",
      "\n"
     ]
    }
   ],
   "source": [
    "sizes = [16, 256]\n",
    "\n",
    "for size in range(2):\n",
    "  log = train_model(activation=LeakyRelu(), initial='uniform', print_results=False,lr=LEARNING_RATE, epochs=EPOCHS, batch_size=sizes[size])\n",
    "  print('For Batch Size', sizes[size],':')\n",
    "  print(\"Train Accuracy:\",log['train_accuracy'][-1])\n",
    "  print(\"Test Accuracy\",log['test_accuracy'][-1],'\\n')"
   ]
  },
  {
   "cell_type": "markdown",
   "metadata": {
    "id": "J4fScW6CHOJq"
   },
   "source": [
    "\n",
    "The batch size = 256 has lower accuracy. because with the larger batch size our model has poor generalization and over-fits and doesn't converge.\n",
    "\n",
    "#### Advantages of very small batch size\n",
    "It takes less memory. Also, it is more generalized and has better accuracy overall.\n",
    "\n",
    "#### Disadvantages of very small batch size\n",
    "The model is not guaranteed to converge to the global optima. It will bounce around the global optima. Therefore, under no computational constraints, \n",
    "\n",
    "#### Best Approach\n",
    "it is often advised that one starts at a small batch size, reaping the benefits of faster training dynamics, and steadily grows the batch size through training, also reaping the benefits of guaranteed convergence."
   ]
  },
  {
   "cell_type": "markdown",
   "metadata": {
    "id": "sF28urXgWnmf"
   },
   "source": [
    "## PART 4: Using Tensorflow and Keras Libararies"
   ]
  },
  {
   "cell_type": "markdown",
   "metadata": {
    "id": "T2uq8MY6d-ua"
   },
   "source": [
    "In this part, first we need to get the **cifar10 database** using **tensorflow** library:"
   ]
  },
  {
   "cell_type": "code",
   "execution_count": null,
   "metadata": {
    "colab": {
     "base_uri": "https://localhost:8080/"
    },
    "id": "Hi9VIj8YNg7E",
    "outputId": "0d0cbf0c-153a-45fb-beb3-324625ce61f3"
   },
   "outputs": [
    {
     "data": {
      "text/plain": [
       "1274"
      ]
     },
     "execution_count": 63,
     "metadata": {},
     "output_type": "execute_result"
    }
   ],
   "source": [
    "import tensorflow as tf\n",
    "import seaborn as sns\n",
    "import gc\n",
    "\n",
    "cifar10 = tf.keras.datasets.cifar10\n",
    "(x_train, y_train), (x_test, y_test) = cifar10.load_data()\n",
    "del cifar10\n",
    "gc.collect()"
   ]
  },
  {
   "cell_type": "markdown",
   "metadata": {
    "id": "EAzT6HmxeWYZ"
   },
   "source": [
    "This is a distribution plot of cifar10 database in each class. in every class there are 6000 pictures: "
   ]
  },
  {
   "cell_type": "code",
   "execution_count": null,
   "metadata": {
    "colab": {
     "base_uri": "https://localhost:8080/",
     "height": 656
    },
    "id": "OWcizAmMYKn2",
    "outputId": "c7f53e1b-53c5-44bd-9cc3-162fc7f127b5"
   },
   "outputs": [
    {
     "name": "stderr",
     "output_type": "stream",
     "text": [
      "/usr/local/lib/python3.8/dist-packages/seaborn/_decorators.py:36: FutureWarning: Pass the following variable as a keyword arg: x. From version 0.12, the only valid positional argument will be `data`, and passing other arguments without an explicit keyword will result in an error or misinterpretation.\n",
      "  warnings.warn(\n"
     ]
    },
    {
     "data": {
      "text/plain": [
       "[[Text(0, 0, 'airplane'),\n",
       "  Text(0, 0, 'automobile'),\n",
       "  Text(0, 0, 'bird'),\n",
       "  Text(0, 0, 'cat'),\n",
       "  Text(0, 0, 'deer'),\n",
       "  Text(0, 0, 'dog'),\n",
       "  Text(0, 0, 'frog'),\n",
       "  Text(0, 0, 'horse'),\n",
       "  Text(0, 0, 'ship'),\n",
       "  Text(0, 0, 'truck')]]"
      ]
     },
     "execution_count": 64,
     "metadata": {},
     "output_type": "execute_result"
    },
    {
     "data": {
      "image/png": "[encoded data removed]",
      "text/plain": [
       "<Figure size 720x504 with 1 Axes>"
      ]
     },
     "metadata": {
      "needs_background": "light"
     },
     "output_type": "display_data"
    }
   ],
   "source": [
    "classes = ['airplane', 'automobile', 'bird', 'cat', 'deer', 'dog', 'frog', 'horse', 'ship', 'truck']\n",
    "\n",
    "plt.figure(figsize=(10,7))\n",
    "p = sns.countplot(y_train.flatten())\n",
    "p.set(xticklabels=classes)"
   ]
  },
  {
   "cell_type": "markdown",
   "metadata": {
    "id": "zRnCriOje2UJ"
   },
   "source": [
    "### Normalizing Data Sets"
   ]
  },
  {
   "cell_type": "code",
   "execution_count": null,
   "metadata": {
    "id": "9jO4rq3QYWWB"
   },
   "outputs": [],
   "source": [
    "x_train, x_test = x_train / 255.0, x_test / 255.0"
   ]
  },
  {
   "cell_type": "markdown",
   "metadata": {
    "id": "BlrTNlR7e-Vz"
   },
   "source": [
    "### OneHot Coding Using to_categorical Function"
   ]
  },
  {
   "cell_type": "code",
   "execution_count": null,
   "metadata": {
    "id": "7MxbKaNGYhXL"
   },
   "outputs": [],
   "source": [
    "y_train_cat = tf.keras.utils.to_categorical(y_train)\n",
    "y_test_cat = tf.keras.utils.to_categorical(y_test)"
   ]
  },
  {
   "cell_type": "markdown",
   "metadata": {
    "id": "p-K3zAtzfSmW"
   },
   "source": [
    "### Result and Plotting Function\n",
    "in later parts, we need to train Nueral Network with tenserflow library, so we need to report its results and plot the outcome:"
   ]
  },
  {
   "cell_type": "code",
   "execution_count": null,
   "metadata": {
    "id": "gRUHkK9JY9SN"
   },
   "outputs": [],
   "source": [
    "def result(model, x_train, y_train, x_test, y_test):\n",
    "  y_pred = model.predict(x_train)\n",
    "  y_pred = np.argmax(y_pred, axis=1)\n",
    "  print(\"Train:\")\n",
    "  print(classification_report(y_train, y_pred))\n",
    "\n",
    "  y_pred = model.predict(x_test)\n",
    "  y_pred = np.argmax(y_pred, axis=1)\n",
    "  print(\"Test:\")\n",
    "  print(classification_report(y_test, y_pred))\n",
    "\n",
    "def plot(nn_result):\n",
    "  fig, (ax1, ax2) = plt.subplots(1, 2, figsize=(10,5))\n",
    "  plt.tight_layout()\n",
    "\n",
    "  ax1.set_title(\"Accuracy\")\n",
    "  ax1.set_xlabel(\"Epoch\")\n",
    "  ax1.plot(nn_result.history['accuracy'], label=\"train\")\n",
    "  ax1.plot(nn_result.history['val_accuracy'], label=\"test\")\n",
    "  ax1.legend()\n",
    "\n",
    "  ax2.set_title(\"Loss\")\n",
    "  ax2.set_xlabel(\"Epoch\")\n",
    "  ax2.plot(nn_result.history['loss'], label=\"train\")\n",
    "  ax2.plot(nn_result.history['val_loss'], label=\"test\")\n",
    "  ax2.legend()\n",
    "  plt.show()"
   ]
  },
  {
   "cell_type": "code",
   "execution_count": null,
   "metadata": {
    "id": "0GK-uQJyepcZ"
   },
   "outputs": [],
   "source": [
    "model = tf.keras.models.Sequential()\n",
    "model.add(tf.keras.layers.Flatten(input_shape = (32,32,3)))\n",
    "model.add(tf.keras.layers.Dense(100, activation='relu',input_shape = (32*32*3,)))\n",
    "model.add(tf.keras.layers.Dense(100, activation='relu'))\n",
    "model.add(tf.keras.layers.Dense(10, activation=tf.keras.activations.softmax))\n",
    "\n",
    "model.compile(optimizer=tf.keras.optimizers.SGD(learning_rate=0.01), loss=tf.keras.losses.categorical_crossentropy, metrics=[\"accuracy\"])"
   ]
  },
  {
   "cell_type": "code",
   "execution_count": null,
   "metadata": {
    "colab": {
     "base_uri": "https://localhost:8080/",
     "height": 1000
    },
    "id": "NkrDEvUufJHp",
    "outputId": "daf6ea70-86c9-42e5-9b18-4c4bcc15d997"
   },
   "outputs": [
    {
     "name": "stdout",
     "output_type": "stream",
     "text": [
      "Epoch 1/10\n",
      "1563/1563 [==============================] - 9s 5ms/step - loss: 1.9048 - accuracy: 0.3168 - val_loss: 1.8110 - val_accuracy: 0.3370\n",
      "Epoch 2/10\n",
      "1563/1563 [==============================] - 8s 5ms/step - loss: 1.7201 - accuracy: 0.3910 - val_loss: 1.7919 - val_accuracy: 0.3722\n",
      "Epoch 3/10\n",
      "1563/1563 [==============================] - 9s 6ms/step - loss: 1.6384 - accuracy: 0.4213 - val_loss: 1.5860 - val_accuracy: 0.4403\n",
      "Epoch 4/10\n",
      "1563/1563 [==============================] - 9s 6ms/step - loss: 1.5875 - accuracy: 0.4389 - val_loss: 1.5790 - val_accuracy: 0.4353\n",
      "Epoch 5/10\n",
      "1563/1563 [==============================] - 9s 6ms/step - loss: 1.5450 - accuracy: 0.4538 - val_loss: 1.5378 - val_accuracy: 0.4506\n",
      "Epoch 6/10\n",
      "1563/1563 [==============================] - 9s 6ms/step - loss: 1.5107 - accuracy: 0.4687 - val_loss: 1.5398 - val_accuracy: 0.4545\n",
      "Epoch 7/10\n",
      "1563/1563 [==============================] - 8s 5ms/step - loss: 1.4836 - accuracy: 0.4767 - val_loss: 1.4717 - val_accuracy: 0.4808\n",
      "Epoch 8/10\n",
      "1563/1563 [==============================] - 8s 5ms/step - loss: 1.4580 - accuracy: 0.4847 - val_loss: 1.5946 - val_accuracy: 0.4307\n",
      "Epoch 9/10\n",
      "1563/1563 [==============================] - 9s 6ms/step - loss: 1.4350 - accuracy: 0.4933 - val_loss: 1.5681 - val_accuracy: 0.4482\n",
      "Epoch 10/10\n",
      "1563/1563 [==============================] - 8s 5ms/step - loss: 1.4112 - accuracy: 0.4994 - val_loss: 1.5205 - val_accuracy: 0.4607\n",
      "1563/1563 [==============================] - 4s 3ms/step\n",
      "Train:\n",
      "              precision    recall  f1-score   support\n",
      "\n",
      "           0       0.49      0.64      0.55      5000\n",
      "           1       0.69      0.55      0.61      5000\n",
      "           2       0.45      0.27      0.34      5000\n",
      "           3       0.41      0.34      0.37      5000\n",
      "           4       0.45      0.43      0.44      5000\n",
      "           5       0.52      0.27      0.36      5000\n",
      "           6       0.63      0.42      0.51      5000\n",
      "           7       0.31      0.83      0.46      5000\n",
      "           8       0.67      0.59      0.63      5000\n",
      "           9       0.63      0.49      0.55      5000\n",
      "\n",
      "    accuracy                           0.48     50000\n",
      "   macro avg       0.52      0.48      0.48     50000\n",
      "weighted avg       0.52      0.48      0.48     50000\n",
      "\n",
      "313/313 [==============================] - 1s 3ms/step\n",
      "Test:\n",
      "              precision    recall  f1-score   support\n",
      "\n",
      "           0       0.47      0.62      0.54      1000\n",
      "           1       0.68      0.51      0.58      1000\n",
      "           2       0.43      0.26      0.33      1000\n",
      "           3       0.38      0.29      0.33      1000\n",
      "           4       0.42      0.41      0.41      1000\n",
      "           5       0.45      0.24      0.31      1000\n",
      "           6       0.60      0.42      0.50      1000\n",
      "           7       0.31      0.81      0.45      1000\n",
      "           8       0.61      0.57      0.59      1000\n",
      "           9       0.61      0.47      0.53      1000\n",
      "\n",
      "    accuracy                           0.46     10000\n",
      "   macro avg       0.50      0.46      0.46     10000\n",
      "weighted avg       0.50      0.46      0.46     10000\n",
      "\n"
     ]
    },
    {
     "data": {
      "image/png": "[encoded data removed]",
      "text/plain": [
       "<Figure size 720x360 with 2 Axes>"
      ]
     },
     "metadata": {
      "needs_background": "light"
     },
     "output_type": "display_data"
    }
   ],
   "source": [
    "nn_result = model.fit(x_train, y_train_cat, validation_data=(x_test, y_test_cat), epochs=10, batch_size=32)\n",
    "result(model, x_train, y_train, x_test, y_test)\n",
    "plot(nn_result)"
   ]
  },
  {
   "cell_type": "code",
   "execution_count": null,
   "metadata": {
    "colab": {
     "base_uri": "https://localhost:8080/"
    },
    "id": "9Ts2IQ1GLzU5",
    "outputId": "8a3ade5a-703a-4fa6-f2c4-a1bacb3253b8"
   },
   "outputs": [
    {
     "data": {
      "text/plain": [
       "9528"
      ]
     },
     "execution_count": 77,
     "metadata": {},
     "output_type": "execute_result"
    }
   ],
   "source": [
    "del model\n",
    "del nn_result\n",
    "gc.collect()"
   ]
  },
  {
   "cell_type": "markdown",
   "metadata": {
    "id": "xdVh-EYHlb9b"
   },
   "source": [
    "### Optimizer\n",
    "\n",
    "**Momentum**: Momentum is an extension to the gradient descent optimization algorithm, often referred to as gradient descent with momentum.\n",
    "\n",
    "#### Advantages\n",
    "\n",
    "It is designed to accelerate the optimization process, e.g. decrease the number of function evaluations required to reach the optima, or to improve the capability of the optimization algorithm, e.g. result in a better final result.\n",
    "\n",
    "Momentum involves adding an additional hyperparameter that controls the amount of history (momentum) to include in the update equation, i.e. the step to a new point in the search space. The value for the hyperparameter is defined in the range 0.0 to 1.0 and often has a value close to 1.0, such as 0.8, 0.9, or 0.99. A momentum of 0.0 is the same as gradient descent without momentum.\n",
    "\n",
    "Momentum is most useful in optimization problems where the objective function has a large amount of curvature (e.g. changes a lot), meaning that the gradient may change a lot over relatively small regions of the search space."
   ]
  },
  {
   "cell_type": "code",
   "execution_count": null,
   "metadata": {
    "id": "yq3TZJB-MbEu"
   },
   "outputs": [],
   "source": [
    "def create_model(moment):\n",
    "    model = tf.keras.models.Sequential()\n",
    "    model.add(tf.keras.layers.Flatten(input_shape = (32,32,3)))\n",
    "    model.add(tf.keras.layers.Dense(100, activation=tf.keras.layers.LeakyReLU(alpha=0.01),input_shape = (32*32*3,)))\n",
    "    model.add(tf.keras.layers.Dense(100, activation=tf.keras.layers.LeakyReLU(alpha=0.01)))\n",
    "    model.add(tf.keras.layers.Dense(10, activation=tf.keras.activations.softmax))\n",
    "\n",
    "    model.compile(optimizer=tf.keras.optimizers.SGD(learning_rate=0.01, momentum=0.5), loss=tf.keras.losses.categorical_crossentropy, metrics=[\"accuracy\"])\n",
    "    return model"
   ]
  },
  {
   "cell_type": "markdown",
   "metadata": {
    "id": "PdIHXkJnpJax"
   },
   "source": [
    "#### Momentum = 0.5"
   ]
  },
  {
   "cell_type": "code",
   "execution_count": null,
   "metadata": {
    "colab": {
     "base_uri": "https://localhost:8080/",
     "height": 1000
    },
    "id": "09DQrvrDMcRR",
    "outputId": "54dc626e-8735-458f-ae8e-22d1de3b574f"
   },
   "outputs": [
    {
     "name": "stdout",
     "output_type": "stream",
     "text": [
      "Epoch 1/10\n",
      "1563/1563 [==============================] - 10s 6ms/step - loss: 1.8671 - accuracy: 0.3291 - val_loss: 1.7258 - val_accuracy: 0.3753\n",
      "Epoch 2/10\n",
      "1563/1563 [==============================] - 10s 7ms/step - loss: 1.6813 - accuracy: 0.4018 - val_loss: 1.7651 - val_accuracy: 0.3669\n",
      "Epoch 3/10\n",
      "1563/1563 [==============================] - 9s 6ms/step - loss: 1.6042 - accuracy: 0.4301 - val_loss: 1.6358 - val_accuracy: 0.4150\n",
      "Epoch 4/10\n",
      "1563/1563 [==============================] - 9s 6ms/step - loss: 1.5494 - accuracy: 0.4509 - val_loss: 1.6447 - val_accuracy: 0.4193\n",
      "Epoch 5/10\n",
      "1563/1563 [==============================] - 8s 5ms/step - loss: 1.5079 - accuracy: 0.4652 - val_loss: 1.5647 - val_accuracy: 0.4432\n",
      "Epoch 6/10\n",
      "1563/1563 [==============================] - 9s 5ms/step - loss: 1.4735 - accuracy: 0.4760 - val_loss: 1.5189 - val_accuracy: 0.4554\n",
      "Epoch 7/10\n",
      "1563/1563 [==============================] - 8s 5ms/step - loss: 1.4431 - accuracy: 0.4879 - val_loss: 1.4915 - val_accuracy: 0.4726\n",
      "Epoch 8/10\n",
      "1563/1563 [==============================] - 9s 5ms/step - loss: 1.4210 - accuracy: 0.4951 - val_loss: 1.4741 - val_accuracy: 0.4682\n",
      "Epoch 9/10\n",
      "1563/1563 [==============================] - 8s 5ms/step - loss: 1.3979 - accuracy: 0.5040 - val_loss: 1.4638 - val_accuracy: 0.4794\n",
      "Epoch 10/10\n",
      "1563/1563 [==============================] - 9s 6ms/step - loss: 1.3764 - accuracy: 0.5102 - val_loss: 1.4707 - val_accuracy: 0.4792\n",
      "1563/1563 [==============================] - 4s 3ms/step\n",
      "Train:\n",
      "              precision    recall  f1-score   support\n",
      "\n",
      "           0       0.55      0.61      0.57      5000\n",
      "           1       0.61      0.69      0.65      5000\n",
      "           2       0.38      0.41      0.40      5000\n",
      "           3       0.46      0.18      0.26      5000\n",
      "           4       0.45      0.43      0.44      5000\n",
      "           5       0.41      0.48      0.44      5000\n",
      "           6       0.66      0.37      0.47      5000\n",
      "           7       0.41      0.75      0.53      5000\n",
      "           8       0.67      0.64      0.66      5000\n",
      "           9       0.65      0.53      0.58      5000\n",
      "\n",
      "    accuracy                           0.51     50000\n",
      "   macro avg       0.53      0.51      0.50     50000\n",
      "weighted avg       0.53      0.51      0.50     50000\n",
      "\n",
      "313/313 [==============================] - 2s 5ms/step\n",
      "Test:\n",
      "              precision    recall  f1-score   support\n",
      "\n",
      "           0       0.54      0.59      0.56      1000\n",
      "           1       0.59      0.65      0.62      1000\n",
      "           2       0.35      0.39      0.37      1000\n",
      "           3       0.39      0.14      0.21      1000\n",
      "           4       0.42      0.41      0.41      1000\n",
      "           5       0.37      0.42      0.39      1000\n",
      "           6       0.61      0.35      0.45      1000\n",
      "           7       0.40      0.73      0.52      1000\n",
      "           8       0.62      0.63      0.62      1000\n",
      "           9       0.61      0.48      0.54      1000\n",
      "\n",
      "    accuracy                           0.48     10000\n",
      "   macro avg       0.49      0.48      0.47     10000\n",
      "weighted avg       0.49      0.48      0.47     10000\n",
      "\n"
     ]
    },
    {
     "data": {
      "image/png": "[encoded data removed]",
      "text/plain": [
       "<Figure size 720x360 with 2 Axes>"
      ]
     },
     "metadata": {
      "needs_background": "light"
     },
     "output_type": "display_data"
    }
   ],
   "source": [
    "model = create_model(0.5)\n",
    "nn_result = model.fit(x_train, y_train_cat, validation_data=(x_test, y_test_cat), epochs=10, batch_size=32)\n",
    "result(model, x_train, y_train, x_test, y_test)\n",
    "plot(nn_result)"
   ]
  },
  {
   "cell_type": "code",
   "execution_count": null,
   "metadata": {
    "colab": {
     "base_uri": "https://localhost:8080/",
     "height": 1000
    },
    "id": "3fIBc12sOVqR",
    "outputId": "9ab70357-8abe-4ba3-c648-75654436eb49"
   },
   "outputs": [
    {
     "name": "stdout",
     "output_type": "stream",
     "text": [
      "Epoch 1/10\n",
      "1563/1563 [==============================] - 9s 6ms/step - loss: 1.8583 - accuracy: 0.3310 - val_loss: 1.6893 - val_accuracy: 0.4016\n",
      "Epoch 2/10\n",
      "1563/1563 [==============================] - 9s 6ms/step - loss: 1.6782 - accuracy: 0.4041 - val_loss: 1.6403 - val_accuracy: 0.4173\n",
      "Epoch 3/10\n",
      "1563/1563 [==============================] - 8s 5ms/step - loss: 1.6003 - accuracy: 0.4333 - val_loss: 1.5915 - val_accuracy: 0.4321\n",
      "Epoch 4/10\n",
      "1563/1563 [==============================] - 9s 6ms/step - loss: 1.5448 - accuracy: 0.4499 - val_loss: 1.5480 - val_accuracy: 0.4496\n",
      "Epoch 5/10\n",
      "1563/1563 [==============================] - 9s 6ms/step - loss: 1.5022 - accuracy: 0.4674 - val_loss: 1.5389 - val_accuracy: 0.4471\n",
      "Epoch 6/10\n",
      "1563/1563 [==============================] - 13s 8ms/step - loss: 1.4729 - accuracy: 0.4770 - val_loss: 1.5091 - val_accuracy: 0.4644\n",
      "Epoch 7/10\n",
      "1563/1563 [==============================] - 11s 7ms/step - loss: 1.4425 - accuracy: 0.4889 - val_loss: 1.4725 - val_accuracy: 0.4726\n",
      "Epoch 8/10\n",
      "1563/1563 [==============================] - 13s 9ms/step - loss: 1.4175 - accuracy: 0.4965 - val_loss: 1.4455 - val_accuracy: 0.4874\n",
      "Epoch 9/10\n",
      "1563/1563 [==============================] - 10s 6ms/step - loss: 1.3961 - accuracy: 0.5025 - val_loss: 1.5525 - val_accuracy: 0.4458\n",
      "Epoch 10/10\n",
      "1563/1563 [==============================] - 8s 5ms/step - loss: 1.3740 - accuracy: 0.5128 - val_loss: 1.4662 - val_accuracy: 0.4863\n",
      "1563/1563 [==============================] - 4s 2ms/step\n",
      "Train:\n",
      "              precision    recall  f1-score   support\n",
      "\n",
      "           0       0.51      0.61      0.56      5000\n",
      "           1       0.57      0.69      0.62      5000\n",
      "           2       0.42      0.38      0.40      5000\n",
      "           3       0.47      0.20      0.28      5000\n",
      "           4       0.44      0.46      0.45      5000\n",
      "           5       0.46      0.40      0.43      5000\n",
      "           6       0.45      0.71      0.55      5000\n",
      "           7       0.73      0.47      0.57      5000\n",
      "           8       0.55      0.75      0.64      5000\n",
      "           9       0.65      0.51      0.57      5000\n",
      "\n",
      "    accuracy                           0.52     50000\n",
      "   macro avg       0.52      0.52      0.51     50000\n",
      "weighted avg       0.52      0.52      0.51     50000\n",
      "\n",
      "313/313 [==============================] - 1s 2ms/step\n",
      "Test:\n",
      "              precision    recall  f1-score   support\n",
      "\n",
      "           0       0.50      0.59      0.54      1000\n",
      "           1       0.55      0.65      0.59      1000\n",
      "           2       0.37      0.36      0.36      1000\n",
      "           3       0.40      0.18      0.25      1000\n",
      "           4       0.43      0.42      0.42      1000\n",
      "           5       0.45      0.38      0.41      1000\n",
      "           6       0.42      0.70      0.53      1000\n",
      "           7       0.67      0.42      0.52      1000\n",
      "           8       0.52      0.71      0.60      1000\n",
      "           9       0.62      0.47      0.53      1000\n",
      "\n",
      "    accuracy                           0.49     10000\n",
      "   macro avg       0.49      0.49      0.47     10000\n",
      "weighted avg       0.49      0.49      0.47     10000\n",
      "\n"
     ]
    },
    {
     "data": {
      "image/png": "[encoded data removed]",
      "text/plain": [
       "<Figure size 720x360 with 2 Axes>"
      ]
     },
     "metadata": {
      "needs_background": "light"
     },
     "output_type": "display_data"
    }
   ],
   "source": [
    "model = create_model(0.9)\n",
    "nn_result = model.fit(x_train, y_train_cat, validation_data=(x_test, y_test_cat), epochs=10, batch_size=32)\n",
    "result(model, x_train, y_train, x_test, y_test)\n",
    "plot(nn_result)"
   ]
  },
  {
   "cell_type": "code",
   "execution_count": null,
   "metadata": {
    "colab": {
     "base_uri": "https://localhost:8080/",
     "height": 1000
    },
    "id": "jI7eEw8VQZL-",
    "outputId": "1e5e4675-963e-46f3-f6b0-7853be28a56d"
   },
   "outputs": [
    {
     "name": "stdout",
     "output_type": "stream",
     "text": [
      "Epoch 1/10\n",
      "1563/1563 [==============================] - 9s 6ms/step - loss: 1.8615 - accuracy: 0.3273 - val_loss: 1.8118 - val_accuracy: 0.3407\n",
      "Epoch 2/10\n",
      "1563/1563 [==============================] - 8s 5ms/step - loss: 1.6733 - accuracy: 0.4022 - val_loss: 1.6420 - val_accuracy: 0.4104\n",
      "Epoch 3/10\n",
      "1563/1563 [==============================] - 9s 6ms/step - loss: 1.5938 - accuracy: 0.4311 - val_loss: 1.6707 - val_accuracy: 0.4037\n",
      "Epoch 4/10\n",
      "1563/1563 [==============================] - 9s 6ms/step - loss: 1.5387 - accuracy: 0.4531 - val_loss: 1.5579 - val_accuracy: 0.4465\n",
      "Epoch 5/10\n",
      "1563/1563 [==============================] - 9s 5ms/step - loss: 1.5004 - accuracy: 0.4654 - val_loss: 1.4892 - val_accuracy: 0.4777\n",
      "Epoch 6/10\n",
      "1563/1563 [==============================] - 8s 5ms/step - loss: 1.4677 - accuracy: 0.4747 - val_loss: 1.5099 - val_accuracy: 0.4608\n",
      "Epoch 7/10\n",
      "1563/1563 [==============================] - 9s 6ms/step - loss: 1.4395 - accuracy: 0.4868 - val_loss: 1.4974 - val_accuracy: 0.4695\n",
      "Epoch 8/10\n",
      "1563/1563 [==============================] - 9s 6ms/step - loss: 1.4173 - accuracy: 0.4950 - val_loss: 1.4780 - val_accuracy: 0.4785\n",
      "Epoch 9/10\n",
      "1563/1563 [==============================] - 8s 5ms/step - loss: 1.3940 - accuracy: 0.5042 - val_loss: 1.4626 - val_accuracy: 0.4841\n",
      "Epoch 10/10\n",
      "1563/1563 [==============================] - 9s 6ms/step - loss: 1.3719 - accuracy: 0.5131 - val_loss: 1.4857 - val_accuracy: 0.4756\n",
      "1563/1563 [==============================] - 4s 3ms/step\n",
      "Train:\n",
      "              precision    recall  f1-score   support\n",
      "\n",
      "           0       0.58      0.57      0.58      5000\n",
      "           1       0.64      0.66      0.65      5000\n",
      "           2       0.55      0.19      0.28      5000\n",
      "           3       0.34      0.27      0.30      5000\n",
      "           4       0.56      0.32      0.41      5000\n",
      "           5       0.31      0.65      0.42      5000\n",
      "           6       0.45      0.68      0.54      5000\n",
      "           7       0.65      0.54      0.59      5000\n",
      "           8       0.68      0.64      0.66      5000\n",
      "           9       0.60      0.56      0.58      5000\n",
      "\n",
      "    accuracy                           0.51     50000\n",
      "   macro avg       0.54      0.51      0.50     50000\n",
      "weighted avg       0.54      0.51      0.50     50000\n",
      "\n",
      "313/313 [==============================] - 1s 3ms/step\n",
      "Test:\n",
      "              precision    recall  f1-score   support\n",
      "\n",
      "           0       0.57      0.56      0.56      1000\n",
      "           1       0.60      0.60      0.60      1000\n",
      "           2       0.51      0.17      0.25      1000\n",
      "           3       0.30      0.24      0.27      1000\n",
      "           4       0.53      0.28      0.37      1000\n",
      "           5       0.29      0.62      0.40      1000\n",
      "           6       0.43      0.66      0.52      1000\n",
      "           7       0.60      0.49      0.54      1000\n",
      "           8       0.64      0.62      0.63      1000\n",
      "           9       0.56      0.52      0.54      1000\n",
      "\n",
      "    accuracy                           0.48     10000\n",
      "   macro avg       0.50      0.48      0.47     10000\n",
      "weighted avg       0.50      0.48      0.47     10000\n",
      "\n"
     ]
    },
    {
     "data": {
      "image/png": "[encoded data removed]",
      "text/plain": [
       "<Figure size 720x360 with 2 Axes>"
      ]
     },
     "metadata": {
      "needs_background": "light"
     },
     "output_type": "display_data"
    }
   ],
   "source": [
    "model = create_model(0.98)\n",
    "nn_result = model.fit(x_train, y_train_cat, validation_data=(x_test, y_test_cat), epochs=10, batch_size=32)\n",
    "result(model, x_train, y_train, x_test, y_test)\n",
    "plot(nn_result)"
   ]
  },
  {
   "cell_type": "code",
   "execution_count": null,
   "metadata": {
    "colab": {
     "base_uri": "https://localhost:8080/"
    },
    "id": "tRJa2zoiRjuR",
    "outputId": "02c8a902-eee7-462b-b704-4909dbe10b79"
   },
   "outputs": [
    {
     "data": {
      "text/plain": [
       "47288"
      ]
     },
     "execution_count": 63,
     "metadata": {},
     "output_type": "execute_result"
    }
   ],
   "source": [
    "del model\n",
    "del history\n",
    "gc.collect()"
   ]
  },
  {
   "cell_type": "markdown",
   "metadata": {
    "id": "sTPAlTOzr632"
   },
   "source": [
    "### Comparing Momentums Results\n",
    "As we can in results, the accuracy for f1-score rises from momentum  0.5 to 0.9 .But accuracy for f1-score falls from momentum 0.9 to 0.98.Because too much of momentum may create issues as well as systems that are not stable may create oscillations that grow in magnitude, in such cases one needs to add decay terms and so on. It's just physics applied to neural net training or numerical optimizations."
   ]
  },
  {
   "cell_type": "markdown",
   "metadata": {
    "id": "bLMg9ca0qB7G"
   },
   "source": [
    "### Adam\n",
    "**Adam**: an algorithm for first-order gradient-based optimization of stochastic objective functions, based on adaptive estimates of lower-order moments. The method is straightforward to implement, is computationally efficient, has little memory requirements, is invariant to diagonal rescaling of the gradients, and is well suited for problems that are large in terms of data and/or parameters."
   ]
  },
  {
   "cell_type": "code",
   "execution_count": null,
   "metadata": {
    "id": "BWAmGXS4RrwZ"
   },
   "outputs": [],
   "source": [
    "def adam():\n",
    "  model = tf.keras.models.Sequential()\n",
    "  model.add(tf.keras.layers.Flatten(input_shape = (32,32,3)))\n",
    "  model.add(tf.keras.layers.Dense(100, activation='relu',input_shape = (32*32*3,)))\n",
    "  model.add(tf.keras.layers.Dense(100, 'relu'))\n",
    "  model.add(tf.keras.layers.Dense(10, activation=tf.keras.activations.softmax))\n",
    "\n",
    "  model.compile(optimizer=tf.keras.optimizers.Adam(learning_rate=0.001), loss=tf.keras.losses.categorical_crossentropy, metrics=[\"accuracy\"])\n",
    "  return model"
   ]
  },
  {
   "cell_type": "code",
   "execution_count": null,
   "metadata": {
    "colab": {
     "base_uri": "https://localhost:8080/",
     "height": 1000
    },
    "id": "xG4nczJWSRBn",
    "outputId": "5cc2c89b-5630-4d19-c83c-990054b71ae2"
   },
   "outputs": [
    {
     "name": "stdout",
     "output_type": "stream",
     "text": [
      "Epoch 1/10\n",
      "1563/1563 [==============================] - 11s 7ms/step - loss: 1.8607 - accuracy: 0.3252 - val_loss: 1.6815 - val_accuracy: 0.3902\n",
      "Epoch 2/10\n",
      "1563/1563 [==============================] - 11s 7ms/step - loss: 1.6892 - accuracy: 0.3923 - val_loss: 1.6640 - val_accuracy: 0.4121\n",
      "Epoch 3/10\n",
      "1563/1563 [==============================] - 11s 7ms/step - loss: 1.6185 - accuracy: 0.4196 - val_loss: 1.6174 - val_accuracy: 0.4234\n",
      "Epoch 4/10\n",
      "1563/1563 [==============================] - 9s 6ms/step - loss: 1.5788 - accuracy: 0.4356 - val_loss: 1.5744 - val_accuracy: 0.4392\n",
      "Epoch 5/10\n",
      "1563/1563 [==============================] - 9s 6ms/step - loss: 1.5516 - accuracy: 0.4441 - val_loss: 1.5571 - val_accuracy: 0.4413\n",
      "Epoch 6/10\n",
      "1563/1563 [==============================] - 10s 6ms/step - loss: 1.5281 - accuracy: 0.4531 - val_loss: 1.5416 - val_accuracy: 0.4596\n",
      "Epoch 7/10\n",
      "1563/1563 [==============================] - 10s 7ms/step - loss: 1.5106 - accuracy: 0.4608 - val_loss: 1.5073 - val_accuracy: 0.4631\n",
      "Epoch 8/10\n",
      "1563/1563 [==============================] - 9s 6ms/step - loss: 1.4967 - accuracy: 0.4657 - val_loss: 1.5122 - val_accuracy: 0.4602\n",
      "Epoch 9/10\n",
      "1563/1563 [==============================] - 9s 6ms/step - loss: 1.4814 - accuracy: 0.4709 - val_loss: 1.4939 - val_accuracy: 0.4698\n",
      "Epoch 10/10\n",
      "1563/1563 [==============================] - 10s 7ms/step - loss: 1.4683 - accuracy: 0.4759 - val_loss: 1.5200 - val_accuracy: 0.4664\n",
      "1563/1563 [==============================] - 4s 3ms/step\n",
      "Train:\n",
      "              precision    recall  f1-score   support\n",
      "\n",
      "           0       0.43      0.62      0.51      5000\n",
      "           1       0.50      0.68      0.58      5000\n",
      "           2       0.43      0.25      0.32      5000\n",
      "           3       0.35      0.31      0.33      5000\n",
      "           4       0.48      0.35      0.40      5000\n",
      "           5       0.41      0.38      0.39      5000\n",
      "           6       0.46      0.57      0.51      5000\n",
      "           7       0.54      0.56      0.55      5000\n",
      "           8       0.68      0.49      0.57      5000\n",
      "           9       0.50      0.57      0.53      5000\n",
      "\n",
      "    accuracy                           0.48     50000\n",
      "   macro avg       0.48      0.48      0.47     50000\n",
      "weighted avg       0.48      0.48      0.47     50000\n",
      "\n",
      "313/313 [==============================] - 1s 3ms/step\n",
      "Test:\n",
      "              precision    recall  f1-score   support\n",
      "\n",
      "           0       0.44      0.62      0.51      1000\n",
      "           1       0.50      0.65      0.56      1000\n",
      "           2       0.41      0.24      0.31      1000\n",
      "           3       0.34      0.31      0.32      1000\n",
      "           4       0.47      0.34      0.39      1000\n",
      "           5       0.42      0.38      0.40      1000\n",
      "           6       0.45      0.56      0.49      1000\n",
      "           7       0.52      0.52      0.52      1000\n",
      "           8       0.65      0.49      0.56      1000\n",
      "           9       0.50      0.54      0.52      1000\n",
      "\n",
      "    accuracy                           0.47     10000\n",
      "   macro avg       0.47      0.47      0.46     10000\n",
      "weighted avg       0.47      0.47      0.46     10000\n",
      "\n"
     ]
    },
    {
     "data": {
      "image/png": "[encoded data removed]",
      "text/plain": [
       "<Figure size 720x360 with 2 Axes>"
      ]
     },
     "metadata": {
      "needs_background": "light"
     },
     "output_type": "display_data"
    }
   ],
   "source": [
    "model = adam()\n",
    "history = model.fit(x_train, y_train_cat, validation_data=(x_test, y_test_cat), epochs=10, batch_size=32)\n",
    "result(model, x_train, y_train, x_test, y_test)\n",
    "plot(history)"
   ]
  },
  {
   "cell_type": "markdown",
   "metadata": {
    "id": "fvV_fG17urIZ"
   },
   "source": [
    "As we can see, the Adam accuracy and generalization is worse than SGD approach. On image classification problems, its generalization performance is significantly worse than stochastic gradient descent (SGD).We can tune some of Adam parameters to make better generalization, but this approach makes Adam omputationally expensive."
   ]
  },
  {
   "cell_type": "code",
   "execution_count": null,
   "metadata": {
    "colab": {
     "base_uri": "https://localhost:8080/"
    },
    "id": "YMi2RZw4S1WD",
    "outputId": "4d03c77a-c77f-4faf-e1d7-265f4a5aa171"
   },
   "outputs": [
    {
     "data": {
      "text/plain": [
       "36261"
      ]
     },
     "execution_count": 85,
     "metadata": {},
     "output_type": "execute_result"
    }
   ],
   "source": [
    "del model\n",
    "del history\n",
    "gc.collect()"
   ]
  },
  {
   "cell_type": "markdown",
   "metadata": {
    "id": "MfBkTqDgxYja"
   },
   "source": [
    "### Epoches\n",
    "In neural network, if the number of epoches are too low, the neural network training will be uncompleted and it lead to underfitting. If the number of epoches are too high, the neural netwrok training will be biased and the generalization and accuracy results in train set will be high, but in test, the genrelazation and accuracy results will be low and it means the overfitting occurred in our neural network.\n",
    "\n",
    "there are several approaches to fix overfitting:\n",
    "- Early stopping is a form of regularization while training a model with an iterative method, such as gradient descent.\n",
    "-  decrease the complexity of the model. To decrease the complexity, we can simply remove layers or reduce the number of neurons to make the network smaller. \n",
    "-In the case of neural networks, data augmentation simply means increasing size of the data that is increasing the number of images present in the dataset.\n",
    "-Regularization is a technique to reduce the complexity of the model. It does so by adding a penalty term to the loss function. The most common techniques are known as L1 and L2 regularization.\n",
    "-Dropout is a regularization technique that prevents neural networks from overfitting. Regularization methods like L1 and L2 reduce overfitting by modifying the cost function. Dropout on the other hand, modify the network itself."
   ]
  },
  {
   "cell_type": "code",
   "execution_count": null,
   "metadata": {
    "colab": {
     "base_uri": "https://localhost:8080/",
     "height": 1000
    },
    "id": "x6I1PQqOWTJI",
    "outputId": "86de898e-7eff-411b-c3f4-a540e0079475"
   },
   "outputs": [
    {
     "name": "stdout",
     "output_type": "stream",
     "text": [
      "Epoch 1/20\n",
      "1563/1563 [==============================] - 12s 7ms/step - loss: 1.8798 - accuracy: 0.3183 - val_loss: 1.7332 - val_accuracy: 0.3878\n",
      "Epoch 2/20\n",
      "1563/1563 [==============================] - 10s 6ms/step - loss: 1.7010 - accuracy: 0.3880 - val_loss: 1.6474 - val_accuracy: 0.4043\n",
      "Epoch 3/20\n",
      "1563/1563 [==============================] - 10s 6ms/step - loss: 1.6398 - accuracy: 0.4095 - val_loss: 1.6251 - val_accuracy: 0.4112\n",
      "Epoch 4/20\n",
      "1563/1563 [==============================] - 10s 6ms/step - loss: 1.6034 - accuracy: 0.4232 - val_loss: 1.6065 - val_accuracy: 0.4251\n",
      "Epoch 5/20\n",
      "1563/1563 [==============================] - 13s 8ms/step - loss: 1.5737 - accuracy: 0.4343 - val_loss: 1.6305 - val_accuracy: 0.4218\n",
      "Epoch 6/20\n",
      "1563/1563 [==============================] - 13s 8ms/step - loss: 1.5514 - accuracy: 0.4449 - val_loss: 1.5733 - val_accuracy: 0.4341\n",
      "Epoch 7/20\n",
      "1563/1563 [==============================] - 16s 10ms/step - loss: 1.5339 - accuracy: 0.4495 - val_loss: 1.5314 - val_accuracy: 0.4542\n",
      "Epoch 8/20\n",
      "1563/1563 [==============================] - 15s 9ms/step - loss: 1.5233 - accuracy: 0.4525 - val_loss: 1.5382 - val_accuracy: 0.4450\n",
      "Epoch 9/20\n",
      "1563/1563 [==============================] - 15s 10ms/step - loss: 1.5130 - accuracy: 0.4585 - val_loss: 1.5233 - val_accuracy: 0.4502\n",
      "Epoch 10/20\n",
      "1563/1563 [==============================] - 11s 7ms/step - loss: 1.5044 - accuracy: 0.4612 - val_loss: 1.5420 - val_accuracy: 0.4498\n",
      "Epoch 11/20\n",
      "1563/1563 [==============================] - 11s 7ms/step - loss: 1.4927 - accuracy: 0.4652 - val_loss: 1.5643 - val_accuracy: 0.4357\n",
      "Epoch 12/20\n",
      "1563/1563 [==============================] - 15s 10ms/step - loss: 1.4831 - accuracy: 0.4693 - val_loss: 1.5095 - val_accuracy: 0.4607\n",
      "Epoch 13/20\n",
      "1563/1563 [==============================] - 13s 8ms/step - loss: 1.4783 - accuracy: 0.4728 - val_loss: 1.5267 - val_accuracy: 0.4584\n",
      "Epoch 14/20\n",
      "1563/1563 [==============================] - 14s 9ms/step - loss: 1.4700 - accuracy: 0.4724 - val_loss: 1.4941 - val_accuracy: 0.4641\n",
      "Epoch 15/20\n",
      "1563/1563 [==============================] - 15s 10ms/step - loss: 1.4652 - accuracy: 0.4759 - val_loss: 1.5081 - val_accuracy: 0.4643\n",
      "Epoch 16/20\n",
      "1563/1563 [==============================] - 14s 9ms/step - loss: 1.4542 - accuracy: 0.4785 - val_loss: 1.4812 - val_accuracy: 0.4720\n",
      "Epoch 17/20\n",
      "1563/1563 [==============================] - 14s 9ms/step - loss: 1.4545 - accuracy: 0.4764 - val_loss: 1.5225 - val_accuracy: 0.4569\n",
      "Epoch 18/20\n",
      "1563/1563 [==============================] - 14s 9ms/step - loss: 1.4535 - accuracy: 0.4794 - val_loss: 1.4878 - val_accuracy: 0.4696\n",
      "Epoch 19/20\n",
      "1563/1563 [==============================] - 14s 9ms/step - loss: 1.4419 - accuracy: 0.4821 - val_loss: 1.5893 - val_accuracy: 0.4335\n",
      "Epoch 20/20\n",
      "1563/1563 [==============================] - 14s 9ms/step - loss: 1.4398 - accuracy: 0.4825 - val_loss: 1.5173 - val_accuracy: 0.4581\n",
      "1563/1563 [==============================] - 7s 4ms/step\n",
      "Train:\n",
      "              precision    recall  f1-score   support\n",
      "\n",
      "           0       0.57      0.48      0.52      5000\n",
      "           1       0.62      0.57      0.59      5000\n",
      "           2       0.42      0.24      0.30      5000\n",
      "           3       0.39      0.24      0.30      5000\n",
      "           4       0.39      0.46      0.42      5000\n",
      "           5       0.49      0.30      0.37      5000\n",
      "           6       0.41      0.69      0.51      5000\n",
      "           7       0.45      0.69      0.54      5000\n",
      "           8       0.63      0.60      0.62      5000\n",
      "           9       0.52      0.58      0.55      5000\n",
      "\n",
      "    accuracy                           0.48     50000\n",
      "   macro avg       0.49      0.48      0.47     50000\n",
      "weighted avg       0.49      0.48      0.47     50000\n",
      "\n",
      "313/313 [==============================] - 1s 3ms/step\n",
      "Test:\n",
      "              precision    recall  f1-score   support\n",
      "\n",
      "           0       0.55      0.46      0.50      1000\n",
      "           1       0.60      0.55      0.57      1000\n",
      "           2       0.39      0.22      0.28      1000\n",
      "           3       0.34      0.21      0.26      1000\n",
      "           4       0.37      0.42      0.40      1000\n",
      "           5       0.46      0.29      0.35      1000\n",
      "           6       0.38      0.65      0.48      1000\n",
      "           7       0.42      0.66      0.51      1000\n",
      "           8       0.59      0.58      0.59      1000\n",
      "           9       0.51      0.54      0.52      1000\n",
      "\n",
      "    accuracy                           0.46     10000\n",
      "   macro avg       0.46      0.46      0.45     10000\n",
      "weighted avg       0.46      0.46      0.45     10000\n",
      "\n"
     ]
    },
    {
     "data": {
      "image/png": "[encoded data removed]",
      "text/plain": [
       "<Figure size 720x360 with 2 Axes>"
      ]
     },
     "metadata": {
      "needs_background": "light"
     },
     "output_type": "display_data"
    }
   ],
   "source": [
    "model = adam()\n",
    "history = model.fit(x_train, y_train_cat, validation_data=(x_test, y_test_cat), epochs=20, batch_size=32)\n",
    "result(model, x_train, y_train, x_test, y_test)\n",
    "plot(nn_result)"
   ]
  },
  {
   "cell_type": "markdown",
   "metadata": {
    "id": "E0APHFW-0BDs"
   },
   "source": [
    "As we can see, the accuracy of f1-score in train set is higher than the accuracy of f1-score in test set and it can be the sign of overfitting."
   ]
  },
  {
   "cell_type": "markdown",
   "metadata": {
    "id": "iS76J5MR3xBw"
   },
   "source": [
    "### Loss\n",
    "\n",
    "As a rule of thumb, mean squared error (MSE) is more appropriate for regression problems, that is, problems where the output is a numerical value (i.e. a floating-point number or, in general, a real number). However, in principle, you can use the MSE for classification problems too (even though that may not be a good idea). MSE can be preceded by the sigmoid function, which outputs a number p∈[0,1]\n",
    ", which can be interpreted as the probability of the input belonging to one of the classes, so the probability of the input belonging to the other class is 1−p\n",
    ".\n",
    "\n",
    "Similarly, cross-entropy (CE) is mainly used for classification problems, that is, problems where the output can belong to one of a discrete set of classes. The CE loss function is usually separately implemented for binary and multi-class classification problems."
   ]
  },
  {
   "cell_type": "code",
   "execution_count": null,
   "metadata": {
    "id": "T1AFfAfXTzXE"
   },
   "outputs": [],
   "source": [
    "def loss(loss_kind):\n",
    "  model = tf.keras.models.Sequential()\n",
    "  model.add(tf.keras.layers.Flatten(input_shape = (32,32,3)))\n",
    "  model.add(tf.keras.layers.Dense(100, activation='relu',input_shape = (32*32*3,)))\n",
    "  model.add(tf.keras.layers.Dense(100, 'relu'))\n",
    "  model.add(tf.keras.layers.Dense(10, activation=tf.keras.activations.softmax))\n",
    "\n",
    "  model.compile(optimizer=tf.keras.optimizers.Adam(learning_rate=0.001), loss=loss_kind, metrics=[\"accuracy\"])\n",
    "  return model"
   ]
  },
  {
   "cell_type": "code",
   "execution_count": null,
   "metadata": {
    "colab": {
     "base_uri": "https://localhost:8080/",
     "height": 1000
    },
    "id": "fgH12ob5WAfU",
    "outputId": "3cc995d5-756e-40dc-948b-d7f0527125eb"
   },
   "outputs": [
    {
     "name": "stdout",
     "output_type": "stream",
     "text": [
      "Epoch 1/10\n",
      "1563/1563 [==============================] - 10s 6ms/step - loss: 0.0801 - accuracy: 0.3102 - val_loss: 0.0767 - val_accuracy: 0.3576\n",
      "Epoch 2/10\n",
      "1563/1563 [==============================] - 9s 6ms/step - loss: 0.0764 - accuracy: 0.3589 - val_loss: 0.0754 - val_accuracy: 0.3710\n",
      "Epoch 3/10\n",
      "1563/1563 [==============================] - 10s 6ms/step - loss: 0.0752 - accuracy: 0.3707 - val_loss: 0.0740 - val_accuracy: 0.3878\n",
      "Epoch 4/10\n",
      "1563/1563 [==============================] - 9s 6ms/step - loss: 0.0745 - accuracy: 0.3797 - val_loss: 0.0733 - val_accuracy: 0.3939\n",
      "Epoch 5/10\n",
      "1563/1563 [==============================] - 10s 6ms/step - loss: 0.0739 - accuracy: 0.3893 - val_loss: 0.0735 - val_accuracy: 0.3908\n",
      "Epoch 6/10\n",
      "1563/1563 [==============================] - 10s 7ms/step - loss: 0.0734 - accuracy: 0.3950 - val_loss: 0.0741 - val_accuracy: 0.3880\n",
      "Epoch 7/10\n",
      "1563/1563 [==============================] - 11s 7ms/step - loss: 0.0734 - accuracy: 0.3938 - val_loss: 0.0733 - val_accuracy: 0.3936\n",
      "Epoch 8/10\n",
      "1563/1563 [==============================] - 10s 6ms/step - loss: 0.0730 - accuracy: 0.4014 - val_loss: 0.0733 - val_accuracy: 0.3969\n",
      "Epoch 9/10\n",
      "1563/1563 [==============================] - 9s 6ms/step - loss: 0.0726 - accuracy: 0.4041 - val_loss: 0.0725 - val_accuracy: 0.4044\n",
      "Epoch 10/10\n",
      "1563/1563 [==============================] - 10s 6ms/step - loss: 0.0724 - accuracy: 0.4050 - val_loss: 0.0731 - val_accuracy: 0.3944\n",
      "1563/1563 [==============================] - 4s 3ms/step\n",
      "Train:\n",
      "              precision    recall  f1-score   support\n",
      "\n",
      "           0       0.55      0.36      0.43      5000\n",
      "           1       0.63      0.41      0.50      5000\n",
      "           2       0.29      0.29      0.29      5000\n",
      "           3       0.31      0.17      0.22      5000\n",
      "           4       0.32      0.28      0.30      5000\n",
      "           5       0.43      0.23      0.30      5000\n",
      "           6       0.32      0.67      0.43      5000\n",
      "           7       0.45      0.48      0.47      5000\n",
      "           8       0.48      0.64      0.55      5000\n",
      "           9       0.46      0.57      0.51      5000\n",
      "\n",
      "    accuracy                           0.41     50000\n",
      "   macro avg       0.42      0.41      0.40     50000\n",
      "weighted avg       0.42      0.41      0.40     50000\n",
      "\n",
      "313/313 [==============================] - 1s 3ms/step\n",
      "Test:\n",
      "              precision    recall  f1-score   support\n",
      "\n",
      "           0       0.54      0.34      0.42      1000\n",
      "           1       0.62      0.41      0.49      1000\n",
      "           2       0.27      0.28      0.27      1000\n",
      "           3       0.27      0.14      0.19      1000\n",
      "           4       0.30      0.25      0.27      1000\n",
      "           5       0.45      0.25      0.32      1000\n",
      "           6       0.32      0.69      0.44      1000\n",
      "           7       0.43      0.45      0.44      1000\n",
      "           8       0.44      0.61      0.51      1000\n",
      "           9       0.45      0.54      0.49      1000\n",
      "\n",
      "    accuracy                           0.39     10000\n",
      "   macro avg       0.41      0.39      0.38     10000\n",
      "weighted avg       0.41      0.39      0.38     10000\n",
      "\n"
     ]
    },
    {
     "data": {
      "image/png": "[encoded data removed]",
      "text/plain": [
       "<Figure size 720x360 with 2 Axes>"
      ]
     },
     "metadata": {
      "needs_background": "light"
     },
     "output_type": "display_data"
    }
   ],
   "source": [
    "model = loss('mse')\n",
    "nn_result = model.fit(x_train, y_train_cat, validation_data=(x_test, y_test_cat), epochs=10, batch_size=32)\n",
    "result(model, x_train, y_train, x_test, y_test)\n",
    "plot(nn_result)"
   ]
  },
  {
   "cell_type": "code",
   "execution_count": null,
   "metadata": {
    "colab": {
     "base_uri": "https://localhost:8080/",
     "height": 1000
    },
    "id": "N4U856HM2MmZ",
    "outputId": "1ff0d2c9-4d89-4ad9-d163-8cff37c6a807"
   },
   "outputs": [
    {
     "name": "stdout",
     "output_type": "stream",
     "text": [
      "Epoch 1/10\n",
      "1563/1563 [==============================] - 11s 7ms/step - loss: 1.8713 - accuracy: 0.3235 - val_loss: 1.7154 - val_accuracy: 0.3797\n",
      "Epoch 2/10\n",
      "1563/1563 [==============================] - 10s 7ms/step - loss: 1.7040 - accuracy: 0.3875 - val_loss: 1.6205 - val_accuracy: 0.4244\n",
      "Epoch 3/10\n",
      "1563/1563 [==============================] - 13s 8ms/step - loss: 1.6334 - accuracy: 0.4156 - val_loss: 1.6526 - val_accuracy: 0.4102\n",
      "Epoch 4/10\n",
      "1563/1563 [==============================] - 11s 7ms/step - loss: 1.5856 - accuracy: 0.4320 - val_loss: 1.5948 - val_accuracy: 0.4307\n",
      "Epoch 5/10\n",
      "1563/1563 [==============================] - 10s 6ms/step - loss: 1.5532 - accuracy: 0.4458 - val_loss: 1.5599 - val_accuracy: 0.4421\n",
      "Epoch 6/10\n",
      "1563/1563 [==============================] - 9s 6ms/step - loss: 1.5256 - accuracy: 0.4560 - val_loss: 1.5375 - val_accuracy: 0.4519\n",
      "Epoch 7/10\n",
      "1563/1563 [==============================] - 9s 6ms/step - loss: 1.5034 - accuracy: 0.4624 - val_loss: 1.5010 - val_accuracy: 0.4665\n",
      "Epoch 8/10\n",
      "1563/1563 [==============================] - 9s 6ms/step - loss: 1.4831 - accuracy: 0.4687 - val_loss: 1.5746 - val_accuracy: 0.4377\n",
      "Epoch 9/10\n",
      "1563/1563 [==============================] - 10s 6ms/step - loss: 1.4732 - accuracy: 0.4708 - val_loss: 1.5197 - val_accuracy: 0.4599\n",
      "Epoch 10/10\n",
      "1563/1563 [==============================] - 11s 7ms/step - loss: 1.4578 - accuracy: 0.4784 - val_loss: 1.5198 - val_accuracy: 0.4620\n",
      "1563/1563 [==============================] - 4s 2ms/step\n",
      "Train:\n",
      "              precision    recall  f1-score   support\n",
      "\n",
      "           0       0.61      0.46      0.53      5000\n",
      "           1       0.48      0.76      0.59      5000\n",
      "           2       0.42      0.32      0.36      5000\n",
      "           3       0.33      0.33      0.33      5000\n",
      "           4       0.51      0.32      0.40      5000\n",
      "           5       0.38      0.46      0.42      5000\n",
      "           6       0.47      0.61      0.53      5000\n",
      "           7       0.64      0.48      0.55      5000\n",
      "           8       0.65      0.60      0.63      5000\n",
      "           9       0.46      0.49      0.48      5000\n",
      "\n",
      "    accuracy                           0.48     50000\n",
      "   macro avg       0.50      0.48      0.48     50000\n",
      "weighted avg       0.50      0.48      0.48     50000\n",
      "\n",
      "313/313 [==============================] - 1s 3ms/step\n",
      "Test:\n",
      "              precision    recall  f1-score   support\n",
      "\n",
      "           0       0.60      0.45      0.51      1000\n",
      "           1       0.47      0.73      0.57      1000\n",
      "           2       0.36      0.29      0.32      1000\n",
      "           3       0.30      0.30      0.30      1000\n",
      "           4       0.47      0.28      0.35      1000\n",
      "           5       0.36      0.44      0.39      1000\n",
      "           6       0.45      0.62      0.52      1000\n",
      "           7       0.61      0.45      0.52      1000\n",
      "           8       0.62      0.60      0.61      1000\n",
      "           9       0.46      0.48      0.47      1000\n",
      "\n",
      "    accuracy                           0.46     10000\n",
      "   macro avg       0.47      0.46      0.46     10000\n",
      "weighted avg       0.47      0.46      0.46     10000\n",
      "\n"
     ]
    },
    {
     "data": {
      "image/png": "[encoded data removed]",
      "text/plain": [
       "<Figure size 720x360 with 2 Axes>"
      ]
     },
     "metadata": {
      "needs_background": "light"
     },
     "output_type": "display_data"
    }
   ],
   "source": [
    "model = loss(tf.keras.losses.CategoricalCrossentropy())\n",
    "nn_result = model.fit(x_train, y_train_cat, validation_data=(x_test, y_test_cat), epochs=10, batch_size=32)\n",
    "result(model, x_train, y_train, x_test, y_test)\n",
    "plot(nn_result)"
   ]
  },
  {
   "cell_type": "markdown",
   "metadata": {
    "id": "7HRhjsdX00lj"
   },
   "source": [
    "As you can see, the MSE accuracy and generalization are worse than the Categorical Cross entrop accuracy and generalization."
   ]
  },
  {
   "cell_type": "markdown",
   "metadata": {
    "id": "w947cCB256Vv"
   },
   "source": [
    "### DropOut\n",
    "The term “dropout” refers to dropping out the nodes (input and hidden layer) in a neural network. All the forward and backwards connections with a dropped node are temporarily removed, thus creating a new network architecture out of the parent network.\n",
    "### Effect on Network\n",
    "In the overfitting problem, the model learns the statistical noise. To be precise, the main motive of training is to decrease the loss function, given all the units (neurons). So in overfitting, a unit may change in a way that fixes up the mistakes of the other units. This leads to complex co-adaptations, which in turn leads to the overfitting problem because this complex co-adaptation fails to generalise on the unseen dataset.\n",
    "\n",
    "Now, if we use dropout, it prevents these units to fix up the mistake of other units, thus preventing co-adaptation, as in every iteration the presence of a unit is highly unreliable. So by randomly dropping a few units (nodes), it forces the layers to take more or less responsibility for the input by taking a probabilistic approach.\n",
    "\n",
    "### Result\n",
    "This ensures that the model is getting generalised and hence reducing the overfitting problem."
   ]
  },
  {
   "cell_type": "code",
   "execution_count": null,
   "metadata": {
    "id": "5sMt60Q4WD01"
   },
   "outputs": [],
   "source": [
    "def dropout():\n",
    "  model = tf.keras.models.Sequential()\n",
    "  model.add(tf.keras.layers.Flatten(input_shape = (32,32,3)))\n",
    "  model.add(tf.keras.layers.Dense(100, activation='relu',input_shape = (32*32*3,),))\n",
    "  model.add(tf.keras.layers.Dropout(rate=0.1))\n",
    "  model.add(tf.keras.layers.Dense(100, 'relu',))\n",
    "  model.add(tf.keras.layers.Dropout(rate=0.1))\n",
    "  model.add(tf.keras.layers.Dense(10, activation=tf.keras.activations.softmax,))\n",
    "\n",
    "  model.compile(optimizer=tf.keras.optimizers.Adam(learning_rate=0.001), loss=tf.keras.losses.categorical_crossentropy, metrics=[\"accuracy\"])\n",
    "  return model"
   ]
  },
  {
   "cell_type": "code",
   "execution_count": null,
   "metadata": {
    "colab": {
     "base_uri": "https://localhost:8080/",
     "height": 1000
    },
    "id": "HLzxNRTsYyr2",
    "outputId": "308d5ba4-af10-4c3c-df33-e58853de1a46"
   },
   "outputs": [
    {
     "name": "stdout",
     "output_type": "stream",
     "text": [
      "Epoch 1/30\n",
      "1563/1563 [==============================] - 10s 6ms/step - loss: 1.9776 - accuracy: 0.2674 - val_loss: 1.8147 - val_accuracy: 0.3365\n",
      "Epoch 2/30\n",
      "1563/1563 [==============================] - 9s 6ms/step - loss: 1.8556 - accuracy: 0.3203 - val_loss: 1.7889 - val_accuracy: 0.3513\n",
      "Epoch 3/30\n",
      "1563/1563 [==============================] - 10s 6ms/step - loss: 1.8172 - accuracy: 0.3358 - val_loss: 1.7370 - val_accuracy: 0.3736\n",
      "Epoch 4/30\n",
      "1563/1563 [==============================] - 10s 6ms/step - loss: 1.7911 - accuracy: 0.3463 - val_loss: 1.7076 - val_accuracy: 0.3835\n",
      "Epoch 5/30\n",
      "1563/1563 [==============================] - 9s 6ms/step - loss: 1.7759 - accuracy: 0.3541 - val_loss: 1.7130 - val_accuracy: 0.3741\n",
      "Epoch 6/30\n",
      "1563/1563 [==============================] - 9s 6ms/step - loss: 1.7694 - accuracy: 0.3575 - val_loss: 1.6806 - val_accuracy: 0.3925\n",
      "Epoch 7/30\n",
      "1563/1563 [==============================] - 9s 6ms/step - loss: 1.7526 - accuracy: 0.3610 - val_loss: 1.6597 - val_accuracy: 0.4031\n",
      "Epoch 8/30\n",
      "1563/1563 [==============================] - 9s 6ms/step - loss: 1.7368 - accuracy: 0.3686 - val_loss: 1.6945 - val_accuracy: 0.3852\n",
      "Epoch 9/30\n",
      "1563/1563 [==============================] - 9s 6ms/step - loss: 1.7328 - accuracy: 0.3722 - val_loss: 1.6502 - val_accuracy: 0.4080\n",
      "Epoch 10/30\n",
      "1563/1563 [==============================] - 9s 6ms/step - loss: 1.7214 - accuracy: 0.3755 - val_loss: 1.6693 - val_accuracy: 0.3946\n",
      "Epoch 11/30\n",
      "1563/1563 [==============================] - 10s 6ms/step - loss: 1.7216 - accuracy: 0.3788 - val_loss: 1.6449 - val_accuracy: 0.4045\n",
      "Epoch 12/30\n",
      "1563/1563 [==============================] - 9s 6ms/step - loss: 1.7073 - accuracy: 0.3805 - val_loss: 1.6488 - val_accuracy: 0.4106\n",
      "Epoch 13/30\n",
      "1563/1563 [==============================] - 9s 6ms/step - loss: 1.7015 - accuracy: 0.3828 - val_loss: 1.6401 - val_accuracy: 0.4110\n",
      "Epoch 14/30\n",
      "1563/1563 [==============================] - 9s 6ms/step - loss: 1.6920 - accuracy: 0.3879 - val_loss: 1.6417 - val_accuracy: 0.4075\n",
      "Epoch 15/30\n",
      "1563/1563 [==============================] - 10s 6ms/step - loss: 1.6860 - accuracy: 0.3899 - val_loss: 1.6199 - val_accuracy: 0.4223\n",
      "Epoch 16/30\n",
      "1563/1563 [==============================] - 10s 6ms/step - loss: 1.6905 - accuracy: 0.3870 - val_loss: 1.6615 - val_accuracy: 0.3997\n",
      "Epoch 17/30\n",
      "1563/1563 [==============================] - 10s 6ms/step - loss: 1.6807 - accuracy: 0.3938 - val_loss: 1.6283 - val_accuracy: 0.4141\n",
      "Epoch 18/30\n",
      "1563/1563 [==============================] - 10s 6ms/step - loss: 1.6736 - accuracy: 0.3924 - val_loss: 1.6252 - val_accuracy: 0.4042\n",
      "Epoch 19/30\n",
      "1563/1563 [==============================] - 10s 6ms/step - loss: 1.6787 - accuracy: 0.3939 - val_loss: 1.6190 - val_accuracy: 0.4217\n",
      "Epoch 20/30\n",
      "1563/1563 [==============================] - 10s 6ms/step - loss: 1.6708 - accuracy: 0.3959 - val_loss: 1.6292 - val_accuracy: 0.4065\n",
      "Epoch 21/30\n",
      "1563/1563 [==============================] - 10s 6ms/step - loss: 1.6662 - accuracy: 0.3983 - val_loss: 1.6027 - val_accuracy: 0.4260\n",
      "Epoch 22/30\n",
      "1563/1563 [==============================] - 10s 6ms/step - loss: 1.6660 - accuracy: 0.3975 - val_loss: 1.6199 - val_accuracy: 0.4174\n",
      "Epoch 23/30\n",
      "1563/1563 [==============================] - 10s 6ms/step - loss: 1.6694 - accuracy: 0.3967 - val_loss: 1.6200 - val_accuracy: 0.4113\n",
      "Epoch 24/30\n",
      "1563/1563 [==============================] - 10s 7ms/step - loss: 1.6631 - accuracy: 0.3986 - val_loss: 1.6080 - val_accuracy: 0.4175\n",
      "Epoch 25/30\n",
      "1563/1563 [==============================] - 9s 6ms/step - loss: 1.6607 - accuracy: 0.3984 - val_loss: 1.6442 - val_accuracy: 0.4025\n",
      "Epoch 26/30\n",
      "1563/1563 [==============================] - 11s 7ms/step - loss: 1.6615 - accuracy: 0.3995 - val_loss: 1.6138 - val_accuracy: 0.4182\n",
      "Epoch 27/30\n",
      "1563/1563 [==============================] - 10s 6ms/step - loss: 1.6563 - accuracy: 0.4008 - val_loss: 1.6883 - val_accuracy: 0.3818\n",
      "Epoch 28/30\n",
      "1563/1563 [==============================] - 10s 6ms/step - loss: 1.6525 - accuracy: 0.4030 - val_loss: 1.6494 - val_accuracy: 0.4048\n",
      "Epoch 29/30\n",
      "1563/1563 [==============================] - 9s 6ms/step - loss: 1.6521 - accuracy: 0.4022 - val_loss: 1.5892 - val_accuracy: 0.4333\n",
      "Epoch 30/30\n",
      "1563/1563 [==============================] - 10s 6ms/step - loss: 1.6474 - accuracy: 0.4078 - val_loss: 1.6054 - val_accuracy: 0.4230\n",
      "1563/1563 [==============================] - 4s 3ms/step\n",
      "Train:\n",
      "              precision    recall  f1-score   support\n",
      "\n",
      "           0       0.42      0.59      0.49      5000\n",
      "           1       0.65      0.52      0.58      5000\n",
      "           2       0.33      0.20      0.25      5000\n",
      "           3       0.30      0.21      0.25      5000\n",
      "           4       0.33      0.42      0.37      5000\n",
      "           5       0.37      0.37      0.37      5000\n",
      "           6       0.43      0.52      0.47      5000\n",
      "           7       0.49      0.52      0.50      5000\n",
      "           8       0.56      0.59      0.57      5000\n",
      "           9       0.54      0.49      0.51      5000\n",
      "\n",
      "    accuracy                           0.44     50000\n",
      "   macro avg       0.44      0.44      0.44     50000\n",
      "weighted avg       0.44      0.44      0.44     50000\n",
      "\n",
      "313/313 [==============================] - 1s 3ms/step\n",
      "Test:\n",
      "              precision    recall  f1-score   support\n",
      "\n",
      "           0       0.41      0.58      0.48      1000\n",
      "           1       0.62      0.48      0.54      1000\n",
      "           2       0.31      0.20      0.24      1000\n",
      "           3       0.28      0.19      0.23      1000\n",
      "           4       0.31      0.40      0.35      1000\n",
      "           5       0.37      0.37      0.37      1000\n",
      "           6       0.43      0.52      0.47      1000\n",
      "           7       0.45      0.47      0.46      1000\n",
      "           8       0.53      0.57      0.55      1000\n",
      "           9       0.52      0.46      0.49      1000\n",
      "\n",
      "    accuracy                           0.42     10000\n",
      "   macro avg       0.42      0.42      0.42     10000\n",
      "weighted avg       0.42      0.42      0.42     10000\n",
      "\n"
     ]
    },
    {
     "data": {
      "image/png": "[encoded data removed]",
      "text/plain": [
       "<Figure size 720x360 with 2 Axes>"
      ]
     },
     "metadata": {
      "needs_background": "light"
     },
     "output_type": "display_data"
    }
   ],
   "source": [
    "model = dropout()\n",
    "nn_result = model.fit(x_train, y_train_cat, validation_data=(x_test, y_test_cat), epochs=30, batch_size=32)\n",
    "result(model, x_train, y_train, x_test, y_test)\n",
    "plot(nn_result)"
   ]
  }
 ],
 "metadata": {
  "colab": {
   "provenance": []
  },
  "kernelspec": {
   "display_name": "Python 3 (ipykernel)",
   "language": "python",
   "name": "python3"
  },
  "language_info": {
   "codemirror_mode": {
    "name": "ipython",
    "version": 3
   },
   "file_extension": ".py",
   "mimetype": "text/x-python",
   "name": "python",
   "nbconvert_exporter": "python",
   "pygments_lexer": "ipython3",
   "version": "3.9.12"
  }
 },
 "nbformat": 4,
 "nbformat_minor": 1
}
