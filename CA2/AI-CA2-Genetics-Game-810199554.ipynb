{
 "cells": [
  {
   "cell_type": "markdown",
   "id": "9e00db51",
   "metadata": {},
   "source": [
    "# AI-CA2\n",
    "### Name: Sina Tabassi\n",
    "### ID : 810199554"
   ]
  },
  {
   "cell_type": "markdown",
   "id": "359c470e",
   "metadata": {},
   "source": [
    "# Part 1: Genetic"
   ]
  },
  {
   "cell_type": "markdown",
   "id": "0ac0c62f",
   "metadata": {},
   "source": [
    "## Modeling\n",
    "gene : every operator or operand given by input by\n",
    "\n",
    "chromosome : sequence of operators and operands in right place\n",
    "\n",
    "target : given equation\n",
    "\n",
    "heuristic of fitness : absolute value of difference of every chromosome answer with target answer"
   ]
  },
  {
   "cell_type": "markdown",
   "id": "2dfe63a7",
   "metadata": {},
   "source": [
    "## Imports and Constants"
   ]
  },
  {
   "cell_type": "code",
   "execution_count": 9,
   "id": "35b5a394",
   "metadata": {},
   "outputs": [],
   "source": [
    "import random\n",
    "crossoverProbability = 0.5\n",
    "carryPercentage = 0.2\n",
    "populationSize = 700"
   ]
  },
  {
   "cell_type": "markdown",
   "id": "310b50c0",
   "metadata": {},
   "source": [
    "## The Equation Builder Class and Functions"
   ]
  },
  {
   "cell_type": "code",
   "execution_count": 10,
   "id": "d02fd608",
   "metadata": {},
   "outputs": [],
   "source": [
    "class EquationBuilder:\n",
    "    \n",
    "    def __init__(self, operators, operands, equationLength, goalNumber):\n",
    "        self.operators = operators\n",
    "        self.operands = operands\n",
    "        self.equationLength = equationLength\n",
    "        self.goalNumber = goalNumber\n",
    "\n",
    "        # Create the earliest population at the begining\n",
    "        self.population = self.makeFirstPopulation()\n",
    "        \n",
    "    def makeFirstPopulation(self):\n",
    "        my_population = []\n",
    "        for x in range(populationSize):\n",
    "            sample = []\n",
    "            for n in range(equationLength):\n",
    "                if n % 2 == 0:\n",
    "                    sample.append(random.choice(operands))\n",
    "                else:\n",
    "                    sample.append(random.choice(operators))\n",
    "            my_population.append(sample)\n",
    "        return my_population\n",
    "\n",
    "    def findEquation(self):\n",
    "        # Create a new generation of chromosomes, and make it better in every iteration\n",
    "        while (True):\n",
    "            random.shuffle(self.population)\n",
    "            fitnesses = []\n",
    "            bestChromosome = []\n",
    "\n",
    "\n",
    "            for i in range(populationSize):\n",
    "                l=self.population[i].copy()\n",
    "                each_fitness =self.calcFitness(l, i)\n",
    "                if each_fitness[0] == 0:\n",
    "                    return self.population[each_fitness[1]]\n",
    "                fitnesses.append(each_fitness)\n",
    "            fitnesses.sort(key = lambda x: x[0])\n",
    "\n",
    "\n",
    "            for i in range(populationSize):\n",
    "                x=fitnesses[i][1]\n",
    "                bestChromosome.append(self.population[x])\n",
    "\n",
    "            carriedChromosomes = []\n",
    "            for i in range(0, int(populationSize * carryPercentage)):\n",
    "                carriedChromosomes.append(bestChromosome[i])\n",
    "\n",
    "                # A pool consisting of potential candidates for mating (crossover and mutation)\n",
    "            matingPool = self.createMatingPool(bestChromosome)\n",
    "\n",
    "            # The pool consisting of chromosomes after crossover\n",
    "            crossoverPool = self.createCrossoverPool(matingPool)\n",
    "\n",
    "            # Delete the previous population\n",
    "            self.population.clear()\n",
    "\n",
    "            # Create the portion of population that is undergone crossover and mutation\n",
    "            for i in range(populationSize - int(populationSize * carryPercentage)):\n",
    "                self.population.append(self.mutate(crossoverPool[i]))\n",
    "\n",
    "            # Add the prominent chromosomes directly to next generation\n",
    "            self.population.extend(carriedChromosomes)\n",
    "\n",
    "    def createMatingPool(self , bestChromosome):\n",
    "        matingPool = bestChromosome.copy()\n",
    "        for i in range(int(populationSize * carryPercentage)):\n",
    "            matingPool.pop()\n",
    "        return matingPool\n",
    "\n",
    "    def createCrossoverPool(self, matingPool):\n",
    "        crossoverPool = []\n",
    "        for i in range(len(matingPool)):\n",
    "            if random.random() > crossoverProbability:\n",
    "                crossoverPool.append(matingPool[i])\n",
    "            else:\n",
    "                child = []\n",
    "                parent1 = random.choice(matingPool)\n",
    "                parent2 = random.choice(matingPool)\n",
    "                for gene in range(self.equationLength):\n",
    "                    prob = random.random()\n",
    "                    if prob > crossoverProbability:\n",
    "                        child.append(parent1[gene])\n",
    "                    else:\n",
    "                        child.append(parent2[gene])\n",
    "                crossoverPool.append(child)\n",
    "        return crossoverPool\n",
    "\n",
    "    def mutate(self, chromosome):\n",
    "        random_gene=random.randint(0,equationLength-1)\n",
    "        for gene in range(random_gene):\n",
    "            gene = random.randint(0,equationLength-1)\n",
    "            if gene % 2 == 0:\n",
    "                new_gene = random.choice(operands)\n",
    "            else:\n",
    "                new_gene = random.choice(operators)\n",
    "            chromosome[gene] = new_gene\n",
    "        return chromosome\n",
    "    \n",
    "    def multiplication_divder(self,my_list):\n",
    "        x = 0\n",
    "        my_list.append('e')\n",
    "        while (my_list[x] != 'e'):\n",
    "            if my_list[x] == '*':\n",
    "                my_list[x] = my_list[x - 1] * my_list[x + 1]\n",
    "                my_list.pop(x - 1)\n",
    "                my_list.pop(x)\n",
    "                x = x - 2\n",
    "            if my_list[x] == '%':\n",
    "                my_list[x] = my_list[x - 1] % my_list[x + 1]\n",
    "                my_list.pop(x - 1)\n",
    "                my_list.pop(x)\n",
    "                x = x - 2\n",
    "            x = x + 1\n",
    "        return my_list\n",
    "\n",
    "    def sum_and_minus(self,my_list):\n",
    "        x = 0\n",
    "        while (my_list[x] != 'e'):\n",
    "            if my_list[x] == '+':\n",
    "                my_list[x] = my_list[x - 1] + my_list[x + 1]\n",
    "                my_list.pop(x - 1)\n",
    "                my_list.pop(x)\n",
    "                x = x - 2\n",
    "            if my_list[x] == '-':\n",
    "                my_list[x] = my_list[x - 1] - my_list[x + 1]\n",
    "                my_list.pop(x - 1)\n",
    "                my_list.pop(x)\n",
    "                x = x - 2\n",
    "            x = x + 1\n",
    "        my_list.pop()\n",
    "        return my_list\n",
    "\n",
    "\n",
    "    def calcFitness(self, chromosome, i):\n",
    "        version1 = self.multiplication_divder(chromosome)\n",
    "        version2 = self.sum_and_minus(version1)\n",
    "        return [abs(self.goalNumber - version2[0]), i]"
   ]
  },
  {
   "cell_type": "markdown",
   "id": "f0079503",
   "metadata": {},
   "source": [
    "## Inputs and Ouput"
   ]
  },
  {
   "cell_type": "code",
   "execution_count": 11,
   "id": "a0b71e3d",
   "metadata": {},
   "outputs": [
    {
     "name": "stdout",
     "output_type": "stream",
     "text": [
      "21\n",
      "1 2 3 4 5 6 7 8\n",
      "+ - *\n",
      "18019\n",
      "5 * 8 * 4 * 4 * 4 * 7 + 7 * 8 * 2 - 5 - 8\n"
     ]
    }
   ],
   "source": [
    "equationLength = int(input())\n",
    "operands = input()\n",
    "operands = operands.split()\n",
    "operands = [int(i) for i in operands]\n",
    "operators = input()\n",
    "operators = operators.split()\n",
    "goalNumber = int(input())\n",
    "\n",
    "equationBuilder = EquationBuilder(operators, operands, equationLength, goalNumber)\n",
    "equation = equationBuilder.findEquation()\n",
    "print(*equation)"
   ]
  },
  {
   "cell_type": "markdown",
   "id": "f1d5f18b",
   "metadata": {},
   "source": [
    "## Answers of Questions\n",
    "\n",
    "\n",
    "1) If the earliest population is too large, we should check too much chromosome in every cylce and do a lot of calculation in every cycle of our algorithm and it will reduce the probability of reaching the optimal solution.\n",
    "   If the earliest population is too small, we have smaller number of chromosomes to crossover and mutate, so the varity of our population is very small and we have to run program for too many cyles to find the answer and this problem will reduce the probability of reaching the optimal solution.\n",
    "   \n",
    "\n",
    "2) It will increase the precision of algorithm but in exchange the algorthim speed will decrease because of the calculation in every cycle.\n",
    " \n",
    " \n",
    "3) \n",
    "   Crossover: Two chromosomes are picked from the mating pool at random to crossover in order to produce superior offspring. The method chosen depends on the Encoding Method. In this code we crossover with probability in every gene (uniform).\n",
    "   \n",
    "   Mutation: is a unary operator and it needs only one parent to work on. It does so by selecting a few genes from our selected chromosome and apply the desired algorithm.\n",
    "   we can't just use one of this operators, because if we delete one of this operators, the varity of population become smaller and the population will direct to some specific property for each chromosome.\n",
    " \n",
    " \n",
    "4) We can use suitable heuristic, chormosome,probability, earliest population and .... to get to answer much faster.\n",
    "\n",
    "\n",
    "5) If we can't control the varity of population in every cylce, after some cycles, the chromosome property won't change. All we have to do, is to balance the varity of population in every cycle.\n",
    "    In this algorithm I carry 20% of best chromosomes directly to next generation and delete 20% of worst chormosomes before I crossover and mutate over the pupolation.Then I use uniform crossover with probability of 50% for every gene. Then I mutate the rest of population (not the deleted chormosomes).\n",
    "    \n",
    "    Heuristic : absolute value of the difference of every chromosome answer with traget answer.\n",
    "    \n",
    "    | target_answer-every_chromosome_answer|\n",
    "\n",
    "6) We can save the best chromosome in every cycle, so if the program can't find the answer after some specific cycles or a certian time, we can perform that chromosome as the closest answer that we could find."
   ]
  },
  {
   "cell_type": "markdown",
   "id": "b4710623",
   "metadata": {},
   "source": [
    "# Part 2: Game\n",
    "\n",
    "\n",
    "### Attention! \n",
    "\n",
    "Because of the bad coding style of the \"main.py\" that was given to us, I had to change to some part of \"play fucntion\" that was really necessary for good result. "
   ]
  },
  {
   "cell_type": "markdown",
   "id": "206bcc75",
   "metadata": {},
   "source": [
    "## Evaluate Function\n",
    "\n",
    "- In every case:\n",
    "    - If the red wins, return a positive value like +1\n",
    "    - If the blude winds, return a negetive value like -1\n",
    "    - If none of two players have not won the match yet, it means the over isn't over yet, so return value 0\n",
    " "
   ]
  },
  {
   "cell_type": "markdown",
   "id": "70e3c4e7",
   "metadata": {},
   "source": [
    "## Game Code"
   ]
  },
  {
   "cell_type": "code",
   "execution_count": 1,
   "id": "3ea9c10b",
   "metadata": {},
   "outputs": [],
   "source": [
    "\n",
    "import turtle\n",
    "import math\n",
    "import random\n",
    "from time import sleep\n",
    "from sys import argv\n",
    "import time\n",
    "\n",
    "class Node:\n",
    "    score = int\n",
    "    children = []\n",
    "    next_step = []\n",
    "    r = []\n",
    "    b = []\n",
    "    available = []\n",
    "\n",
    "    def __init__(self,score,children,next_step,r,b,available):\n",
    "        self.score = score\n",
    "        self.children = children\n",
    "        self.next_step = next_step\n",
    "        self.r = r\n",
    "        self.b = b\n",
    "        self.available = available\n",
    "\n",
    "class Sim:\n",
    "    # Set true for graphical interface\n",
    "    GUI = False\n",
    "    screen = None\n",
    "    selection = []\n",
    "    turn = ''\n",
    "    dots = []\n",
    "    red = []\n",
    "    blue = []\n",
    "    available_moves = []\n",
    "    minimax_depth = 0\n",
    "    prune = False\n",
    "    node_count = 0\n",
    "\n",
    "    def __init__(self, minimax_depth, prune, gui):\n",
    "        self.GUI = gui\n",
    "        self.prune = prune\n",
    "        self.minimax_depth = minimax_depth\n",
    "        if self.GUI:\n",
    "            self.setup_screen()\n",
    "\n",
    "    def upgrade_node_count(self,count):\n",
    "        self.node_count = count\n",
    "\n",
    "    def setup_screen(self):\n",
    "        self.screen = turtle.Screen()\n",
    "        self.screen.setup(800, 800)\n",
    "        self.screen.title(\"Game of SIM\")\n",
    "        self.screen.setworldcoordinates(-1.5, -1.5, 1.5, 1.5)\n",
    "        self.screen.tracer(0, 0)\n",
    "        turtle.hideturtle()\n",
    "\n",
    "    def draw_dot(self, x, y, color):\n",
    "        turtle.up()\n",
    "        turtle.goto(x, y)\n",
    "        turtle.color(color)\n",
    "        turtle.dot(15)\n",
    "\n",
    "    def gen_dots(self):\n",
    "        r = []\n",
    "        for angle in range(0, 360, 60):\n",
    "            r.append((math.cos(math.radians(angle)), math.sin(math.radians(angle))))\n",
    "        return r\n",
    "\n",
    "    def initialize(self):\n",
    "        self.selection = []\n",
    "        self.available_moves = []\n",
    "        for i in range(0, 6):\n",
    "            for j in range(i, 6):\n",
    "                if i != j:\n",
    "                    self.available_moves.append((i, j))\n",
    "        if random.randint(0, 2) == 1:\n",
    "            self.turn = 'red'\n",
    "        else:\n",
    "            self.turn = 'blue'\n",
    "        self.dots = self.gen_dots()\n",
    "        self.red = []\n",
    "        self.blue = []\n",
    "        if self.GUI: turtle.clear()\n",
    "        self.draw()\n",
    "\n",
    "    def draw_line(self, p1, p2, color):\n",
    "        turtle.up()\n",
    "        turtle.pensize(3)\n",
    "        turtle.goto(p1)\n",
    "        turtle.down()\n",
    "        turtle.color(color)\n",
    "        turtle.goto(p2)\n",
    "\n",
    "    def draw_board(self):\n",
    "        for i in range(len(self.dots)):\n",
    "            if i in self.selection:\n",
    "                self.draw_dot(self.dots[i][0], self.dots[i][1], self.turn)\n",
    "            else:\n",
    "                self.draw_dot(self.dots[i][0], self.dots[i][1], 'dark gray')\n",
    "\n",
    "    def draw(self):\n",
    "        if not self.GUI: return 0\n",
    "        self.draw_board()\n",
    "        for i in range(len(self.red)):\n",
    "            self.draw_line((math.cos(math.radians(self.red[i][0] * 60)), math.sin(math.radians(self.red[i][0] * 60))),\n",
    "                           (math.cos(math.radians(self.red[i][1] * 60)), math.sin(math.radians(self.red[i][1] * 60))),\n",
    "                           'red')\n",
    "        for i in range(len(self.blue)):\n",
    "            self.draw_line((math.cos(math.radians(self.blue[i][0] * 60)), math.sin(math.radians(self.blue[i][0] * 60))),\n",
    "                           (math.cos(math.radians(self.blue[i][1] * 60)), math.sin(math.radians(self.blue[i][1] * 60))),\n",
    "                           'blue')\n",
    "        self.screen.update()\n",
    "        sleep(1)\n",
    "\n",
    "    def generate_minmax_tree(self, depth,player_turn,node):\n",
    "        if depth == 0:\n",
    "            return\n",
    "        for each_child in range((len(node.available))):\n",
    "            my_copy = node.available.copy()\n",
    "            red_copy = node.r.copy()\n",
    "            blue_copy = node.b.copy()\n",
    "            selection = my_copy.pop(each_child)\n",
    "            if selection[1] < selection[0]:\n",
    "                selection = (selection[1], selection[0])\n",
    "            if player_turn == 'red':\n",
    "                red_copy.append(selection)\n",
    "                next_player = 'blue'\n",
    "            else:\n",
    "                blue_copy.append(selection)\n",
    "                next_player = 'red'\n",
    "            score = self.evaluate(red_copy,blue_copy)\n",
    "            new_node = Node(score, [], selection, red_copy, blue_copy, my_copy)\n",
    "            node.children.append(new_node)\n",
    "            self.generate_minmax_tree(depth-1, next_player, new_node)\n",
    "\n",
    "    def evaluate(self,red,blue):\n",
    "\n",
    "       score = self.gameover(red,blue)\n",
    "       if score == 'blue':\n",
    "           return -1\n",
    "       if score == 'red':\n",
    "           return 1\n",
    "       if score == 0:\n",
    "           return 0\n",
    "    \n",
    "    def minimax(self, depth, player_turn, node, answer, count):\n",
    "        count[0] += 1\n",
    "        if depth == 0:\n",
    "            return node.score\n",
    "        if player_turn == 'red':\n",
    "            max_score = -2\n",
    "            for each_child in range(len(node.children)):\n",
    "                max_score = max(max_score,self.minimax(depth - 1, 'blue', node.children[each_child], answer,count))\n",
    "            for each_child in range(len(node.children)):\n",
    "                if max_score == node.children[each_child].score:\n",
    "                    answer.insert(0,node.children[each_child].next_step)\n",
    "            return max_score\n",
    "        else:\n",
    "            min_score = 2\n",
    "            for each_child in range(len(node.children)):\n",
    "                min_score = min(min_score,self.minimax(depth-1, 'red',node.children[each_child], answer,count))\n",
    "            for each_child in range(len(node.children)):\n",
    "                if min_score == node.children[each_child].score:\n",
    "                    answer.insert(0, node.children[each_child].next_step)\n",
    "            return min_score\n",
    "\n",
    "    def enemy(self):\n",
    "        return random.choice(self.available_moves)\n",
    "\n",
    "    def swap_turn(self, turn):\n",
    "        if turn == 'red':\n",
    "            return 'blue'\n",
    "        else:\n",
    "            return 'red'\n",
    "\n",
    "    def play(self):\n",
    "        self.initialize()\n",
    "        count = []\n",
    "        count.append(0)\n",
    "        while True:\n",
    "            if self.turn == 'red':\n",
    "                hey = []\n",
    "                hey.append(0)\n",
    "                node = Node(0, [], [], self.red, self.blue, self.available_moves)\n",
    "                self.generate_minmax_tree(self.minimax_depth,'red',node)\n",
    "                answer = []\n",
    "                self.minimax(self.minimax_depth,self.turn, node, answer,count)\n",
    "                selection = answer[0]\n",
    "                answer.clear()\n",
    "                if selection[1] < selection[0]:\n",
    "                    selection = (selection[1], selection[0])\n",
    "            else:\n",
    "                selection = self.enemy()\n",
    "                if selection[1] < selection[0]:\n",
    "                    selection = (selection[1], selection[0])\n",
    "            if selection in self.red or selection in self.blue:\n",
    "                raise Exception(\"Duplicate Move!!!\")\n",
    "            if self.turn == 'red':\n",
    "                self.red.append(selection)\n",
    "            else:\n",
    "                self.blue.append(selection)\n",
    "\n",
    "            self.available_moves.remove(selection)\n",
    "            self.turn = self.swap_turn(self.turn)\n",
    "            selection = []\n",
    "            self.draw()\n",
    "            r = self.gameover(self.red, self.blue)\n",
    "            if r != 0:\n",
    "                self.upgrade_node_count(count[0])\n",
    "                return r\n",
    "\n",
    "    def gameover(self, r, b):\n",
    "        if len(r) < 3:\n",
    "            return 0\n",
    "        r.sort()\n",
    "        for i in range(len(r) - 2):\n",
    "            for j in range(i + 1, len(r) - 1):\n",
    "                for k in range(j + 1, len(r)):\n",
    "                    if r[i][0] == r[j][0] and r[i][1] == r[k][0] and r[j][1] == r[k][1]:\n",
    "                        return 'blue'\n",
    "        if len(b) < 3: return 0\n",
    "        b.sort()\n",
    "        for i in range(len(b) - 2):\n",
    "            for j in range(i + 1, len(b) - 1):\n",
    "                for k in range(j + 1, len(b)):\n",
    "                    if b[i][0] == b[j][0] and b[i][1] == b[k][0] and b[j][1] == b[k][1]:\n",
    "                        return 'red'\n",
    "        return 0"
   ]
  },
  {
   "cell_type": "code",
   "execution_count": null,
   "id": "dc9851b0",
   "metadata": {},
   "outputs": [],
   "source": [
    "if __name__ == \"__main__\":\n",
    "    depth =int(argv[1])\n",
    "    game = Sim(minimax_depth=int(argv[1]), prune=True, gui=bool(int(argv[2])))\n",
    "\n",
    "    results = {\"red\": 0, \"blue\": 0}\n",
    "    for i in range(1):\n",
    "        start = time.time()\n",
    "        results[game.play()] += 1\n",
    "        end = time.time()\n",
    "        print(\"For Depth \",depth)\n",
    "        print(\"Total Node Count : \", game.node_count)\n",
    "        print(\"The Execution Time : \",end-start,\"sec\")\n",
    "    print(results)"
   ]
  },
  {
   "cell_type": "markdown",
   "id": "80134320",
   "metadata": {},
   "source": [
    "## Timing of Different Depths"
   ]
  },
  {
   "cell_type": "code",
   "execution_count": 41,
   "id": "8aca83dd",
   "metadata": {},
   "outputs": [
    {
     "name": "stdout",
     "output_type": "stream",
     "text": [
      "For Depth  1\n",
      "Total Node Count :  55\n",
      "The Execution Time :  12.115973949432373 sec\n",
      "{'red': 1, 'blue': 0}\n"
     ]
    }
   ],
   "source": [
    "!python main.py 1 1"
   ]
  },
  {
   "cell_type": "code",
   "execution_count": 43,
   "id": "82474d6c",
   "metadata": {},
   "outputs": [
    {
     "name": "stdout",
     "output_type": "stream",
     "text": [
      "For Depth  3\n",
      "Total Node Count :  5068\n",
      "The Execution Time :  10.118492364883423 sec\n",
      "{'red': 1, 'blue': 0}\n"
     ]
    }
   ],
   "source": [
    "!python main.py 3 1"
   ]
  },
  {
   "cell_type": "code",
   "execution_count": 45,
   "id": "4bbd6580",
   "metadata": {},
   "outputs": [
    {
     "name": "stdout",
     "output_type": "stream",
     "text": [
      "For Depth  5\n",
      "Total Node Count :  656384\n",
      "The Execution Time :  42.80526280403137 sec\n",
      "{'red': 1, 'blue': 0}\n"
     ]
    }
   ],
   "source": [
    "!python main.py 5 1"
   ]
  },
  {
   "cell_type": "markdown",
   "id": "f1af67ea",
   "metadata": {},
   "source": [
    "## Winning Chance"
   ]
  },
  {
   "cell_type": "code",
   "execution_count": 16,
   "id": "68f79b40",
   "metadata": {},
   "outputs": [
    {
     "name": "stdout",
     "output_type": "stream",
     "text": [
      "For Depth 1\n",
      "{'red': 84, 'blue': 16}\n"
     ]
    }
   ],
   "source": [
    "!python main.py 1 1"
   ]
  },
  {
   "cell_type": "code",
   "execution_count": 17,
   "id": "ccd9957c",
   "metadata": {},
   "outputs": [
    {
     "name": "stdout",
     "output_type": "stream",
     "text": [
      "For Depth 3\n",
      "{'red': 67, 'blue': 33}\n"
     ]
    }
   ],
   "source": [
    "!python main.py 3 1"
   ]
  },
  {
   "cell_type": "code",
   "execution_count": 23,
   "id": "5dcb9409",
   "metadata": {},
   "outputs": [
    {
     "name": "stdout",
     "output_type": "stream",
     "text": [
      "For Depth 5\n",
      "{'red': 7, 'blue': 13}\n"
     ]
    }
   ],
   "source": [
    "!python main.py 5 1"
   ]
  },
  {
   "cell_type": "markdown",
   "id": "5bad70c8",
   "metadata": {},
   "source": [
    "## Pruning Game Code"
   ]
  },
  {
   "cell_type": "code",
   "execution_count": null,
   "id": "c08a35f1",
   "metadata": {},
   "outputs": [],
   "source": [
    "import turtle\n",
    "import math\n",
    "import random\n",
    "from time import sleep\n",
    "from sys import argv\n",
    "import time\n",
    "\n",
    "class Node:\n",
    "    score = int\n",
    "    children = []\n",
    "    next_step = []\n",
    "    r = []\n",
    "    b = []\n",
    "    available = []\n",
    "\n",
    "    def __init__(self,score,children,next_step,r,b,available):\n",
    "        self.score = score\n",
    "        self.children = children\n",
    "        self.next_step = next_step\n",
    "        self.r = r\n",
    "        self.b = b\n",
    "        self.available = available\n",
    "\n",
    "class Sim:\n",
    "    # Set true for graphical interface\n",
    "    GUI = False\n",
    "    screen = None\n",
    "    selection = []\n",
    "    turn = ''\n",
    "    dots = []\n",
    "    red = []\n",
    "    blue = []\n",
    "    available_moves = []\n",
    "    minimax_depth = 0\n",
    "    prune = False\n",
    "    node_count = 0\n",
    "\n",
    "    def __init__(self, minimax_depth, prune, gui):\n",
    "        self.GUI = gui\n",
    "        self.prune = prune\n",
    "        self.minimax_depth = minimax_depth\n",
    "        if self.GUI:\n",
    "            self.setup_screen()\n",
    "\n",
    "    def upgrade_node_count(self,count):\n",
    "        self.node_count = count\n",
    "\n",
    "    def setup_screen(self):\n",
    "        self.screen = turtle.Screen()\n",
    "        self.screen.setup(800, 800)\n",
    "        self.screen.title(\"Game of SIM\")\n",
    "        self.screen.setworldcoordinates(-1.5, -1.5, 1.5, 1.5)\n",
    "        self.screen.tracer(0, 0)\n",
    "        turtle.hideturtle()\n",
    "\n",
    "    def draw_dot(self, x, y, color):\n",
    "        turtle.up()\n",
    "        turtle.goto(x, y)\n",
    "        turtle.color(color)\n",
    "        turtle.dot(15)\n",
    "\n",
    "    def gen_dots(self):\n",
    "        r = []\n",
    "        for angle in range(0, 360, 60):\n",
    "            r.append((math.cos(math.radians(angle)), math.sin(math.radians(angle))))\n",
    "        return r\n",
    "\n",
    "    def initialize(self):\n",
    "        self.selection = []\n",
    "        self.available_moves = []\n",
    "        for i in range(0, 6):\n",
    "            for j in range(i, 6):\n",
    "                if i != j:\n",
    "                    self.available_moves.append((i, j))\n",
    "        if random.randint(0, 2) == 1:\n",
    "            self.turn = 'red'\n",
    "        else:\n",
    "            self.turn = 'blue'\n",
    "        self.dots = self.gen_dots()\n",
    "        self.red = []\n",
    "        self.blue = []\n",
    "        if self.GUI: turtle.clear()\n",
    "        self.draw()\n",
    "\n",
    "    def draw_line(self, p1, p2, color):\n",
    "        turtle.up()\n",
    "        turtle.pensize(3)\n",
    "        turtle.goto(p1)\n",
    "        turtle.down()\n",
    "        turtle.color(color)\n",
    "        turtle.goto(p2)\n",
    "\n",
    "    def draw_board(self):\n",
    "        for i in range(len(self.dots)):\n",
    "            if i in self.selection:\n",
    "                self.draw_dot(self.dots[i][0], self.dots[i][1], self.turn)\n",
    "            else:\n",
    "                self.draw_dot(self.dots[i][0], self.dots[i][1], 'dark gray')\n",
    "\n",
    "    def draw(self):\n",
    "        if not self.GUI: return 0\n",
    "        self.draw_board()\n",
    "        for i in range(len(self.red)):\n",
    "            self.draw_line((math.cos(math.radians(self.red[i][0] * 60)), math.sin(math.radians(self.red[i][0] * 60))),\n",
    "                           (math.cos(math.radians(self.red[i][1] * 60)), math.sin(math.radians(self.red[i][1] * 60))),\n",
    "                           'red')\n",
    "        for i in range(len(self.blue)):\n",
    "            self.draw_line((math.cos(math.radians(self.blue[i][0] * 60)), math.sin(math.radians(self.blue[i][0] * 60))),\n",
    "                           (math.cos(math.radians(self.blue[i][1] * 60)), math.sin(math.radians(self.blue[i][1] * 60))),\n",
    "                           'blue')\n",
    "        self.screen.update()\n",
    "        sleep(1)\n",
    "\n",
    "    def generate_minmax_tree(self, depth,player_turn,node):\n",
    "        if depth == 0:\n",
    "            return\n",
    "        for each_child in range((len(node.available))):\n",
    "            my_copy = node.available.copy()\n",
    "            red_copy = node.r.copy()\n",
    "            blue_copy = node.b.copy()\n",
    "            selection = my_copy.pop(each_child)\n",
    "            if selection[1] < selection[0]:\n",
    "                selection = (selection[1], selection[0])\n",
    "            if player_turn == 'red':\n",
    "                red_copy.append(selection)\n",
    "                next_player = 'blue'\n",
    "            else:\n",
    "                blue_copy.append(selection)\n",
    "                next_player = 'red'\n",
    "            score = self.evaluate(red_copy,blue_copy)\n",
    "            new_node = Node(score, [], selection, red_copy, blue_copy, my_copy)\n",
    "            node.children.append(new_node)\n",
    "            self.generate_minmax_tree(depth-1, next_player, new_node)\n",
    "\n",
    "    def evaluate(self, red, blue):\n",
    "       score = self.gameover(red, blue)\n",
    "       if score == 'blue':\n",
    "           return -1\n",
    "       if score == 'red':\n",
    "           return 1\n",
    "       if score == 0:\n",
    "           return 0\n",
    "\n",
    "    def minimax(self, depth, player_turn, node, answer, count, alpha, beta):\n",
    "        count[0] += 1\n",
    "        if depth == 0:\n",
    "            return node.score\n",
    "        if player_turn == 'red':\n",
    "            max_score = -2\n",
    "            count1 = 0\n",
    "            for each_child in range(len(node.children)):\n",
    "                count1 += 1\n",
    "                value =self.minimax(depth - 1, 'blue', node.children[each_child], answer, count, alpha, beta)\n",
    "                max_score = max(max_score,value)\n",
    "                alpha =max(alpha,max_score)\n",
    "                if beta <= alpha:\n",
    "                    break\n",
    "            for each_child in range(count1):\n",
    "                if max_score == node.children[each_child].score:\n",
    "                    answer.insert(0,node.children[each_child].next_step)\n",
    "            return max_score\n",
    "        else:\n",
    "            min_score = 2\n",
    "            count2 = 0\n",
    "            for each_child in range(len(node.children)):\n",
    "                count2 += 1\n",
    "                value = self.minimax(depth - 1, 'red', node.children[each_child], answer, count, alpha, beta)\n",
    "                min_score = min(min_score,value)\n",
    "                beta = min(min_score,beta)\n",
    "                if beta <= alpha:\n",
    "                    break\n",
    "            for each_child in range(count2):\n",
    "                if min_score == node.children[each_child].score:\n",
    "                    answer.insert(0, node.children[each_child].next_step)\n",
    "            return min_score\n",
    "\n",
    "    def enemy(self):\n",
    "        return random.choice(self.available_moves)\n",
    "\n",
    "    def swap_turn(self, turn):\n",
    "        if turn == 'red':\n",
    "            return 'blue'\n",
    "        else:\n",
    "            return 'red'\n",
    "\n",
    "    def play(self):\n",
    "        self.initialize()\n",
    "        count = []\n",
    "        count.append(0)\n",
    "        while True:\n",
    "            if self.turn == 'red':\n",
    "                hey = []\n",
    "                hey.append(0)\n",
    "                node = Node(0, [], [], self.red, self.blue, self.available_moves)\n",
    "                self.generate_minmax_tree(self.minimax_depth,'red',node)\n",
    "                answer = []\n",
    "                self.minimax(self.minimax_depth,self.turn, node, answer,count,-2,2)\n",
    "                print(\"count : \",count[0])\n",
    "                selection = answer[0]\n",
    "                if selection[1] < selection[0]:\n",
    "                    selection = (selection[1], selection[0])\n",
    "            else:\n",
    "                selection = self.enemy()\n",
    "                if selection[1] < selection[0]:\n",
    "                    selection = (selection[1], selection[0])\n",
    "            if selection in self.red or selection in self.blue:\n",
    "                raise Exception(\"Duplicate Move!!!\")\n",
    "            if self.turn == 'red':\n",
    "                self.red.append(selection)\n",
    "            else:\n",
    "                self.blue.append(selection)\n",
    "\n",
    "            self.available_moves.remove(selection)\n",
    "            self.turn = self.swap_turn(self.turn)\n",
    "            selection = []\n",
    "            self.draw()\n",
    "            r = self.gameover(self.red, self.blue)\n",
    "            if r != 0:\n",
    "                self.upgrade_node_count(count[0])\n",
    "                return r\n",
    "\n",
    "    def gameover(self, r, b):\n",
    "        if len(r) < 3:\n",
    "            return 0\n",
    "        r.sort()\n",
    "        for i in range(len(r) - 2):\n",
    "            for j in range(i + 1, len(r) - 1):\n",
    "                for k in range(j + 1, len(r)):\n",
    "                    if r[i][0] == r[j][0] and r[i][1] == r[k][0] and r[j][1] == r[k][1]:\n",
    "                        return 'blue'\n",
    "        if len(b) < 3: return 0\n",
    "        b.sort()\n",
    "        for i in range(len(b) - 2):\n",
    "            for j in range(i + 1, len(b) - 1):\n",
    "                for k in range(j + 1, len(b)):\n",
    "                    if b[i][0] == b[j][0] and b[i][1] == b[k][0] and b[j][1] == b[k][1]:\n",
    "                        return 'red'\n",
    "        return 0\n"
   ]
  },
  {
   "cell_type": "code",
   "execution_count": null,
   "id": "170258a0",
   "metadata": {},
   "outputs": [],
   "source": [
    "if __name__ == \"__main__\":\n",
    "    depth =int(argv[1])\n",
    "    game = Sim(minimax_depth=int(argv[1]), prune=True, gui=bool(int(argv[2])))\n",
    "\n",
    "    results = {\"red\": 0, \"blue\": 0}\n",
    "    for i in range(1):\n",
    "        start = time.time()\n",
    "        results[game.play()] += 1\n",
    "        end = time.time()\n",
    "        print(\"For Depth \",depth)\n",
    "        print(\"Total Node Count : \", game.node_count)\n",
    "        print(\"The Execution Time : \",end-start,\"sec\")\n",
    "    print(results)\n"
   ]
  },
  {
   "cell_type": "markdown",
   "id": "6b1f2bf4",
   "metadata": {},
   "source": [
    "## Timing of Different Depths"
   ]
  },
  {
   "cell_type": "code",
   "execution_count": 36,
   "id": "b4f34b14",
   "metadata": {},
   "outputs": [
    {
     "name": "stdout",
     "output_type": "stream",
     "text": [
      "For Depth  1\n",
      "Total Node Count :  39\n",
      "The Execution Time :  8.070943117141724 sec\n",
      "{'red': 1, 'blue': 0}\n"
     ]
    }
   ],
   "source": [
    "!python main2.py 1 1"
   ]
  },
  {
   "cell_type": "code",
   "execution_count": 39,
   "id": "f047c1ce",
   "metadata": {},
   "outputs": [
    {
     "name": "stdout",
     "output_type": "stream",
     "text": [
      "For Depth  3\n",
      "Total Node Count :  608\n",
      "The Execution Time :  10.140101671218872 sec\n",
      "{'red': 1, 'blue': 0}\n"
     ]
    }
   ],
   "source": [
    "!python main2.py 3 1"
   ]
  },
  {
   "cell_type": "code",
   "execution_count": 40,
   "id": "10f1351b",
   "metadata": {},
   "outputs": [
    {
     "name": "stdout",
     "output_type": "stream",
     "text": [
      "For Depth  5\n",
      "Total Node Count :  5038\n",
      "The Execution Time :  10.846424579620361 sec\n",
      "{'red': 1, 'blue': 0}\n"
     ]
    }
   ],
   "source": [
    "!python main2.py 5 1"
   ]
  },
  {
   "cell_type": "code",
   "execution_count": 37,
   "id": "b0e1702b",
   "metadata": {},
   "outputs": [
    {
     "name": "stdout",
     "output_type": "stream",
     "text": [
      "For Depth  7\n",
      "Total Node Count :  41080\n",
      "The Execution Time :  369.4838740825653 sec\n",
      "{'red': 1, 'blue': 0}\n"
     ]
    }
   ],
   "source": [
    "!python main2.py 7 1"
   ]
  },
  {
   "cell_type": "markdown",
   "id": "7a991dda",
   "metadata": {},
   "source": [
    "## Winning Chance"
   ]
  },
  {
   "cell_type": "markdown",
   "id": "61520a43",
   "metadata": {},
   "source": [
    "#### depth = 1"
   ]
  },
  {
   "cell_type": "code",
   "execution_count": 48,
   "id": "e2b97c38",
   "metadata": {},
   "outputs": [
    {
     "name": "stdout",
     "output_type": "stream",
     "text": [
      "{'red': 87, 'blue': 13}\n"
     ]
    }
   ],
   "source": [
    "!python main2.py 1 1"
   ]
  },
  {
   "cell_type": "markdown",
   "id": "9c599be0",
   "metadata": {},
   "source": [
    "#### depth = 3"
   ]
  },
  {
   "cell_type": "code",
   "execution_count": 50,
   "id": "d900234f",
   "metadata": {},
   "outputs": [
    {
     "name": "stdout",
     "output_type": "stream",
     "text": [
      "{'red': 32, 'blue': 18}\n"
     ]
    }
   ],
   "source": [
    "!python main2.py 3 1"
   ]
  },
  {
   "cell_type": "markdown",
   "id": "dd2be9bb",
   "metadata": {},
   "source": [
    "#### depth = 5"
   ]
  },
  {
   "cell_type": "code",
   "execution_count": 53,
   "id": "f1d9ed70",
   "metadata": {},
   "outputs": [
    {
     "name": "stdout",
     "output_type": "stream",
     "text": [
      "{'red': 8, 'blue': 12}\n"
     ]
    }
   ],
   "source": [
    "!python main2.py 5 1"
   ]
  },
  {
   "cell_type": "markdown",
   "id": "3edf5656",
   "metadata": {},
   "source": [
    "## Answer of Questions\n",
    "\n",
    "1) \n",
    "\n",
    "- A good heuristic should have high win rate and short execution time to give us best answer in short time.\n",
    "- The hueristic that I used, has simple logic and can execute in short time. There are heuristics that can compute better and  have better winrates, but the speed of execution in higher depths will be so slow.\n",
    "- Beiside, The games like \"SIM\" are probability games, it means even if we find a poweful heuristic for the game, it won't insure the 100% winrate.\n",
    "   \n",
    "2) \n",
    "\n",
    "- Each time we run algorithm for more depth, the result should get better and give us better winrate.\n",
    "- In running the program with high depths, we simulate further how we and our component would do in the future. The more we know about the enemy moves, our decision will be better each time to defeat the enemy.\n",
    "- In running the program with low depths, we sumulate just few steps about the future of game,so our decisions will be not accurate in compare to high depths algorithm and the winrate will be lower.\n",
    "- algorthim with high depths, will simulate many nodes to find the best answer, so the excution time and total searched nodes will be increased by depth\n",
    "   \n",
    "3) \n",
    "\n",
    "- In Alpha & Beta pruning, we add the nodes like DFS search. first we go to the most left node in maximum depth then we add node. After that we go to brother nodes of previous node in maximum depth and so on... . \n",
    "- The pattern of adding the nodes are important because we want to skip some unnecessary nodes in our algorithm ot speed up the execution time. So, in Alpha & Beta pruning, we skip the most nodes that we can and doesn't have effect on algorthim process. "
   ]
  }
 ],
 "metadata": {
  "kernelspec": {
   "display_name": "Python 3 (ipykernel)",
   "language": "python",
   "name": "python3"
  },
  "language_info": {
   "codemirror_mode": {
    "name": "ipython",
    "version": 3
   },
   "file_extension": ".py",
   "mimetype": "text/x-python",
   "name": "python",
   "nbconvert_exporter": "python",
   "pygments_lexer": "ipython3",
   "version": "3.9.10"
  }
 },
 "nbformat": 4,
 "nbformat_minor": 5
}
