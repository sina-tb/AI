{
 "cells": [
  {
   "cell_type": "markdown",
   "id": "8f93713e",
   "metadata": {},
   "source": [
    "## AI-CA1-Search\n",
    "\n",
    "**Name: Sina Tabassi**\n",
    "\n",
    "**ID: 810199554**"
   ]
  },
  {
   "cell_type": "markdown",
   "id": "999a1520",
   "metadata": {},
   "source": [
    "## Modeling Explanation\n",
    "For modeling this problem, we used state as our main search target that has a lot of features. Its arguments are pos,spent_time,waiting_time,path,imapassble_nodes,found_recipes,satisfied,disciples.<br>\n",
    "our search will be on states, not the nodes. we use nodes as our path to visit and explore the states and this method allows to pass same node if our state changes.\n"
   ]
  },
  {
   "cell_type": "markdown",
   "id": "505a2bb2",
   "metadata": {},
   "source": [
    "## Modeling The Problem\n",
    "- **Initial state**: we use state and pass its arguments as our first step of algorthim: \n",
    "  state(pos,spent_time,waiting_time,path,impassable_nodes,found_recipes,satisfied_disciples)\n",
    "  \n",
    "- **Actions**: actions of BFS and IDS algorithms are similar, but the actions in A* and weighted A* algorthims are a little different.\n",
    "\n",
    "    - **BFS & IDS Actions**: we have a queue of frontier states and in every step we add the neighbors of the last node to first of our queue.\n",
    "    \n",
    "    - **A* & weighted_A* Actions**: we have a min-heap of frontier states that is ordered first by their priority and second by the order of adding them in to our min-heap. In every step we explore the first node poped from the min-heap.\n",
    "    \n",
    "- **Goal state**: The goal is to satisfy all disciples and the waiting_time is 0.\n",
    "\n",
    "- **Path cost** : our spent_time is our path cost."
   ]
  },
  {
   "cell_type": "markdown",
   "id": "ab19b1e9",
   "metadata": {},
   "source": [
    "## Improts"
   ]
  },
  {
   "cell_type": "code",
   "execution_count": 5,
   "id": "910b9d78",
   "metadata": {},
   "outputs": [],
   "source": [
    "from collections import deque\n",
    "from dataclasses import dataclass\n",
    "import time\n",
    "import heapq"
   ]
  },
  {
   "cell_type": "markdown",
   "id": "1928ca84",
   "metadata": {},
   "source": [
    "## State Class"
   ]
  },
  {
   "cell_type": "code",
   "execution_count": 6,
   "id": "0de2d838",
   "metadata": {},
   "outputs": [],
   "source": [
    "@dataclass\n",
    "class State:\n",
    "    def __init__(self, pos, spent_time, waiting_time, path, impassable_nodes, found_recipes, satisfied_disciple):\n",
    "        self.pos = pos\n",
    "        self.spent_time = spent_time\n",
    "        self.waiting_time = waiting_time\n",
    "        self.satisfied_disciple = satisfied_disciple\n",
    "        self.path = path\n",
    "        self.found_recipes = found_recipes\n",
    "        self.impassable_nodes = impassable_nodes\n",
    "\n",
    "\n",
    "    def __eq__(self, other):\n",
    "        if isinstance(other, State) == True:\n",
    "            if other.pos == self.pos and other.found_recipes == self.found_recipes and other.satisfied_disciple == self.satisfied_disciple:\n",
    "                return True\n",
    "        return False"
   ]
  },
  {
   "cell_type": "markdown",
   "id": "19e336bb",
   "metadata": {},
   "source": [
    "## Options Class"
   ]
  },
  {
   "cell_type": "code",
   "execution_count": 7,
   "id": "8134e298",
   "metadata": {},
   "outputs": [],
   "source": [
    "class Options():\n",
    "    def execution_time_calculater(self, func):\n",
    "        def wrap_func(*args,**kwargs):\n",
    "            begin = time.time()\n",
    "            result = func(*args,**kwargs)\n",
    "            end = time.time()\n",
    "            total_time =end - begin\n",
    "            print(f'execution time: {total_time}s\\n')\n",
    "            return result\n",
    "        return wrap_func\n",
    "    \n",
    "    def print_result(self, state, state_counter):\n",
    "        print(\"Path :\", ' -> '.join(map(str, state.path)))\n",
    "        print(\"Total Number of States :\", state_counter)\n",
    "        print(\"Total Time :\", state.spent_time)\n",
    "\n",
    "\n",
    "\n",
    "\n",
    "options = Options()"
   ]
  },
  {
   "cell_type": "markdown",
   "id": "794c59e0",
   "metadata": {},
   "source": [
    "## Read File"
   ]
  },
  {
   "cell_type": "code",
   "execution_count": 8,
   "id": "f4baf704",
   "metadata": {},
   "outputs": [],
   "source": [
    "def read_file(file_name):\n",
    "    global neighbors,  disciple_nodes_list, seyed_pos, impassable_nodes_list, recipe_nodes_list, disciple_nodes_num, recipe_nodes_num,\\\n",
    "    disciple_recipes, impassable_nodes\n",
    "    neighbors =[]\n",
    "    impassable_nodes_list = []\n",
    "    recipe_nodes_list = []\n",
    "    disciple_nodes_list = []\n",
    "    seyed_pos = 0\n",
    "    disciple_nodes_num = 0\n",
    "    recipe_nodes_num = 0\n",
    "    disciple_recipes = dict()\n",
    "    impassable_nodes = dict()\n",
    "\n",
    "    with open(file_name, 'r') as test_file:\n",
    "        line1 = test_file.readline().split()\n",
    "        vertices = int(line1[0])\n",
    "        edges = int(line1[1])\n",
    "\n",
    "        neighbors = [[] for i in range(vertices)]\n",
    "        for i in range(edges):\n",
    "            line2 = test_file.readline().split()\n",
    "            pos1 = int(line2[0])\n",
    "            pos2 = int(line2[1])\n",
    "            neighbors[pos1 - 1].append(pos2)\n",
    "            neighbors[pos2 - 1].append(pos1)\n",
    "\n",
    "        for i in range(vertices):\n",
    "            impassable_nodes_list.append(0)\n",
    "            recipe_nodes_list.append(0)\n",
    "            disciple_nodes_list.append(0)\n",
    "\n",
    "        hard_nodes_num = int(test_file.readline())\n",
    "        line3 = test_file.readline().split()\n",
    "        for i in range(hard_nodes_num):\n",
    "            hard_node_position = int(line3[i])\n",
    "            impassable_nodes_list[hard_node_position - 1] = 1\n",
    "            impassable_nodes[hard_node_position] = 0\n",
    "\n",
    "        disciple_nodes_num = int(test_file.readline())\n",
    "        for i in range(disciple_nodes_num):\n",
    "            line4 = test_file.readline().split()\n",
    "            disciple_pos = int(line4[0])\n",
    "            disciple_recipes[disciple_pos] = set()\n",
    "            disciple_nodes_list[disciple_pos - 1] = 3\n",
    "\n",
    "            recipes_num = int(line4[1])\n",
    "            for j in range(2, recipes_num+2):\n",
    "                recipe_position = int(line4[j])\n",
    "                recipe_nodes_list[recipe_position - 1] = 2\n",
    "                disciple_recipes[disciple_pos].add(recipe_position)\n",
    "\n",
    "        seyed_pos = int(test_file.readline())\n",
    "\n",
    "    for node in recipe_nodes_list:\n",
    "        if node == 2:\n",
    "            recipe_nodes_num += 1"
   ]
  },
  {
   "cell_type": "markdown",
   "id": "2894b779",
   "metadata": {},
   "source": [
    "## Goal Check"
   ]
  },
  {
   "cell_type": "code",
   "execution_count": 9,
   "id": "1d814e0d",
   "metadata": {},
   "outputs": [],
   "source": [
    "def reaching_goal_check(state):\n",
    "    if len(state.satisfied_disciple) == disciple_nodes_num and state.waiting_time == 0:\n",
    "        return True\n",
    "    else:\n",
    "        False"
   ]
  },
  {
   "cell_type": "markdown",
   "id": "f1403f56",
   "metadata": {},
   "source": [
    "## BFS Algorithm"
   ]
  },
  {
   "cell_type": "code",
   "execution_count": 14,
   "id": "1916dd93",
   "metadata": {},
   "outputs": [],
   "source": [
    "@options.execution_time_calculater\n",
    "def bfs(file_name):\n",
    "    explored_states = []\n",
    "    state_counter = 1\n",
    "\n",
    "    my_file = file_name.replace('.txt', '')\n",
    "    read_file(file_name)\n",
    "    print(f\"testing bfs algorithm for testcase({my_file})\")\n",
    "\n",
    "    frontier_states = deque()\n",
    "    first_state = State(seyed_pos, 0, 0, [seyed_pos], impassable_nodes, [], [])\n",
    "    frontier_states.appendleft(first_state)\n",
    "\n",
    "    while (True):\n",
    "        state = frontier_states.pop()\n",
    "\n",
    "        if reaching_goal_check(state) == True:\n",
    "            options.print_result(state, state_counter)\n",
    "            return\n",
    "\n",
    "        if state.waiting_time != 0:\n",
    "            state.spent_time += 1\n",
    "            state.waiting_time -= 1\n",
    "            frontier_states.appendleft(state)\n",
    "            continue\n",
    "\n",
    "        explored_states.append(state)\n",
    "        neighbors_pos = neighbors[state.pos - 1]\n",
    "\n",
    "        for each_neighbor_pos in neighbors_pos:\n",
    "            waiting_time = 0\n",
    "            another_disciple_list = state.satisfied_disciple\n",
    "            another_recipes_list = state.found_recipes\n",
    "            another_impassable_nodes_list = state.impassable_nodes.copy()\n",
    "            new_path = state.path.copy()\n",
    "            new_path.append(each_neighbor_pos)\n",
    "\n",
    "\n",
    "            if recipe_nodes_list[each_neighbor_pos - 1] == 2:\n",
    "                another_recipes_list = set(another_recipes_list)\n",
    "                another_recipes_list.add(each_neighbor_pos)\n",
    "\n",
    "            if disciple_nodes_list[each_neighbor_pos - 1] == 3:\n",
    "                if disciple_recipes[each_neighbor_pos].issubset(another_recipes_list):\n",
    "                    another_disciple_list = set(another_disciple_list)\n",
    "                    another_disciple_list.add(each_neighbor_pos)\n",
    "\n",
    "            if impassable_nodes_list[each_neighbor_pos - 1] == 1:\n",
    "                waiting_time = another_impassable_nodes_list[each_neighbor_pos]\n",
    "                another_impassable_nodes_list[each_neighbor_pos] += 1\n",
    "\n",
    "            new_state = State(each_neighbor_pos, state.spent_time + 1, waiting_time, new_path, another_impassable_nodes_list,\n",
    "                              another_recipes_list, another_disciple_list)\n",
    "\n",
    "            if reaching_goal_check(new_state) == True:\n",
    "                options.print_result(new_state, state_counter)\n",
    "                return\n",
    "\n",
    "            if new_state not in explored_states:\n",
    "                if new_state not in frontier_states:\n",
    "                    state_counter += 1\n",
    "                    frontier_states.appendleft(new_state)"
   ]
  },
  {
   "cell_type": "markdown",
   "id": "c8211fcc",
   "metadata": {},
   "source": [
    "## Running BFS Algorithm on Testcases"
   ]
  },
  {
   "cell_type": "markdown",
   "id": "d4f7e055",
   "metadata": {},
   "source": [
    "**1st Testcase:**"
   ]
  },
  {
   "cell_type": "code",
   "execution_count": 97,
   "id": "d7372e02",
   "metadata": {},
   "outputs": [
    {
     "name": "stdout",
     "output_type": "stream",
     "text": [
      "testing bfs algorithm for testcase(input1)\n",
      "Path : 1 -> 3 -> 4 -> 5 -> 7 -> 10 -> 11 -> 9 -> 8\n",
      "Total Number of States : 33\n",
      "Total Time : 8\n",
      "execution time: 0.0014805793762207031s\n",
      "\n"
     ]
    }
   ],
   "source": [
    "bfs(\"input1.txt\")"
   ]
  },
  {
   "cell_type": "markdown",
   "id": "35e4831a",
   "metadata": {},
   "source": [
    "**2nd Testcase:**"
   ]
  },
  {
   "cell_type": "code",
   "execution_count": 98,
   "id": "824d971f",
   "metadata": {},
   "outputs": [
    {
     "name": "stdout",
     "output_type": "stream",
     "text": [
      "testing bfs algorithm for testcase(input2)\n",
      "Path : 9 -> 10 -> 9 -> 4 -> 12 -> 3 -> 7 -> 5 -> 8\n",
      "Total Number of States : 88\n",
      "Total Time : 8\n",
      "execution time: 0.003000497817993164s\n",
      "\n"
     ]
    }
   ],
   "source": [
    "bfs(\"input2.txt\")"
   ]
  },
  {
   "cell_type": "markdown",
   "id": "05090a07",
   "metadata": {},
   "source": [
    "**3rd Testcase:**"
   ]
  },
  {
   "cell_type": "code",
   "execution_count": 99,
   "id": "386e0a3d",
   "metadata": {},
   "outputs": [
    {
     "name": "stdout",
     "output_type": "stream",
     "text": [
      "testing bfs algorithm for testcase(input3)\n",
      "Path : 13 -> 11 -> 10 -> 3 -> 2 -> 6 -> 12 -> 5 -> 9 -> 4 -> 1 -> 13 -> 11 -> 10\n",
      "Total Number of States : 844\n",
      "Total Time : 13\n",
      "execution time: 0.14405608177185059s\n",
      "\n"
     ]
    }
   ],
   "source": [
    "bfs(\"input3.txt\")"
   ]
  },
  {
   "cell_type": "markdown",
   "id": "a1407bcd",
   "metadata": {},
   "source": [
    "## IDS Algorithm"
   ]
  },
  {
   "cell_type": "code",
   "execution_count": 100,
   "id": "0b230599",
   "metadata": {},
   "outputs": [],
   "source": [
    "@options.execution_time_calculater\n",
    "def ids(file_name):\n",
    "    frontier_states = []\n",
    "    state_counter = 1\n",
    "    depth = 1\n",
    "\n",
    "    my_file = file_name.replace('.txt', '')\n",
    "    read_file(file_name)\n",
    "    print(f\"testing ids algorithm for testcase({my_file})\")\n",
    "\n",
    "    while (True):\n",
    "        if len(frontier_states) == 0:\n",
    "            first_state = State(seyed_pos, 0, 0, [seyed_pos], impassable_nodes, [], [])\n",
    "            frontier_states = []\n",
    "            frontier_states.append(first_state)\n",
    "            depth += 1\n",
    "\n",
    "        state = frontier_states.pop()\n",
    "\n",
    "        if state.spent_time > depth:\n",
    "            continue\n",
    "\n",
    "        if state.waiting_time != 0:\n",
    "            state.spent_time += 1\n",
    "            state.waiting_time -= 1\n",
    "            frontier_states.append(state)\n",
    "            continue\n",
    "\n",
    "        neighbors_pos = neighbors[state.pos - 1]\n",
    "        neighbors_pos.reverse()\n",
    "\n",
    "        for each_neighbor_pos in neighbors_pos:\n",
    "            waiting_time = 0\n",
    "            another_impassable_nodes_list = state.impassable_nodes.copy()\n",
    "            another_disciple_list = state.satisfied_disciple\n",
    "            another_recipes_list = state.found_recipes\n",
    "            new_path = state.path.copy()\n",
    "            new_path.append(each_neighbor_pos)\n",
    "\n",
    "            if recipe_nodes_list[each_neighbor_pos - 1] == 2:\n",
    "                another_recipes_list = set(another_recipes_list)\n",
    "                another_recipes_list.add(each_neighbor_pos)\n",
    "\n",
    "            if disciple_nodes_list[each_neighbor_pos - 1] == 3:\n",
    "                if disciple_recipes[each_neighbor_pos].issubset(another_recipes_list):\n",
    "                    another_disciple_list = set(another_disciple_list)\n",
    "                    another_disciple_list.add(each_neighbor_pos)\n",
    "\n",
    "            if impassable_nodes_list[each_neighbor_pos - 1] == 1:\n",
    "                waiting_time = another_impassable_nodes_list[each_neighbor_pos]\n",
    "                another_impassable_nodes_list[each_neighbor_pos] += 1\n",
    "\n",
    "            new_state = State(each_neighbor_pos, state.spent_time + 1, waiting_time, new_path, another_impassable_nodes_list,\n",
    "                              another_recipes_list, another_disciple_list)\n",
    "\n",
    "            if reaching_goal_check(new_state) == True:\n",
    "                options.print_result(new_state, state_counter)\n",
    "                return\n",
    "\n",
    "            if new_state not in frontier_states:\n",
    "                state_counter += 1\n",
    "                frontier_states.append(new_state)\n"
   ]
  },
  {
   "cell_type": "markdown",
   "id": "6a0dbc02",
   "metadata": {},
   "source": [
    "## Running IDS Algorithm on Testcases"
   ]
  },
  {
   "cell_type": "markdown",
   "id": "fc179873",
   "metadata": {},
   "source": [
    "**1st Testcase:**"
   ]
  },
  {
   "cell_type": "code",
   "execution_count": 101,
   "id": "8849b7d1",
   "metadata": {},
   "outputs": [
    {
     "name": "stdout",
     "output_type": "stream",
     "text": [
      "testing ids algorithm for testcase(input1)\n",
      "Path : 1 -> 3 -> 4 -> 5 -> 7 -> 10 -> 11 -> 9 -> 8\n",
      "Total Number of States : 914\n",
      "Total Time : 8\n",
      "execution time: 0.00403904914855957s\n",
      "\n"
     ]
    }
   ],
   "source": [
    "ids(\"input1.txt\")"
   ]
  },
  {
   "cell_type": "markdown",
   "id": "2d7c1605",
   "metadata": {},
   "source": [
    "**2nd Testcase:**"
   ]
  },
  {
   "cell_type": "code",
   "execution_count": 102,
   "id": "6e8a3c20",
   "metadata": {},
   "outputs": [
    {
     "name": "stdout",
     "output_type": "stream",
     "text": [
      "testing ids algorithm for testcase(input2)\n",
      "Path : 9 -> 10 -> 9 -> 4 -> 12 -> 3 -> 7 -> 5 -> 8\n",
      "Total Number of States : 3793\n",
      "Total Time : 8\n",
      "execution time: 0.01401209831237793s\n",
      "\n"
     ]
    }
   ],
   "source": [
    "ids(\"input2.txt\")"
   ]
  },
  {
   "cell_type": "markdown",
   "id": "873e653c",
   "metadata": {},
   "source": [
    "**3rd Testcase:**"
   ]
  },
  {
   "cell_type": "code",
   "execution_count": 103,
   "id": "0b879b76",
   "metadata": {},
   "outputs": [
    {
     "name": "stdout",
     "output_type": "stream",
     "text": [
      "testing ids algorithm for testcase(input3)\n",
      "Path : 13 -> 11 -> 10 -> 3 -> 2 -> 6 -> 12 -> 5 -> 9 -> 4 -> 1 -> 13 -> 11 -> 10\n",
      "Total Number of States : 68476\n",
      "Total Time : 13\n",
      "execution time: 0.21404528617858887s\n",
      "\n"
     ]
    }
   ],
   "source": [
    "ids(\"input3.txt\")"
   ]
  },
  {
   "cell_type": "markdown",
   "id": "ce08794c",
   "metadata": {},
   "source": [
    "## Heuristic function\n",
    "heuristic function : number of disciple and recipe nodes that are not statisfied"
   ]
  },
  {
   "cell_type": "markdown",
   "id": "e03b56f7",
   "metadata": {},
   "source": [
    "## Consistency of Heuristic function\n",
    "and for this heruristic to be consistant , we use spent_time and heuristic function, that means we use f(n) = g(n) + h(n) for pushing in min-heap and use A* algorithm. it is consistant because for all Ai that are parent of node Aj (both are in path like path = [A1 , A2 , ... , Ai , ... , Aj , ... , An]) we have :\n",
    "\n",
    "h(A{i} - A{j}) <=  cost(A{i} to A{j})\n",
    "\n",
    "that cause of we use this heuristic function: f(n) = g(n) + h(n)."
   ]
  },
  {
   "cell_type": "markdown",
   "id": "e57c98bf",
   "metadata": {},
   "source": [
    "## Heuristic"
   ]
  },
  {
   "cell_type": "code",
   "execution_count": 104,
   "id": "6fec9ebb",
   "metadata": {},
   "outputs": [],
   "source": [
    "def heuristic(state):\n",
    "    return recipe_nodes_num - len(state.found_recipes) + disciple_nodes_num - len(state.satisfied_disciple) + state.waiting_time"
   ]
  },
  {
   "cell_type": "markdown",
   "id": "73ff7e57",
   "metadata": {},
   "source": [
    "## A* Algorithm"
   ]
  },
  {
   "cell_type": "code",
   "execution_count": 105,
   "id": "a779f941",
   "metadata": {},
   "outputs": [],
   "source": [
    "@options.execution_time_calculater\n",
    "def a_star(file_name):\n",
    "    frontier_states = []\n",
    "    explored_states = []\n",
    "    state_counter = 1\n",
    "    heapq.heapify(frontier_states)\n",
    "\n",
    "    read_file(file_name)\n",
    "    my_file = file_name.replace('.txt', '')\n",
    "    print(f\"testing A* algorithm for testcase({my_file})\")\n",
    "\n",
    "\n",
    "    first_state = State(seyed_pos, 0, 0, [seyed_pos], impassable_nodes, [], [])\n",
    "    heapq.heappush(frontier_states, (heuristic(first_state) + 0, 0, first_state))\n",
    "\n",
    "    while (True):\n",
    "        state = heapq.heappop(frontier_states)[2]\n",
    "\n",
    "        if reaching_goal_check(state) == True:\n",
    "            options.print_result(state, state_counter)\n",
    "            return\n",
    "\n",
    "        if state.waiting_time != 0:\n",
    "            state.spent_time += 1\n",
    "            state.waiting_time -= 1\n",
    "            heapq.heappush(frontier_states, (heuristic(state) + state.spent_time, state_counter, state))\n",
    "            state_counter += 1\n",
    "\n",
    "        neighbors_pos = neighbors[state.pos - 1]\n",
    "        explored_states.append(state)\n",
    "\n",
    "        for each_neighbor_pos in neighbors_pos:\n",
    "            waiting_time = 0\n",
    "            another_impassable_nodes_list = state.impassable_nodes.copy()\n",
    "            another_disciple_list = state.satisfied_disciple\n",
    "            another_recipes_list = state.found_recipes\n",
    "            new_path = state.path.copy()\n",
    "            new_path.append(each_neighbor_pos)\n",
    "\n",
    "            if recipe_nodes_list[each_neighbor_pos - 1] == 2:\n",
    "                another_recipes_list = set(another_recipes_list)\n",
    "                another_recipes_list.add(each_neighbor_pos)\n",
    "\n",
    "            if disciple_nodes_list[each_neighbor_pos - 1] == 3:\n",
    "                if disciple_recipes[each_neighbor_pos].issubset(another_recipes_list):\n",
    "                    another_disciple_list = set(another_disciple_list)\n",
    "                    another_disciple_list.add(each_neighbor_pos)\n",
    "\n",
    "            if impassable_nodes_list[each_neighbor_pos - 1] == 1:\n",
    "                waiting_time = another_impassable_nodes_list[each_neighbor_pos]\n",
    "                another_impassable_nodes_list[each_neighbor_pos] += 1\n",
    "\n",
    "            new_state = State(each_neighbor_pos, state.spent_time + 1, waiting_time, new_path, another_impassable_nodes_list,\n",
    "                              another_recipes_list, another_disciple_list)\n",
    "\n",
    "            if reaching_goal_check(new_state) == True:\n",
    "                options.print_result(new_state, state_counter)\n",
    "                return\n",
    "\n",
    "            if new_state not in explored_states:\n",
    "                frontier_check = False\n",
    "                for frontier_state in frontier_states:\n",
    "                    if new_state == frontier_state[2]:\n",
    "                        frontier_check = True\n",
    "                        break\n",
    "\n",
    "                if frontier_check == False:\n",
    "                    heapq.heappush(frontier_states,(heuristic(new_state) + new_state.spent_time, state_counter, new_state))\n",
    "                    state_counter += 1"
   ]
  },
  {
   "cell_type": "markdown",
   "id": "98d4d041",
   "metadata": {},
   "source": [
    "## Running A* Algorithm on Testcases"
   ]
  },
  {
   "cell_type": "markdown",
   "id": "a72c0332",
   "metadata": {},
   "source": [
    "**1st Testcase:**"
   ]
  },
  {
   "cell_type": "code",
   "execution_count": 106,
   "id": "e414cb3f",
   "metadata": {},
   "outputs": [
    {
     "name": "stdout",
     "output_type": "stream",
     "text": [
      "testing A* algorithm for testcase(input1)\n",
      "Path : 1 -> 3 -> 4 -> 5 -> 7 -> 10 -> 11 -> 9 -> 8\n",
      "Total Number of States : 34\n",
      "Total Time : 8\n",
      "execution time: 0.002003192901611328s\n",
      "\n"
     ]
    }
   ],
   "source": [
    "a_star(\"input1.txt\")"
   ]
  },
  {
   "cell_type": "markdown",
   "id": "156ab2a1",
   "metadata": {},
   "source": [
    "**2nd Testcase:**"
   ]
  },
  {
   "cell_type": "code",
   "execution_count": 107,
   "id": "c5ae2499",
   "metadata": {},
   "outputs": [
    {
     "name": "stdout",
     "output_type": "stream",
     "text": [
      "testing A* algorithm for testcase(input2)\n",
      "Path : 9 -> 10 -> 9 -> 4 -> 12 -> 3 -> 7 -> 5 -> 8\n",
      "Total Number of States : 53\n",
      "Total Time : 8\n",
      "execution time: 0.0009860992431640625s\n",
      "\n"
     ]
    }
   ],
   "source": [
    "a_star(\"input2.txt\")"
   ]
  },
  {
   "cell_type": "markdown",
   "id": "2a0d12aa",
   "metadata": {},
   "source": [
    "**3rd Testcase:**"
   ]
  },
  {
   "cell_type": "code",
   "execution_count": 108,
   "id": "969d8bb0",
   "metadata": {},
   "outputs": [
    {
     "name": "stdout",
     "output_type": "stream",
     "text": [
      "testing A* algorithm for testcase(input3)\n",
      "Path : 13 -> 11 -> 10 -> 3 -> 2 -> 6 -> 12 -> 5 -> 9 -> 4 -> 1 -> 13 -> 11 -> 10\n",
      "Total Number of States : 459\n",
      "Total Time : 13\n",
      "execution time: 0.026429176330566406s\n",
      "\n"
     ]
    }
   ],
   "source": [
    "a_star(\"input3.txt\")"
   ]
  },
  {
   "cell_type": "markdown",
   "id": "ac20bc8b",
   "metadata": {},
   "source": [
    "## Weighted A* Algorithm"
   ]
  },
  {
   "cell_type": "code",
   "execution_count": 109,
   "id": "922dbd33",
   "metadata": {},
   "outputs": [],
   "source": [
    "@options.execution_time_calculater\n",
    "def weighted_a_star(alpha, file_name):\n",
    "\n",
    "    frontier_states = []\n",
    "    explored_states = []\n",
    "    state_counter = 1\n",
    "    heapq.heapify(frontier_states)\n",
    "\n",
    "    my_file = file_name.replace('.txt', '')\n",
    "    read_file(file_name)\n",
    "    print(f\"testing weighted A* algorithm for testcase({my_file})\")\n",
    "\n",
    "    first_state = State(seyed_pos, 0, 0, [seyed_pos], impassable_nodes, [], [])\n",
    "    heapq.heappush(frontier_states, (heuristic(first_state) * alpha + 0, 0, first_state))\n",
    "\n",
    "    while (True):\n",
    "\n",
    "        state = heapq.heappop(frontier_states)[2]\n",
    "        if reaching_goal_check(state) == True:\n",
    "            options.print_result(state, state_counter)\n",
    "            return\n",
    "\n",
    "        if state.waiting_time != 0:\n",
    "            state.spent_time += 1\n",
    "            state.waiting_time -= 1\n",
    "            heapq.heappush(frontier_states,(heuristic(state) * alpha + state.spent_time, state_counter, state))\n",
    "            state_counter += 1\n",
    "\n",
    "\n",
    "        neighbors_pos = neighbors[state.pos - 1]\n",
    "        explored_states.append(state)\n",
    "\n",
    "        for each_neighbor_pos in neighbors_pos:\n",
    "            waiting_time = 0\n",
    "            another_impassable_nodes_list = state.impassable_nodes.copy()\n",
    "            another_disciple_list = state.satisfied_disciple\n",
    "            another_recipes_list = state.found_recipes\n",
    "            new_path = state.path.copy()\n",
    "            new_path.append(each_neighbor_pos)\n",
    "\n",
    "            if recipe_nodes_list[each_neighbor_pos - 1] == 2:\n",
    "                another_recipes_list = set(another_recipes_list)\n",
    "                another_recipes_list.add(each_neighbor_pos)\n",
    "\n",
    "            if disciple_nodes_list[each_neighbor_pos - 1] == 3:\n",
    "                if disciple_recipes[each_neighbor_pos].issubset(another_recipes_list):\n",
    "                    another_disciple_list = set(another_disciple_list)\n",
    "                    another_disciple_list.add(each_neighbor_pos)\n",
    "\n",
    "            if impassable_nodes_list[each_neighbor_pos - 1] == 1:\n",
    "                waiting_time = another_impassable_nodes_list[each_neighbor_pos]\n",
    "                another_impassable_nodes_list[each_neighbor_pos] += 1\n",
    "\n",
    "            new_state = State(each_neighbor_pos, state.spent_time + 1, waiting_time, new_path, another_impassable_nodes_list,\n",
    "                              another_recipes_list, another_disciple_list)\n",
    "\n",
    "            if reaching_goal_check(new_state) == True:\n",
    "                options.print_result(new_state, state_counter)\n",
    "                return\n",
    "\n",
    "            if new_state not in explored_states:\n",
    "                frontier_check = False\n",
    "                for frontier_state in frontier_states:\n",
    "                    if new_state == frontier_state[2]:\n",
    "                        frontier_check = True\n",
    "                        break\n",
    "\n",
    "                if  frontier_check == False:\n",
    "                    heapq.heappush(frontier_states,(heuristic(new_state) * alpha + new_state.spent_time, state_counter, new_state))\n",
    "                    state_counter += 1"
   ]
  },
  {
   "cell_type": "markdown",
   "id": "57306fbd",
   "metadata": {},
   "source": [
    "## Running Weighted A* Algorithm on Testcases"
   ]
  },
  {
   "cell_type": "markdown",
   "id": "94f997a5",
   "metadata": {},
   "source": [
    "### Alpha = 2"
   ]
  },
  {
   "cell_type": "markdown",
   "id": "c26ad247",
   "metadata": {},
   "source": [
    "**1st Testcase:**"
   ]
  },
  {
   "cell_type": "code",
   "execution_count": 110,
   "id": "113443ee",
   "metadata": {},
   "outputs": [
    {
     "name": "stdout",
     "output_type": "stream",
     "text": [
      "testing weighted A* algorithm for testcase(input1)\n",
      "Path : 1 -> 3 -> 4 -> 5 -> 7 -> 10 -> 11 -> 9 -> 8\n",
      "Total Number of States : 28\n",
      "Total Time : 8\n",
      "execution time: 0.00125885009765625s\n",
      "\n"
     ]
    }
   ],
   "source": [
    "weighted_a_star(2,\"input1.txt\")"
   ]
  },
  {
   "cell_type": "markdown",
   "id": "e66296e6",
   "metadata": {},
   "source": [
    "**2nd Testcase:**"
   ]
  },
  {
   "cell_type": "code",
   "execution_count": 111,
   "id": "42bfec8c",
   "metadata": {},
   "outputs": [
    {
     "name": "stdout",
     "output_type": "stream",
     "text": [
      "testing weighted A* algorithm for testcase(input2)\n",
      "Path : 9 -> 10 -> 9 -> 4 -> 12 -> 3 -> 7 -> 5 -> 8\n",
      "Total Number of States : 51\n",
      "Total Time : 8\n",
      "execution time: 0.0020294189453125s\n",
      "\n"
     ]
    }
   ],
   "source": [
    "weighted_a_star(2,\"input2.txt\")"
   ]
  },
  {
   "cell_type": "markdown",
   "id": "caa37512",
   "metadata": {},
   "source": [
    "**3rd Testcase:**"
   ]
  },
  {
   "cell_type": "code",
   "execution_count": 112,
   "id": "d55b299e",
   "metadata": {},
   "outputs": [
    {
     "name": "stdout",
     "output_type": "stream",
     "text": [
      "testing weighted A* algorithm for testcase(input3)\n",
      "Path : 13 -> 11 -> 10 -> 3 -> 2 -> 6 -> 12 -> 5 -> 9 -> 4 -> 1 -> 13 -> 11 -> 10\n",
      "Total Number of States : 48\n",
      "Total Time : 13\n",
      "execution time: 0.0013976097106933594s\n",
      "\n"
     ]
    }
   ],
   "source": [
    "weighted_a_star(2,\"input3.txt\")"
   ]
  },
  {
   "cell_type": "markdown",
   "id": "804663a1",
   "metadata": {},
   "source": [
    "### Alpha = 3"
   ]
  },
  {
   "cell_type": "markdown",
   "id": "7f7c7082",
   "metadata": {},
   "source": [
    "**1st Testcase:**"
   ]
  },
  {
   "cell_type": "code",
   "execution_count": 113,
   "id": "8d68c6cb",
   "metadata": {},
   "outputs": [
    {
     "name": "stdout",
     "output_type": "stream",
     "text": [
      "testing weighted A* algorithm for testcase(input1)\n",
      "Path : 1 -> 3 -> 4 -> 5 -> 7 -> 10 -> 11 -> 9 -> 8\n",
      "Total Number of States : 24\n",
      "Total Time : 8\n",
      "execution time: 0.002000570297241211s\n",
      "\n"
     ]
    }
   ],
   "source": [
    "weighted_a_star(3,\"input1.txt\")"
   ]
  },
  {
   "cell_type": "markdown",
   "id": "524fd070",
   "metadata": {},
   "source": [
    "**2nd Testcase:**"
   ]
  },
  {
   "cell_type": "code",
   "execution_count": 114,
   "id": "81d89cd1",
   "metadata": {},
   "outputs": [
    {
     "name": "stdout",
     "output_type": "stream",
     "text": [
      "testing weighted A* algorithm for testcase(input2)\n",
      "Path : 9 -> 4 -> 12 -> 3 -> 7 -> 5 -> 8 -> 10 -> 8 -> 5 -> 7 -> 5\n",
      "Total Number of States : 45\n",
      "Total Time : 13\n",
      "execution time: 0.0010006427764892578s\n",
      "\n"
     ]
    }
   ],
   "source": [
    "weighted_a_star(3,\"input2.txt\")"
   ]
  },
  {
   "cell_type": "markdown",
   "id": "d6d4aeeb",
   "metadata": {},
   "source": [
    "**3rd Testcase:**"
   ]
  },
  {
   "cell_type": "code",
   "execution_count": 115,
   "id": "06c50d7b",
   "metadata": {},
   "outputs": [
    {
     "name": "stdout",
     "output_type": "stream",
     "text": [
      "testing weighted A* algorithm for testcase(input3)\n",
      "Path : 13 -> 11 -> 10 -> 3 -> 2 -> 6 -> 12 -> 5 -> 10 -> 5 -> 9 -> 4 -> 1 -> 13 -> 11\n",
      "Total Number of States : 39\n",
      "Total Time : 14\n",
      "execution time: 0.001272439956665039s\n",
      "\n"
     ]
    }
   ],
   "source": [
    "weighted_a_star(3,\"input3.txt\")"
   ]
  },
  {
   "cell_type": "markdown",
   "id": "0cb271b4",
   "metadata": {},
   "source": [
    "### Alpha = 4"
   ]
  },
  {
   "cell_type": "markdown",
   "id": "04ac1d45",
   "metadata": {},
   "source": [
    "**1st Testcase:**"
   ]
  },
  {
   "cell_type": "code",
   "execution_count": 116,
   "id": "d795c387",
   "metadata": {},
   "outputs": [
    {
     "name": "stdout",
     "output_type": "stream",
     "text": [
      "testing weighted A* algorithm for testcase(input1)\n",
      "Path : 1 -> 3 -> 4 -> 5 -> 7 -> 10 -> 11 -> 9 -> 8\n",
      "Total Number of States : 19\n",
      "Total Time : 8\n",
      "execution time: 0.0019991397857666016s\n",
      "\n"
     ]
    }
   ],
   "source": [
    "weighted_a_star(4,\"input1.txt\")"
   ]
  },
  {
   "cell_type": "markdown",
   "id": "90ee0413",
   "metadata": {},
   "source": [
    "**2nd Testcase:**"
   ]
  },
  {
   "cell_type": "code",
   "execution_count": 117,
   "id": "ffde7566",
   "metadata": {},
   "outputs": [
    {
     "name": "stdout",
     "output_type": "stream",
     "text": [
      "testing weighted A* algorithm for testcase(input2)\n",
      "Path : 9 -> 4 -> 2 -> 10 -> 2 -> 11 -> 3 -> 7 -> 5 -> 8\n",
      "Total Number of States : 29\n",
      "Total Time : 9\n",
      "execution time: 0.0017979145050048828s\n",
      "\n"
     ]
    }
   ],
   "source": [
    "weighted_a_star(4,\"input2.txt\")"
   ]
  },
  {
   "cell_type": "markdown",
   "id": "82b704a1",
   "metadata": {},
   "source": [
    "**3rd Testcase:**"
   ]
  },
  {
   "cell_type": "code",
   "execution_count": 118,
   "id": "c0b90401",
   "metadata": {},
   "outputs": [
    {
     "name": "stdout",
     "output_type": "stream",
     "text": [
      "testing weighted A* algorithm for testcase(input3)\n",
      "Path : 13 -> 11 -> 10 -> 3 -> 2 -> 6 -> 12 -> 5 -> 10 -> 5 -> 9 -> 4 -> 1 -> 13 -> 11\n",
      "Total Number of States : 39\n",
      "Total Time : 14\n",
      "execution time: 0.0020003318786621094s\n",
      "\n"
     ]
    }
   ],
   "source": [
    "weighted_a_star(4,\"input3.txt\")"
   ]
  },
  {
   "cell_type": "markdown",
   "id": "c1a472af",
   "metadata": {},
   "source": [
    "## Table Results"
   ]
  },
  {
   "cell_type": "markdown",
   "id": "e816673d",
   "metadata": {},
   "source": [
    "### BFS Results :\n",
    "| --- | Min Spent Time | Total States seen | Avg Exec Time |\n",
    "| --- | --- | --- | --- |\n",
    "| Test 1 | 8 | 33 | 0.00134s |\n",
    "| Test 2 | 8 | 88 | 0.00266s |\n",
    "| Test 3 | 13 | 844 |  0.10469s |"
   ]
  },
  {
   "cell_type": "markdown",
   "id": "45f4bb35",
   "metadata": {},
   "source": [
    "### IDS Results :\n",
    "| --- | Min Spent Time | Total States seen | Avg Exec Time |\n",
    "| --- | --- | --- | --- |\n",
    "| Test 1 | 8 | 914 | 0.00403s |\n",
    "| Test 2 | 8 | 3793 | 0.01483s |\n",
    "| Test 3 | 13 | 68476 | 0.21809s |"
   ]
  },
  {
   "cell_type": "markdown",
   "id": "da8abac9",
   "metadata": {},
   "source": [
    "### A* Results :\n",
    "| --- | Min Spent Time | Total States seen | Avg Exec Time |\n",
    "| --- | --- | --- | --- |\n",
    "| Test 1 | 8 | 34 | 0.00100s |\n",
    "| Test 2 | 8 | 53 | 0.00396s |\n",
    "| Test 3 | 13 | 459 | 0.02738s |"
   ]
  },
  {
   "cell_type": "markdown",
   "id": "15e28e67",
   "metadata": {},
   "source": [
    "### Weighted A* 2 Results:\n",
    "| --- | Min Spent Time | Total States Seen | Avg Exec Time |\n",
    "| --- | --- | --- | --- |\n",
    "| Test 1 | 8 | 28 | 0.00109s |\n",
    "| Test 2 | 8 | 51 | 0.00099s |\n",
    "| Test 3 | 13 | 48 | 0.00200s |"
   ]
  },
  {
   "cell_type": "markdown",
   "id": "8e5ba054",
   "metadata": {},
   "source": [
    "### Weighted A* 3 Results:\n",
    "| --- | Min Spent Time | Total States seen | Avg Exec Time |\n",
    "| --- | --- | --- | --- |\n",
    "| Test 1 | 8 | 24 |  0.00099s |\n",
    "| Test 2 | 12 | 45 | 0.00218s |\n",
    "| Test 3 | 14 | 39 | 0.00100s |"
   ]
  },
  {
   "cell_type": "markdown",
   "id": "ac6ddedf",
   "metadata": {},
   "source": [
    "### Weighted A* 4 Results:\n",
    "| --- | Min Spent Time | Total States seen | Avg Exec Time |\n",
    "| --- | --- | --- | --- |\n",
    "| Test 1 | 8 | 19 |  0.00101s |\n",
    "| Test 2 | 9 | 29 | 0.00201s |\n",
    "| Test 3 | 14 | 39 | 0.00096s |"
   ]
  },
  {
   "cell_type": "markdown",
   "id": "8f4193dc",
   "metadata": {},
   "source": [
    "## Advantage and Disadvantages"
   ]
  },
  {
   "cell_type": "markdown",
   "id": "91d079dc",
   "metadata": {},
   "source": [
    "### BFS\n",
    "- Avdantages:\n",
    "    - If there is a solution for the problem, BFS can find it\n",
    "    - It will find optimal solution if there are several anwers for the problem\n",
    "    - BFS will never get trapped in a blind alley, which means unwanted nodes\n",
    "- Disadvangese:\n",
    "    - It stores all parents node to complete search,so it gets a lot of memory\n",
    "    - If a solution is far away then it consumes time\n",
    "    \n",
    "    \n",
    "### IDS\n",
    "- Advantages:\n",
    "    - If there is a solution for the problem, IDS can find it\n",
    "    - It will find optimal solution if there are several anwers for the problem\n",
    "    - It takes much less memory than BFS\n",
    "- Disadvantages:\n",
    "    - If a solution is far away then it consumes time\n",
    "    \n",
    "    \n",
    "### A*\n",
    "- Advantages:\n",
    "    - If there is a solution for the problem, A* can find it\n",
    "    - It will find optimal solution if there are several anwers for the problem\n",
    "    - It expandes far fewer nodes than BFS and IDS\n",
    "- Disadvantages:\n",
    "    - Big tasks are difficult to put in algorithms\n",
    "    \n",
    "    \n",
    "### Weighted  A*\n",
    "- Advantages:\n",
    "    - if there is a solution for the problem, weighted A* can find it\n",
    "    - it takes fewer steps compare to A*\n",
    "    - execution time is less than A*\n",
    "- Disadvantages:\n",
    "    - depending on the Alpha, algorithm is no more optimal"
   ]
  }
 ],
 "metadata": {
  "kernelspec": {
   "display_name": "Python 3 (ipykernel)",
   "language": "python",
   "name": "python3"
  },
  "language_info": {
   "codemirror_mode": {
    "name": "ipython",
    "version": 3
   },
   "file_extension": ".py",
   "mimetype": "text/x-python",
   "name": "python",
   "nbconvert_exporter": "python",
   "pygments_lexer": "ipython3",
   "version": "3.9.12"
  }
 },
 "nbformat": 4,
 "nbformat_minor": 5
}
