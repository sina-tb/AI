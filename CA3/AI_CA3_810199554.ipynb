{
 "cells": [
  {
   "cell_type": "code",
   "execution_count": 9,
   "id": "35293156",
   "metadata": {},
   "outputs": [],
   "source": [
    "import pandas as pd \n",
    "from __future__ import unicode_literals\n",
    "from hazm import *\n",
    "from matplotlib import pyplot as plt\n",
    "from operator import itemgetter\n",
    "from math import log\n",
    "import random"
   ]
  },
  {
   "cell_type": "code",
   "execution_count": 3,
   "id": "3e6266fd",
   "metadata": {},
   "outputs": [
    {
     "data": {
      "text/html": [
       "<div>\n",
       "<style scoped>\n",
       "    .dataframe tbody tr th:only-of-type {\n",
       "        vertical-align: middle;\n",
       "    }\n",
       "\n",
       "    .dataframe tbody tr th {\n",
       "        vertical-align: top;\n",
       "    }\n",
       "\n",
       "    .dataframe thead th {\n",
       "        text-align: right;\n",
       "    }\n",
       "</style>\n",
       "<table border=\"1\" class=\"dataframe\">\n",
       "  <thead>\n",
       "    <tr style=\"text-align: right;\">\n",
       "      <th></th>\n",
       "      <th>label</th>\n",
       "      <th>content</th>\n",
       "    </tr>\n",
       "  </thead>\n",
       "  <tbody>\n",
       "    <tr>\n",
       "      <th>0</th>\n",
       "      <td>فناوری</td>\n",
       "      <td>گزارش های منتشر شده حاکی از آن است که کاربران ...</td>\n",
       "    </tr>\n",
       "    <tr>\n",
       "      <th>1</th>\n",
       "      <td>ورزشی</td>\n",
       "      <td>سوپر استار سینما و از قهرمانان سابق ووشو ــ کو...</td>\n",
       "    </tr>\n",
       "    <tr>\n",
       "      <th>2</th>\n",
       "      <td>حوادث</td>\n",
       "      <td>مدیرعامل شرکت عمران آب کیش از فوت یک نفر در آت...</td>\n",
       "    </tr>\n",
       "    <tr>\n",
       "      <th>3</th>\n",
       "      <td>فناوری</td>\n",
       "      <td>یک نوجوان انگلیسی به اتهام هک حساب‌های کاربری ...</td>\n",
       "    </tr>\n",
       "    <tr>\n",
       "      <th>4</th>\n",
       "      <td>سلامت</td>\n",
       "      <td>دانشمندان در جدیدترین مطالعات خود اثرات جدید و...</td>\n",
       "    </tr>\n",
       "    <tr>\n",
       "      <th>5</th>\n",
       "      <td>سلامت</td>\n",
       "      <td>مصرف میوه، یکی از راه های سالم برای کاهش وزن س...</td>\n",
       "    </tr>\n",
       "    <tr>\n",
       "      <th>6</th>\n",
       "      <td>سیاسی</td>\n",
       "      <td>رئیس جمهوری پیش‌بینی، پیشگیری و درمان آسیب‌های...</td>\n",
       "    </tr>\n",
       "    <tr>\n",
       "      <th>7</th>\n",
       "      <td>ورزشی</td>\n",
       "      <td>پرسپولیس با برتری ۲ بر صفر مقابل تراکتور، اختل...</td>\n",
       "    </tr>\n",
       "    <tr>\n",
       "      <th>8</th>\n",
       "      <td>ورزشی</td>\n",
       "      <td>مدیرعامل باشگاه استقلال گفت: برای گرفتن مجوز ح...</td>\n",
       "    </tr>\n",
       "    <tr>\n",
       "      <th>9</th>\n",
       "      <td>سیاسی</td>\n",
       "      <td>دبیرکل حزب اسلامی ایران زمین در واپسین دقایق م...</td>\n",
       "    </tr>\n",
       "    <tr>\n",
       "      <th>10</th>\n",
       "      <td>فرهنگی/هنری</td>\n",
       "      <td>برنامه «کاروانسرا» در رابطه با مهمترین سفرنامه...</td>\n",
       "    </tr>\n",
       "    <tr>\n",
       "      <th>11</th>\n",
       "      <td>سیاسی</td>\n",
       "      <td>محسن هاشمی رفسنجانی، طی نامه‌ای به رییس جدید س...</td>\n",
       "    </tr>\n",
       "    <tr>\n",
       "      <th>12</th>\n",
       "      <td>سیاسی</td>\n",
       "      <td>علیرضا معزی* قطبی شدن فضای عمومی و پرشماری بحر...</td>\n",
       "    </tr>\n",
       "    <tr>\n",
       "      <th>13</th>\n",
       "      <td>فرهنگی/هنری</td>\n",
       "      <td>محمد اطبایی با تاکید براینکه بحران فعلی ما در ...</td>\n",
       "    </tr>\n",
       "    <tr>\n",
       "      <th>14</th>\n",
       "      <td>ورزشی</td>\n",
       "      <td>مدیرعامل سابق تراکتور و پاس صحبت های مهمی در ب...</td>\n",
       "    </tr>\n",
       "  </tbody>\n",
       "</table>\n",
       "</div>"
      ],
      "text/plain": [
       "          label                                            content\n",
       "0        فناوری  گزارش های منتشر شده حاکی از آن است که کاربران ...\n",
       "1         ورزشی  سوپر استار سینما و از قهرمانان سابق ووشو ــ کو...\n",
       "2         حوادث  مدیرعامل شرکت عمران آب کیش از فوت یک نفر در آت...\n",
       "3        فناوری  یک نوجوان انگلیسی به اتهام هک حساب‌های کاربری ...\n",
       "4         سلامت  دانشمندان در جدیدترین مطالعات خود اثرات جدید و...\n",
       "5         سلامت  مصرف میوه، یکی از راه های سالم برای کاهش وزن س...\n",
       "6         سیاسی  رئیس جمهوری پیش‌بینی، پیشگیری و درمان آسیب‌های...\n",
       "7         ورزشی  پرسپولیس با برتری ۲ بر صفر مقابل تراکتور، اختل...\n",
       "8         ورزشی  مدیرعامل باشگاه استقلال گفت: برای گرفتن مجوز ح...\n",
       "9         سیاسی  دبیرکل حزب اسلامی ایران زمین در واپسین دقایق م...\n",
       "10  فرهنگی/هنری  برنامه «کاروانسرا» در رابطه با مهمترین سفرنامه...\n",
       "11        سیاسی  محسن هاشمی رفسنجانی، طی نامه‌ای به رییس جدید س...\n",
       "12        سیاسی  علیرضا معزی* قطبی شدن فضای عمومی و پرشماری بحر...\n",
       "13  فرهنگی/هنری  محمد اطبایی با تاکید براینکه بحران فعلی ما در ...\n",
       "14        ورزشی  مدیرعامل سابق تراکتور و پاس صحبت های مهمی در ب..."
      ]
     },
     "execution_count": 3,
     "metadata": {},
     "output_type": "execute_result"
    }
   ],
   "source": [
    "df = pd.read_csv(\"train.csv\")\n",
    "df.head(15)"
   ]
  },
  {
   "cell_type": "markdown",
   "id": "eaf31100",
   "metadata": {},
   "source": [
    "### Question 1)"
   ]
  },
  {
   "cell_type": "code",
   "execution_count": 4,
   "id": "af3943b2",
   "metadata": {},
   "outputs": [],
   "source": [
    "normalizer = Normalizer()\n",
    "stemmer = Stemmer()\n",
    "lemmatizer = Lemmatizer()"
   ]
  },
  {
   "cell_type": "markdown",
   "id": "7e3db604",
   "metadata": {},
   "source": [
    "#### Normalizer"
   ]
  },
  {
   "cell_type": "code",
   "execution_count": 5,
   "id": "e919e4e3",
   "metadata": {},
   "outputs": [
    {
     "data": {
      "text/plain": [
       "'گزارش\\u200cهای منتشر شده حاکی از آن است که کاربران تلگرام در مناطقی از جهان همچون اروپا و خاورمیانه با مشکل مواجه شده\\u200cاند. به گزارش ایسنا، به نقل از تلگرام، دقایقی پیش پیام رسان تلگرام در صفحه توییتر خود اعلام کرد که دسترسی کاربران این اپلیکیشن در اروپا و خاورمیانه با مشکل مواجه شده است. طبق این پیام، به نظر می\\u200cرسد که منشا این اختلالات از ظهر امروز، پنج شنبه، خارجی و از سوی خود این پیام رسان بوده است و ارتباطی با داخل کشور ندارد. این پیام رسان در این خصوص عنوان کرده است که متخصصان تلگرام از زمانی که متوجه چنین اختلالی شده\\u200cاند، در حال بررسی و برطرف کردن مشکل مربوطه بوده و امید است به زودی این اختلال رفع شود و کاربران به حساب\\u200cهای کاربری خود در تلگرام دسترسی یابند.'"
      ]
     },
     "execution_count": 5,
     "metadata": {},
     "output_type": "execute_result"
    }
   ],
   "source": [
    "normalizer.normalize(df['content'][0])"
   ]
  },
  {
   "cell_type": "markdown",
   "id": "2706f8ce",
   "metadata": {},
   "source": [
    "#### Stemming\n",
    "This option removes semi-space from the words. Also,it usually cuts end of words."
   ]
  },
  {
   "cell_type": "code",
   "execution_count": 6,
   "id": "9ee1d810",
   "metadata": {},
   "outputs": [
    {
     "name": "stdout",
     "output_type": "stream",
     "text": [
      "کتاب\n",
      "زیبارو\n"
     ]
    }
   ],
   "source": [
    "print(stemmer.stem('کتاب‌ها'))\n",
    "print(stemmer.stem('زیباروی'))"
   ]
  },
  {
   "cell_type": "markdown",
   "id": "6e3c549f",
   "metadata": {},
   "source": [
    "#### Lemmatization\n",
    "This option gives us the base form of the verb in Persian language ( **Bon-e-Mozare** &  **Bon-e-Mazi**)."
   ]
  },
  {
   "cell_type": "code",
   "execution_count": 7,
   "id": "a15128ba",
   "metadata": {},
   "outputs": [
    {
     "name": "stdout",
     "output_type": "stream",
     "text": [
      "خورد#خور\n",
      "رفت#رو\n"
     ]
    }
   ],
   "source": [
    "print(lemmatizer.lemmatize(\"بخوریم\"))\n",
    "print(lemmatizer.lemmatize(\"رفتید\"))"
   ]
  },
  {
   "cell_type": "markdown",
   "id": "eef5884d",
   "metadata": {},
   "source": [
    "### Question 2)             \n",
    "\n",
    "$$ P(c|x) = \\frac{P(x|c)P(c)}{P(x)} $$\n",
    "\n",
    "$x$ : The word<br>\n",
    "$c$ : The label of News<br>\n",
    "$P(x|c)$ : The probability of seeing word $x$ in news with label of $c$ (**Likelihood**)<br>\n",
    "$P(c|x)$ : The probability of the current news being label $c$ knowing that word $x$ appeared in context (**Posterior**)<br>\n",
    "$P(c)$ : The probability of seeing news with label $c$ (**Class Prior Probability**)<br>\n",
    "$P(x)$ : The probability of seeing word $x$ (**Predictor Prior Probability  / Evidence**)\n",
    "#### Attention : we don't calculate $P(x)$, because it isn't necessary in camparing.\n",
    "#### Attention : despite the better accuracy of bigram method, we use unigram method."
   ]
  },
  {
   "cell_type": "markdown",
   "id": "5f299592",
   "metadata": {},
   "source": [
    "### Question 3)\n",
    "examples:<br>\n",
    "\"گاز خانه قطع شده است\"<br>\n",
    "\"زبانم را گاز گرفتم\"<br>\n",
    "\n",
    "in above examples the bigram method is better than unigram.\n",
    "in first sentence,\"گاز\" means a kind of fossil fuel.\n",
    "in second sentence,\"گاز\" means the tounge.\n",
    "\n",
    "In my example the bigram method is enough, but in many other sentences we need to know longer parts of our sentence, so in some examples we need n-gram method."
   ]
  },
  {
   "cell_type": "markdown",
   "id": "f662cf8d",
   "metadata": {},
   "source": [
    "### Question 4)\n",
    "\n",
    "If word $x$ from the content only be found in just label $c$,we have $P(x|c) = 1$ and Naive Bayes will definetly choose that label as the answer. this functionality may be wrong in some situations.\n",
    "\n",
    "If word $x$ hasn't appeared in label $c$, we have that $P(x|c) = 0$.\n",
    "so for probability we have $log(0) = - \\infty$ and the $ sum_{i=1}^{n} log(P(x_i | c)) $ will converge to $- \\infty$ and because of that, the label $c$ will never be chosen as the answer."
   ]
  },
  {
   "cell_type": "markdown",
   "id": "e7420cfd",
   "metadata": {},
   "source": [
    "### Question 5)\n",
    "The none Additive smoothing equation is:\n",
    "\n",
    "$$ \\frac{Word Count}{Total Words}$$\n",
    "\n",
    "And the Additive Smoothing equation is:\n",
    "\n",
    "$$ \\frac{Word Count + \\alpha}{Total Words + \\alpha.D} $$\n",
    "\n",
    "In this equation $\\alpha$ is a positive constant and $D$ is the number of distinct words in that label.\n",
    "\n",
    "If we want to calculate probability without Additive Smoothing, the $\\alpha$ is 0.\n",
    "\n",
    "Because of Additive Smoothing the $- \\infty$ problem mentioned in Question 4 is solved.Because the fraction will never be equal to 0 with effect of positive $\\alpha$ in the numerator."
   ]
  },
  {
   "cell_type": "markdown",
   "id": "b8fdb6e6",
   "metadata": {},
   "source": [
    "## PreProcessing\n",
    "-    Normalizing: First we normalize the content of our dataframe for every row.\n",
    "-    Stop Words: I used the hazm.utils to get the stopwords of farsi language to remove stopwords in content for better performance.\n",
    "-    Punctuation Marks: punctutation marks are not useful in labaling and they should be removed\n",
    "-    Tokenizing: According to the bag of words approach, tokenizing helps to break the senctence into its words.\n",
    "\n",
    "We specify a dictionary for each label and a specific variable to save number of news in every label"
   ]
  },
  {
   "cell_type": "code",
   "execution_count": 8,
   "id": "38a37406",
   "metadata": {},
   "outputs": [],
   "source": [
    "technology_news = dict()\n",
    "art_news = dict()\n",
    "accident_news = dict()\n",
    "sport_news = dict()\n",
    "political_news = dict()\n",
    "health_news = dict()\n",
    "\n",
    "number_of_technology = 0\n",
    "number_of_art = 0\n",
    "number_of_accident = 0\n",
    "number_of_sport = 0\n",
    "number_of_political = 0\n",
    "number_of_health = 0\n",
    "\n",
    "\n",
    "punctuation_marks = ['-','_','!','\"','#','(',')','*','.','...','....','/',':','[',']','،','؛','«','»',' ','']\n",
    "\n",
    "\n",
    "for index, row in df.iterrows():\n",
    "    norm=normalizer.normalize(row['content'])\n",
    "    tokens = word_tokenize(norm)\n",
    "    for token in tokens:\n",
    "        bons=lemmatizer.lemmatize(token).split(\"#\")\n",
    "        word = bons[0]\n",
    "        if (not word in stopwords_list() and not word in punctuation_marks):\n",
    "            \n",
    "            label = row['label']\n",
    "            \n",
    "            if (label == 'فناوری'):\n",
    "                technology_news[word] = technology_news.get(word, 0) + 1\n",
    "                number_of_technology += 1\n",
    "                \n",
    "            if (label == 'فرهنگی/هنری'):\n",
    "                art_news[word] = art_news.get(word, 0) + 1\n",
    "                number_of_art += 1\n",
    "                \n",
    "            if (label == 'حوادث'):\n",
    "                accident_news[word] = accident_news.get(word, 0) + 1\n",
    "                number_of_accident += 1\n",
    "                \n",
    "            if (label == 'ورزشی'):\n",
    "                sport_news[word] = sport_news.get(word, 0) + 1\n",
    "                number_of_sport += 1\n",
    "                \n",
    "            if (label == 'سیاسی'):\n",
    "                political_news[word] = political_news.get(word, 0) + 1\n",
    "                number_of_political += 1\n",
    "                \n",
    "            if (label == 'سلامت'):\n",
    "                health_news[word] = health_news.get(word, 0) + 1 \n",
    "                number_of_health += 1\n",
    "                \n"
   ]
  },
  {
   "cell_type": "markdown",
   "id": "b38bee42",
   "metadata": {},
   "source": [
    "We need this cell at Additive Smoothing part for $D$ value:"
   ]
  },
  {
   "cell_type": "code",
   "execution_count": 10,
   "id": "d3d177f4",
   "metadata": {},
   "outputs": [],
   "source": [
    "distinct_technology_news = len(list(technology_news.keys()))\n",
    "distinct_art_news = len(list(art_news.keys()))\n",
    "distinct_accident_news = len(list(accident_news.keys()))\n",
    "distinct_sport_news = len(list(sport_news.keys()))\n",
    "distinct_political_news = len(list(political_news.keys()))\n",
    "distinct_health_news = len(list(health_news.keys()))"
   ]
  },
  {
   "cell_type": "markdown",
   "id": "cb42d24c",
   "metadata": {},
   "source": [
    "### Question 6)  Plots"
   ]
  },
  {
   "cell_type": "code",
   "execution_count": 11,
   "id": "7fabed04",
   "metadata": {},
   "outputs": [
    {
     "data": {
      "image/png": "[encoded data removed]",
      "text/plain": [
       "<Figure size 432x288 with 1 Axes>"
      ]
     },
     "metadata": {
      "needs_background": "light"
     },
     "output_type": "display_data"
    }
   ],
   "source": [
    "res = dict(sorted(technology_news.items(), key = itemgetter(1), reverse = True)[:5])\n",
    "keys = res.keys()\n",
    "values = res.values()\n",
    "plt.bar(keys, values)\n",
    "plt.xlabel('words in Technology')\n",
    "plt.ylabel('numbers')\n",
    "plt.show()"
   ]
  },
  {
   "cell_type": "code",
   "execution_count": 12,
   "id": "0f6de63a",
   "metadata": {},
   "outputs": [
    {
     "data": {
      "image/png": "[encoded data removed]",
      "text/plain": [
       "<Figure size 432x288 with 1 Axes>"
      ]
     },
     "metadata": {
      "needs_background": "light"
     },
     "output_type": "display_data"
    }
   ],
   "source": [
    "res = dict(sorted(art_news.items(), key = itemgetter(1), reverse = True)[:5])\n",
    "keys = res.keys()\n",
    "values = res.values()\n",
    "plt.bar(keys, values)\n",
    "plt.xlabel('words in art')\n",
    "plt.ylabel('numbers')\n",
    "plt.show()"
   ]
  },
  {
   "cell_type": "code",
   "execution_count": 13,
   "id": "ab36a4cd",
   "metadata": {},
   "outputs": [
    {
     "data": {
      "image/png": "[encoded data removed]",
      "text/plain": [
       "<Figure size 432x288 with 1 Axes>"
      ]
     },
     "metadata": {
      "needs_background": "light"
     },
     "output_type": "display_data"
    }
   ],
   "source": [
    "res = dict(sorted(accident_news.items(), key = itemgetter(1), reverse = True)[:5])\n",
    "keys = res.keys()\n",
    "values = res.values()\n",
    "plt.bar(keys, values)\n",
    "plt.xlabel('words in accident')\n",
    "plt.ylabel('numbers')\n",
    "plt.show()"
   ]
  },
  {
   "cell_type": "code",
   "execution_count": 14,
   "id": "d0cebe7d",
   "metadata": {},
   "outputs": [
    {
     "data": {
      "image/png": "[encoded data removed]",
      "text/plain": [
       "<Figure size 432x288 with 1 Axes>"
      ]
     },
     "metadata": {
      "needs_background": "light"
     },
     "output_type": "display_data"
    }
   ],
   "source": [
    "res = dict(sorted(sport_news.items(), key = itemgetter(1), reverse = True)[:5])\n",
    "keys = res.keys()\n",
    "values = res.values()\n",
    "plt.bar(keys, values)\n",
    "plt.xlabel('words in sport')\n",
    "plt.ylabel('numbers')\n",
    "plt.show()"
   ]
  },
  {
   "cell_type": "code",
   "execution_count": 15,
   "id": "447b811f",
   "metadata": {},
   "outputs": [
    {
     "data": {
      "image/png": "[encoded data removed]",
      "text/plain": [
       "<Figure size 432x288 with 1 Axes>"
      ]
     },
     "metadata": {
      "needs_background": "light"
     },
     "output_type": "display_data"
    }
   ],
   "source": [
    "res = dict(sorted(political_news.items(), key = itemgetter(1), reverse = True)[:5])\n",
    "keys = res.keys()\n",
    "values = res.values()\n",
    "plt.bar(keys, values)\n",
    "plt.xlabel('words in political')\n",
    "plt.ylabel('numbers')\n",
    "plt.show()"
   ]
  },
  {
   "cell_type": "code",
   "execution_count": 16,
   "id": "381ea6c5",
   "metadata": {},
   "outputs": [
    {
     "data": {
      "image/png": "[encoded data removed]",
      "text/plain": [
       "<Figure size 432x288 with 1 Axes>"
      ]
     },
     "metadata": {
      "needs_background": "light"
     },
     "output_type": "display_data"
    }
   ],
   "source": [
    "res = dict(sorted(health_news.items(), key = itemgetter(1), reverse = True)[:5])\n",
    "keys = res.keys()\n",
    "values = res.values()\n",
    "plt.bar(keys, values)\n",
    "plt.xlabel('words in health')\n",
    "plt.ylabel('numbers')\n",
    "plt.show()"
   ]
  },
  {
   "cell_type": "markdown",
   "id": "b544260f",
   "metadata": {},
   "source": [
    "### Question 7)\n",
    "\n",
    "If our classifier always predict Technology for a label, the recall value for the class Technology will be 100% and we know that  this model is not good. \n",
    "\n",
    "There might be a case that we only have 2 predictions for the Technology label out of a total number of 100000 predictions. The probability of making a mistake in two predictions would be so low because we made only 2 predictions. So this might lead to a 100% precision and a low recall beucase of missing many other instances of Technology "
   ]
  },
  {
   "cell_type": "markdown",
   "id": "9bfe7e7c",
   "metadata": {},
   "source": [
    "### Question 8)\n",
    "\n",
    "\n",
    "**F1 Score**: Is the harmonic mean of Precision and Recall. Therefore, this score takes both false positives and false negatives into account. Intuitively it is not as easy to understand as accuracy, but F1 is usually more useful than accuracy, especially if you have an uneven class distribution.<br>\n",
    "\n",
    "Accuracy works best if false positives and false negatives have similar cost. If the cost of false positives and false negatives are very different, it’s better to look at both Precision and Recall.\n",
    "\n",
    "\n",
    "$$F_{1} = 2\\frac{Precision.Recall}{Precision + Recall} = \\frac{TP}{TP + \\frac{FP + FN}{2}}$$\n",
    "\n",
    "$$Precision = \\frac{TP}{TP + FP}$$\n",
    "\n",
    "$$Recall = \\frac{TP}{TP + FN}$$\n",
    "\n",
    "**TP**: True positive<br>\n",
    "**TN**: True negetive<br>\n",
    "**FP**: False positive<br>\n",
    "**FN**: False negetive<br>"
   ]
  },
  {
   "cell_type": "markdown",
   "id": "b4592bdc",
   "metadata": {},
   "source": [
    "### Question 9)\n",
    "\n",
    "**Micro**: computes F1-score by value total true positives, false negatives and false positives (no matter of the prediction for each label in the dataset)\n",
    "\n",
    "**Macro**: computess F1-score for each label, and returns the average without considering the proportion for each label in the dataset.\n",
    "\n",
    "**Weighted**: computes F1-score for each label, and returns the average considering the proportion for each label in the dataset."
   ]
  },
  {
   "cell_type": "code",
   "execution_count": 17,
   "id": "40614866",
   "metadata": {},
   "outputs": [
    {
     "data": {
      "text/html": [
       "<div>\n",
       "<style scoped>\n",
       "    .dataframe tbody tr th:only-of-type {\n",
       "        vertical-align: middle;\n",
       "    }\n",
       "\n",
       "    .dataframe tbody tr th {\n",
       "        vertical-align: top;\n",
       "    }\n",
       "\n",
       "    .dataframe thead th {\n",
       "        text-align: right;\n",
       "    }\n",
       "</style>\n",
       "<table border=\"1\" class=\"dataframe\">\n",
       "  <thead>\n",
       "    <tr style=\"text-align: right;\">\n",
       "      <th></th>\n",
       "      <th>label</th>\n",
       "      <th>content</th>\n",
       "    </tr>\n",
       "  </thead>\n",
       "  <tbody>\n",
       "    <tr>\n",
       "      <th>0</th>\n",
       "      <td>فناوری</td>\n",
       "      <td>بعد از اعلام لیست ۲۳ شرکت مجاز ثبت سفارش و ارا...</td>\n",
       "    </tr>\n",
       "    <tr>\n",
       "      <th>1</th>\n",
       "      <td>فرهنگی/هنری</td>\n",
       "      <td>یک استاد علم قرائت قرآن کریم، گفت: ریشه موسیقی...</td>\n",
       "    </tr>\n",
       "    <tr>\n",
       "      <th>2</th>\n",
       "      <td>حوادث</td>\n",
       "      <td>آتش سوزی های زنجیره ای جنگل های زاگرس در استان...</td>\n",
       "    </tr>\n",
       "    <tr>\n",
       "      <th>3</th>\n",
       "      <td>فناوری</td>\n",
       "      <td>استفاده از سرویس‌های iMassage یا Facetime محصو...</td>\n",
       "    </tr>\n",
       "    <tr>\n",
       "      <th>4</th>\n",
       "      <td>حوادث</td>\n",
       "      <td>دادستان عمومی و انقلاب یاسوج گفت: 10 میلیون دل...</td>\n",
       "    </tr>\n",
       "  </tbody>\n",
       "</table>\n",
       "</div>"
      ],
      "text/plain": [
       "         label                                            content\n",
       "0       فناوری  بعد از اعلام لیست ۲۳ شرکت مجاز ثبت سفارش و ارا...\n",
       "1  فرهنگی/هنری  یک استاد علم قرائت قرآن کریم، گفت: ریشه موسیقی...\n",
       "2        حوادث  آتش سوزی های زنجیره ای جنگل های زاگرس در استان...\n",
       "3       فناوری  استفاده از سرویس‌های iMassage یا Facetime محصو...\n",
       "4        حوادث  دادستان عمومی و انقلاب یاسوج گفت: 10 میلیون دل..."
      ]
     },
     "execution_count": 17,
     "metadata": {},
     "output_type": "execute_result"
    }
   ],
   "source": [
    "tdf = pd.read_csv(\"test.csv\")\n",
    "tdf.head(5)"
   ]
  },
  {
   "cell_type": "code",
   "execution_count": 18,
   "id": "682ac832",
   "metadata": {},
   "outputs": [],
   "source": [
    "def get_label_index(a):\n",
    "    genres = []\n",
    "    genres.append('فناوری')\n",
    "    genres.append('فرهنگی/هنری')\n",
    "    genres.append('حوادث')\n",
    "    genres.append('ورزشی')\n",
    "    genres.append('سیاسی')\n",
    "    genres.append('سلامت')\n",
    "    return genres.index(a)\n"
   ]
  },
  {
   "cell_type": "markdown",
   "id": "9b7393ab",
   "metadata": {},
   "source": [
    "## Detection Without Additive Smoothing"
   ]
  },
  {
   "cell_type": "code",
   "execution_count": 19,
   "id": "8eba5a6c",
   "metadata": {},
   "outputs": [],
   "source": [
    "\n",
    "\n",
    "ZERO = 0.000000000000000000000000000000000000000000000000000000000000000000000000000000000000000000000000000000001\n",
    "\n",
    "\n",
    "def calcProbsWithoutSmoothing(phrase):\n",
    "    norm = normalizer.normalize(phrase)\n",
    "    tokens = word_tokenize(norm)\n",
    "    contribution = [0, 0, 0, 0, 0, 0]\n",
    "\n",
    "    for token in tokens:\n",
    "\n",
    "        bons=lemmatizer.lemmatize(token).split(\"#\")\n",
    "        word = bons[0]\n",
    "\n",
    "        if (word in stopwords_list() or  word in punctuation_marks ):\n",
    "            continue\n",
    "            \n",
    "            \n",
    "        if (word in technology_news):\n",
    "            contribution[0] += log((technology_news[word]) / (number_of_technology))\n",
    "        else:\n",
    "            contribution[0] += log(ZERO)\n",
    "            \n",
    "        \n",
    "        if (word in art_news):\n",
    "            contribution[1] += log((art_news[word]) / (number_of_art))\n",
    "        else:\n",
    "            contribution[1] += log(ZERO)\n",
    "            \n",
    "        \n",
    "        if (word in accident_news):\n",
    "            contribution[2] += log((accident_news[word]) / (number_of_accident))\n",
    "        else:\n",
    "            contribution[2] += log(ZERO)\n",
    "        \n",
    "        if (word in sport_news):\n",
    "            contribution[3] += log((sport_news[word]) / (number_of_sport))\n",
    "        else:\n",
    "            contribution[3] += log(ZERO)\n",
    "                \n",
    "        if (word in political_news):\n",
    "            contribution[4] += log((political_news[word]) / (number_of_political))\n",
    "        else:\n",
    "            contribution[4] += log(ZERO)\n",
    "     \n",
    "        \n",
    "        if (word in health_news):\n",
    "            contribution[5] += log((health_news[word]) / (number_of_health))\n",
    "        else:\n",
    "            contribution[5] += log(ZERO)\n",
    "        \n",
    "    return contribution"
   ]
  },
  {
   "cell_type": "code",
   "execution_count": 20,
   "id": "a4d376c1",
   "metadata": {},
   "outputs": [],
   "source": [
    "tp = [0, 0, 0, 0, 0, 0]\n",
    "fp = [0, 0, 0, 0, 0, 0]\n",
    "fn = [0, 0, 0, 0, 0, 0]\n",
    "correct = 0\n",
    "\n",
    "\n",
    "for index, row in tdf.iterrows():\n",
    "    \n",
    "    p_content = calcProbsWithoutSmoothing(row['content'])\n",
    "    mx_content = max(p_content)\n",
    "    detect = p_content.index(mx_content, 0)\n",
    "    \n",
    "    label = get_label_index(row['label'])\n",
    "    if (label == detect):\n",
    "        correct += 1\n",
    "        tp[detect] += 1\n",
    "    else:\n",
    "        fp[detect] += 1\n",
    "        fn[label] += 1"
   ]
  },
  {
   "cell_type": "code",
   "execution_count": 21,
   "id": "5c4d7deb",
   "metadata": {},
   "outputs": [],
   "source": [
    "def get_label(index):\n",
    "    if (index == 0):\n",
    "        return 'Technology'\n",
    "    if (index == 1):\n",
    "        return 'Art'\n",
    "    if (index == 2):\n",
    "        return 'Accident'\n",
    "    if (index == 3):\n",
    "        return 'Sport'\n",
    "    if (index == 4):\n",
    "        return 'Political'\n",
    "    if (index == 5):\n",
    "        return 'Health'"
   ]
  },
  {
   "cell_type": "markdown",
   "id": "87bd2c8d",
   "metadata": {},
   "source": [
    "### Question 10)\n",
    "## Result Without Additive Smoothing"
   ]
  },
  {
   "cell_type": "code",
   "execution_count": 22,
   "id": "3490937b",
   "metadata": {},
   "outputs": [
    {
     "name": "stdout",
     "output_type": "stream",
     "text": [
      "Accuracy:  0.8672645739910314 \n",
      "\n",
      "Precision, Recall, and F1 for all labels:\n",
      "\n",
      "Label  Technology\n",
      "TP Count:  149\n",
      "FP Count:  17\n",
      "FN Count:  19\n",
      "Precision: 0.8975903614457831\n",
      "Recall: 0.8869047619047619\n",
      "F1: 0.8922155688622753 \n",
      "\n",
      "Label  Art\n",
      "TP Count:  159\n",
      "FP Count:  68\n",
      "FN Count:  21\n",
      "Precision: 0.7004405286343612\n",
      "Recall: 0.8833333333333333\n",
      "F1: 0.7813267813267813 \n",
      "\n",
      "Label  Accident\n",
      "TP Count:  154\n",
      "FP Count:  9\n",
      "FN Count:  46\n",
      "Precision: 0.9447852760736196\n",
      "Recall: 0.77\n",
      "F1: 0.8484848484848485 \n",
      "\n",
      "Label  Sport\n",
      "TP Count:  169\n",
      "FP Count:  3\n",
      "FN Count:  21\n",
      "Precision: 0.9825581395348837\n",
      "Recall: 0.8894736842105263\n",
      "F1: 0.9337016574585636 \n",
      "\n",
      "Label  Political\n",
      "TP Count:  176\n",
      "FP Count:  43\n",
      "FN Count:  24\n",
      "Precision: 0.8036529680365296\n",
      "Recall: 0.88\n",
      "F1: 0.8400954653937948 \n",
      "\n",
      "Label  Health\n",
      "TP Count:  160\n",
      "FP Count:  8\n",
      "FN Count:  17\n",
      "Precision: 0.9523809523809523\n",
      "Recall: 0.903954802259887\n",
      "F1: 0.9275362318840581 \n",
      "\n"
     ]
    }
   ],
   "source": [
    "print(\"Accuracy: \", correct / len(tdf),\"\\n\")\n",
    "print(\"Precision, Recall, and F1 for all labels:\\n\")\n",
    "for i in range(6):\n",
    "    precision = tp[i] / (tp[i] + fp[i])\n",
    "    recall = tp[i] / (tp[i] + fn[i])\n",
    "    f1 = (2 * precision * recall) / (precision + recall)\n",
    "    print(\"Label \", get_label(i))\n",
    "    print(\"TP Count: \", tp[i])\n",
    "    print(\"FP Count: \", fp[i])\n",
    "    print(\"FN Count: \", fn[i])\n",
    "    print(\"Precision:\", precision)\n",
    "    print(\"Recall:\", recall)\n",
    "    print(\"F1:\", f1,\"\\n\")"
   ]
  },
  {
   "cell_type": "markdown",
   "id": "21dc9f80",
   "metadata": {},
   "source": [
    "### Macro Average Without Additive Smoothing: \n",
    "\n",
    "$$F_1 = \\frac{0.89 + 0.78 + 0.84 + 0.93 + 0.84 + 0.92}{6} = 86.66\\%$$\n",
    "\n",
    "$$Precision = \\frac{0.89 + 0.88 + 0.94 + 0.98 + 0.80 + 0.95}{6} = 87.66\\%$$\n",
    "\n",
    "$$Recall = \\frac{0.88 + 0.84 + 0.77 + 0.88 + 0.88 + 0.90}{6} = 85.83\\%$$\n",
    "\n",
    "### Micro Average Without Additive Smoothing:\n",
    "\n",
    "$$Precision = \\frac{TP1 + TP2 + TP3 + TP4 + TP5 + TP6}{TP1 + FP1 + TP2 + FP2 + TP3 + FP3 + TP4 + FP4 + TP5 + FP5 + TP6 + FP6}$$\n",
    "\n",
    "$$ Precision = \\frac{149 + 159 + 154 + 169 + 176 + 160}{149 + 17 + 159 + 68 + 154 + 9 + 169 + 3 + 176 + 43 + 160 + 8} = 86.72\\%$$\n",
    "\n",
    "\n",
    "\n",
    "$$Recall = \\frac{TP1 + TP2 + TP3 + TP4 + TP5 + TP6}{TP1 + FN1 + TP2 + FN2 + TP3 + FN3 + TP4 + FN4 + TP5 + FN5 + TP6 + FN6}$$\n",
    "\n",
    "\n",
    "$$ Recall = \\frac{149 + 159 + 154 + 169 + 176 + 160}{149 + 19 + 159 + 21 + 154 + 46 + 169 + 21 + 176 + 24 + 160 + 17} = 86.72\\%$$\n",
    "\n",
    "$$ F_1 = 2\\frac{Precision.Recall}{Precision + Recall} = 86.72\\%$$\n",
    "\n",
    "### Weighted Average Without Additive Smoothing:\n",
    "\n",
    "The number of smaples for every label is equal to (TP + FN)<br>\n",
    "So for every label we have:\n",
    "\n",
    "Technology: 149 + 19 = 168 <br>\n",
    "Art: 159 + 21 = 180 <br>\n",
    "Accident: 154 + 46 = 200 <br>\n",
    "Sport: 169 + 21 = 190 <br>\n",
    "Political: 176 + 24 = 200 <br>\n",
    "Health: 160 + 17 = 177 <br>\n",
    "\n",
    "Total: 1115\n",
    "\n",
    "\n",
    "$$F_1 = \\frac{(0.89 * 168 + 0.78 * 180 + 0.84 * 200 + 0.93 * 190 + 0.84 * 200 + 0.92 * 177)}{1115} = 86.5\\%$$\n",
    "\n",
    "$$Precision = \\frac{(0.89 * 168 + 0.88 * 180 + 0.94 * 200 + 0.98 * 190 + 0.80 * 200 + 0.95 * 177)}{1115} = 90\\%$$\n",
    "\n",
    "$$Recall = \\frac{(0.88 * 168 + 0.84 * 180 + 0.77 * 200 + 0.88 * 190 + 0.88 * 200 + 0.90 * 177)}{1115} = 85.6\\%$$"
   ]
  },
  {
   "cell_type": "markdown",
   "id": "f0501791",
   "metadata": {},
   "source": [
    "## Detection With Additive Smoothing"
   ]
  },
  {
   "cell_type": "code",
   "execution_count": 23,
   "id": "c963ddf1",
   "metadata": {},
   "outputs": [],
   "source": [
    "\n",
    "def calcProbsWithSmoothing(phrase):\n",
    "    norm = normalizer.normalize(phrase)\n",
    "    tokens = word_tokenize(norm)\n",
    "    contribution = [0, 0, 0, 0, 0, 0]\n",
    "    \n",
    "    k = 1 #alpha\n",
    "\n",
    "    for token in tokens:\n",
    "        \n",
    "        bons=lemmatizer.lemmatize(token).split(\"#\")\n",
    "        word = bons[0]\n",
    "\n",
    "        if (word in stopwords_list() or  word in punctuation_marks):\n",
    "            continue\n",
    "            \n",
    "        \n",
    "        contribution[0] += log((technology_news.get(word, 0) + k) / (number_of_technology + k * distinct_technology_news))\n",
    "            \n",
    "        contribution[1] += log((art_news.get(word, 0) + k) / (number_of_art + k * distinct_art_news))\n",
    "            \n",
    "        contribution[2] += log((accident_news.get(word, 0) + k) / (number_of_accident + k * distinct_accident_news))\n",
    "            \n",
    "        contribution[3] += log((sport_news.get(word, 0) + k) / (number_of_sport + k * distinct_sport_news))\n",
    "        \n",
    "        contribution[4] += log((political_news.get(word, 0) + k) / (number_of_political + k * distinct_political_news))\n",
    "    \n",
    "        contribution[5] += log((health_news.get(word, 0) + k) / (number_of_health + k * distinct_health_news))\n",
    "        \n",
    "\n",
    "    return contribution"
   ]
  },
  {
   "cell_type": "code",
   "execution_count": 26,
   "id": "ac473ae2",
   "metadata": {},
   "outputs": [],
   "source": [
    "tp = [0, 0, 0, 0, 0, 0]\n",
    "fp = [0, 0, 0, 0, 0, 0]\n",
    "fn = [0, 0, 0, 0, 0, 0]\n",
    "correct = 0\n",
    "\n",
    "wrong = []\n",
    "p_wrong = []\n",
    "\n",
    "for index, row in tdf.iterrows():\n",
    "    \n",
    "    p_content = calcProbsWithSmoothing(row['content'])\n",
    "    mx_content = max(p_content)\n",
    "    detect = p_content.index(mx_content, 0)\n",
    "    \n",
    "    label = get_label_index(row['label'])\n",
    "    if (label == detect):\n",
    "        correct += 1\n",
    "        tp[detect] += 1\n",
    "    else:\n",
    "        fp[detect] += 1\n",
    "        fn[label] += 1\n",
    "        wrong.append(row)\n",
    "        p_wrong.append(detect)"
   ]
  },
  {
   "cell_type": "markdown",
   "id": "48e0aee4",
   "metadata": {},
   "source": [
    "### Question 10)\n",
    "## Result With Additive Smoothing"
   ]
  },
  {
   "cell_type": "code",
   "execution_count": 27,
   "id": "75c28a6f",
   "metadata": {},
   "outputs": [
    {
     "name": "stdout",
     "output_type": "stream",
     "text": [
      "Accuracy:  0.9417040358744395 \n",
      "\n",
      "Precision, Recall, and F1 for all labels:\n",
      "\n",
      "Label  Technology\n",
      "TP Count:  156\n",
      "FP Count:  8\n",
      "FN Count:  12\n",
      "Precision: 0.9512195121951219\n",
      "Recall: 0.9285714285714286\n",
      "F1: 0.9397590361445782 \n",
      "\n",
      "Label  Art\n",
      "TP Count:  158\n",
      "FP Count:  5\n",
      "FN Count:  22\n",
      "Precision: 0.9693251533742331\n",
      "Recall: 0.8777777777777778\n",
      "F1: 0.9212827988338192 \n",
      "\n",
      "Label  Accident\n",
      "TP Count:  193\n",
      "FP Count:  22\n",
      "FN Count:  7\n",
      "Precision: 0.8976744186046511\n",
      "Recall: 0.965\n",
      "F1: 0.9301204819277108 \n",
      "\n",
      "Label  Sport\n",
      "TP Count:  185\n",
      "FP Count:  3\n",
      "FN Count:  5\n",
      "Precision: 0.9840425531914894\n",
      "Recall: 0.9736842105263158\n",
      "F1: 0.9788359788359788 \n",
      "\n",
      "Label  Political\n",
      "TP Count:  190\n",
      "FP Count:  23\n",
      "FN Count:  10\n",
      "Precision: 0.892018779342723\n",
      "Recall: 0.95\n",
      "F1: 0.9200968523002421 \n",
      "\n",
      "Label  Health\n",
      "TP Count:  168\n",
      "FP Count:  4\n",
      "FN Count:  9\n",
      "Precision: 0.9767441860465116\n",
      "Recall: 0.9491525423728814\n",
      "F1: 0.9627507163323781 \n",
      "\n"
     ]
    }
   ],
   "source": [
    "print(\"Accuracy: \", correct / len(tdf),\"\\n\")\n",
    "print(\"Precision, Recall, and F1 for all labels:\\n\")\n",
    "for i in range(6):\n",
    "    precision = tp[i] / (tp[i] + fp[i])\n",
    "    recall = tp[i] / (tp[i] + fn[i])\n",
    "    f1 = (2 * precision * recall) / (precision + recall)\n",
    "    print(\"Label \", get_label(i))\n",
    "    print(\"TP Count: \", tp[i])\n",
    "    print(\"FP Count: \", fp[i])\n",
    "    print(\"FN Count: \", fn[i])\n",
    "    print(\"Precision:\", precision)\n",
    "    print(\"Recall:\", recall)\n",
    "    print(\"F1:\", f1,\"\\n\")"
   ]
  },
  {
   "cell_type": "markdown",
   "id": "44d41769",
   "metadata": {},
   "source": [
    "### Macro Average With Additive Smoothing: \n",
    "\n",
    "\n",
    "$$F_1 = \\frac{0.93 + 0.92 + 0.93 + 0.97 + 0.92 + 0.96}{6} = 93.33\\%$$\n",
    "\n",
    "$$Precision = \\frac{0.95 + 0.96 + 0.89 + 0.98 + 0.89 + 0.97}{6} = 94\\%$$\n",
    "\n",
    "$$Recall = \\frac{0.92 + 0.87 + 0.96 + 0.97 + 0.95 + 0.94}{6} = 93.5\\%$$\n",
    "\n",
    "### Micro Average With Additive Smoothing:\n",
    "\n",
    "$$Precision = \\frac{TP1 + TP2 + TP3 + TP4 + TP5 + TP6}{TP1 + FP1 + TP2 + FP2 + TP3 + FP3 + TP4 + FP4 + TP5 + FP5 + TP6 + FP6}$$\n",
    "\n",
    "$$ Precision = \\frac{156 + 158 + 193 + 185 + 190 + 168}{156 + 8 + 158 + 5 + 193 + 22 + 185 + 3 + 190 + 23 + 168 + 4} = 94.1\\%$$\n",
    "\n",
    "\n",
    "$$Recall = \\frac{TP1 + TP2 + TP3 + TP4 + TP5 + TP6}{TP1 + FN1 + TP2 + FN2 + TP3 + FN3 + TP4 + FN4 + TP5 + FN5 + TP6 + FN6}$$\n",
    "\n",
    "\n",
    "$$ Recall = \\frac{156 + 158 + 193 + 185 + 190 + 168}{156 + 12 + 158 + 22 + 193 + 7 + 185 + 5 + 190+ 10 + 168 + 9} = 94.1\\%$$\n",
    "\n",
    "$$ F_1 = 2\\frac{Precision.Recall}{Precision + Recall} = 94.1\\%$$\n",
    "\n",
    "### Weighted Average With Additive Smoothing:\n",
    "\n",
    "The number of smaples for every label is equal to (TP + FN)<br>\n",
    "So for every label we have:\n",
    "\n",
    "Technology: 156 + 12 = 168 <br>\n",
    "Art: 158 + 22 = 180 <br>\n",
    "Accident: 193 + 7 = 200 <br>\n",
    "Sport: 185 + 5 = 190 <br>\n",
    "Political: 190 + 10 = 200 <br>\n",
    "Health: 168 + 9 = 177 <br>\n",
    "\n",
    "Total: 1115\n",
    "\n",
    "$$F_1 = \\frac{(0.93 * 168  + 0.92 * 180 + 0.93 * 200 + 0.97 * 190 + 0.92 * 200 + 0.96 * 177)}{1115} = 93.8\\%$$\n",
    "\n",
    "$$Precision = \\frac{(0.95 * 168 + 0.96 * 180 + 0.89 * 200 + 0.98 * 190 + 0.89 * 200 + 0.97 * 177)}{1115} = 93.83\\%$$\n",
    "\n",
    "$$Recall = \\frac{(0.92 * 168 + 0.87 * 180 + 0.96 * 200 + 0.97 * 190 + 0.95 * 200 + 0.94 * 177)}{1115} = 93.6\\%$$\n"
   ]
  },
  {
   "cell_type": "markdown",
   "id": "c93a6e5b",
   "metadata": {},
   "source": [
    "### Question 11) \n",
    "After calculating the probability with Additive Smoothing, our results got better and obove 90%"
   ]
  },
  {
   "cell_type": "markdown",
   "id": "13b2a690",
   "metadata": {},
   "source": [
    "### Question 12)\n",
    "#### wrong predictaions sample:"
   ]
  },
  {
   "cell_type": "code",
   "execution_count": 28,
   "id": "8d8d2569",
   "metadata": {},
   "outputs": [
    {
     "data": {
      "text/html": [
       "<div>\n",
       "<style scoped>\n",
       "    .dataframe tbody tr th:only-of-type {\n",
       "        vertical-align: middle;\n",
       "    }\n",
       "\n",
       "    .dataframe tbody tr th {\n",
       "        vertical-align: top;\n",
       "    }\n",
       "\n",
       "    .dataframe thead th {\n",
       "        text-align: right;\n",
       "    }\n",
       "</style>\n",
       "<table border=\"1\" class=\"dataframe\">\n",
       "  <thead>\n",
       "    <tr style=\"text-align: right;\">\n",
       "      <th></th>\n",
       "      <th>label</th>\n",
       "      <th>content</th>\n",
       "    </tr>\n",
       "  </thead>\n",
       "  <tbody>\n",
       "    <tr>\n",
       "      <th>30</th>\n",
       "      <td>فرهنگی/هنری</td>\n",
       "      <td>- چهارشنبه اول تیر 1401 اتفاق نادر و جالبی رخ ...</td>\n",
       "    </tr>\n",
       "    <tr>\n",
       "      <th>45</th>\n",
       "      <td>فرهنگی/هنری</td>\n",
       "      <td>اعتراض گسترده کاربران توییتر به اظهارات وزیر ا...</td>\n",
       "    </tr>\n",
       "    <tr>\n",
       "      <th>65</th>\n",
       "      <td>حوادث</td>\n",
       "      <td>ملی‌پوش سابق دوچرخه سواری ایران به علت تصادف د...</td>\n",
       "    </tr>\n",
       "    <tr>\n",
       "      <th>74</th>\n",
       "      <td>سیاسی</td>\n",
       "      <td>وکیل مدافع نازنین زاغری متهم ایرانی - بریتانیا...</td>\n",
       "    </tr>\n",
       "    <tr>\n",
       "      <th>85</th>\n",
       "      <td>فرهنگی/هنری</td>\n",
       "      <td>- روز گذشته در حاشیه معرفی ساپینتو سر مربی باش...</td>\n",
       "    </tr>\n",
       "  </tbody>\n",
       "</table>\n",
       "</div>"
      ],
      "text/plain": [
       "          label                                            content\n",
       "30  فرهنگی/هنری  - چهارشنبه اول تیر 1401 اتفاق نادر و جالبی رخ ...\n",
       "45  فرهنگی/هنری  اعتراض گسترده کاربران توییتر به اظهارات وزیر ا...\n",
       "65        حوادث  ملی‌پوش سابق دوچرخه سواری ایران به علت تصادف د...\n",
       "74        سیاسی  وکیل مدافع نازنین زاغری متهم ایرانی - بریتانیا...\n",
       "85  فرهنگی/هنری  - روز گذشته در حاشیه معرفی ساپینتو سر مربی باش..."
      ]
     },
     "execution_count": 28,
     "metadata": {},
     "output_type": "execute_result"
    }
   ],
   "source": [
    "w = pd.DataFrame(wrong)\n",
    "w.head()"
   ]
  },
  {
   "cell_type": "markdown",
   "id": "2a0d2545",
   "metadata": {},
   "source": [
    "### Let's analyze a wrong prediction:\n",
    "The below news is labeled as Political at first\n",
    "But the prediction was wrong and we labeled it to Art.\n",
    "This wrong prediction happend because the news is about art in political way and has the words that mostly exist in Art news.\n",
    "\n",
    "The solution that maybe help to predict these kind of news correctly, is that we use bigram or even n-gram method for word predection or we can get bigger data set for our prediction."
   ]
  },
  {
   "cell_type": "code",
   "execution_count": 49,
   "id": "6cea3451",
   "metadata": {},
   "outputs": [
    {
     "name": "stdout",
     "output_type": "stream",
     "text": [
      "4\n"
     ]
    }
   ],
   "source": [
    "print(p_wrong[0])"
   ]
  },
  {
   "cell_type": "code",
   "execution_count": 50,
   "id": "468bd78c",
   "metadata": {},
   "outputs": [
    {
     "name": "stdout",
     "output_type": "stream",
     "text": [
      "فرهنگی/هنری\n"
     ]
    }
   ],
   "source": [
    "print(w['label'][30])"
   ]
  },
  {
   "cell_type": "code",
   "execution_count": 51,
   "id": "f7bdf298",
   "metadata": {},
   "outputs": [
    {
     "name": "stdout",
     "output_type": "stream",
     "text": [
      "- چهارشنبه اول تیر 1401 اتفاق نادر و جالبی رخ داد که قطعا به صورت تصادفی و بدون برنامه‌ریزی و اطلاع قبلی بوده است: این که به شکل کاملا هم‌زمان در محل انجمن صنفی روزنامه‌نگاران استان تهران از رونمایی شد و در صدا‌و‌سیما و در جمع معاونان سازمان هم از کلیات « ».   اگرچه سه واژۀ در هر دو مشترک‌اند اما هیچ ربط و شباهتی به هم ندارند. چرا که در اولی منظور از سند است و در دومی سند (در حالی که به تعبیر دکتر وب‌2 را هم پشت سر گذاشته و به زودی وارد وب‌3 خواهیم شد) و خود رادیو و تلویزیون دیگر رسانۀ مدرن نیست و به تعبیری رسانۀ تلویزیون در معنی عام و جهانی نه مشخصا صدا و سیما هر چند در ایران همچنان رایگان‌ترین و گسترده‌ترین امکان وقت‌گذرانی و ارتباطی است. (رایگان از جهت پرداخت حق اشتراک وگرنه بودجۀ آن از جیب ملت تأمین می‌شود). در اولی منظور از رسانه واقعا رسانه است. یعنی بدون بودجۀ حکومتی و مخاطب‌محور و در دومی به جز تعبیر «رسانه ملی» در باقی موارد ترجیح می‌دهند از مفاهیم ایدیولوژیک استفاده کنند و آن را در واقع عرصۀ جنگ می‌دانند یا با واژه های جنگ و قرارگاه حجم عظیم پرسنل و بودجه های کلان و انحصار و چنگ انداختن به شبکۀ نمایش خانگی را توجیه می‌کنند. در اولی، مراد از واژۀ ملی واقعا ملی است چون معطوف به ایران است و در دومی مراد از ملی معطوف به نظام سیاسی است و گرنه اگر ملی بود به زبان ملی، سینمای ملی، موسیقی ملی و مانند اینها بها می‌داد نه آن که چندان که در نوشته‌ای آمد   آیین اولی دور از هر وابستگی دولتی و حکومتی و شایبۀ تبلیغاتی و در حضور چهره‌های شاخص رسانه‌ای و استادان شاخص ارتباطات و با معیارهای کاملا حرفه‌ای و جهانی و شناخته‌شده برگزار شد و دومی اگر چه ذیل عنوان «رسانه ملی» اما با اهداف سیاسی و ایدیولوژیک و جدای معیارهای شناخته شده رسانه‌ای و می توان حدس زد بی‌حضور عالمان این رشته و در نشستی کاملا اداری هر چند محتمل است برخی از معاونان تحصیلات مرتبط داشته باشند اما به این صفت حاضر نبودند.   این اتفاق نمادین اما نشان‌دهندۀ ریشۀ مشکل رسانه‌ها در ایران هم هست و آن هم نگاه غیر علمی به موضوع رسانه در عرصه رسمی و برخوردار از بودجه‌های کلان چند هزار میلیارد تومانی در سال و با قریب 50 هزار کارمند است حال آن که آن طرف با انواع محدودیت‌ها و مضیقه ها دست به گریبان است و چرخ اقتصاد نحیف آن با یارانه هم نمی‌گردد. جدای این زبان مشترک را هم دچار اختلال می کند. چون ما از سه واژۀ سند و رسانه و ملی یک مراد داریم و کارمندان ادارۀ سازمانی به نام صدا و سیما که همه باید حول این 12 محور فعالیت کنند یک منظور.   حاصل این چالش و کشاکش البته این شده که مردم هم از رسانه‌های چاپی و کاغذی روی‌گردان شده‌اند تا جایی که ایران به پایین‌ترین نرخ روزنامه‌خوانی در جهان – بله در جهان – سقوط کرده و هم از اخبار صدا‌و‌سیما تا جایی که برای اثبات مُردن حسین عبدالباقی ناچار شدند کشوی سردخانه را باز کنند و بگویند ایهاالناس! باور کنید این جنازه متعلق به مالک و سازندۀ متروپل آبادان است و ما دروغ نگفتیم هر چند روز دیگر گرفتار یک افتضاح یا رسوایی دیگر شدند. این که به جای کارشناس واقعی به کارمند خودشان گفته بودند انگلیسی حرف بزن و بنده خدا وسط ماجرا با فارسی حرف زدن لو داد!   نویسندۀ این سطور، خود یکی از سخنرانان و حاضران نشست رونمایی از سند ملی رسانه در محل انجمن صنفی روزنامه نگاران بود اما از استادان ارتباطات خصوصا دکتر محسنیان‌راد بسیار آموخت و همین مقدمه سند را با موازین حرفه‌ای بسیار منطبق یافت و می‌توان پیش بینی کرد متن کامل و مفصل آن که حاصل چند گزارش تخصصی پژوهشی است کاری بسیار درخور باشد.    در آن طرف هم آقای پیمان جبلی 12 محور تحول در محتوای برنامه های صدا وسیما را به این شرح اعلام کرده است:        هر قدر ادبیات سند ملی رسانه (روزنامه‌نگاران‌) عاری از مفاهیم سیاسی و ایدیولوژیک و کاملا منطبق با علوم ارتباطات و نظریات مدرن رسانه‌ها و مبتنی بر مشاوره‌های برجسته ترین استادان ارتباطات و روزنامه‌نگاری است سند تحول صدا و سیما پر است از نگاه ایدیولوژیک و سیاسی و بسیار دور از مفاهیم تخصصی رسانه‌ای و آدم را بیشتر یاد اهداف سازمان تبلیغات اسلامی می‌اندازد.    اگر صدا و سیما یک دستگاه وسیع و حجیم تبلیغاتی - پروپاگاندایی است نقدی به رویکرد صدا و سیما نیست اما چرا اصرار دارند خود را ذیل عنوان «رسانۀ ملی» توصیف کنند؟ حال آن که این دو واژه تعاریف خاص خود را دارد.  طبیعی است که آقای جبلی مأموریت دارد این سازمان را با این اهداف متحول کند اما این محورها به علم رسانه چه ارتباطی دارند و چگونه می‌توانند با رسانه‌های دیگر رقابت یا مقابله کنند؟    عین این 12 محور را سازمان تبلیغات اسلامی هم می‌تواند اعلام کند و بر این اساس می‌توان پیش‌بینی کرد چنانچه این اهداف محقق شود سازمان صدا وسیما به سازمان تبلیغات اسلامی تبدیل خواهد شد و هر قدر آن سازمان موفق بوده این سازمان هم موفق خواهد بود. (البته به لحاظ اداری و سازمانی در واقع شورای هماهنگی تبلیغات اسلامی. منظور تشکیلات تبلیغاتی است نه یک عنوان خاص).    منتها سازمان تبلیغات در طول سال با تعداد شرکت کنندگان در چند راه‌پیمایی مهم و سراسری و نوع برنامه‌یزی برای آنها یا جشن‌های دهۀ فجر ارزیابی می‌شود حال آن که سازمان صدا و سیما لحظه‌به‌لحظه زیر ذره بین مخاطبان داخلی و خارجی است و قاعدتا باید با مدل‌های رسانه ای برنامه‌ریزی شود نه تبلیغاتی.   اگر سه کارکرد مهم صدا و سیما را ا بدانیم چنان که طی 43 سال گذشته و از زبان رؤسای مختلف سازمان بارها اعلام شده مشخص نیست کدام یک از این 12 محور به اطلاع‌رسانی و سرگرمی و حتی آموزش معطوف است؟ مگر آن که آن سه رویکرد مربوط به ماقبل سند بوده باشند و من بعد قرار است از این قرار باشد.    اگر قرار بر تحولی این گونه است و با این اوصاف شاید بهتر باشد که صدا وسیما در سازمان تبلیغات اسلامی ادغام و نام آن به صدا وسیما و تبلیغات رسمی تغییر یابد چرا که هر چه باشد دیگر رسانه نخواهد بود آن هم از نوع ملی.کما این که فوتبال، باید فوتبال باشد حتی وقتی برای کمک به زلزله‌زده‌ها و دوستانه بازی می‌کنند نمی‌توان گفت چون دوستانه است بازیکنان می‌توانند با دست، توپ را لمس کنند. چون آن وقت دیگر فوتبال نیست و هند‌بال است. با این سند تحول هم صدا و سیما سازمان تبلیغات می‌شود.    البته این 12 رویکرد اگر محور شبکۀ افق یا برخی شبکه‌ها باشد مرتبط و خیلی هم منطقی است اما مشخص نیست چگونه می توان تمام صدا و سیما را ذیل آن برد؟    هر چند برخی معتقدند اگر قرار بر تحول با سند تحول بود آموزش و پرورش باید خیلی زودتر با سند تحول متحول می‌شد یا دانشگاه‌ها که مدام در حال تحول آنها هستند و چندان نباید جدی گرفت. روی کاغذ می‌نویسند و در عمل واقعیت‌ها خود را تحمیل می‌کنند.   نیکولو ماکیاولی در توصیه به شهریار می‌گفت پیمان‌ها برای شکسته‌شدن بسته می‌شوند. به این سیاق می‌توان گفت سندهای تحول هم برای متحول نشدن نوشته می‌شوند! آنتن صدا و سیما با این همه کانال و هزینه به خوراک‌های متنوع نیاز دارد و صبح تا شب که نمی‌توان به غرب فحش داد و تبلیغ مذهبی پخش کرد. طالبان اگر توانستند با ساز و کاری دیگر بود: تعطیل کردند!      چنان که در آغاز گفته شد تقارن عجیب این بود که درست در همان ساعتی که پیمان جبلی در جمع معاونان صدا وسیما از سند تحول در سازمان متبوع با رویکرد تمام ایدیولوژیک رونمایی می کرد استاد راهنمای پایان نامۀ او بر ضرورت به کارگیری معیارهای حرفه ای رسانه ای در سند ملی رسانه در جمع روزنامه نگاران پای می فشرد تا مشخص شود تفاوت نگاه از زمین تا آسمان است.   این یادداشت را به سه پرسش به پایان می‌برم:   اول: آیا پیش‌بینی می‌کنند اگر تمام شبکه‌های صدا‌و‌سیما از مضامینی چون «عدالت گستری، روایت پیشرفت همه جانبه جامعه ایرانی، ایثار، مقاومت شهادت و توسعه سبک زندگی ایثارگرانه، سبک زندگی و خانواده با محوریت سبک زندگی انقلابی، هنر انقلاب با معرفی شایسته آثار برجسته، نقد غرب و هجو غربزدگی، تقویت هویت جهانی امتی با بازنمایی قدرت نرم ایران اسلامی در جهان، روایت جوان مومن انقلابی با نگاه پیشرفت آینده، الگوی زن انقلاب اسلامی، مقابله با جریان ارتجاع و تطهیر پهلوی، روایت هوشمندانه و صحیح تاریخ اسلام و ایران، بسط الگوی حکمرانی مردمی ‌با بازخوانی نهادهای مردمی – انقلابی» پر شود شمار مخاطبان و اعتبار این سازمان افزایش می‌یابد؟ (اگر زیاد کند تمام این نوشته را پس می‌گیرم).   دوم: صدا وسیما ذیل عنوان رسانه قابل تعریف است یا قرارگاه فرهنگی یا سازمان تبلیغات اسلامی و اگر نمی‌خواهد رسانه باشد چرا در سازمان‌های دیگر ادغام نشود؟   پرسش سوم اما مهم‌تر این است: چرا سُرنا را از سر گشاد آن می‌نوازید؟ این که مردم پای ب صدا و سیمای ایدیولوژیک مثل با اجرای ، با ، با ، با ، با و مانند آن در ساعات پربینندۀ شب بنشینند آنان را از شبکه‌های فارسی زبان ماهواره‌ای دور می‌کند یا اگر مدام برنامه های ایدیولوژیک پخش کنید تا افراد، قید داخل را بزنند و بروند سراغ آن طرفی‌ها؟    آنچه با نگاه رسانه‌ای – امنیتی با هوش‌مندی می‌فهمید و مدیران دیگر سازمان کمتر می‌فهمند این است که غیرایدیولوژیک‌ترین برنامه صدا‌وسیما مثل برنامه‌های مدیری و فردوسی‌پور چون مردم را پای تلویزیون جمهوری اسلامی می‌نشاند و از من‌و‌تو و ایران اینترنشنال دور می‌کند به نفع جمهوری اسلامی است اما ایدیولوژیک‌ترین وشعاری‌ترین آنها چون سبب می‌شود مخاطب عام کانال را تغییر دهد به سود رقباست! یکی از این محورها است اما وقتی برنامۀ سرگرم‌کننده نداشته باشید و مردم را به من‌و‌تو سوق دهید از این فرصت بهره می‌برند و با مستندهای خود به تطهیر می‌پردازند و در واقع نقض غرض می‌شود. (نمی‌دانم می‌توانم مظورم را برسانم یا نه!چه کنیم زبان مشترک مختل شده است.)   سال 88 در سفر به هرات افغانستان وقتی مجری مراسم مدام به تعداد روزنامه ها و آزادی آنها می‌بالید تا به روزنامه‌های ایران و روزنامه‌نگاران میهمان طعنه بزند که دست‌شان زیر ساطور بود یکی از همکاران روزنامه‌نگار خانم -که شوربختانه بعدتر کوچید و ر‌فت- در واکنش گفت: وقتی 70 درصد مردم سواد نداشته باشند یا روزنامه نخوانند چه تفاوت دارد که این تعداد روزنامه داشته باشید یا نه‌!    حالا حکایت صدا وسیما و سند تحول آقای جبلی است. اگر دوشنبه شب خلق‌الله پای نود بنشینند می‌توانید چند تا شعار ایدیولوژیک را هم زیرنویس کنید و قبل و بعد آن مفاهیمی را به خورد خلق‌الله بدهید اما وقتی نود را حذف می‌کنید و آن پسر هر قدر هم تلاش کند نتواند جای عادل را بگیرد بینندۀ عام یک دگمه را فشار می‌دهد و در همان ساعت پای شبه نود مزدک میرزایی در ایران اینترنشنال می‌نشیند و آن وقت آنها هستند که به افکار عمومی جهت می‌دهند. تمام ظرافت سیاسی، فرهنگی و امنیتی و نگو رسانه‌ای در همین است.    این را خیلی خوب می‌فهمید و شنیدم هر وقت به قم می‌رفت و عالمی انتقاد می‌کرد که چرا در فلان سریال مثلا حجاب خانم کامل نیست یا وعظ و خطابه کم پخش می‌کنید توضیح می‌داد حاج آقا! حالا مثل قبل نیست. اگر بخواهیم فقط شما را نشان بدهیم آن وقت تلویزیون را خاموش می‌کنند. اما اگر برنامۀ سرگرم‌کننده داشته باشیم هم آن را  می‌بینند هم شما را!\n"
     ]
    }
   ],
   "source": [
    "print(w['content'][30])"
   ]
  }
 ],
 "metadata": {
  "kernelspec": {
   "display_name": "Python 3 (ipykernel)",
   "language": "python",
   "name": "python3"
  },
  "language_info": {
   "codemirror_mode": {
    "name": "ipython",
    "version": 3
   },
   "file_extension": ".py",
   "mimetype": "text/x-python",
   "name": "python",
   "nbconvert_exporter": "python",
   "pygments_lexer": "ipython3",
   "version": "3.9.12"
  }
 },
 "nbformat": 4,
 "nbformat_minor": 5
}
